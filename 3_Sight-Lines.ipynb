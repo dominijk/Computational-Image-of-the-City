{
 "cells": [
  {
   "cell_type": "markdown",
   "metadata": {},
   "source": [
    "# Sight Lines computation"
   ]
  },
  {
   "cell_type": "code",
   "execution_count": 1,
   "metadata": {},
   "outputs": [],
   "source": [
    "import arcpy\n",
    "\n",
    "arcpy.env.workspace = \"C:/Users/g_filo01/sciebo/Scripts/Image of the City/Outputs/tmp\"\n",
    "env = arcpy.env.workspace\n",
    "arcpy.CheckOutExtension(\"3D\")\n",
    "arcpy.env.overwriteOutput = True"
   ]
  },
  {
   "cell_type": "code",
   "execution_count": null,
   "metadata": {},
   "outputs": [],
   "source": [
    "# output folder from which loading\n",
    "city_name = 'London'\n",
    "load_folder = \"C:/Users/g_filo01/sciebo/Scripts/Image of the City/Outputs/\"+city_name"
   ]
  },
  {
   "cell_type": "code",
   "execution_count": 2,
   "metadata": {},
   "outputs": [],
   "source": [
    "observer_points = load_folder+\"/\"+city_name+\"_nodes.shp\"\n",
    "\n",
    "buildings = \"C:/Users/g_filo01/sciebo/GIS Data/London/Buildings/London_buildingsBase.shp\"\n",
    "buildings3d = \"buildings3d\"\n",
    "\n",
    "sightlines_file = city_name+\"_sightlines.shp\"\n",
    "height_observer = \"height\"\n",
    "heigth_buildings = \"height\"\n",
    "direction = \"NOT_OUTPUT_THE_DIRECTION\""
   ]
  },
  {
   "cell_type": "code",
   "execution_count": null,
   "metadata": {
    "collapsed": true
   },
   "outputs": [],
   "source": [
    "aprx = arcpy.mp.ArcGISProject(\"C:/Users/g_filo01/sciebo/Scripts/ArcGis/empty.aprx\")\n",
    "buildings_layer = arcpy.MakeFeatureLayer_management(buildings, \"as_layer\").getOutput(0)\n",
    "layer3d = arcpy.FeatureTo3DByAttribute_3d(buildings_layer, \"layer3d\", \"height\").getOutput(0)\n",
    "temp = arcpy.AddZInformation_3d(layer3d, 'Z_MAX', 'NO_FILTER').getOutput(0)\n",
    "# tempII = arcpy.AddZInformation_3d(temp, 'Z_MAX', 'NO_FILTER').getOutput(0)"
   ]
  },
  {
   "cell_type": "code",
   "execution_count": null,
   "metadata": {
    "collapsed": true
   },
   "outputs": [],
   "source": [
    "layer = arcpy.MakeFeatureLayer_management(temp, \"tmp_layer\").getOutput(0)"
   ]
  },
  {
   "cell_type": "code",
   "execution_count": null,
   "metadata": {
    "collapsed": true
   },
   "outputs": [],
   "source": [
    "m = aprx.listMaps()[0]\n",
    "m.addLayer(layer)\n",
    "\n",
    "for ma in aprx.listMaps():\n",
    "    for lyr in ma.listLayers():\n",
    "        print(lyr)\n",
    "        lyr.extrusion(\"ABSOLUTE_HEIGHT\", \"Z_MAX\")"
   ]
  },
  {
   "cell_type": "code",
   "execution_count": null,
   "metadata": {
    "collapsed": true
   },
   "outputs": [],
   "source": [
    "# obstructions = arcpy.Layer3DToFeatureClass_3d(m.listLayers()[0],\n",
    "#                                               \"obs\", None, \"ENABLE_COLORS_AND_TEXTURES\").getOutput(0)"
   ]
  },
  {
   "cell_type": "code",
   "execution_count": null,
   "metadata": {
    "collapsed": true
   },
   "outputs": [],
   "source": [
    "# layer = arcpy.MakeFeatureLayer_management(obstructions, \"obstructions_layer\").getOutput(0)\n",
    "# m.addLayer(layer)"
   ]
  },
  {
   "cell_type": "code",
   "execution_count": null,
   "metadata": {
    "collapsed": true
   },
   "outputs": [],
   "source": [
    "# for ma in aprx.listMaps():\n",
    "#     for lyr in ma.listLayers():\n",
    "#         print(lyr)\n",
    "#         lyr.extrusion(\"ABSOLUTE_HEIGHT\", \"Z_MAX\")"
   ]
  },
  {
   "cell_type": "code",
   "execution_count": null,
   "metadata": {
    "collapsed": true
   },
   "outputs": [],
   "source": [
    "aprx.saveACopy(env+\"/copy.aprx\")"
   ]
  },
  {
   "cell_type": "code",
   "execution_count": 5,
   "metadata": {},
   "outputs": [],
   "source": [
    "geoDB = \"C:/Users/g_filo01/sciebo/Scripts/ArcGis/GeoDB.gdb\"\n",
    "obstructions = geoDB+\"/London_obstructions\""
   ]
  },
  {
   "cell_type": "code",
   "execution_count": null,
   "metadata": {
    "collapsed": true
   },
   "outputs": [],
   "source": [
    "arcpy.ddd.ConstructSightLines(observer_points, buildings, sightlines_file, \n",
    "                              height_observer, heigth_buildings, None, 30, direction)"
   ]
  },
  {
   "cell_type": "code",
   "execution_count": null,
   "metadata": {
    "collapsed": true,
    "scrolled": true
   },
   "outputs": [],
   "source": [
    "with arcpy.da.UpdateCursor(sightlines_file, \"Shape_Length\") as cursor:\n",
    "    for row in cursor:\n",
    "        if row[0] < 100:\n",
    "            cursor.deleteRow()"
   ]
  },
  {
   "cell_type": "code",
   "execution_count": null,
   "metadata": {
    "collapsed": true
   },
   "outputs": [],
   "source": [
    "arcpy.ddd.Intervisibility(sightlines_file, obstructions = obstructions, visible_field=\"Visibility\")"
   ]
  },
  {
   "cell_type": "code",
   "execution_count": null,
   "metadata": {
    "collapsed": true
   },
   "outputs": [],
   "source": [
    "arcpy.FeatureClassToShapefile_conversion(sightlines_file, arcpy.env.workspace)"
   ]
  },
  {
   "cell_type": "code",
   "execution_count": 8,
   "metadata": {},
   "outputs": [],
   "source": [
    "with arcpy.da.UpdateCursor(sightlines_file, \"Visibility\") as cursor:\n",
    "    for row in cursor:\n",
    "        if row[0] == 0: \n",
    "            cursor.deleteRow()"
   ]
  },
  {
   "cell_type": "code",
   "execution_count": 10,
   "metadata": {},
   "outputs": [
    {
     "data": {
      "text/plain": [
       "<Result 'C:/Users/g_filo01/sciebo/Scripts/ArcGis/GeoDB.gdb/all_sight_lines'>"
      ]
     },
     "execution_count": 10,
     "metadata": {},
     "output_type": "execute_result"
    }
   ],
   "source": [
    "arcpy.JoinField_management(sightlines_file, \"OID_OBSERV\", observer_points, \"FID\", \"nodeID\")\n",
    "arcpy.JoinField_management(sightlines_file, \"OID_TARGET\", buildings, \"FID\", \"buildingID\")\n",
    "arcpy.DeleteField_management(sightlines_file, [\"OID_OBSERV\", \"OID_TARGET\"])"
   ]
  },
  {
   "cell_type": "code",
   "execution_count": 12,
   "metadata": {},
   "outputs": [
    {
     "data": {
      "text/plain": [
       "<Result 'C:\\\\Users\\\\g_filo01\\\\sciebo\\\\Scripts\\\\Image of the City\\\\Outputs\\\\tmp'>"
      ]
     },
     "execution_count": 12,
     "metadata": {},
     "output_type": "execute_result"
    }
   ],
   "source": [
    "arcpy.FeatureClassToShapefile_conversion(sightlines_file, arcpy.env.workspace)"
   ]
  },
  {
   "cell_type": "markdown",
   "metadata": {},
   "source": [
    "# Visibility"
   ]
  },
  {
   "cell_type": "code",
   "execution_count": null,
   "metadata": {},
   "outputs": [],
   "source": [
    "import pandas as pd, numpy as np\n",
    "import matplotlib.pyplot as plt\n",
    "%matplotlib inline\n",
    "import geopandas as gpd\n",
    "import functools\n",
    "\n",
    "from scipy import sparse\n",
    "from scipy.sparse import linalg\n",
    "import time\n",
    "from shapely.geometry import Point, LineString, Polygon, MultiPolygon, mapping\n",
    "from math import sqrt\n",
    "from shapely.ops import cascaded_union\n",
    "pd.set_option('precision', 5)"
   ]
  },
  {
   "cell_type": "code",
   "execution_count": null,
   "metadata": {},
   "outputs": [],
   "source": [
    "file = 'Outputs/tmp/'+city_name+'_sight_lines.shp'\n",
    "folder_ouptut ='Outputs/'+city_name+'/'\n",
    "sight_lines = gpd.read_file(file)"
   ]
  },
  {
   "cell_type": "code",
   "execution_count": null,
   "metadata": {},
   "outputs": [],
   "source": [
    "avg = (sight_lines[['buildingID', 'length']].groupby(['buildingID'], \n",
    "                                            as_index=False)['length'].mean())\n",
    "avg.rename(columns={'length': 'mean_length'}, inplace=True)\n",
    "avg.head()"
   ]
  },
  {
   "cell_type": "code",
   "execution_count": null,
   "metadata": {},
   "outputs": [],
   "source": [
    "count =(sight_lines[['buildingID', 'length']].groupby(['buildingID'], \n",
    "                                            as_index=False)['length'].count())\n",
    "count.rename(columns={'length': 'n_lines'}, inplace=True)\n",
    "count.head()"
   ]
  },
  {
   "cell_type": "code",
   "execution_count": null,
   "metadata": {},
   "outputs": [],
   "source": [
    "copy = sight_lines.set_index('buildingID')\n",
    "\n",
    "distant = copy.groupby('buildingID').agg(lambda copy: copy.values[copy['length'].values.argmax()])\n",
    "distant = distant.reset_index()\n",
    "distant.head()"
   ]
  },
  {
   "cell_type": "code",
   "execution_count": null,
   "metadata": {},
   "outputs": [],
   "source": [
    "visibility = pd.merge(distant, avg, left_on='buildingID', right_on='buildingID')\n",
    "visibility.drop(['DIST_ALONG','Visibility', 'geometry'],axis=1, inplace=True)\n",
    "visibility.rename(columns={'length':'distance','mean_length':'mean_distance'}, inplace=True)\n",
    "visibility.to_csv('Outputs/tmp/visibility.csv')"
   ]
  }
 ],
 "metadata": {
  "kernelspec": {
   "display_name": "Python 3",
   "language": "python",
   "name": "python3"
  },
  "language_info": {
   "codemirror_mode": {
    "name": "ipython",
    "version": 3
   },
   "file_extension": ".py",
   "mimetype": "text/x-python",
   "name": "python",
   "nbconvert_exporter": "python",
   "pygments_lexer": "ipython3",
   "version": "3.6.3"
  }
 },
 "nbformat": 4,
 "nbformat_minor": 2
}
