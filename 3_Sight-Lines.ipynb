{
 "cells": [
  {
   "cell_type": "markdown",
   "metadata": {},
   "source": [
    "# Sight Lines computation"
   ]
  },
  {
   "cell_type": "code",
   "execution_count": 1,
   "metadata": {},
   "outputs": [],
   "source": [
    "import arcpy\n",
    "\n",
    "arcpy.env.workspace = \"C:/Users/g_filo01/sciebo/Scripts/Image of the City/Outputs/tmp\"\n",
    "env = arcpy.env.workspace\n",
    "arcpy.CheckOutExtension(\"3D\")\n",
    "arcpy.env.overwriteOutput = True"
   ]
  },
  {
   "cell_type": "code",
   "execution_count": 2,
   "metadata": {},
   "outputs": [],
   "source": [
    "# output folder from which loading\n",
    "city_name = 'Boston'\n",
    "load_folder = \"C:/Users/g_filo01/sciebo/Scripts/Image of the City/Outputs/\"+city_name"
   ]
  },
  {
   "cell_type": "code",
   "execution_count": 3,
   "metadata": {},
   "outputs": [],
   "source": [
    "observer_points = load_folder+\"/\"+city_name+\"_copy.shp\"\n",
    "obstructions_file = env+\"/\"+city_name+\"_obstructions.shp\"\n",
    "buildings = city_name+\"_sight.shp\"\n",
    "buildings3d = \"buildings3d\"\n",
    "\n",
    "sightlines_file = city_name+\"_sightlines.shp\"\n",
    "height_observer = \"height\"\n",
    "heigth_buildings = \"height\"\n",
    "direction = \"NOT_OUTPUT_THE_DIRECTION\""
   ]
  },
  {
   "cell_type": "code",
   "execution_count": 5,
   "metadata": {},
   "outputs": [],
   "source": [
    "aprx = arcpy.mp.ArcGISProject(\"C:/Users/g_filo01/sciebo/Scripts/ArcGis/empty.aprx\")\n",
    "buildings_layer = arcpy.MakeFeatureLayer_management(buildings, \"as_layer\").getOutput(0)\n",
    "layer3d = arcpy.FeatureTo3DByAttribute_3d(buildings_layer, \"layer3d\", \"base\", to_height_field = \"height\").getOutput(0)\n",
    "# temp = arcpy.AddZInformation_3d(layer3d, 'Z_MAX', 'NO_FILTER').getOutput(0)\n",
    "layer = arcpy.MakeFeatureLayer_management(layer3d, \"tmp_layer\").getOutput(0)"
   ]
  },
  {
   "cell_type": "code",
   "execution_count": null,
   "metadata": {},
   "outputs": [],
   "source": []
  },
  {
   "cell_type": "code",
   "execution_count": 6,
   "metadata": {},
   "outputs": [
    {
     "name": "stdout",
     "output_type": "stream",
     "text": [
      "tmp_layer\n"
     ]
    }
   ],
   "source": [
    "m = aprx.listMaps()[0]\n",
    "m.addLayer(layer)\n",
    "\n",
    "for ma in aprx.listMaps():\n",
    "    for lyr in ma.listLayers():\n",
    "        print(lyr)\n",
    "        lyr.extrusion(\"BASE_HEIGHT\", \"height\")"
   ]
  },
  {
   "cell_type": "code",
   "execution_count": null,
   "metadata": {},
   "outputs": [],
   "source": [
    "# obstructions = arcpy.Layer3DToFeatureClass_3d(m.listLayers()[0],\n",
    "#                                               \"obs\", None, \"ENABLE_COLORS_AND_TEXTURES\").getOutput(0)"
   ]
  },
  {
   "cell_type": "code",
   "execution_count": null,
   "metadata": {},
   "outputs": [],
   "source": [
    "obstructions = arcpy.Layer3DToFeatureClass_3d(m.listLayers()[0], \"obs\", None, \"ENABLE_COLORS_AND_TEXTURES\").getOutput(0)\n",
    "layer = arcpy.MakeFeatureLayer_management(obstructions, \"obstructions_layer\").getOutput(0)\n",
    "m.addLayer(layer)"
   ]
  },
  {
   "cell_type": "code",
   "execution_count": null,
   "metadata": {},
   "outputs": [],
   "source": [
    "# for ma in aprx.listMaps():\n",
    "#     for lyr in ma.listLayers():\n",
    "#         print(lyr)\n",
    "#         lyr.extrusion(\"ABSOLUTE_HEIGHT\", \"Z_MAX\")"
   ]
  },
  {
   "cell_type": "code",
   "execution_count": 7,
   "metadata": {},
   "outputs": [],
   "source": [
    "aprx.saveACopy(env+\"/copy.aprx\")"
   ]
  },
  {
   "cell_type": "code",
   "execution_count": null,
   "metadata": {},
   "outputs": [],
   "source": [
    "geoDB = \"C:/Users/g_filo01/sciebo/Scripts/ArcGis/GeoDB.gdb\"\n",
    "obstructions = geoDB+\"/\"+city_name+\"_obstructions\""
   ]
  },
  {
   "cell_type": "code",
   "execution_count": null,
   "metadata": {},
   "outputs": [],
   "source": [
    "geoDB = \"C:/Users/g_filo01/sciebo/Scripts/ArcGis/GeoDB.gdb\"\n",
    "obstructions = geoDB+\"/\"+city_name+\"_obstructions\n",
    "arcpy.ddd.ConstructSightLines(observer_points, buildings, sightlines_file, \n",
    "                              height_observer, heigth_buildings, None, 30, direction)\n",
    "with arcpy.da.UpdateCursor(sightlines_file, 'SHAPE@LENGTH') as cursor:\n",
    "    for row in cursor:\n",
    "        if row[0] < 100:\n",
    "            cursor.deleteRow()"
   ]
  },
  {
   "cell_type": "code",
   "execution_count": null,
   "metadata": {
    "scrolled": true
   },
   "outputs": [],
   "source": [
    "with arcpy.da.UpdateCursor(sightlines_file, 'SHAPE@LENGTH') as cursor:\n",
    "    for row in cursor:\n",
    "        if row[0] < 100:\n",
    "            cursor.deleteRow()"
   ]
  },
  {
   "cell_type": "code",
   "execution_count": null,
   "metadata": {},
   "outputs": [],
   "source": [
    "obstructions_file = env+\"/\"+city_name+\"_obstructions.shp\"\n",
    "\n",
    "obstructions = geoDB+\"/\"+city_name+\"_obstructions\""
   ]
  },
  {
   "cell_type": "code",
   "execution_count": null,
   "metadata": {},
   "outputs": [],
   "source": [
    "arcpy.ddd.Intervisibility(sightlines_file, obstructions = obstructions, visible_field=\"Visibility\")"
   ]
  },
  {
   "cell_type": "code",
   "execution_count": null,
   "metadata": {},
   "outputs": [],
   "source": [
    "# arcpy.FeatureClassToShapefile_conversion(sightlines_file, arcpy.env.workspace)"
   ]
  },
  {
   "cell_type": "code",
   "execution_count": null,
   "metadata": {},
   "outputs": [],
   "source": [
    "with arcpy.da.UpdateCursor(sightlines_file, \"Visibility\") as cursor:\n",
    "    for row in cursor:\n",
    "        if row[0] == 0: \n",
    "            cursor.deleteRow()"
   ]
  },
  {
   "cell_type": "code",
   "execution_count": null,
   "metadata": {},
   "outputs": [],
   "source": [
    "arcpy.JoinField_management(sightlines_file, \"OID_OBSERV\", observer_points, \"FID\", \"nodeID\")\n",
    "arcpy.JoinField_management(sightlines_file, \"OID_TARGET\", buildings, \"FID\", \"buildingID\")\n",
    "arcpy.DeleteField_management(sightlines_file, [\"OID_OBSERV\", \"OID_TARGET\"])"
   ]
  },
  {
   "cell_type": "code",
   "execution_count": null,
   "metadata": {},
   "outputs": [],
   "source": [
    "arcpy.FeatureClassToShapefile_conversion(sightlines_file, arcpy.env.workspace)"
   ]
  }
 ],
 "metadata": {
  "kernelspec": {
   "display_name": "Python 3",
   "language": "python",
   "name": "python3"
  },
  "language_info": {
   "codemirror_mode": {
    "name": "ipython",
    "version": 3
   },
   "file_extension": ".py",
   "mimetype": "text/x-python",
   "name": "python",
   "nbconvert_exporter": "python",
   "pygments_lexer": "ipython3",
   "version": "3.6.3"
  }
 },
 "nbformat": 4,
 "nbformat_minor": 2
}
