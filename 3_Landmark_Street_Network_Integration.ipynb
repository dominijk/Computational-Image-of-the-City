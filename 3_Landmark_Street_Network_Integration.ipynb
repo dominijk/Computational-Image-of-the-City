{
 "cells": [
  {
   "cell_type": "code",
   "execution_count": 2,
   "metadata": {},
   "outputs": [],
   "source": [
    "import pandas as pd, numpy as np, geopandas as gpd\n",
    "import matplotlib.pyplot as plt\n",
    "from importlib import reload\n",
    "import functools\n",
    "%matplotlib inline\n",
    "\n",
    "pd.set_option('precision', 3)\n",
    "pd.options.display.float_format = '{:20.2f}'.format\n",
    "pd.set_option('display.float_format', lambda x: '%.3f' % x)\n",
    "pd.options.mode.chained_assignment = None"
   ]
  },
  {
   "cell_type": "code",
   "execution_count": 19,
   "metadata": {},
   "outputs": [],
   "source": [
    "import landmarks_integration_functions as lif\n",
    "import utilities as uf\n",
    "import landmarks_functions as lf"
   ]
  },
  {
   "cell_type": "code",
   "execution_count": 20,
   "metadata": {},
   "outputs": [
    {
     "data": {
      "text/plain": [
       "<module 'utilities' from 'C:\\\\Users\\\\g_filo01\\\\sciebo\\\\scripts\\\\Image of the City\\\\utilities.py'>"
      ]
     },
     "execution_count": 20,
     "metadata": {},
     "output_type": "execute_result"
    }
   ],
   "source": [
    "reload(lif)\n",
    "reload(uf)"
   ]
  },
  {
   "cell_type": "code",
   "execution_count": 23,
   "metadata": {},
   "outputs": [],
   "source": [
    "#initialise path, names, etc.\n",
    "\n",
    "city_name = 'London'\n",
    "epsg = 27700\n",
    "crs = {'init': 'epsg:27700', 'no_defs': True}\n",
    "\n",
    "directory_output ='Outputs/'+city_name+'/large_network/'+city_name\n",
    "directory_intermediate = 'C:/Users/g_filo01/sciebo/Scripts/Image of the City/Outputs/'+city_name+'/intermediate/'+city_name"
   ]
  },
  {
   "cell_type": "code",
   "execution_count": 24,
   "metadata": {},
   "outputs": [],
   "source": [
    "# try reading nodes, paths, landmarks and sight_lines\n",
    "# At this point, every element has already been extracted\n",
    "\n",
    "nodes = gpd.read_file(directory_output+'_nodes.shp', driver='ESRI Shapefile')\n",
    "paths = gpd.read_file(directory_output+'_edges.shp', driver='ESRI Shapefile')\n",
    "buildings = gpd.read_file(directory_output_inter+'_landmarks_noADV.shp', driver='ESRI Shapefile')"
   ]
  },
  {
   "cell_type": "markdown",
   "metadata": {},
   "source": [
    "## Assigning buildings and scores to Nodes"
   ]
  },
  {
   "cell_type": "code",
   "execution_count": 25,
   "metadata": {},
   "outputs": [],
   "source": [
    "# assign buildings to nodes\n",
    "# buffer around the node that regulates the meaning of adjacent buildings\n",
    "nodes = lif.assign_buildings_to_nodes(nodes, buildings, buffer = 80)\n",
    "\n",
    "max_buffer = 2000 # max distance from node\n",
    "threshold = 0.30 # min global score to define a global landmark\n",
    "nodes = lif.assign_global_anchors(nodes, buildings, buffer = max_buffer, threshold = threshold)"
   ]
  },
  {
   "cell_type": "code",
   "execution_count": null,
   "metadata": {},
   "outputs": [],
   "source": [
    "reload(lf)\n",
    "# sight_lines = gpd.read_file(directory_intermediate+'_sightlines.shp')\n",
    "# sight_lines_copy = lf.reassign_sight_lines_to_new_nodes(nodes, sight_lines)\n",
    "# sight_lines_copy[['nodeID', 'buildingID', 'geometry']].to_file(directory_output+'_sight_lines.shp', driver='ESRI Shapefile')"
   ]
  },
  {
   "cell_type": "code",
   "execution_count": 40,
   "metadata": {},
   "outputs": [],
   "source": [
    "sight_lines = gpd.read_file(directory_output+'_sight_lines.shp', driver='ESRI Shapefile')\n",
    "nodes = lif.assign_3dvisible_landmarks(nodes, buildings, sight_lines, threshold = threshold)"
   ]
  },
  {
   "cell_type": "markdown",
   "metadata": {},
   "source": [
    "## 2d advance Visibility Matrix"
   ]
  },
  {
   "cell_type": "code",
   "execution_count": 32,
   "metadata": {},
   "outputs": [
    {
     "name": "stdout",
     "output_type": "stream",
     "text": [
      "done\n"
     ]
    }
   ],
   "source": [
    "v = lif.visibility_2d(nodes, buildings, distance_along = 50, max_distance_node_to_building = 300)"
   ]
  },
  {
   "cell_type": "code",
   "execution_count": 34,
   "metadata": {},
   "outputs": [],
   "source": [
    "matrix2d = lif.visibility_matrix2d(buildings, nodes, v)"
   ]
  },
  {
   "cell_type": "code",
   "execution_count": 37,
   "metadata": {},
   "outputs": [],
   "source": [
    "matrix2d.to_csv(directory_output+'_visibility_matrix.csv')"
   ]
  },
  {
   "cell_type": "markdown",
   "metadata": {},
   "source": [
    "## Conversion from lists to string, to export the file"
   ]
  },
  {
   "cell_type": "code",
   "execution_count": 43,
   "metadata": {},
   "outputs": [],
   "source": [
    "to_convert = ['loc_land', 'loc_scor', 'dist_land', 'dist_scor', 'anchors', 'distances']\n",
    "nodes_string = nodes.copy()\n",
    "for column in to_convert: nodes_string[column] = nodes_string[column].astype(str)\n",
    "nodes_string.to_file(directory_output+'_nodes.shp', driver='ESRI Shapefile')"
   ]
  }
 ],
 "metadata": {
  "kernelspec": {
   "display_name": "Python 3",
   "language": "python",
   "name": "python3"
  },
  "language_info": {
   "codemirror_mode": {
    "name": "ipython",
    "version": 3
   },
   "file_extension": ".py",
   "mimetype": "text/x-python",
   "name": "python",
   "nbconvert_exporter": "python",
   "pygments_lexer": "ipython3",
   "version": "3.7.3"
  }
 },
 "nbformat": 4,
 "nbformat_minor": 2
}
