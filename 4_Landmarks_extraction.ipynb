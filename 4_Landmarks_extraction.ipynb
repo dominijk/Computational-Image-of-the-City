{
 "cells": [
  {
   "cell_type": "code",
   "execution_count": 1,
   "metadata": {},
   "outputs": [],
   "source": [
    "import osmnx as ox, networkx as nx, matplotlib.cm as cm, pandas as pd, numpy as np\n",
    "import matplotlib.pyplot as plt\n",
    "%matplotlib inline\n",
    "import geopandas as gpd\n",
    "import pandas as pd\n",
    "import functools\n",
    "# import community\n",
    "\n",
    "from scipy import sparse\n",
    "from scipy.sparse import linalg\n",
    "import time\n",
    "from shapely.geometry import Point, LineString, Polygon, MultiPolygon, mapping\n",
    "from math import sqrt\n",
    "\n",
    "from shapely.ops import cascaded_union\n",
    "pd.set_option('precision', 5)\n",
    "pd.options.display.float_format = '{:20.2f}'.format\n",
    "pd.set_option('display.float_format', lambda x: '%.3f' % x)"
   ]
  },
  {
   "cell_type": "code",
   "execution_count": null,
   "metadata": {
    "collapsed": true
   },
   "outputs": [],
   "source": [
    "# initialise path, names, etc.\n",
    "\n",
    "city_name = 'London'\n",
    "folder_ouptut ='Outputs/'+city_name+'/'\n",
    "epsg = 27700\n",
    "crs = {'init': 'epsg:27700', 'no_defs': True}\n",
    "\n",
    "buildings = \"C:/Users/g_filo01/sciebo/GIS Data/London/Buildings/London_buildingsBase.shp\"\n",
    "\n",
    "path_small = 'C:/Users/g_filo01/sciebo/GIS Data/London/OS_Roads_Working/OS_roads_final.shp'\n",
    "# path_large = 'C:/Users/g_filo01/sciebo/GIS Data/Boston/Street_Network/boston_sn_26986_clipped_8000_noHW.shp'"
   ]
  },
  {
   "cell_type": "code",
   "execution_count": 2,
   "metadata": {
    "collapsed": true
   },
   "outputs": [],
   "source": [
    "# Boston\n",
    "\n",
    "tmp = gpd.read_file('C:/Users/g_filo01/sciebo/Scripts/Tools/Outputs/bh_2002_26986.shp').to_crs(epsg=26986)\n",
    "buffer = gpd.read_file('C:/Users/g_filo01/sciebo/GIS Data/Boston/buffer_4000.shp').to_crs(epsg=26986)\n",
    "buildings = tmp[tmp.geometry.within(buffer.geometry.loc[0])]"
   ]
  },
  {
   "cell_type": "code",
   "execution_count": null,
   "metadata": {
    "collapsed": true
   },
   "outputs": [],
   "source": [
    "# to simplify \n",
    "# when a building is divided in several polygons import in QGIS --> dissolve, single to multipart, join attributes by location\n",
    "# buildings.to_file(driver='ESRI Shapefile',filename=\"Outputs/tmp/building_to_dissolve.shp\")\n",
    "# load shapefile again\n",
    "# buildings = gpd.read_file('C:/Users/g_filo01/sciebo/GIS Data/Boston/Buildings/bh_26986_simplified.shp').to_crs(epsg=26986)"
   ]
  },
  {
   "cell_type": "code",
   "execution_count": 4,
   "metadata": {},
   "outputs": [
    {
     "data": {
      "text/html": [
       "<div>\n",
       "<style>\n",
       "    .dataframe thead tr:only-child th {\n",
       "        text-align: right;\n",
       "    }\n",
       "\n",
       "    .dataframe thead th {\n",
       "        text-align: left;\n",
       "    }\n",
       "\n",
       "    .dataframe tbody tr th {\n",
       "        vertical-align: top;\n",
       "    }\n",
       "</style>\n",
       "<table border=\"1\" class=\"dataframe\">\n",
       "  <thead>\n",
       "    <tr style=\"text-align: right;\">\n",
       "      <th></th>\n",
       "      <th>height</th>\n",
       "      <th>base</th>\n",
       "      <th>geometry</th>\n",
       "      <th>area</th>\n",
       "    </tr>\n",
       "  </thead>\n",
       "  <tbody>\n",
       "    <tr>\n",
       "      <th>6625</th>\n",
       "      <td>8.280</td>\n",
       "      <td>0.700</td>\n",
       "      <td>POLYGON ((237513.4608405583 904788.1487156174,...</td>\n",
       "      <td>1926.803</td>\n",
       "    </tr>\n",
       "    <tr>\n",
       "      <th>6632</th>\n",
       "      <td>8.900</td>\n",
       "      <td>0.820</td>\n",
       "      <td>POLYGON ((237735.701000562 904786.3753156194, ...</td>\n",
       "      <td>1126.634</td>\n",
       "    </tr>\n",
       "    <tr>\n",
       "      <th>6641</th>\n",
       "      <td>15.370</td>\n",
       "      <td>4.710</td>\n",
       "      <td>POLYGON ((238074.2963205655 904592.5663956183,...</td>\n",
       "      <td>4202.795</td>\n",
       "    </tr>\n",
       "    <tr>\n",
       "      <th>6645</th>\n",
       "      <td>11.700</td>\n",
       "      <td>1.440</td>\n",
       "      <td>POLYGON ((237509.0300405587 904583.7148356194,...</td>\n",
       "      <td>4287.751</td>\n",
       "    </tr>\n",
       "    <tr>\n",
       "      <th>6655</th>\n",
       "      <td>26.640</td>\n",
       "      <td>9.310</td>\n",
       "      <td>POLYGON ((237360.2225505561 904640.8941956179,...</td>\n",
       "      <td>1368.853</td>\n",
       "    </tr>\n",
       "  </tbody>\n",
       "</table>\n",
       "</div>"
      ],
      "text/plain": [
       "      height  base                                           geometry     area\n",
       "6625   8.280 0.700  POLYGON ((237513.4608405583 904788.1487156174,... 1926.803\n",
       "6632   8.900 0.820  POLYGON ((237735.701000562 904786.3753156194, ... 1126.634\n",
       "6641  15.370 4.710  POLYGON ((238074.2963205655 904592.5663956183,... 4202.795\n",
       "6645  11.700 1.440  POLYGON ((237509.0300405587 904583.7148356194,... 4287.751\n",
       "6655  26.640 9.310  POLYGON ((237360.2225505561 904640.8941956179,... 1368.853"
      ]
     },
     "execution_count": 4,
     "metadata": {},
     "output_type": "execute_result"
    }
   ],
   "source": [
    "buildings = buildings[['ROOF', 'GND', 'geometry']]\n",
    "buildings[\"area\"] = buildings['geometry'].area\n",
    "buildings.columns = ['height', 'base','geometry', 'area']\n",
    "\n",
    "buildings.head()"
   ]
  },
  {
   "cell_type": "code",
   "execution_count": 5,
   "metadata": {
    "collapsed": true
   },
   "outputs": [],
   "source": [
    "buildings['BUILD_ID']=buildings.index.values.astype(int)"
   ]
  },
  {
   "cell_type": "code",
   "execution_count": 6,
   "metadata": {
    "collapsed": true
   },
   "outputs": [],
   "source": [
    "# all buildings in 4 km buffer to use as obstacles in ArcScene and for some analyis in this notebook\n",
    "buildings.to_file(driver='ESRI Shapefile',filename=\"Outputs/tmp/obstacles.shp\")"
   ]
  },
  {
   "cell_type": "code",
   "execution_count": 7,
   "metadata": {
    "collapsed": true
   },
   "outputs": [],
   "source": [
    "# small dataset, only area of interest\n",
    "\n",
    "buffer_city_center = gpd.read_file('C:/Users/g_filo01/sciebo/GIS Data/Boston/city_center_buffer_100.shp'\n",
    "                                  ).to_crs(epsg=26986).dissolve(by='intersec')\n",
    "buildings_clip = buildings[buildings.geometry.within(buffer_city_center.geometry.loc[1])].copy()"
   ]
  },
  {
   "cell_type": "code",
   "execution_count": 8,
   "metadata": {
    "collapsed": true
   },
   "outputs": [],
   "source": [
    "buildings_clip.to_file(driver='ESRI Shapefile',filename=\"Outputs/tmp/buildings_sight.shp\")"
   ]
  },
  {
   "cell_type": "code",
   "execution_count": null,
   "metadata": {
    "collapsed": true
   },
   "outputs": [],
   "source": [
    "buildings_clip.head()"
   ]
  },
  {
   "cell_type": "markdown",
   "metadata": {},
   "source": [
    "## Extension, Facade Area"
   ]
  },
  {
   "cell_type": "code",
   "execution_count": null,
   "metadata": {
    "collapsed": true
   },
   "outputs": [],
   "source": [
    "#computing Envelope polygon\n",
    "\n",
    "for index, row in buildings_clip.iterrows():\n",
    "    t = row['geometry'].envelope\n",
    "    coords = mapping(t)['coordinates'][0]\n",
    "    d = [(Point(coords[0])).distance(Point(coords[1])), (Point(coords[1])).distance(Point(coords[2]))]\n",
    "\n",
    "    width = min(d)\n",
    "    length = max(d)\n",
    "    \n",
    "    buildings_clip.set_value(index, 'width', width)\n",
    "    buildings_clip.set_value(index, 'length', length)"
   ]
  },
  {
   "cell_type": "code",
   "execution_count": null,
   "metadata": {
    "collapsed": true
   },
   "outputs": [],
   "source": [
    "buildings_clip['extension']=buildings_clip.area*(buildings_clip.length/buildings_clip.width)\n",
    "buildings_clip['facade_area']=buildings_clip['height']*(buildings_clip.width)"
   ]
  },
  {
   "cell_type": "markdown",
   "metadata": {},
   "source": [
    "## Prominence"
   ]
  },
  {
   "cell_type": "markdown",
   "metadata": {},
   "source": []
  },
  {
   "cell_type": "code",
   "execution_count": null,
   "metadata": {
    "collapsed": true
   },
   "outputs": [],
   "source": [
    "buildings_clip['prominence']=0.0\n",
    "# a dataset containing a larger region of buildings than the one object of analyis is required here"
   ]
  },
  {
   "cell_type": "code",
   "execution_count": null,
   "metadata": {
    "collapsed": true,
    "scrolled": true
   },
   "outputs": [],
   "source": [
    "%%time\n",
    "\n",
    "# prominence\n",
    "\n",
    "sindex = buildings.sindex\n",
    "\n",
    "for row in buildings_clip.itertuples():\n",
    "    \n",
    "    g = row[2] #geometry\n",
    "    fil = g.buffer(150)\n",
    "\n",
    "    possible_matches_index = list(sindex.intersection(fil.bounds))\n",
    "    possible_matches = buildings.iloc[possible_matches_index]\n",
    "    #precise matches not necessary here\n",
    "    \n",
    "    if(len(possible_matches_index)<1): continue \n",
    "    \n",
    "    polygon = MultiPolygon([pol.buffer(7) for pol in possible_matches['geometry']])\n",
    "    \n",
    "    area_max = fil.difference(cascaded_union(polygon)).area\n",
    "    buildings_clip.set_value(row[0], 'prominence', area_max)"
   ]
  },
  {
   "cell_type": "markdown",
   "metadata": {},
   "source": [
    "## Neighbours"
   ]
  },
  {
   "cell_type": "code",
   "execution_count": null,
   "metadata": {
    "collapsed": true,
    "scrolled": true
   },
   "outputs": [],
   "source": [
    "%%time\n",
    "\n",
    "# adjacent buildings\n",
    "# a dataset containing a larger region of buildings than the one object of analyis is required here\n",
    "\n",
    "spatial_index = buildings.sindex\n",
    "\n",
    "for row in buildings_clip.itertuples():\n",
    "    \n",
    "    g = row[2] #geometry\n",
    "    fil = g.buffer(150)    \n",
    "    \n",
    "    possible_matches_index = list(spatial_index.intersection(fil.bounds))\n",
    "    possible_matches = buildings.iloc[possible_matches_index]\n",
    "    precise_matches = possible_matches[possible_matches.intersects(fil)]\n",
    "    \n",
    "    buildings_clip.set_value(row[0], 'neighbours', len(precise_matches))"
   ]
  },
  {
   "cell_type": "markdown",
   "metadata": {},
   "source": [
    "## Road distance"
   ]
  },
  {
   "cell_type": "code",
   "execution_count": null,
   "metadata": {
    "collapsed": true
   },
   "outputs": [],
   "source": [
    "road = (gpd.read_file('C:/Users/g_filo01/sciebo/GIS Data/Boston/Street_network/boston_sn_26986_clipped_4000.shp')\n",
    "                     .to_crs(epsg=26986))\n",
    "\n",
    "net = road.geometry.unary_union"
   ]
  },
  {
   "cell_type": "code",
   "execution_count": null,
   "metadata": {
    "collapsed": true
   },
   "outputs": [],
   "source": [
    "%%time\n",
    "\n",
    "# distance from road\n",
    "for row in buildings_clip.itertuples():\n",
    "    g = row[2] #geometry\n",
    "    dist = g.distance(net)\n",
    "    buildings_clip.set_value(row[0], 'distance_road', dist)"
   ]
  },
  {
   "cell_type": "markdown",
   "metadata": {},
   "source": [
    "# Landuse"
   ]
  },
  {
   "cell_type": "code",
   "execution_count": null,
   "metadata": {
    "collapsed": true
   },
   "outputs": [],
   "source": [
    "# to be performed on the larger set of buildings\n",
    "buildings['land_use'] = 'NaN'"
   ]
  },
  {
   "cell_type": "markdown",
   "metadata": {},
   "source": [
    "## Parcels "
   ]
  },
  {
   "cell_type": "code",
   "execution_count": null,
   "metadata": {
    "collapsed": true
   },
   "outputs": [],
   "source": [
    "# loading official Boston parcels\n",
    "\n",
    "parcels = (gpd.read_file('C:/Users/g_filo01/sciebo/GIS Data/Boston/Buildings/Data_sources/Parcels_2016/parcels.shp'\n",
    "                        ).to_crs(epsg=26986))"
   ]
  },
  {
   "cell_type": "code",
   "execution_count": null,
   "metadata": {
    "collapsed": true
   },
   "outputs": [],
   "source": [
    "parcels = parcels[['geometry', 'LU']]\n",
    "list(parcels['LU'].unique())"
   ]
  },
  {
   "cell_type": "code",
   "execution_count": null,
   "metadata": {
    "collapsed": true
   },
   "outputs": [],
   "source": [
    "residential = ['Residential Three Family', 'Residential Two Family', 'Residential Single Family',\n",
    "               'Apartments 4-6 Units', 'Apartments 7 Units above', 'Residential Land', 'Residential Condo Unit',\n",
    "                 'Condominium Master', 'Mixed Use Res/Comm']\n",
    "               \n",
    "commercial = ['Commercial Land','Commercial Condo Unit','Commercial']\n",
    "agricultural = ['Agricultural/Horticultural']\n",
    "              \n",
    "industrial = ['Industrial']\n",
    "drop = ['Condominium Parking', 'Exempt 121A', 'XX', 'Exempt']"
   ]
  },
  {
   "cell_type": "code",
   "execution_count": null,
   "metadata": {
    "collapsed": true
   },
   "outputs": [],
   "source": [
    "parcels = parcels[~parcels['LU'].isin(drop)]"
   ]
  },
  {
   "cell_type": "code",
   "execution_count": null,
   "metadata": {
    "collapsed": true
   },
   "outputs": [],
   "source": [
    "parcels['LU'] = parcels['LU'].map( lambda x: 'residential' if x in residential\n",
    "                                                          else 'commercial' if x in commercial\n",
    "                                                          else 'residential' if x in residential\n",
    "                                                          else 'industrial' if x in industrial\n",
    "                                                          else 'agricultural'if x in agricultural \n",
    "                                                          else x)"
   ]
  },
  {
   "cell_type": "code",
   "execution_count": null,
   "metadata": {
    "collapsed": true
   },
   "outputs": [],
   "source": [
    "parcels['nr'] = 1"
   ]
  },
  {
   "cell_type": "code",
   "execution_count": null,
   "metadata": {
    "collapsed": true
   },
   "outputs": [],
   "source": [
    "%%time\n",
    "\n",
    "sindex = parcels.sindex\n",
    "\n",
    "for row in buildings.itertuples():\n",
    "    \n",
    "    g = row[2] #geometry\n",
    "    possible_matches_index = list(sindex.intersection(g.bounds))\n",
    "    possible_matches = parcels.iloc[possible_matches_index]\n",
    "    precise_matches = possible_matches[possible_matches.intersects(g)]\n",
    "        \n",
    "    if (len(precise_matches)==0): continue\n",
    "    \n",
    "    else:\n",
    "        \n",
    "        land_use = precise_matches.groupby(['LU'],as_index=False)['nr'].sum().sort_values(by='nr',\n",
    "                                    ascending=False).reset_index()\n",
    "        main_use = land_use['LU'].loc[0]\n",
    "        buildings.set_value(row[0], 'land_use', main_use)"
   ]
  },
  {
   "cell_type": "markdown",
   "metadata": {},
   "source": [
    "## OpenStreetMap POI"
   ]
  },
  {
   "cell_type": "code",
   "execution_count": null,
   "metadata": {
    "collapsed": true
   },
   "outputs": [],
   "source": [
    "#land use from OSM POI\n",
    "\n",
    "POI = gpd.read_file('Outputs/Boston/POI_boston.shp').to_crs(epsg=26986)\n",
    "POI.head()"
   ]
  },
  {
   "cell_type": "code",
   "execution_count": null,
   "metadata": {
    "collapsed": true
   },
   "outputs": [],
   "source": [
    "list(POI['type'].unique())"
   ]
  },
  {
   "cell_type": "code",
   "execution_count": null,
   "metadata": {
    "collapsed": true
   },
   "outputs": [],
   "source": [
    "university = ['university', 'college', 'research']\n",
    "\n",
    "commercial = ['bank', 'service',  'commercial',  'retail',  'pharmacy', 'commercial;educa', 'shop', 'Commercial',\n",
    "                       'supermarket', 'offices', 'foundation', 'office']\n",
    "\n",
    "residential = [ 'apartments']\n",
    "attractions = ['museum',  'castle', 'cathedral', 'attraction','aquarium', 'monument',  'gatehouse']\n",
    "\n",
    "manufacturing = []\n",
    "hospitality = [ 'hotel',  'hostel', 'guest_house']\n",
    "eating_drinking = [ 'restaurant', 'fast_food', 'cafe', 'bar',  'pub']\n",
    "public = ['post_office', 'townhall', 'public_building',  'library','civic', 'courthouse','public',  'embassy']\n",
    "library = ['library']\n",
    "sport = ['stadium']\n",
    "entertainment = [ 'exhibition_centr','theatre', 'cinema']\n",
    "education = ['school', 'kindergarten']\n",
    "religious = ['church', 'place_of_worship','convent', 'rectory']\n",
    " \n",
    "emergency_service = [ 'fire_station','police']\n",
    "transport = [ 'station', 'train_station']\n",
    "medical_care = ['hospital', 'doctors', 'dentist','clinic','veterinary']\n",
    "industrial = [ 'industrial', 'factory', 'construction']\n",
    "cultural = [ 'club_house','gallery', 'arts_centre']\n",
    "military = ['general aviation']\n",
    "\n",
    "drop = ['subway_entrance', 'dormitory', 'roof', 'garage', 'storage_tank', 'shed', 'silo',  'parking',  'toilets','bus_station',\n",
    "  'picnic_site','hut', 'information',  'viewpoint', 'atm', 'building', 'books',  'tower',  'terrace',  'canopy', 'smokestack',  \n",
    " 'greenhouse', 'fuel']"
   ]
  },
  {
   "cell_type": "code",
   "execution_count": null,
   "metadata": {
    "collapsed": true
   },
   "outputs": [],
   "source": [
    "POI = POI[~POI['type'].isin(drop)]"
   ]
  },
  {
   "cell_type": "code",
   "execution_count": null,
   "metadata": {
    "collapsed": true
   },
   "outputs": [],
   "source": [
    "POI['type'] = POI['type'].map( lambda x: 'university' if x in university\n",
    "                                                          else 'commercial' if x in commercial\n",
    "                                                          else 'residential' if x in residential\n",
    "                                                          else 'attractions' if x in attractions\n",
    "                                                          else 'library' if x in library\n",
    "                                                          else 'manufacturing' if x in manufacturing\n",
    "                                                          else 'hospitality' if x in hospitality\n",
    "                                                          else 'eating_drinking' if x in eating_drinking\n",
    "                                                          else 'public' if x in public\n",
    "                                                          else 'sport' if x in sport\n",
    "                                                          else 'entertainment' if x in entertainment\n",
    "                                                          else 'education' if x in education\n",
    "                                                          else 'religious' if x in religious\n",
    "                                                          else 'emergency_service' if x in emergency_service\n",
    "                                                          else 'industrial' if x in industrial\n",
    "                                                          else 'cultural' if x in cultural\n",
    "                                                          else 'transport' if x in transport\n",
    "                                                          else 'medical_care' if x in medical_care\n",
    "                                                          else 'military' if x in military\n",
    "                                                          else x)"
   ]
  },
  {
   "cell_type": "code",
   "execution_count": null,
   "metadata": {
    "collapsed": true
   },
   "outputs": [],
   "source": [
    "POI['nr'] = 1"
   ]
  },
  {
   "cell_type": "code",
   "execution_count": null,
   "metadata": {
    "collapsed": true
   },
   "outputs": [],
   "source": [
    "%%time\n",
    "\n",
    "sindex = POI.sindex\n",
    "\n",
    "for row in buildings.itertuples():\n",
    "    g = row[2] #geometry\n",
    "    \n",
    "    possible_matches_index = list(sindex.intersection(g.bounds))\n",
    "    possible_matches = POI.iloc[possible_matches_index]\n",
    "    precise_matches = possible_matches[possible_matches.intersects(g)]\n",
    "    \n",
    "    \n",
    "    if (len(precise_matches)==0): continue\n",
    "    else:\n",
    "        land_use = possible_matches.groupby(['type'],as_index=False)['nr'].sum().sort_values(by='nr',\n",
    "                                    ascending=False).reset_index()\n",
    "        main_use = land_use['type'].loc[0]\n",
    "        buildings.set_value(row[0], 'land_use', main_use)"
   ]
  },
  {
   "cell_type": "markdown",
   "metadata": {},
   "source": [
    "## Other data from Boston"
   ]
  },
  {
   "cell_type": "code",
   "execution_count": null,
   "metadata": {
    "collapsed": true
   },
   "outputs": [],
   "source": [
    "# libraries and schools\n",
    "\n",
    "schools = (gpd.read_file('C:/Users/g_filo01/sciebo/GIS Data/Boston/Buildings/Data_sources/other/schools.shp'\n",
    "                        ).to_crs(epsg=26986))\n",
    "\n",
    "universities = (gpd.read_file('C:/Users/g_filo01/sciebo/GIS Data/Boston/Buildings/Data_sources/other/universities.shp'\n",
    "                        ).to_crs(epsg=26986))\n",
    "\n",
    "p_schools = (gpd.read_file('C:/Users/g_filo01/sciebo/GIS Data/Boston/Buildings/Data_sources/other/private_schools.shp'\n",
    "                        ).to_crs(epsg=26986))\n",
    "\n",
    "libraries = (gpd.read_file('C:/Users/g_filo01/sciebo/GIS Data/Boston/Buildings/Data_sources/other/libraries.shp'\n",
    "                        ).to_crs(epsg=26986))\n",
    "\n",
    "pools = (gpd.read_file('C:/Users/g_filo01/sciebo/GIS Data/Boston/Buildings/Data_sources/other/pools.shp'\n",
    "                        ).to_crs(epsg=26986))\n",
    "\n",
    "police = (gpd.read_file('C:/Users/g_filo01/sciebo/GIS Data/Boston/Buildings/Data_sources/other/police_stations.shp'\n",
    "                        ).to_crs(epsg=26986))"
   ]
  },
  {
   "cell_type": "code",
   "execution_count": null,
   "metadata": {
    "collapsed": true
   },
   "outputs": [],
   "source": [
    "%%time\n",
    "\n",
    "df_list = [schools, p_schools, libraries, universities, pools, police]\n",
    "classification = ['education','education', 'library', 'university','sport', 'emergence_service']\n",
    "\n",
    "for i, t in enumerate(df_list):\n",
    "    sindex = t.sindex\n",
    "\n",
    "    for row in buildings.itertuples():\n",
    "        g = row[2] #geometry\n",
    "    \n",
    "        possible_matches_index = list(sindex.intersection(g.bounds))\n",
    "        possible_matches = t.iloc[possible_matches_index]\n",
    "        precise_matches = possible_matches[possible_matches.intersects(g)]\n",
    "        \n",
    "        if (len(precise_matches)==0): continue\n",
    "        else:\n",
    "\n",
    "            buildings.set_value(row[0], 'land_use', classification[i])"
   ]
  },
  {
   "cell_type": "code",
   "execution_count": null,
   "metadata": {
    "collapsed": true
   },
   "outputs": [],
   "source": [
    "buildings.land_use.fillna('residential', inplace=True)"
   ]
  },
  {
   "cell_type": "code",
   "execution_count": null,
   "metadata": {
    "collapsed": true
   },
   "outputs": [],
   "source": [
    "# buildings['land_use'].astype(object).fillna('residential', inplace=True)\n",
    "buildings['land_use'].replace(to_replace='NaN', value='residential', inplace=True)\n",
    "buildings.tail(10)"
   ]
  },
  {
   "cell_type": "code",
   "execution_count": null,
   "metadata": {
    "collapsed": true
   },
   "outputs": [],
   "source": [
    "buildings['land_use'].isnull().values.any()"
   ]
  },
  {
   "cell_type": "code",
   "execution_count": null,
   "metadata": {
    "collapsed": true
   },
   "outputs": [],
   "source": [
    "%%time\n",
    "\n",
    "buildings['nr']=1\n",
    "sindex = buildings.sindex\n",
    "buildings['pragmatic_meaning']= 0.0\n",
    "\n",
    "for row in buildings.itertuples():\n",
    "    g = row[2] #geometry\n",
    "    b = g.buffer(200)\n",
    "    use = row[5]\n",
    "    \n",
    "    possible_matches_index = list(sindex.intersection(b.bounds))\n",
    "    possible_matches = buildings.iloc[possible_matches_index]\n",
    "#     precise_matches = buildings[buildings.intersects(g)]\n",
    "        \n",
    "    neigh = possible_matches.groupby(['land_use'], as_index=True)['nr'].sum()\n",
    "    Nj = neigh.loc[use]\n",
    "    #Pj = Nj/N\n",
    "    \n",
    "    Pj = 1-(Nj/possible_matches['nr'].sum())\n",
    "    buildings.set_value(row[0], 'pragmatic_meaning', Pj)"
   ]
  },
  {
   "cell_type": "code",
   "execution_count": null,
   "metadata": {
    "collapsed": true
   },
   "outputs": [],
   "source": [
    "buildings.tail()"
   ]
  },
  {
   "cell_type": "code",
   "execution_count": null,
   "metadata": {
    "collapsed": true
   },
   "outputs": [],
   "source": [
    "buildings_clip = pd.merge(buildings_clip, buildings[['BUILD_ID','pragmatic_meaning']], on='BUILD_ID', how='left')"
   ]
  },
  {
   "cell_type": "code",
   "execution_count": null,
   "metadata": {
    "collapsed": true
   },
   "outputs": [],
   "source": [
    "buildings_clip.head()"
   ]
  },
  {
   "cell_type": "markdown",
   "metadata": {},
   "source": [
    "# Cultural importance"
   ]
  },
  {
   "cell_type": "code",
   "execution_count": 357,
   "metadata": {
    "collapsed": true
   },
   "outputs": [],
   "source": [
    "#load historical polygons\n",
    "\n",
    "historic = (gpd.read_file('C:/Users/g_filo01/sciebo/GIS Data/Boston/Buildings/Data_sources/other/historic_landmarks.shp')).to_crs(epsg=26986)"
   ]
  },
  {
   "cell_type": "code",
   "execution_count": null,
   "metadata": {
    "collapsed": true
   },
   "outputs": [],
   "source": [
    "# historic = historic.dropna(subset=['geometry'])\n",
    "# historic = historic.to_crs(epsg=26986)"
   ]
  },
  {
   "cell_type": "code",
   "execution_count": 358,
   "metadata": {},
   "outputs": [
    {
     "name": "stdout",
     "output_type": "stream",
     "text": [
      "Wall time: 2.37 s\n"
     ]
    }
   ],
   "source": [
    "%%time\n",
    "\n",
    "sindex = historic.sindex \n",
    "buildings_clip['cultural_meaning'] = 0\n",
    "\n",
    "for row in buildings_clip.itertuples():\n",
    "    g = row[2] #geometry\n",
    "    possible_matches_index = list(sindex.intersection(g.bounds))\n",
    "    possible_matches = historic.iloc[possible_matches_index]\n",
    "    precise_matches = possible_matches[possible_matches.intersects(g)]\n",
    "        \n",
    "    if (len(precise_matches)==0): continue\n",
    "    \n",
    "    else: \n",
    "        cm = len(precise_matches)\n",
    "\n",
    "        buildings_clip.set_value(row[0], 'cultural_meaning', cm)"
   ]
  },
  {
   "cell_type": "markdown",
   "metadata": {},
   "source": [
    "# Visibility "
   ]
  },
  {
   "cell_type": "code",
   "execution_count": 359,
   "metadata": {
    "collapsed": true
   },
   "outputs": [],
   "source": [
    "visibility = pd.read_csv('Outputs/tmp/visibility.csv')"
   ]
  },
  {
   "cell_type": "code",
   "execution_count": 360,
   "metadata": {
    "collapsed": true
   },
   "outputs": [],
   "source": [
    "tmp = pd.merge(buildings_clip, visibility[['BUILD_ID','distance', 'mean_distance']], on='BUILD_ID', how='left')"
   ]
  },
  {
   "cell_type": "code",
   "execution_count": 361,
   "metadata": {
    "collapsed": true
   },
   "outputs": [],
   "source": [
    "tmp['distance'].fillna((tmp['distance'].min()), inplace=True)\n",
    "tmp['mean_distance'].fillna((tmp['mean_distance'].min()), inplace=True)"
   ]
  },
  {
   "cell_type": "code",
   "execution_count": 362,
   "metadata": {
    "collapsed": true
   },
   "outputs": [],
   "source": [
    "tmp.rename(columns={'distance': 'visibility', 'mean_distance': 'mean_visibility'}, inplace=True)"
   ]
  },
  {
   "cell_type": "code",
   "execution_count": 363,
   "metadata": {},
   "outputs": [
    {
     "data": {
      "text/html": [
       "<div>\n",
       "<style>\n",
       "    .dataframe thead tr:only-child th {\n",
       "        text-align: right;\n",
       "    }\n",
       "\n",
       "    .dataframe thead th {\n",
       "        text-align: left;\n",
       "    }\n",
       "\n",
       "    .dataframe tbody tr th {\n",
       "        vertical-align: top;\n",
       "    }\n",
       "</style>\n",
       "<table border=\"1\" class=\"dataframe\">\n",
       "  <thead>\n",
       "    <tr style=\"text-align: right;\">\n",
       "      <th></th>\n",
       "      <th>height</th>\n",
       "      <th>geometry</th>\n",
       "      <th>area</th>\n",
       "      <th>BUILD_ID</th>\n",
       "      <th>width</th>\n",
       "      <th>length</th>\n",
       "      <th>extension</th>\n",
       "      <th>facade_area</th>\n",
       "      <th>prominence</th>\n",
       "      <th>neighbours</th>\n",
       "      <th>distance_road</th>\n",
       "      <th>pragmatic_meaning</th>\n",
       "      <th>cultural_meaning</th>\n",
       "      <th>visibility</th>\n",
       "      <th>mean_visibility</th>\n",
       "    </tr>\n",
       "  </thead>\n",
       "  <tbody>\n",
       "    <tr>\n",
       "      <th>0</th>\n",
       "      <td>23.530</td>\n",
       "      <td>POLYGON ((237109.7499205534 901488.5575756297,...</td>\n",
       "      <td>2466.090</td>\n",
       "      <td>12867</td>\n",
       "      <td>54.492</td>\n",
       "      <td>116.283</td>\n",
       "      <td>12589.692</td>\n",
       "      <td>1282.189</td>\n",
       "      <td>68296.187</td>\n",
       "      <td>23.000</td>\n",
       "      <td>7.116</td>\n",
       "      <td>0.273</td>\n",
       "      <td>0</td>\n",
       "      <td>2124.642</td>\n",
       "      <td>1141.259</td>\n",
       "    </tr>\n",
       "    <tr>\n",
       "      <th>1</th>\n",
       "      <td>11.750</td>\n",
       "      <td>POLYGON ((237027.0227605512 901476.8202856297,...</td>\n",
       "      <td>526.515</td>\n",
       "      <td>12869</td>\n",
       "      <td>27.741</td>\n",
       "      <td>31.608</td>\n",
       "      <td>1831.787</td>\n",
       "      <td>325.961</td>\n",
       "      <td>44066.485</td>\n",
       "      <td>20.000</td>\n",
       "      <td>17.843</td>\n",
       "      <td>0.722</td>\n",
       "      <td>0</td>\n",
       "      <td>2108.577</td>\n",
       "      <td>892.880</td>\n",
       "    </tr>\n",
       "    <tr>\n",
       "      <th>2</th>\n",
       "      <td>7.210</td>\n",
       "      <td>POLYGON ((237044.3070005517 901416.8178456295,...</td>\n",
       "      <td>292.290</td>\n",
       "      <td>12872</td>\n",
       "      <td>23.842</td>\n",
       "      <td>42.189</td>\n",
       "      <td>1338.164</td>\n",
       "      <td>171.900</td>\n",
       "      <td>51894.981</td>\n",
       "      <td>19.000</td>\n",
       "      <td>4.452</td>\n",
       "      <td>0.676</td>\n",
       "      <td>0</td>\n",
       "      <td>418.843</td>\n",
       "      <td>278.726</td>\n",
       "    </tr>\n",
       "    <tr>\n",
       "      <th>3</th>\n",
       "      <td>20.490</td>\n",
       "      <td>POLYGON ((237142.3675505524 901348.946465629, ...</td>\n",
       "      <td>2620.960</td>\n",
       "      <td>12873</td>\n",
       "      <td>72.658</td>\n",
       "      <td>144.190</td>\n",
       "      <td>12204.878</td>\n",
       "      <td>1488.763</td>\n",
       "      <td>89283.033</td>\n",
       "      <td>18.000</td>\n",
       "      <td>4.109</td>\n",
       "      <td>0.444</td>\n",
       "      <td>1</td>\n",
       "      <td>2093.789</td>\n",
       "      <td>684.964</td>\n",
       "    </tr>\n",
       "    <tr>\n",
       "      <th>4</th>\n",
       "      <td>12.170</td>\n",
       "      <td>POLYGON ((237199.5938805515 901363.4296656293,...</td>\n",
       "      <td>793.817</td>\n",
       "      <td>12874</td>\n",
       "      <td>31.392</td>\n",
       "      <td>39.969</td>\n",
       "      <td>3254.432</td>\n",
       "      <td>382.035</td>\n",
       "      <td>78097.239</td>\n",
       "      <td>7.000</td>\n",
       "      <td>27.316</td>\n",
       "      <td>0.500</td>\n",
       "      <td>0</td>\n",
       "      <td>2744.136</td>\n",
       "      <td>1427.360</td>\n",
       "    </tr>\n",
       "  </tbody>\n",
       "</table>\n",
       "</div>"
      ],
      "text/plain": [
       "   height                                           geometry     area  \\\n",
       "0  23.530  POLYGON ((237109.7499205534 901488.5575756297,... 2466.090   \n",
       "1  11.750  POLYGON ((237027.0227605512 901476.8202856297,...  526.515   \n",
       "2   7.210  POLYGON ((237044.3070005517 901416.8178456295,...  292.290   \n",
       "3  20.490  POLYGON ((237142.3675505524 901348.946465629, ... 2620.960   \n",
       "4  12.170  POLYGON ((237199.5938805515 901363.4296656293,...  793.817   \n",
       "\n",
       "   BUILD_ID  width  length  extension  facade_area  prominence  neighbours  \\\n",
       "0     12867 54.492 116.283  12589.692     1282.189   68296.187      23.000   \n",
       "1     12869 27.741  31.608   1831.787      325.961   44066.485      20.000   \n",
       "2     12872 23.842  42.189   1338.164      171.900   51894.981      19.000   \n",
       "3     12873 72.658 144.190  12204.878     1488.763   89283.033      18.000   \n",
       "4     12874 31.392  39.969   3254.432      382.035   78097.239       7.000   \n",
       "\n",
       "   distance_road  pragmatic_meaning  cultural_meaning  visibility  \\\n",
       "0          7.116              0.273                 0    2124.642   \n",
       "1         17.843              0.722                 0    2108.577   \n",
       "2          4.452              0.676                 0     418.843   \n",
       "3          4.109              0.444                 1    2093.789   \n",
       "4         27.316              0.500                 0    2744.136   \n",
       "\n",
       "   mean_visibility  \n",
       "0         1141.259  \n",
       "1          892.880  \n",
       "2          278.726  \n",
       "3          684.964  \n",
       "4         1427.360  "
      ]
     },
     "execution_count": 363,
     "metadata": {},
     "output_type": "execute_result"
    }
   ],
   "source": [
    "tmp.head()"
   ]
  },
  {
   "cell_type": "code",
   "execution_count": 364,
   "metadata": {},
   "outputs": [
    {
     "data": {
      "text/html": [
       "<div>\n",
       "<style>\n",
       "    .dataframe thead tr:only-child th {\n",
       "        text-align: right;\n",
       "    }\n",
       "\n",
       "    .dataframe thead th {\n",
       "        text-align: left;\n",
       "    }\n",
       "\n",
       "    .dataframe tbody tr th {\n",
       "        vertical-align: top;\n",
       "    }\n",
       "</style>\n",
       "<table border=\"1\" class=\"dataframe\">\n",
       "  <thead>\n",
       "    <tr style=\"text-align: right;\">\n",
       "      <th></th>\n",
       "      <th>BUILD_ID</th>\n",
       "      <th>visibility</th>\n",
       "    </tr>\n",
       "  </thead>\n",
       "  <tbody>\n",
       "    <tr>\n",
       "      <th>1304</th>\n",
       "      <td>41166</td>\n",
       "      <td>6467.470</td>\n",
       "    </tr>\n",
       "    <tr>\n",
       "      <th>927</th>\n",
       "      <td>40717</td>\n",
       "      <td>5869.726</td>\n",
       "    </tr>\n",
       "    <tr>\n",
       "      <th>1519</th>\n",
       "      <td>41426</td>\n",
       "      <td>5713.939</td>\n",
       "    </tr>\n",
       "    <tr>\n",
       "      <th>1072</th>\n",
       "      <td>40883</td>\n",
       "      <td>5465.238</td>\n",
       "    </tr>\n",
       "    <tr>\n",
       "      <th>1352</th>\n",
       "      <td>41228</td>\n",
       "      <td>5260.460</td>\n",
       "    </tr>\n",
       "  </tbody>\n",
       "</table>\n",
       "</div>"
      ],
      "text/plain": [
       "      BUILD_ID  visibility\n",
       "1304     41166    6467.470\n",
       "927      40717    5869.726\n",
       "1519     41426    5713.939\n",
       "1072     40883    5465.238\n",
       "1352     41228    5260.460"
      ]
     },
     "execution_count": 364,
     "metadata": {},
     "output_type": "execute_result"
    }
   ],
   "source": [
    "tmp[['BUILD_ID','visibility']].sort_values('visibility', axis=0, ascending=False).head()"
   ]
  },
  {
   "cell_type": "code",
   "execution_count": 365,
   "metadata": {
    "collapsed": true
   },
   "outputs": [],
   "source": [
    "col = ['area', 'extension', 'facade_area', 'height', 'pragmatic_meaning', 'prominence','cultural_meaning', 'visibility']\n",
    "\n",
    "for i in col:\n",
    "       tmp[i+\"_scaled\"] = (tmp[i]-tmp[i].min())/(tmp[i].max()-tmp[i].min())"
   ]
  },
  {
   "cell_type": "code",
   "execution_count": 366,
   "metadata": {
    "collapsed": true
   },
   "outputs": [],
   "source": [
    "col = ['neighbours', 'distance_road']\n",
    "\n",
    "for i in col:\n",
    "       tmp[i+\"_scaled\"] = 1-(tmp[i]-tmp[i].min())/(tmp[i].max()-tmp[i].min())"
   ]
  },
  {
   "cell_type": "code",
   "execution_count": 367,
   "metadata": {
    "collapsed": true
   },
   "outputs": [],
   "source": [
    "tmp_scaled = tmp[['BUILD_ID','geometry','area_scaled','extension_scaled','facade_area_scaled',\n",
    "                 'height_scaled','prominence_scaled','cultural_meaning_scaled',\n",
    "                 'neighbours_scaled','distance_road_scaled','pragmatic_meaning_scaled', 'visibility_scaled']].copy()"
   ]
  },
  {
   "cell_type": "code",
   "execution_count": 368,
   "metadata": {
    "collapsed": true
   },
   "outputs": [],
   "source": [
    "tmp_scaled['visual']=(tmp_scaled['facade_area_scaled']*30+tmp_scaled['height_scaled']*20\n",
    "                      +tmp_scaled['visibility_scaled']*50)/100"
   ]
  },
  {
   "cell_type": "code",
   "execution_count": 369,
   "metadata": {
    "collapsed": true
   },
   "outputs": [],
   "source": [
    "tmp_scaled['structural']=(tmp_scaled['extension_scaled']*30+tmp_scaled['neighbours_scaled']*20+\n",
    "                   tmp_scaled['prominence_scaled']*30+tmp_scaled['distance_road_scaled']*20)/100"
   ]
  },
  {
   "cell_type": "code",
   "execution_count": 370,
   "metadata": {
    "collapsed": true
   },
   "outputs": [],
   "source": [
    "col = ['visual', 'structural']\n",
    "\n",
    "for i in col:\n",
    "       tmp_scaled[i+\"_scaled\"] = (tmp_scaled[i]-tmp_scaled[i].min())/(tmp_scaled[i].max()-tmp_scaled[i].min())"
   ]
  },
  {
   "cell_type": "code",
   "execution_count": 371,
   "metadata": {
    "collapsed": true
   },
   "outputs": [],
   "source": [
    "weights = tmp_scaled[['BUILD_ID','geometry','visual_scaled','structural_scaled',\n",
    "                      'cultural_meaning_scaled', 'pragmatic_meaning_scaled']].copy()"
   ]
  },
  {
   "cell_type": "code",
   "execution_count": 372,
   "metadata": {},
   "outputs": [
    {
     "data": {
      "text/plain": [
       "{'init': 'epsg:26986', 'no_defs': True}"
      ]
     },
     "execution_count": 372,
     "metadata": {},
     "output_type": "execute_result"
    }
   ],
   "source": [
    "weights.crs"
   ]
  },
  {
   "cell_type": "code",
   "execution_count": 373,
   "metadata": {
    "collapsed": true
   },
   "outputs": [],
   "source": [
    "weights['score']=(weights['visual_scaled']*50+weights['structural_scaled']*30+weights['cultural_meaning_scaled']*10+\n",
    "                  weights['pragmatic_meaning_scaled']*10)/100"
   ]
  },
  {
   "cell_type": "code",
   "execution_count": 374,
   "metadata": {
    "collapsed": true
   },
   "outputs": [],
   "source": [
    "weights['score_scaled']=(weights['score']-weights['score'].min())/(weights['score'].max()-weights['score'].min())"
   ]
  },
  {
   "cell_type": "code",
   "execution_count": 375,
   "metadata": {
    "collapsed": true
   },
   "outputs": [],
   "source": [
    "weights.rename(columns={'visual_scaled': 'visual',\n",
    "                        'structural_scaled':'structural',\n",
    "                        'cultural_meaning_scaled': 'cultural',\n",
    "                        'pragmatic_meaning_scaled':'pragmatic'}, inplace=True)"
   ]
  },
  {
   "cell_type": "code",
   "execution_count": 376,
   "metadata": {},
   "outputs": [
    {
     "data": {
      "text/html": [
       "<div>\n",
       "<style>\n",
       "    .dataframe thead tr:only-child th {\n",
       "        text-align: right;\n",
       "    }\n",
       "\n",
       "    .dataframe thead th {\n",
       "        text-align: left;\n",
       "    }\n",
       "\n",
       "    .dataframe tbody tr th {\n",
       "        vertical-align: top;\n",
       "    }\n",
       "</style>\n",
       "<table border=\"1\" class=\"dataframe\">\n",
       "  <thead>\n",
       "    <tr style=\"text-align: right;\">\n",
       "      <th></th>\n",
       "      <th>BUILD_ID</th>\n",
       "      <th>geometry</th>\n",
       "      <th>visual</th>\n",
       "      <th>structural</th>\n",
       "      <th>cultural</th>\n",
       "      <th>pragmatic</th>\n",
       "      <th>score</th>\n",
       "      <th>score_scaled</th>\n",
       "    </tr>\n",
       "  </thead>\n",
       "  <tbody>\n",
       "    <tr>\n",
       "      <th>0</th>\n",
       "      <td>12867</td>\n",
       "      <td>POLYGON ((237109.7499205534 901488.5575756297,...</td>\n",
       "      <td>0.206</td>\n",
       "      <td>0.463</td>\n",
       "      <td>0.000</td>\n",
       "      <td>0.275</td>\n",
       "      <td>0.269</td>\n",
       "      <td>0.370</td>\n",
       "    </tr>\n",
       "    <tr>\n",
       "      <th>1</th>\n",
       "      <td>12869</td>\n",
       "      <td>POLYGON ((237027.0227605512 901476.8202856297,...</td>\n",
       "      <td>0.180</td>\n",
       "      <td>0.347</td>\n",
       "      <td>0.000</td>\n",
       "      <td>0.729</td>\n",
       "      <td>0.267</td>\n",
       "      <td>0.367</td>\n",
       "    </tr>\n",
       "    <tr>\n",
       "      <th>2</th>\n",
       "      <td>12872</td>\n",
       "      <td>POLYGON ((237044.3070005517 901416.8178456295,...</td>\n",
       "      <td>0.036</td>\n",
       "      <td>0.414</td>\n",
       "      <td>0.000</td>\n",
       "      <td>0.683</td>\n",
       "      <td>0.210</td>\n",
       "      <td>0.277</td>\n",
       "    </tr>\n",
       "    <tr>\n",
       "      <th>3</th>\n",
       "      <td>12873</td>\n",
       "      <td>POLYGON ((237142.3675505524 901348.946465629, ...</td>\n",
       "      <td>0.204</td>\n",
       "      <td>0.559</td>\n",
       "      <td>0.200</td>\n",
       "      <td>0.449</td>\n",
       "      <td>0.334</td>\n",
       "      <td>0.474</td>\n",
       "    </tr>\n",
       "    <tr>\n",
       "      <th>4</th>\n",
       "      <td>12874</td>\n",
       "      <td>POLYGON ((237199.5938805515 901363.4296656293,...</td>\n",
       "      <td>0.233</td>\n",
       "      <td>0.483</td>\n",
       "      <td>0.000</td>\n",
       "      <td>0.505</td>\n",
       "      <td>0.312</td>\n",
       "      <td>0.438</td>\n",
       "    </tr>\n",
       "    <tr>\n",
       "      <th>5</th>\n",
       "      <td>12875</td>\n",
       "      <td>POLYGON ((237017.6539405505 901353.5905856314,...</td>\n",
       "      <td>0.177</td>\n",
       "      <td>0.450</td>\n",
       "      <td>0.200</td>\n",
       "      <td>0.489</td>\n",
       "      <td>0.292</td>\n",
       "      <td>0.407</td>\n",
       "    </tr>\n",
       "    <tr>\n",
       "      <th>6</th>\n",
       "      <td>12877</td>\n",
       "      <td>POLYGON ((237119.0067105524 901311.3991456319,...</td>\n",
       "      <td>0.165</td>\n",
       "      <td>0.538</td>\n",
       "      <td>0.000</td>\n",
       "      <td>0.555</td>\n",
       "      <td>0.300</td>\n",
       "      <td>0.419</td>\n",
       "    </tr>\n",
       "    <tr>\n",
       "      <th>7</th>\n",
       "      <td>12880</td>\n",
       "      <td>POLYGON ((237212.7256805532 901194.2015456287,...</td>\n",
       "      <td>0.240</td>\n",
       "      <td>0.471</td>\n",
       "      <td>0.000</td>\n",
       "      <td>0.617</td>\n",
       "      <td>0.323</td>\n",
       "      <td>0.456</td>\n",
       "    </tr>\n",
       "    <tr>\n",
       "      <th>8</th>\n",
       "      <td>12881</td>\n",
       "      <td>POLYGON ((237133.2113405539 901161.9671356296,...</td>\n",
       "      <td>0.261</td>\n",
       "      <td>0.540</td>\n",
       "      <td>0.000</td>\n",
       "      <td>0.807</td>\n",
       "      <td>0.373</td>\n",
       "      <td>0.536</td>\n",
       "    </tr>\n",
       "    <tr>\n",
       "      <th>9</th>\n",
       "      <td>12883</td>\n",
       "      <td>POLYGON ((237100.0512205517 901164.181105629, ...</td>\n",
       "      <td>0.168</td>\n",
       "      <td>0.441</td>\n",
       "      <td>0.000</td>\n",
       "      <td>0.959</td>\n",
       "      <td>0.312</td>\n",
       "      <td>0.438</td>\n",
       "    </tr>\n",
       "  </tbody>\n",
       "</table>\n",
       "</div>"
      ],
      "text/plain": [
       "   BUILD_ID                                           geometry  visual  \\\n",
       "0     12867  POLYGON ((237109.7499205534 901488.5575756297,...   0.206   \n",
       "1     12869  POLYGON ((237027.0227605512 901476.8202856297,...   0.180   \n",
       "2     12872  POLYGON ((237044.3070005517 901416.8178456295,...   0.036   \n",
       "3     12873  POLYGON ((237142.3675505524 901348.946465629, ...   0.204   \n",
       "4     12874  POLYGON ((237199.5938805515 901363.4296656293,...   0.233   \n",
       "5     12875  POLYGON ((237017.6539405505 901353.5905856314,...   0.177   \n",
       "6     12877  POLYGON ((237119.0067105524 901311.3991456319,...   0.165   \n",
       "7     12880  POLYGON ((237212.7256805532 901194.2015456287,...   0.240   \n",
       "8     12881  POLYGON ((237133.2113405539 901161.9671356296,...   0.261   \n",
       "9     12883  POLYGON ((237100.0512205517 901164.181105629, ...   0.168   \n",
       "\n",
       "   structural  cultural  pragmatic  score  score_scaled  \n",
       "0       0.463     0.000      0.275  0.269         0.370  \n",
       "1       0.347     0.000      0.729  0.267         0.367  \n",
       "2       0.414     0.000      0.683  0.210         0.277  \n",
       "3       0.559     0.200      0.449  0.334         0.474  \n",
       "4       0.483     0.000      0.505  0.312         0.438  \n",
       "5       0.450     0.200      0.489  0.292         0.407  \n",
       "6       0.538     0.000      0.555  0.300         0.419  \n",
       "7       0.471     0.000      0.617  0.323         0.456  \n",
       "8       0.540     0.000      0.807  0.373         0.536  \n",
       "9       0.441     0.000      0.959  0.312         0.438  "
      ]
     },
     "execution_count": 376,
     "metadata": {},
     "output_type": "execute_result"
    }
   ],
   "source": [
    "weights.head(10)"
   ]
  },
  {
   "cell_type": "code",
   "execution_count": 377,
   "metadata": {
    "collapsed": true
   },
   "outputs": [],
   "source": [
    "weights.to_file(driver='ESRI Shapefile',filename=\"Outputs/Boston/boston_landmark_scores.shp\")"
   ]
  }
 ],
 "metadata": {
  "kernelspec": {
   "display_name": "Python 3",
   "language": "python",
   "name": "python3"
  },
  "language_info": {
   "codemirror_mode": {
    "name": "ipython",
    "version": 3
   },
   "file_extension": ".py",
   "mimetype": "text/x-python",
   "name": "python",
   "nbconvert_exporter": "python",
   "pygments_lexer": "ipython3",
   "version": "3.6.3"
  }
 },
 "nbformat": 4,
 "nbformat_minor": 2
}
