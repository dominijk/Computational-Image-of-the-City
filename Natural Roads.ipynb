{
 "cells": [
  {
   "cell_type": "markdown",
   "metadata": {},
   "source": [
    "## Natural Roads\n",
    "\n",
    "Finally, before saving, street segments are categorised based on the continuing roads or natural roads approach.\n",
    "Streets are indeed recognised as entities by an observer in relation to the perception of continuity - a concept adressed already by Lynch himself - rather than for their name.\n",
    "Continuity is based indeed on the degree of angular change amplitude (continuity tolerance is defined through the tolerance parameter; two segments are never considered continuous if their angle of incidentce is higher than the tolerance)."
   ]
  },
  {
   "cell_type": "code",
   "execution_count": null,
   "metadata": {},
   "outputs": [],
   "source": [
    "# running natural roads_functions \n",
    "edges = identify_natural_roads(nodes_graphA, edges_graphA, tolerance = 45)\n",
    "# and visualising\n",
    "up.plot_lines(edges_graphA, column = 'naturalID', title = 'Natural Roads', lw = 1.1, cmap = 'Dark2', black_background = True, \n",
    "              legend = False, fig_size = 15)"
   ]
  }
 ],
 "metadata": {
  "kernelspec": {
   "display_name": "Python 3",
   "language": "python",
   "name": "python3"
  },
  "language_info": {
   "codemirror_mode": {
    "name": "ipython",
    "version": 3
   },
   "file_extension": ".py",
   "mimetype": "text/x-python",
   "name": "python",
   "nbconvert_exporter": "python",
   "pygments_lexer": "ipython3",
   "version": "3.7.4"
  }
 },
 "nbformat": 4,
 "nbformat_minor": 4
}
