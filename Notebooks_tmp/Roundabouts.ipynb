{
 "cells": [
  {
   "cell_type": "code",
   "execution_count": 348,
   "metadata": {
    "collapsed": true
   },
   "outputs": [],
   "source": [
    "import osmnx as ox, networkx as nx, matplotlib.cm as cm, pandas as pd, numpy as np\n",
    "import matplotlib.pyplot as plt\n",
    "%matplotlib inline\n",
    "import geopandas as gpd\n",
    "import functools\n",
    "import community\n",
    "\n",
    "from scipy import sparse\n",
    "from scipy.sparse import linalg\n",
    "import time\n",
    "from shapely.geometry import Point, LineString, Polygon, MultiPolygon, mapping\n",
    "from math import sqrt\n",
    "import pandas as pd\n",
    "from shapely.ops import cascaded_union\n",
    "pd.set_option('precision', 10)"
   ]
  },
  {
   "cell_type": "markdown",
   "metadata": {},
   "source": [
    "# Functions"
   ]
  },
  {
   "cell_type": "code",
   "execution_count": 349,
   "metadata": {},
   "outputs": [],
   "source": [
    "#try reading street network\n",
    "\n",
    "#streets = gpd.read_file('C:/Users/gabri/Google Drive Academic/GIS/OS_Roads_Working/OS_roads_final.shp')\n",
    "streets = gpd.read_file('C:/Users/gabri/sciebo/GIS Data/Street_Network/in_use/Boston_clipped_cleaned.shp')"
   ]
  },
  {
   "cell_type": "code",
   "execution_count": 350,
   "metadata": {
    "collapsed": true
   },
   "outputs": [],
   "source": [
    "# streets = streets.to_crs(epsg=27700) #UK\n",
    "streets = streets.to_crs(epsg=2806) #Boston, MA"
   ]
  },
  {
   "cell_type": "code",
   "execution_count": 351,
   "metadata": {},
   "outputs": [],
   "source": [
    "# if ('OBJECTID' in df.columns):\n",
    "\n",
    "streets['from'] = \"NaN\"\n",
    "streets['to'] = \"NaN\"\n",
    "\n",
    "streets = streets[['CLASS','STREET_NAM','geometry', 'from', 'to']]\n",
    "# df = streets[(streets.duplicated(subset='OBJECTID', keep=False))==True]"
   ]
  },
  {
   "cell_type": "code",
   "execution_count": 352,
   "metadata": {},
   "outputs": [],
   "source": [
    "#removing Z coordinates and storing from/to coordinates and assigning \n",
    "\n",
    "for index, row in streets.iterrows():\n",
    "    line = []\n",
    "    line2 = []\n",
    "    coord = list(row['geometry'].coords)\n",
    "    from_node = coord[0][0:2]\n",
    "    to_node = coord[-1][0:2]\n",
    "    for i in range(0,len(coord)):\n",
    "        point = coord[i][0:2]\n",
    "        line.append(point)\n",
    "\n",
    "    t = LineString([coor for coor in line])\n",
    "    streets.set_value(index,'geometry', t)\n",
    "    streets.set_value(index, 'from', from_node)\n",
    "    streets.set_value(index, 'to', to_node)\n",
    "    #setting ObjectID equal to index for avoiding ambiguosity (this is useful for edges)"
   ]
  },
  {
   "cell_type": "code",
   "execution_count": 353,
   "metadata": {},
   "outputs": [
    {
     "data": {
      "text/html": [
       "<div>\n",
       "<style>\n",
       "    .dataframe thead tr:only-child th {\n",
       "        text-align: right;\n",
       "    }\n",
       "\n",
       "    .dataframe thead th {\n",
       "        text-align: left;\n",
       "    }\n",
       "\n",
       "    .dataframe tbody tr th {\n",
       "        vertical-align: top;\n",
       "    }\n",
       "</style>\n",
       "<table border=\"1\" class=\"dataframe\">\n",
       "  <thead>\n",
       "    <tr style=\"text-align: right;\">\n",
       "      <th></th>\n",
       "      <th>CLASS</th>\n",
       "      <th>STREET_NAM</th>\n",
       "      <th>geometry</th>\n",
       "      <th>from</th>\n",
       "      <th>to</th>\n",
       "    </tr>\n",
       "  </thead>\n",
       "  <tbody>\n",
       "    <tr>\n",
       "      <th>0</th>\n",
       "      <td>5</td>\n",
       "      <td>ATHOL STREET</td>\n",
       "      <td>LINESTRING (447666.5001382427 151131.711515581...</td>\n",
       "      <td>(447666.5001382427, 151131.71151558135)</td>\n",
       "      <td>(447695.2985308499, 151220.14891192896)</td>\n",
       "    </tr>\n",
       "    <tr>\n",
       "      <th>1</th>\n",
       "      <td>5</td>\n",
       "      <td>LITCHFIELD STREET</td>\n",
       "      <td>LINESTRING (447123.6569959233 151039.425289589...</td>\n",
       "      <td>(447123.6569959233, 151039.42528958918)</td>\n",
       "      <td>(447152.86840961257, 151121.6688060242)</td>\n",
       "    </tr>\n",
       "    <tr>\n",
       "      <th>2</th>\n",
       "      <td>5</td>\n",
       "      <td>EVERETT STREET</td>\n",
       "      <td>LINESTRING (447500.2996802317 151134.078397393...</td>\n",
       "      <td>(447500.2996802317, 151134.07839739308)</td>\n",
       "      <td>(447518.13484683307, 151173.3807869006)</td>\n",
       "    </tr>\n",
       "    <tr>\n",
       "      <th>3</th>\n",
       "      <td>5</td>\n",
       "      <td>WALNUT STREET</td>\n",
       "      <td>LINESTRING (453340.9429937318 151020.118995716...</td>\n",
       "      <td>(453340.9429937318, 151020.1189957167)</td>\n",
       "      <td>(453354.5999694744, 150969.40344899317)</td>\n",
       "    </tr>\n",
       "    <tr>\n",
       "      <th>4</th>\n",
       "      <td>5</td>\n",
       "      <td>MYRICK STREET</td>\n",
       "      <td>LINESTRING (448023.0267885827 151137.325709729...</td>\n",
       "      <td>(448023.02678858273, 151137.32570972946)</td>\n",
       "      <td>(447986.2441860455, 151198.58021859944)</td>\n",
       "    </tr>\n",
       "  </tbody>\n",
       "</table>\n",
       "</div>"
      ],
      "text/plain": [
       "   CLASS         STREET_NAM  \\\n",
       "0      5       ATHOL STREET   \n",
       "1      5  LITCHFIELD STREET   \n",
       "2      5     EVERETT STREET   \n",
       "3      5      WALNUT STREET   \n",
       "4      5      MYRICK STREET   \n",
       "\n",
       "                                            geometry  \\\n",
       "0  LINESTRING (447666.5001382427 151131.711515581...   \n",
       "1  LINESTRING (447123.6569959233 151039.425289589...   \n",
       "2  LINESTRING (447500.2996802317 151134.078397393...   \n",
       "3  LINESTRING (453340.9429937318 151020.118995716...   \n",
       "4  LINESTRING (448023.0267885827 151137.325709729...   \n",
       "\n",
       "                                       from  \\\n",
       "0   (447666.5001382427, 151131.71151558135)   \n",
       "1   (447123.6569959233, 151039.42528958918)   \n",
       "2   (447500.2996802317, 151134.07839739308)   \n",
       "3    (453340.9429937318, 151020.1189957167)   \n",
       "4  (448023.02678858273, 151137.32570972946)   \n",
       "\n",
       "                                        to  \n",
       "0  (447695.2985308499, 151220.14891192896)  \n",
       "1  (447152.86840961257, 151121.6688060242)  \n",
       "2  (447518.13484683307, 151173.3807869006)  \n",
       "3  (453354.5999694744, 150969.40344899317)  \n",
       "4  (447986.2441860455, 151198.58021859944)  "
      ]
     },
     "execution_count": 353,
     "metadata": {},
     "output_type": "execute_result"
    }
   ],
   "source": [
    "streets.head()"
   ]
  },
  {
   "cell_type": "code",
   "execution_count": 354,
   "metadata": {
    "scrolled": true
   },
   "outputs": [
    {
     "data": {
      "text/html": [
       "<div>\n",
       "<style>\n",
       "    .dataframe thead tr:only-child th {\n",
       "        text-align: right;\n",
       "    }\n",
       "\n",
       "    .dataframe thead th {\n",
       "        text-align: left;\n",
       "    }\n",
       "\n",
       "    .dataframe tbody tr th {\n",
       "        vertical-align: top;\n",
       "    }\n",
       "</style>\n",
       "<table border=\"1\" class=\"dataframe\">\n",
       "  <thead>\n",
       "    <tr style=\"text-align: right;\">\n",
       "      <th></th>\n",
       "      <th>CLASS</th>\n",
       "      <th>STREET_NAM</th>\n",
       "      <th>geometry</th>\n",
       "      <th>from</th>\n",
       "      <th>to</th>\n",
       "      <th>OBJECTID</th>\n",
       "    </tr>\n",
       "  </thead>\n",
       "  <tbody>\n",
       "    <tr>\n",
       "      <th>0</th>\n",
       "      <td>5</td>\n",
       "      <td>ATHOL STREET</td>\n",
       "      <td>LINESTRING (447666.5001382427 151131.711515581...</td>\n",
       "      <td>(447666.5001382427, 151131.71151558135)</td>\n",
       "      <td>(447695.2985308499, 151220.14891192896)</td>\n",
       "      <td>0</td>\n",
       "    </tr>\n",
       "    <tr>\n",
       "      <th>1</th>\n",
       "      <td>5</td>\n",
       "      <td>LITCHFIELD STREET</td>\n",
       "      <td>LINESTRING (447123.6569959233 151039.425289589...</td>\n",
       "      <td>(447123.6569959233, 151039.42528958918)</td>\n",
       "      <td>(447152.86840961257, 151121.6688060242)</td>\n",
       "      <td>1</td>\n",
       "    </tr>\n",
       "    <tr>\n",
       "      <th>2</th>\n",
       "      <td>5</td>\n",
       "      <td>EVERETT STREET</td>\n",
       "      <td>LINESTRING (447500.2996802317 151134.078397393...</td>\n",
       "      <td>(447500.2996802317, 151134.07839739308)</td>\n",
       "      <td>(447518.13484683307, 151173.3807869006)</td>\n",
       "      <td>2</td>\n",
       "    </tr>\n",
       "    <tr>\n",
       "      <th>3</th>\n",
       "      <td>5</td>\n",
       "      <td>WALNUT STREET</td>\n",
       "      <td>LINESTRING (453340.9429937318 151020.118995716...</td>\n",
       "      <td>(453340.9429937318, 151020.1189957167)</td>\n",
       "      <td>(453354.5999694744, 150969.40344899317)</td>\n",
       "      <td>3</td>\n",
       "    </tr>\n",
       "    <tr>\n",
       "      <th>4</th>\n",
       "      <td>5</td>\n",
       "      <td>MYRICK STREET</td>\n",
       "      <td>LINESTRING (448023.0267885827 151137.325709729...</td>\n",
       "      <td>(448023.02678858273, 151137.32570972946)</td>\n",
       "      <td>(447986.2441860455, 151198.58021859944)</td>\n",
       "      <td>4</td>\n",
       "    </tr>\n",
       "  </tbody>\n",
       "</table>\n",
       "</div>"
      ],
      "text/plain": [
       "   CLASS         STREET_NAM  \\\n",
       "0      5       ATHOL STREET   \n",
       "1      5  LITCHFIELD STREET   \n",
       "2      5     EVERETT STREET   \n",
       "3      5      WALNUT STREET   \n",
       "4      5      MYRICK STREET   \n",
       "\n",
       "                                            geometry  \\\n",
       "0  LINESTRING (447666.5001382427 151131.711515581...   \n",
       "1  LINESTRING (447123.6569959233 151039.425289589...   \n",
       "2  LINESTRING (447500.2996802317 151134.078397393...   \n",
       "3  LINESTRING (453340.9429937318 151020.118995716...   \n",
       "4  LINESTRING (448023.0267885827 151137.325709729...   \n",
       "\n",
       "                                       from  \\\n",
       "0   (447666.5001382427, 151131.71151558135)   \n",
       "1   (447123.6569959233, 151039.42528958918)   \n",
       "2   (447500.2996802317, 151134.07839739308)   \n",
       "3    (453340.9429937318, 151020.1189957167)   \n",
       "4  (448023.02678858273, 151137.32570972946)   \n",
       "\n",
       "                                        to  OBJECTID  \n",
       "0  (447695.2985308499, 151220.14891192896)         0  \n",
       "1  (447152.86840961257, 151121.6688060242)         1  \n",
       "2  (447518.13484683307, 151173.3807869006)         2  \n",
       "3  (453354.5999694744, 150969.40344899317)         3  \n",
       "4  (447986.2441860455, 151198.58021859944)         4  "
      ]
     },
     "execution_count": 354,
     "metadata": {},
     "output_type": "execute_result"
    }
   ],
   "source": [
    "#removing edges represented only by nodes\n",
    "streets = streets.loc[streets['from'] != streets['to']]\n",
    "streets.reset_index(inplace=True, drop=True)\n",
    "streets['OBJECTID'] = streets.index.values.astype(int) \n",
    "streets.head()"
   ]
  },
  {
   "cell_type": "code",
   "execution_count": 355,
   "metadata": {
    "collapsed": true
   },
   "outputs": [],
   "source": [
    "#extracting nodes and greating a geodataframe\n",
    "unique_nodes_tmp = list(streets['to'].unique()) + list(streets['from'].unique())\n",
    "unique_nodes = list(set(unique_nodes_tmp))\n",
    "\n",
    "crs = {'init': '2806'}"
   ]
  },
  {
   "cell_type": "code",
   "execution_count": 398,
   "metadata": {
    "collapsed": true
   },
   "outputs": [],
   "source": [
    "nodes_data = pd.DataFrame.from_records(unique_nodes, columns=['x', 'y']).astype('float')\n",
    "geometry = [Point(xy) for xy in zip(nodes_data.x, nodes_data.y)]\n",
    "nodes_geo = gpd.GeoDataFrame(nodes_data, crs=crs, geometry=geometry)"
   ]
  },
  {
   "cell_type": "code",
   "execution_count": 357,
   "metadata": {
    "collapsed": true
   },
   "outputs": [],
   "source": [
    "nodes_tmp = nodes_geo.reset_index()\n",
    "nodes_tmp['coordinates']=list(zip(nodes_tmp.x, nodes_tmp.y))"
   ]
  },
  {
   "cell_type": "code",
   "execution_count": 358,
   "metadata": {
    "collapsed": true,
    "scrolled": false
   },
   "outputs": [],
   "source": [
    "result_tmp = pd.merge(streets, nodes_tmp[['index', 'coordinates']], how='left', left_on=\"from\", right_on=\"coordinates\")\n",
    "result_tmp = result_tmp.drop(result_tmp[['coordinates']],axis=1)\n",
    "result_tmp = result_tmp.rename(columns = {'index':'u'})"
   ]
  },
  {
   "cell_type": "code",
   "execution_count": 359,
   "metadata": {
    "collapsed": true
   },
   "outputs": [],
   "source": [
    "result = pd.merge(result_tmp, nodes_tmp[['index', 'coordinates']], how='left', left_on=\"to\", right_on=\"coordinates\")\n",
    "result = result.drop(result[['coordinates', 'from', 'to']],axis=1)\n",
    "result = result.rename(columns = {'index':'v'})\n",
    "result['key']=0 #for OSMNx\n",
    "result['distance'] = gpd.GeoSeries(result['geometry'].length)"
   ]
  },
  {
   "cell_type": "code",
   "execution_count": 360,
   "metadata": {},
   "outputs": [
    {
     "data": {
      "text/plain": [
       "{'init': '2806'}"
      ]
     },
     "execution_count": 360,
     "metadata": {},
     "output_type": "execute_result"
    }
   ],
   "source": [
    "nodes_geo.crs"
   ]
  },
  {
   "cell_type": "code",
   "execution_count": 361,
   "metadata": {},
   "outputs": [
    {
     "data": {
      "text/html": [
       "<div>\n",
       "<style>\n",
       "    .dataframe thead tr:only-child th {\n",
       "        text-align: right;\n",
       "    }\n",
       "\n",
       "    .dataframe thead th {\n",
       "        text-align: left;\n",
       "    }\n",
       "\n",
       "    .dataframe tbody tr th {\n",
       "        vertical-align: top;\n",
       "    }\n",
       "</style>\n",
       "<table border=\"1\" class=\"dataframe\">\n",
       "  <thead>\n",
       "    <tr style=\"text-align: right;\">\n",
       "      <th></th>\n",
       "      <th>x</th>\n",
       "      <th>y</th>\n",
       "      <th>geometry</th>\n",
       "    </tr>\n",
       "  </thead>\n",
       "  <tbody>\n",
       "    <tr>\n",
       "      <th>0</th>\n",
       "      <td>454376.0808189199</td>\n",
       "      <td>147736.0375299623</td>\n",
       "      <td>POINT (454376.0808189199 147736.0375299623)</td>\n",
       "    </tr>\n",
       "    <tr>\n",
       "      <th>1</th>\n",
       "      <td>455164.7128765391</td>\n",
       "      <td>143262.4066902359</td>\n",
       "      <td>POINT (455164.7128765391 143262.4066902359)</td>\n",
       "    </tr>\n",
       "    <tr>\n",
       "      <th>2</th>\n",
       "      <td>456338.9251517847</td>\n",
       "      <td>155897.2979695652</td>\n",
       "      <td>POINT (456338.9251517847 155897.2979695652)</td>\n",
       "    </tr>\n",
       "    <tr>\n",
       "      <th>3</th>\n",
       "      <td>450661.3033107797</td>\n",
       "      <td>152945.4141076953</td>\n",
       "      <td>POINT (450661.3033107797 152945.4141076953)</td>\n",
       "    </tr>\n",
       "    <tr>\n",
       "      <th>4</th>\n",
       "      <td>450724.3698959947</td>\n",
       "      <td>157042.6592945328</td>\n",
       "      <td>POINT (450724.3698959947 157042.6592945328)</td>\n",
       "    </tr>\n",
       "  </tbody>\n",
       "</table>\n",
       "</div>"
      ],
      "text/plain": [
       "                   x                  y  \\\n",
       "0  454376.0808189199  147736.0375299623   \n",
       "1  455164.7128765391  143262.4066902359   \n",
       "2  456338.9251517847  155897.2979695652   \n",
       "3  450661.3033107797  152945.4141076953   \n",
       "4  450724.3698959947  157042.6592945328   \n",
       "\n",
       "                                      geometry  \n",
       "0  POINT (454376.0808189199 147736.0375299623)  \n",
       "1  POINT (455164.7128765391 143262.4066902359)  \n",
       "2  POINT (456338.9251517847 155897.2979695652)  \n",
       "3  POINT (450661.3033107797 152945.4141076953)  \n",
       "4  POINT (450724.3698959947 157042.6592945328)  "
      ]
     },
     "execution_count": 361,
     "metadata": {},
     "output_type": "execute_result"
    }
   ],
   "source": [
    "nodes_geo.head()"
   ]
  },
  {
   "cell_type": "code",
   "execution_count": 436,
   "metadata": {},
   "outputs": [
    {
     "data": {
      "text/plain": [
       "15669"
      ]
     },
     "execution_count": 436,
     "metadata": {},
     "output_type": "execute_result"
    }
   ],
   "source": [
    "m[0]"
   ]
  },
  {
   "cell_type": "code",
   "execution_count": 442,
   "metadata": {},
   "outputs": [
    {
     "data": {
      "text/plain": [
       "17604     17\n",
       "21        17\n",
       "7756     903\n",
       "13792    903\n",
       "1625     903\n",
       "Name: cluster, dtype: int64"
      ]
     },
     "execution_count": 442,
     "metadata": {},
     "output_type": "execute_result"
    }
   ],
   "source": [
    "nodes_geo.loc[[17604, 21, 7756, 13792, 1625], 'cluster']"
   ]
  },
  {
   "cell_type": "code",
   "execution_count": 470,
   "metadata": {
    "collapsed": true
   },
   "outputs": [],
   "source": [
    "l = [10,1,12,13,14,15]"
   ]
  },
  {
   "cell_type": "code",
   "execution_count": 471,
   "metadata": {
    "collapsed": true
   },
   "outputs": [],
   "source": [
    "t = [10,12,13,14,15]"
   ]
  },
  {
   "cell_type": "code",
   "execution_count": 474,
   "metadata": {
    "collapsed": true
   },
   "outputs": [],
   "source": [
    "s = [1]"
   ]
  },
  {
   "cell_type": "code",
   "execution_count": 475,
   "metadata": {},
   "outputs": [
    {
     "data": {
      "text/plain": [
       "[]"
      ]
     },
     "execution_count": 475,
     "metadata": {},
     "output_type": "execute_result"
    }
   ],
   "source": [
    "n = [x for x in l if (x not in t) & (x not in s)]\n",
    "n"
   ]
  },
  {
   "cell_type": "code",
   "execution_count": 521,
   "metadata": {},
   "outputs": [
    {
     "ename": "ValueError",
     "evalue": "list.remove(x): x not in list",
     "output_type": "error",
     "traceback": [
      "\u001b[1;31m---------------------------------------------------------------------------\u001b[0m",
      "\u001b[1;31mValueError\u001b[0m                                Traceback (most recent call last)",
      "\u001b[1;32m<ipython-input-521-c561ac8d5cac>\u001b[0m in \u001b[0;36m<module>\u001b[1;34m()\u001b[0m\n\u001b[1;32m----> 1\u001b[1;33m \u001b[0mt\u001b[0m \u001b[1;33m=\u001b[0m \u001b[1;33m[\u001b[0m\u001b[0mlist\u001b[0m\u001b[1;33m(\u001b[0m\u001b[0ms\u001b[0m\u001b[1;33m)\u001b[0m\u001b[1;33m]\u001b[0m\u001b[1;33m.\u001b[0m\u001b[0mremove\u001b[0m\u001b[1;33m(\u001b[0m\u001b[1;36m0\u001b[0m\u001b[1;33m)\u001b[0m\u001b[1;33m\u001b[0m\u001b[0m\n\u001b[0m\u001b[0;32m      2\u001b[0m \u001b[0mt\u001b[0m\u001b[1;33m\u001b[0m\u001b[0m\n",
      "\u001b[1;31mValueError\u001b[0m: list.remove(x): x not in list"
     ]
    }
   ],
   "source": [
    "t = [list(s)].remove(0)\n",
    "t"
   ]
  },
  {
   "cell_type": "code",
   "execution_count": 555,
   "metadata": {
    "collapsed": true
   },
   "outputs": [],
   "source": [
    "s =[0,1,2]"
   ]
  },
  {
   "cell_type": "code",
   "execution_count": 556,
   "metadata": {},
   "outputs": [
    {
     "data": {
      "text/plain": [
       "[1, 2]"
      ]
     },
     "execution_count": 556,
     "metadata": {},
     "output_type": "execute_result"
    }
   ],
   "source": [
    "s.remove(0)\n",
    "s"
   ]
  },
  {
   "cell_type": "code",
   "execution_count": 561,
   "metadata": {},
   "outputs": [
    {
     "data": {
      "text/plain": [
       "[8215]"
      ]
     },
     "execution_count": 561,
     "metadata": {},
     "output_type": "execute_result"
    }
   ],
   "source": [
    "tmp"
   ]
  },
  {
   "cell_type": "code",
   "execution_count": 571,
   "metadata": {},
   "outputs": [],
   "source": [
    "processed = []\n",
    "sindex = nodes_geo.sindex\n",
    "clusters = {}\n",
    "key = 1\n",
    "nodes_geo['cluster'] = 0\n",
    "\n",
    "for row in nodes_geo.itertuples():\n",
    "    \n",
    "    if (row[0] in processed): continue\n",
    "        \n",
    "    g = row[3] #geometry\n",
    "    fil = g.buffer(15)\n",
    "        \n",
    "    tmp_match = list(sindex.intersection(fil.bounds))\n",
    "    match_index = [x for x in tmp_match if x not in processed]\n",
    "    processed.append(row[0])\n",
    "\n",
    "    if (len(match_index)<2): continue #no adjacent nodes----------\n",
    "    near_index = match_index[:]\n",
    "    near_index.remove(row[0])\n",
    "    \n",
    "    near = nodes_geo.iloc[near_index]\n",
    "    for n in near.itertuples():\n",
    "                        \n",
    "            g = n[3] #geometry\n",
    "            fil = g.buffer(10)\n",
    "            tmpp = list(sindex.intersection(fil.bounds))\n",
    "            \n",
    "            second_near = [x for x in tmp if (x not in processed) & (x not in match_index)]\n",
    "            processed.extend(second_near)           \n",
    "            match_index.extend(second_near)\n",
    "            \n",
    "            \n",
    "#             for i in second_near:\n",
    "#                 if  (i in match_index): continue\n",
    "#                 elif (i in processed): continue\n",
    "#                 else: match_index.append(i)\n",
    "    \n",
    "    processed.extend(match_index)\n",
    "    nodes_geo.loc[match_index, 'cluster']=key\n",
    "    clusters[key] = match_index\n",
    "    key = key+1"
   ]
  },
  {
   "cell_type": "code",
   "execution_count": 569,
   "metadata": {},
   "outputs": [
    {
     "data": {
      "text/html": [
       "<div>\n",
       "<style>\n",
       "    .dataframe thead tr:only-child th {\n",
       "        text-align: right;\n",
       "    }\n",
       "\n",
       "    .dataframe thead th {\n",
       "        text-align: left;\n",
       "    }\n",
       "\n",
       "    .dataframe tbody tr th {\n",
       "        vertical-align: top;\n",
       "    }\n",
       "</style>\n",
       "<table border=\"1\" class=\"dataframe\">\n",
       "  <thead>\n",
       "    <tr style=\"text-align: right;\">\n",
       "      <th></th>\n",
       "      <th>x</th>\n",
       "      <th>y</th>\n",
       "      <th>geometry</th>\n",
       "      <th>cluster</th>\n",
       "    </tr>\n",
       "  </thead>\n",
       "  <tbody>\n",
       "    <tr>\n",
       "      <th>14924</th>\n",
       "      <td>455130.5735762698</td>\n",
       "      <td>143258.3152442727</td>\n",
       "      <td>POINT (455130.5735762698 143258.3152442727)</td>\n",
       "      <td>2</td>\n",
       "    </tr>\n",
       "    <tr>\n",
       "      <th>1</th>\n",
       "      <td>455164.7128765391</td>\n",
       "      <td>143262.4066902359</td>\n",
       "      <td>POINT (455164.7128765391 143262.4066902359)</td>\n",
       "      <td>2</td>\n",
       "    </tr>\n",
       "    <tr>\n",
       "      <th>263</th>\n",
       "      <td>455166.6804121623</td>\n",
       "      <td>143262.6424907026</td>\n",
       "      <td>POINT (455166.6804121623 143262.6424907026)</td>\n",
       "      <td>2</td>\n",
       "    </tr>\n",
       "    <tr>\n",
       "      <th>5553</th>\n",
       "      <td>455189.5973327883</td>\n",
       "      <td>143265.3889819069</td>\n",
       "      <td>POINT (455189.5973327883 143265.3889819069)</td>\n",
       "      <td>2</td>\n",
       "    </tr>\n",
       "    <tr>\n",
       "      <th>16033</th>\n",
       "      <td>455195.9433649664</td>\n",
       "      <td>143266.1495254797</td>\n",
       "      <td>POINT (455195.9433649664 143266.1495254797)</td>\n",
       "      <td>2</td>\n",
       "    </tr>\n",
       "    <tr>\n",
       "      <th>13175</th>\n",
       "      <td>455202.9470598020</td>\n",
       "      <td>143266.9888868800</td>\n",
       "      <td>POINT (455202.947059802 143266.98888688)</td>\n",
       "      <td>2</td>\n",
       "    </tr>\n",
       "    <tr>\n",
       "      <th>3966</th>\n",
       "      <td>455162.9467381680</td>\n",
       "      <td>143267.4461936107</td>\n",
       "      <td>POINT (455162.946738168 143267.4461936107)</td>\n",
       "      <td>2</td>\n",
       "    </tr>\n",
       "  </tbody>\n",
       "</table>\n",
       "</div>"
      ],
      "text/plain": [
       "                       x                  y  \\\n",
       "14924  455130.5735762698  143258.3152442727   \n",
       "1      455164.7128765391  143262.4066902359   \n",
       "263    455166.6804121623  143262.6424907026   \n",
       "5553   455189.5973327883  143265.3889819069   \n",
       "16033  455195.9433649664  143266.1495254797   \n",
       "13175  455202.9470598020  143266.9888868800   \n",
       "3966   455162.9467381680  143267.4461936107   \n",
       "\n",
       "                                          geometry  cluster  \n",
       "14924  POINT (455130.5735762698 143258.3152442727)        2  \n",
       "1      POINT (455164.7128765391 143262.4066902359)        2  \n",
       "263    POINT (455166.6804121623 143262.6424907026)        2  \n",
       "5553   POINT (455189.5973327883 143265.3889819069)        2  \n",
       "16033  POINT (455195.9433649664 143266.1495254797)        2  \n",
       "13175     POINT (455202.947059802 143266.98888688)        2  \n",
       "3966    POINT (455162.946738168 143267.4461936107)        2  "
      ]
     },
     "execution_count": 569,
     "metadata": {},
     "output_type": "execute_result"
    }
   ],
   "source": [
    "nodes_geo.loc[[14924, 1, 263, 5553, 16033, 13175, 3966]]"
   ]
  },
  {
   "cell_type": "code",
   "execution_count": 572,
   "metadata": {},
   "outputs": [],
   "source": [
    "nodes_geo.crs = {'init': 'epsg:2806', 'no_defs': True}\n",
    "nodes_geo.to_file('Outputs/new_nodes.shp', driver='ESRI Shapefile')"
   ]
  },
  {
   "cell_type": "code",
   "execution_count": 363,
   "metadata": {},
   "outputs": [],
   "source": [
    "from shapely import geometry"
   ]
  },
  {
   "cell_type": "code",
   "execution_count": 364,
   "metadata": {},
   "outputs": [],
   "source": [
    "nodes_geo = nodes_geo[~nodes_geo.index.isin(n)] "
   ]
  },
  {
   "cell_type": "code",
   "execution_count": 365,
   "metadata": {},
   "outputs": [
    {
     "data": {
      "text/plain": [
       "{0: [1, 263, 3966],\n",
       " 1: [96, 8454],\n",
       " 2: [110, 111],\n",
       " 3: [198, 10602, 5430],\n",
       " 4: [296, 255],\n",
       " 5: [274, 271],\n",
       " 6: [279, 18004],\n",
       " 7: [5681, 368],\n",
       " 8: [3962, 378],\n",
       " 9: [7463, 7462, 406],\n",
       " 10: [7204, 419],\n",
       " 11: [459, 463],\n",
       " 12: [10858, 493],\n",
       " 13: [6415, 523, 527],\n",
       " 14: [7995, 575],\n",
       " 15: [600, 3164],\n",
       " 16: [674, 672],\n",
       " 17: [1467, 772],\n",
       " 18: [2301, 854],\n",
       " 19: [926, 2264, 2263],\n",
       " 20: [8605, 989],\n",
       " 21: [1030, 9510],\n",
       " 22: [1070, 15051, 15056],\n",
       " 23: [10008, 1098],\n",
       " 24: [1114, 12639],\n",
       " 25: [8449, 1165],\n",
       " 26: [3619, 1210],\n",
       " 27: [14039, 1357],\n",
       " 28: [18433, 1386],\n",
       " 29: [1426, 8478],\n",
       " 30: [1529, 1526],\n",
       " 31: [1573, 4593],\n",
       " 32: [1607, 5658],\n",
       " 33: [1617, 14129],\n",
       " 34: [5947, 1685],\n",
       " 35: [7030, 1687],\n",
       " 36: [9459, 1705],\n",
       " 37: [1811, 14525],\n",
       " 38: [17368, 1849],\n",
       " 39: [1912, 4542],\n",
       " 40: [1923, 1920],\n",
       " 41: [2011, 17271],\n",
       " 42: [2016, 2015],\n",
       " 43: [4306, 4307, 2019],\n",
       " 44: [2037, 6655],\n",
       " 45: [2057, 2054],\n",
       " 46: [2150, 2147],\n",
       " 47: [2152, 2725],\n",
       " 48: [2358, 9955],\n",
       " 49: [2408, 2924],\n",
       " 50: [2416, 7686],\n",
       " 51: [5827, 2421],\n",
       " 52: [12068, 2454],\n",
       " 53: [2488, 2487],\n",
       " 54: [2563, 2565],\n",
       " 55: [2749, 2750],\n",
       " 56: [2765, 12854],\n",
       " 57: [11188, 18598, 2769],\n",
       " 58: [2789, 2790],\n",
       " 59: [2800, 2797],\n",
       " 60: [2871, 11026],\n",
       " 61: [3068, 17907],\n",
       " 62: [3131, 3132],\n",
       " 63: [15240, 3146],\n",
       " 64: [14728, 3186, 13853],\n",
       " 65: [3197, 3192],\n",
       " 66: [3292, 3286],\n",
       " 67: [3343, 3346],\n",
       " 68: [3355, 17652],\n",
       " 69: [14118, 3535],\n",
       " 70: [3582, 3583],\n",
       " 71: [3674, 3677],\n",
       " 72: [3694, 3696],\n",
       " 73: [18447, 3762],\n",
       " 74: [3785, 3782],\n",
       " 75: [15979, 3795],\n",
       " 76: [3842, 18797],\n",
       " 77: [263, 3966, 1],\n",
       " 78: [4000, 4003],\n",
       " 79: [4082, 10862],\n",
       " 80: [4197, 4198],\n",
       " 81: [16683, 4242],\n",
       " 82: [4294, 14701],\n",
       " 83: [7162, 4329],\n",
       " 84: [8310, 4410],\n",
       " 85: [4418, 4419],\n",
       " 86: [4446, 4448],\n",
       " 87: [4451, 5105],\n",
       " 88: [11507, 4463],\n",
       " 89: [4483, 4484],\n",
       " 90: [13505, 4650],\n",
       " 91: [4718, 4717],\n",
       " 92: [4734, 4740],\n",
       " 93: [4819, 14840],\n",
       " 94: [4871, 4872],\n",
       " 95: [4924, 4923],\n",
       " 96: [5643, 4964],\n",
       " 97: [5156, 12548],\n",
       " 98: [6012, 5184],\n",
       " 99: [5226, 5222],\n",
       " 100: [8515, 5341, 17818],\n",
       " 101: [5530, 15377],\n",
       " 102: [10641, 5540],\n",
       " 103: [5626, 5628],\n",
       " 104: [5656, 5659],\n",
       " 105: [5820, 5817],\n",
       " 106: [5909, 5907],\n",
       " 107: [19001, 5939],\n",
       " 108: [13998, 5962],\n",
       " 109: [5963, 5967],\n",
       " 110: [6881, 5975],\n",
       " 111: [5980, 5981],\n",
       " 112: [6301, 6300],\n",
       " 113: [6425, 6428],\n",
       " 114: [9668, 6552],\n",
       " 115: [6649, 13698],\n",
       " 116: [6692, 16110],\n",
       " 117: [6807, 6802],\n",
       " 118: [6818, 7483],\n",
       " 119: [6822, 6824],\n",
       " 120: [7029, 16055],\n",
       " 121: [7073, 11866],\n",
       " 122: [7081, 7082],\n",
       " 123: [7097, 7095],\n",
       " 124: [7231, 7235],\n",
       " 125: [7234, 7233],\n",
       " 126: [7265, 7267],\n",
       " 127: [11243, 7287],\n",
       " 128: [7357, 7355],\n",
       " 129: [7414, 7412],\n",
       " 130: [8723, 7436],\n",
       " 131: [7755, 9772],\n",
       " 132: [7815, 12088],\n",
       " 133: [7831, 18532],\n",
       " 134: [7832, 7835],\n",
       " 135: [7920, 8609],\n",
       " 136: [7935, 7934],\n",
       " 137: [11311, 7978],\n",
       " 138: [7988, 7987],\n",
       " 139: [7998, 13280],\n",
       " 140: [15860, 8041, 17136],\n",
       " 141: [9878, 8049],\n",
       " 142: [8052, 13336],\n",
       " 143: [8813, 8101],\n",
       " 144: [8195, 8191],\n",
       " 145: [8247, 16666],\n",
       " 146: [8291, 10322],\n",
       " 147: [15611, 8399],\n",
       " 148: [10273, 8561],\n",
       " 149: [8577, 9240],\n",
       " 150: [8578, 8579],\n",
       " 151: [8638, 8632],\n",
       " 152: [8689, 8690],\n",
       " 153: [8878, 8877],\n",
       " 154: [8924, 16109],\n",
       " 155: [9059, 9056],\n",
       " 156: [9161, 13102],\n",
       " 157: [16990, 16988, 9207],\n",
       " 158: [9224, 9221],\n",
       " 159: [16883, 9362],\n",
       " 160: [12605, 9438],\n",
       " 161: [9509, 14439],\n",
       " 162: [10327, 9628, 18690],\n",
       " 163: [9836, 10468],\n",
       " 164: [9882, 9883],\n",
       " 165: [9930, 9927],\n",
       " 166: [10032, 10033],\n",
       " 167: [10066, 10068],\n",
       " 168: [10109, 10108],\n",
       " 169: [10112, 10111],\n",
       " 170: [13687, 10163],\n",
       " 171: [10279, 10991],\n",
       " 172: [11287, 10519],\n",
       " 173: [19083, 13723, 10539],\n",
       " 174: [17248, 10540],\n",
       " 175: [10635, 10640],\n",
       " 176: [17516, 10685],\n",
       " 177: [10687, 10688],\n",
       " 178: [10994, 10995],\n",
       " 179: [11180, 11181],\n",
       " 180: [11194, 11195],\n",
       " 181: [17039, 11200],\n",
       " 182: [11316, 12289],\n",
       " 183: [11339, 11347],\n",
       " 184: [11492, 11493],\n",
       " 185: [11511, 11516],\n",
       " 186: [11695, 17062],\n",
       " 187: [11752, 11744],\n",
       " 188: [12188, 16301],\n",
       " 189: [12210, 12215],\n",
       " 190: [12262, 12973, 12972],\n",
       " 191: [12267, 12264],\n",
       " 192: [17833, 12337],\n",
       " 193: [18786, 12458],\n",
       " 194: [16718, 12628],\n",
       " 195: [12650, 13799],\n",
       " 196: [12762, 14035],\n",
       " 197: [17128, 12782],\n",
       " 198: [12890, 12891],\n",
       " 199: [13028, 13032],\n",
       " 200: [13207, 13206],\n",
       " 201: [13232, 13233],\n",
       " 202: [17658, 13250],\n",
       " 203: [13345, 17091],\n",
       " 204: [15614, 13497],\n",
       " 205: [17848, 13545],\n",
       " 206: [13598, 18293],\n",
       " 207: [13615, 16378],\n",
       " 208: [17333, 13737],\n",
       " 209: [13748, 13749],\n",
       " 210: [13770, 13771],\n",
       " 211: [13956, 13955],\n",
       " 212: [13959, 13958],\n",
       " 213: [14034, 14037],\n",
       " 214: [14130, 14128],\n",
       " 215: [15901, 14366],\n",
       " 216: [14433, 14435],\n",
       " 217: [14531, 17955],\n",
       " 218: [14546, 14543],\n",
       " 219: [14754, 14752],\n",
       " 220: [14791, 14788],\n",
       " 221: [15236, 15239],\n",
       " 222: [15275, 15277],\n",
       " 223: [15352, 15351],\n",
       " 224: [15468, 17914],\n",
       " 225: [15591, 15588],\n",
       " 226: [15596, 15603],\n",
       " 227: [18194, 15630],\n",
       " 228: [15747, 15748],\n",
       " 229: [15819, 15815],\n",
       " 230: [16609, 15948],\n",
       " 231: [18022, 15964],\n",
       " 232: [16014, 16017],\n",
       " 233: [16248, 16383],\n",
       " 234: [16448, 16447],\n",
       " 235: [16628, 16627],\n",
       " 236: [16745, 16747],\n",
       " 237: [16754, 17964],\n",
       " 238: [16929, 17635],\n",
       " 239: [17088, 17085],\n",
       " 240: [15860, 17136, 8041],\n",
       " 241: [17164, 17165],\n",
       " 242: [17228, 17227],\n",
       " 243: [17427, 17428],\n",
       " 244: [18124, 17432],\n",
       " 245: [17818, 8515, 5341],\n",
       " 246: [17947, 17948],\n",
       " 247: [17953, 17956],\n",
       " 248: [18099, 18098],\n",
       " 249: [18228, 18224],\n",
       " 250: [18274, 18275],\n",
       " 251: [18755, 18760],\n",
       " 252: [18794, 18792],\n",
       " 253: [18895, 18891]}"
      ]
     },
     "execution_count": 365,
     "metadata": {},
     "output_type": "execute_result"
    }
   ],
   "source": [
    "clusters"
   ]
  },
  {
   "cell_type": "code",
   "execution_count": 366,
   "metadata": {},
   "outputs": [],
   "source": [
    "new = result.copy()\n",
    "to_redraw = []\n",
    "\n",
    "for k, n in clusters.items():\n",
    "    small = nodes_geo.iloc[n]\n",
    "    coord = list(small.geometry)\n",
    "    \n",
    "    if (len(coord)<3):\n",
    "        l = geometry.LineString([[p.x, p.y] for p in coord])\n",
    "    else: \n",
    "        l = geometry.Polygon([[p.x, p.y] for p in coord])\n",
    "        \n",
    "    nodes_geo.loc[nodes_geo.index.values.max()+1] = (l.centroid.coords[0][0], #x\n",
    "                                                    l.centroid.coords[0][1], #y\n",
    "                                                    l.centroid)  #geometry\n",
    "    \n",
    "    to_redraw.extend(list(new.loc[new['u'].isin(n) | new['v'].isin(n)].index.values))\n",
    "    new.loc[new['u'].isin(n), 'u']= nodes_geo.index.values.max()\n",
    "    new.loc[new['v'].isin(n), 'v']= nodes_geo.index.values.max() \n",
    "        \n",
    "    #removing old_nodes\n",
    "    "
   ]
  },
  {
   "cell_type": "code",
   "execution_count": 380,
   "metadata": {},
   "outputs": [
    {
     "ename": "IndexError",
     "evalue": "index out of range",
     "output_type": "error",
     "traceback": [
      "\u001b[1;31m---------------------------------------------------------------------------\u001b[0m",
      "\u001b[1;31mIndexError\u001b[0m                                Traceback (most recent call last)",
      "\u001b[1;32m<ipython-input-380-00a0a3006105>\u001b[0m in \u001b[0;36m<module>\u001b[1;34m()\u001b[0m\n\u001b[1;32m----> 1\u001b[1;33m \u001b[0mnew\u001b[0m\u001b[1;33m.\u001b[0m\u001b[0mloc\u001b[0m\u001b[1;33m[\u001b[0m\u001b[1;36m0\u001b[0m\u001b[1;33m]\u001b[0m\u001b[1;33m.\u001b[0m\u001b[0mgeometry\u001b[0m\u001b[1;33m.\u001b[0m\u001b[0mcoords\u001b[0m\u001b[1;33m[\u001b[0m\u001b[1;36m3\u001b[0m\u001b[1;33m]\u001b[0m\u001b[1;33m\u001b[0m\u001b[0m\n\u001b[0m",
      "\u001b[1;32mC:\\Users\\gabri\\Anaconda3\\lib\\site-packages\\shapely\\coords.py\u001b[0m in \u001b[0;36m__getitem__\u001b[1;34m(self, key)\u001b[0m\n\u001b[0;32m     97\u001b[0m         \u001b[1;32mif\u001b[0m \u001b[0misinstance\u001b[0m\u001b[1;33m(\u001b[0m\u001b[0mkey\u001b[0m\u001b[1;33m,\u001b[0m \u001b[0mint\u001b[0m\u001b[1;33m)\u001b[0m\u001b[1;33m:\u001b[0m\u001b[1;33m\u001b[0m\u001b[0m\n\u001b[0;32m     98\u001b[0m             \u001b[1;32mif\u001b[0m \u001b[0mkey\u001b[0m \u001b[1;33m+\u001b[0m \u001b[0mm\u001b[0m \u001b[1;33m<\u001b[0m \u001b[1;36m0\u001b[0m \u001b[1;32mor\u001b[0m \u001b[0mkey\u001b[0m \u001b[1;33m>=\u001b[0m \u001b[0mm\u001b[0m\u001b[1;33m:\u001b[0m\u001b[1;33m\u001b[0m\u001b[0m\n\u001b[1;32m---> 99\u001b[1;33m                 \u001b[1;32mraise\u001b[0m \u001b[0mIndexError\u001b[0m\u001b[1;33m(\u001b[0m\u001b[1;34m\"index out of range\"\u001b[0m\u001b[1;33m)\u001b[0m\u001b[1;33m\u001b[0m\u001b[0m\n\u001b[0m\u001b[0;32m    100\u001b[0m             \u001b[1;32mif\u001b[0m \u001b[0mkey\u001b[0m \u001b[1;33m<\u001b[0m \u001b[1;36m0\u001b[0m\u001b[1;33m:\u001b[0m\u001b[1;33m\u001b[0m\u001b[0m\n\u001b[0;32m    101\u001b[0m                 \u001b[0mi\u001b[0m \u001b[1;33m=\u001b[0m \u001b[0mm\u001b[0m \u001b[1;33m+\u001b[0m \u001b[0mkey\u001b[0m\u001b[1;33m\u001b[0m\u001b[0m\n",
      "\u001b[1;31mIndexError\u001b[0m: index out of range"
     ]
    }
   ],
   "source": [
    "new.loc[0].geometry.coords[3]"
   ]
  },
  {
   "cell_type": "code",
   "execution_count": 368,
   "metadata": {},
   "outputs": [],
   "source": [
    "new = new.loc[new['u'] != new['v']]\n",
    "check = [x for x in to_redraw if x in list(new.index.values)]"
   ]
  },
  {
   "cell_type": "code",
   "execution_count": 369,
   "metadata": {},
   "outputs": [
    {
     "name": "stderr",
     "output_type": "stream",
     "text": [
      "C:\\Users\\gabri\\Anaconda3\\lib\\site-packages\\pandas\\core\\indexing.py:179: SettingWithCopyWarning: \n",
      "A value is trying to be set on a copy of a slice from a DataFrame\n",
      "\n",
      "See the caveats in the documentation: http://pandas.pydata.org/pandas-docs/stable/indexing.html#indexing-view-versus-copy\n",
      "  self._setitem_with_indexer(indexer, value)\n"
     ]
    }
   ],
   "source": [
    "for i in new.loc[check].itertuples():\n",
    "    new['geometry'].loc[i[0]] = LineString([(nodes_geo['x'].loc[i[5]], nodes_geo['y'].loc[i[5]]),\n",
    "                                              (nodes_geo['x'].loc[i[6]], nodes_geo['y'].loc[i[6]])])"
   ]
  },
  {
   "cell_type": "code",
   "execution_count": 373,
   "metadata": {},
   "outputs": [
    {
     "data": {
      "text/plain": [
       "x                                           450746.3896\n",
       "y                                            150128.957\n",
       "geometry    POINT (450746.3896290048 150128.9569718847)\n",
       "Name: 11795, dtype: object"
      ]
     },
     "execution_count": 373,
     "metadata": {},
     "output_type": "execute_result"
    }
   ],
   "source": [
    "nodes_geo.loc[i[6]]"
   ]
  },
  {
   "cell_type": "code",
   "execution_count": 370,
   "metadata": {
    "collapsed": true
   },
   "outputs": [],
   "source": [
    "new.to_file('Outputs/new.shp', driver='ESRI Shapefile')"
   ]
  }
 ],
 "metadata": {
  "kernelspec": {
   "display_name": "Python 3",
   "language": "python",
   "name": "python3"
  },
  "language_info": {
   "codemirror_mode": {
    "name": "ipython",
    "version": 3
   },
   "file_extension": ".py",
   "mimetype": "text/x-python",
   "name": "python",
   "nbconvert_exporter": "python",
   "pygments_lexer": "ipython3",
   "version": "3.6.1"
  }
 },
 "nbformat": 4,
 "nbformat_minor": 2
}
