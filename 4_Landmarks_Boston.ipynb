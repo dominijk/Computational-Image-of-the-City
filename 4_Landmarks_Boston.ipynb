{
 "cells": [
  {
   "cell_type": "code",
   "execution_count": 1,
   "metadata": {},
   "outputs": [],
   "source": [
    "import osmnx as ox, networkx as nx, matplotlib.cm as cm, pandas as pd, numpy as np\n",
    "import matplotlib.pyplot as plt\n",
    "%matplotlib inline\n",
    "import geopandas as gpd\n",
    "import pandas as pd\n",
    "import functools\n",
    "\n",
    "from scipy import sparse\n",
    "from scipy.sparse import linalg\n",
    "import time\n",
    "from shapely.geometry import Point, LineString, Polygon, MultiPolygon, mapping\n",
    "from math import sqrt\n",
    "\n",
    "from shapely.ops import cascaded_union\n",
    "pd.set_option('precision', 5)\n",
    "pd.options.display.float_format = '{:20.2f}'.format\n",
    "pd.set_option('display.float_format', lambda x: '%.3f' % x)"
   ]
  },
  {
   "cell_type": "code",
   "execution_count": 2,
   "metadata": {},
   "outputs": [],
   "source": [
    "import image_city_functions as ic"
   ]
  },
  {
   "cell_type": "code",
   "execution_count": 3,
   "metadata": {},
   "outputs": [],
   "source": [
    "# initialise path, names, etc.\n",
    "\n",
    "city_name = 'London'\n",
    "folder_ouptut ='Outputs/'+city_name+'/'\n",
    "epsg = 27700\n",
    "crs = {'init': 'epsg:27700', 'no_defs': True}"
   ]
  },
  {
   "cell_type": "code",
   "execution_count": 4,
   "metadata": {},
   "outputs": [],
   "source": [
    "## Boston\n",
    "\n",
    "# tmp = gpd.read_file('C:/Users/g_filo01/sciebo/Scripts/Tools/Outputs/bh_2002_26986.shp').to_crs(epsg=26986)\n",
    "# buffer = gpd.read_file('C:/Users/g_filo01/sciebo/GIS Data/Boston/buffer_4000.shp').to_crs(epsg=26986)\n",
    "# buildings_clip.to_file(driver='ESRI Shapefile',filename=\"Outputs/tmp/buildings_sight.shp\")\n",
    "# buildings = tmp[tmp.geometry.within(buffer.geometry.loc[0])]"
   ]
  },
  {
   "cell_type": "code",
   "execution_count": 5,
   "metadata": {},
   "outputs": [],
   "source": [
    "## London\n",
    "buildings = gpd.read_file(\"C:/Users/g_filo01/sciebo/GIS Data/London/Buildings/London_buildingsBase.shp\")\n",
    "obstructions = gpd.read_file(\"Outputs/tmp/\"+city_name+\"_obstructions.shp\")"
   ]
  },
  {
   "cell_type": "code",
   "execution_count": null,
   "metadata": {},
   "outputs": [],
   "source": [
    "all_buildings = gpd.read_file()\n",
    "polygon_w = gpd.read_file()\n",
    "\n",
    "buildings, obstructions = ic.select_buildings()\n",
    "# all buildings in 4 km buffer to use as obstacles in ArcScene and for some analyis in this notebook\n",
    "obstructions.to_file(driver='ESRI Shapefile', filename= \"Outputs/tmp/\"+city_name+\"_obstructions.shp\")"
   ]
  },
  {
   "cell_type": "code",
   "execution_count": null,
   "metadata": {},
   "outputs": [],
   "source": [
    "# to simplify \n",
    "# when a building is divided in several polygons import in QGIS --> dissolve, single to multipart, join attributes by location\n",
    "# buildings.to_file(driver='ESRI Shapefile',filename=\"Outputs/tmp/building_to_dissolve.shp\")\n",
    "# load shapefile again\n",
    "# buildings = gpd.read_file('C:/Users/g_filo01/sciebo/GIS Data/Boston/Buildings/bh_26986_simplified.shp').to_crs(epsg=26986)"
   ]
  },
  {
   "cell_type": "markdown",
   "metadata": {},
   "source": [
    "## Structural Properties"
   ]
  },
  {
   "cell_type": "code",
   "execution_count": 6,
   "metadata": {},
   "outputs": [
    {
     "name": "stdout",
     "output_type": "stream",
     "text": [
      "Wall time: 2min 41s\n"
     ]
    }
   ],
   "source": [
    "%%time\n",
    "\n",
    "streets = gpd.read_file(\"Outputs/\"+city_name+\"/\"+city_name+\"_paths.shp\")\n",
    "buildings = ic.structural_properties(buildings, obstructions, streets)"
   ]
  },
  {
   "cell_type": "markdown",
   "metadata": {},
   "source": [
    "## Prominence"
   ]
  },
  {
   "cell_type": "markdown",
   "metadata": {},
   "source": [
    "# Landuse"
   ]
  },
  {
   "cell_type": "code",
   "execution_count": null,
   "metadata": {},
   "outputs": [],
   "source": [
    "# to be performed on the larger set of buildings\n",
    "buildings['land_use'] = 'NaN'"
   ]
  },
  {
   "cell_type": "markdown",
   "metadata": {},
   "source": [
    "## Parcels "
   ]
  },
  {
   "cell_type": "code",
   "execution_count": null,
   "metadata": {},
   "outputs": [],
   "source": [
    "# loading official data\n",
    "\n",
    "directory_lu = 'C:/Users/g_filo01/sciebo/GIS Data/Boston/Buildings/Data_sources/Parcels_2016/parcels.shp'\n",
    "lu = (gpd.read_file(directory_lu).to_crs(epsg=epsg))"
   ]
  },
  {
   "cell_type": "code",
   "execution_count": null,
   "metadata": {},
   "outputs": [],
   "source": [
    "parcels = parcels[['geometry', 'LU']]\n",
    "list(parcels['LU'].unique())"
   ]
  },
  {
   "cell_type": "code",
   "execution_count": null,
   "metadata": {},
   "outputs": [],
   "source": [
    "residential = ['Residential Three Family', 'Residential Two Family', 'Residential Single Family',\n",
    "               'Apartments 4-6 Units', 'Apartments 7 Units above', 'Residential Land', 'Residential Condo Unit',\n",
    "                 'Condominium Master', 'Mixed Use Res/Comm']\n",
    "               \n",
    "commercial = ['Commercial Land','Commercial Condo Unit','Commercial']\n",
    "agricultural = ['Agricultural/Horticultural']\n",
    "              \n",
    "industrial = ['Industrial']\n",
    "drop = ['Condominium Parking', 'Exempt 121A', 'XX', 'Exempt']"
   ]
  },
  {
   "cell_type": "code",
   "execution_count": null,
   "metadata": {},
   "outputs": [],
   "source": [
    "parcels = parcels[~parcels['LU'].isin(drop)]"
   ]
  },
  {
   "cell_type": "code",
   "execution_count": null,
   "metadata": {},
   "outputs": [],
   "source": [
    "parcels['LU'] = parcels['LU'].map( lambda x: 'residential' if x in residential\n",
    "                                                          else 'commercial' if x in commercial\n",
    "                                                          else 'residential' if x in residential\n",
    "                                                          else 'industrial' if x in industrial\n",
    "                                                          else 'agricultural'if x in agricultural \n",
    "                                                          else x)"
   ]
  },
  {
   "cell_type": "code",
   "execution_count": null,
   "metadata": {},
   "outputs": [],
   "source": [
    "parcels['nr'] = 1"
   ]
  },
  {
   "cell_type": "code",
   "execution_count": null,
   "metadata": {},
   "outputs": [],
   "source": [
    "%%time\n",
    "\n",
    "sindex = parcels.sindex\n",
    "\n",
    "for row in buildings.itertuples():\n",
    "    \n",
    "    g = row[2] #geometry\n",
    "    possible_matches_index = list(sindex.intersection(g.bounds))\n",
    "    possible_matches = parcels.iloc[possible_matches_index]\n",
    "    precise_matches = possible_matches[possible_matches.intersects(g)]\n",
    "        \n",
    "    if (len(precise_matches)==0): continue\n",
    "    \n",
    "    else:\n",
    "        \n",
    "        land_use = precise_matches.groupby(['LU'],as_index=False)['nr'].sum().sort_values(by='nr',\n",
    "                                    ascending=False).reset_index()\n",
    "        main_use = land_use['LU'].loc[0]\n",
    "        buildings.set_value(row[0], 'land_use', main_use)"
   ]
  },
  {
   "cell_type": "markdown",
   "metadata": {},
   "source": [
    "## OpenStreetMap POI"
   ]
  },
  {
   "cell_type": "code",
   "execution_count": null,
   "metadata": {},
   "outputs": [],
   "source": [
    "#land use from OSM POI\n",
    "\n",
    "POI = gpd.read_file('Outputs/Boston/POI_boston.shp').to_crs(epsg=26986)\n",
    "POI.head()"
   ]
  },
  {
   "cell_type": "code",
   "execution_count": null,
   "metadata": {},
   "outputs": [],
   "source": [
    "list(POI['type'].unique())"
   ]
  },
  {
   "cell_type": "code",
   "execution_count": null,
   "metadata": {},
   "outputs": [],
   "source": [
    "\n",
    "\n"
   ]
  },
  {
   "cell_type": "code",
   "execution_count": null,
   "metadata": {},
   "outputs": [],
   "source": [
    "university = ['university', 'college', 'research']\n",
    "commercial = ['bank', 'service',  'commercial',  'retail',  'pharmacy', 'commercial;educa', 'shop', 'Commercial',\n",
    "                       'supermarket', 'offices', 'foundation', 'office']\n",
    "residential = [ 'apartments']\n",
    "attractions = ['museum',  'castle', 'cathedral', 'attraction','aquarium', 'monument',  'gatehouse',  'terrace']\n",
    "manufacturing = []\n",
    "hospitality = [ 'hotel',  'hostel', 'guest_house']\n",
    "eating_drinking = [ 'restaurant', 'fast_food', 'cafe', 'bar',  'pub']\n",
    "public = ['post_office', 'townhall', 'public_building',  'library','civic', 'courthouse','public',  'embassy']\n",
    "library = ['library']\n",
    "sport = ['stadium']\n",
    "entertainment = [ 'exhibition_centr','theatre', 'cinema']\n",
    "education = ['school', 'kindergarten']\n",
    "religious = ['church', 'place_of_worship','convent', 'rectory']\n",
    "emergency_service = [ 'fire_station','police']\n",
    "transport = [ 'station', 'train_station']\n",
    "medical_care = ['hospital', 'doctors', 'dentist','clinic','veterinary']\n",
    "industrial = [ 'industrial', 'factory', 'construction']\n",
    "cultural = [ 'club_house','gallery', 'arts_centre']\n",
    "military = ['general aviation']\n",
    "\n",
    "drop = ['subway_entrance', 'dormitory', 'roof', 'garage', 'storage_tank', 'shed', 'silo',  'parking',  'toilets','bus_station',\n",
    "  'picnic_site','hut', 'information',  'viewpoint', 'atm', 'building', 'books',  'tower',  'terrace',  'canopy', 'smokestack',  \n",
    " 'greenhouse', 'fuel']"
   ]
  },
  {
   "cell_type": "code",
   "execution_count": null,
   "metadata": {},
   "outputs": [],
   "source": [
    "POI = POI[~POI['type'].isin(drop)]"
   ]
  },
  {
   "cell_type": "code",
   "execution_count": null,
   "metadata": {},
   "outputs": [],
   "source": [
    "POI['type'] = POI['type'].map( lambda x: 'university' if x in university\n",
    "                                                          else 'commercial' if x in commercial\n",
    "                                                          else 'residential' if x in residential\n",
    "                                                          else 'attractions' if x in attractions\n",
    "                                                          else 'library' if x in library\n",
    "                                                          else 'manufacturing' if x in manufacturing\n",
    "                                                          else 'hospitality' if x in hospitality\n",
    "                                                          else 'eating_drinking' if x in eating_drinking\n",
    "                                                          else 'public' if x in public\n",
    "                                                          else 'sport' if x in sport\n",
    "                                                          else 'entertainment' if x in entertainment\n",
    "                                                          else 'education' if x in education\n",
    "                                                          else 'religious' if x in religious\n",
    "                                                          else 'emergency_service' if x in emergency_service\n",
    "                                                          else 'industrial' if x in industrial\n",
    "                                                          else 'cultural' if x in cultural\n",
    "                                                          else 'transport' if x in transport\n",
    "                                                          else 'medical_care' if x in medical_care\n",
    "                                                          else 'military' if x in military\n",
    "                                                          else x)"
   ]
  },
  {
   "cell_type": "code",
   "execution_count": null,
   "metadata": {},
   "outputs": [],
   "source": [
    "POI['nr'] = 1"
   ]
  },
  {
   "cell_type": "code",
   "execution_count": null,
   "metadata": {},
   "outputs": [],
   "source": [
    "%%time\n",
    "\n",
    "sindex = POI.sindex\n",
    "\n",
    "for row in buildings.itertuples():\n",
    "    g = row[2] #geometry\n",
    "    \n",
    "    possible_matches_index = list(sindex.intersection(g.bounds))\n",
    "    possible_matches = POI.iloc[possible_matches_index]\n",
    "    precise_matches = possible_matches[possible_matches.intersects(g)]\n",
    "    \n",
    "    \n",
    "    if (len(precise_matches)==0): continue\n",
    "    else:\n",
    "        land_use = possible_matches.groupby(['type'],as_index=False)['nr'].sum().sort_values(by='nr',\n",
    "                                    ascending=False).reset_index()\n",
    "        main_use = land_use['type'].loc[0]\n",
    "        buildings.set_value(row[0], 'land_use', main_use)"
   ]
  },
  {
   "cell_type": "markdown",
   "metadata": {},
   "source": [
    "## Other data from Boston"
   ]
  },
  {
   "cell_type": "code",
   "execution_count": null,
   "metadata": {},
   "outputs": [],
   "source": [
    "# libraries and schools\n",
    "\n",
    "schools = (gpd.read_file('C:/Users/g_filo01/sciebo/GIS Data/Boston/Buildings/Data_sources/other/schools.shp'\n",
    "                        ).to_crs(epsg=26986))\n",
    "\n",
    "universities = (gpd.read_file('C:/Users/g_filo01/sciebo/GIS Data/Boston/Buildings/Data_sources/other/universities.shp'\n",
    "                        ).to_crs(epsg=26986))\n",
    "\n",
    "p_schools = (gpd.read_file('C:/Users/g_filo01/sciebo/GIS Data/Boston/Buildings/Data_sources/other/private_schools.shp'\n",
    "                        ).to_crs(epsg=26986))\n",
    "\n",
    "libraries = (gpd.read_file('C:/Users/g_filo01/sciebo/GIS Data/Boston/Buildings/Data_sources/other/libraries.shp'\n",
    "                        ).to_crs(epsg=26986))\n",
    "\n",
    "pools = (gpd.read_file('C:/Users/g_filo01/sciebo/GIS Data/Boston/Buildings/Data_sources/other/pools.shp'\n",
    "                        ).to_crs(epsg=26986))\n",
    "\n",
    "police = (gpd.read_file('C:/Users/g_filo01/sciebo/GIS Data/Boston/Buildings/Data_sources/other/police_stations.shp'\n",
    "                        ).to_crs(epsg=26986))"
   ]
  },
  {
   "cell_type": "code",
   "execution_count": null,
   "metadata": {},
   "outputs": [],
   "source": [
    "%%time\n",
    "\n",
    "df_list = [schools, p_schools, libraries, universities, pools, police]\n",
    "classification = ['education','education', 'library', 'university','sport', 'emergence_service']\n",
    "\n",
    "for i, t in enumerate(df_list):\n",
    "    sindex = t.sindex\n",
    "\n",
    "    for row in buildings.itertuples():\n",
    "        g = row[2] #geometry\n",
    "    \n",
    "        possible_matches_index = list(sindex.intersection(g.bounds))\n",
    "        possible_matches = t.iloc[possible_matches_index]\n",
    "        precise_matches = possible_matches[possible_matches.intersects(g)]\n",
    "        \n",
    "        if (len(precise_matches)==0): continue\n",
    "        else:\n",
    "\n",
    "            buildings.set_value(row[0], 'land_use', classification[i])"
   ]
  },
  {
   "cell_type": "code",
   "execution_count": null,
   "metadata": {},
   "outputs": [],
   "source": [
    "buildings.land_use.fillna('residential', inplace=True)"
   ]
  },
  {
   "cell_type": "code",
   "execution_count": null,
   "metadata": {},
   "outputs": [],
   "source": [
    "# buildings['land_use'].astype(object).fillna('residential', inplace=True)\n",
    "buildings['land_use'].replace(to_replace='NaN', value='residential', inplace=True)\n",
    "buildings.tail(10)"
   ]
  },
  {
   "cell_type": "code",
   "execution_count": null,
   "metadata": {},
   "outputs": [],
   "source": [
    "buildings['land_use'].isnull().values.any()"
   ]
  },
  {
   "cell_type": "code",
   "execution_count": null,
   "metadata": {},
   "outputs": [],
   "source": [
    "%%time\n",
    "\n",
    "buildings['nr']=1\n",
    "sindex = buildings.sindex\n",
    "buildings['pragmatic_meaning']= 0.0\n",
    "\n",
    "for row in buildings.itertuples():\n",
    "    g = row[2] #geometry\n",
    "    b = g.buffer(200)\n",
    "    use = row[5]\n",
    "    \n",
    "    possible_matches_index = list(sindex.intersection(b.bounds))\n",
    "    possible_matches = buildings.iloc[possible_matches_index]\n",
    "#     precise_matches = buildings[buildings.intersects(g)]\n",
    "        \n",
    "    neigh = possible_matches.groupby(['land_use'], as_index=True)['nr'].sum()\n",
    "    Nj = neigh.loc[use]\n",
    "    #Pj = Nj/N\n",
    "    \n",
    "    Pj = 1-(Nj/possible_matches['nr'].sum())\n",
    "    buildings.set_value(row[0], 'pragmatic_meaning', Pj)"
   ]
  },
  {
   "cell_type": "code",
   "execution_count": null,
   "metadata": {},
   "outputs": [],
   "source": [
    "buildings.tail()"
   ]
  },
  {
   "cell_type": "code",
   "execution_count": null,
   "metadata": {},
   "outputs": [],
   "source": [
    "buildings_clip = pd.merge(buildings_clip, buildings[['BUILD_ID','pragmatic_meaning']], on='BUILD_ID', how='left')"
   ]
  },
  {
   "cell_type": "code",
   "execution_count": null,
   "metadata": {},
   "outputs": [],
   "source": [
    "buildings_clip.head()"
   ]
  },
  {
   "cell_type": "markdown",
   "metadata": {},
   "source": [
    "# Cultural importance"
   ]
  },
  {
   "cell_type": "code",
   "execution_count": null,
   "metadata": {},
   "outputs": [],
   "source": [
    "#load historical polygons\n",
    "\n",
    "historic = (gpd.read_file('C:/Users/g_filo01/sciebo/GIS Data/Boston/Buildings/Data_sources/other/historic_landmarks.shp')).to_crs(epsg=26986)"
   ]
  },
  {
   "cell_type": "code",
   "execution_count": null,
   "metadata": {},
   "outputs": [],
   "source": [
    "# historic = historic.dropna(subset=['geometry'])\n",
    "# historic = historic.to_crs(epsg=26986)"
   ]
  },
  {
   "cell_type": "code",
   "execution_count": null,
   "metadata": {},
   "outputs": [],
   "source": [
    "%%time\n",
    "\n",
    "sindex = historic.sindex \n",
    "buildings_clip['cultural_meaning'] = 0\n",
    "\n",
    "for row in buildings_clip.itertuples():\n",
    "    g = row[2] #geometry\n",
    "    possible_matches_index = list(sindex.intersection(g.bounds))\n",
    "    possible_matches = historic.iloc[possible_matches_index]\n",
    "    precise_matches = possible_matches[possible_matches.intersects(g)]\n",
    "        \n",
    "    if (len(precise_matches)==0): continue\n",
    "    else: cm = precise_matches.groupby([score], as_index=True)['nr'].sum()\n",
    "\n",
    "        buildings_clip.set_value(row[0], 'cultural_meaning', cm)"
   ]
  },
  {
   "cell_type": "markdown",
   "metadata": {},
   "source": [
    "# Visibility "
   ]
  },
  {
   "cell_type": "code",
   "execution_count": null,
   "metadata": {},
   "outputs": [],
   "source": []
  },
  {
   "cell_type": "code",
   "execution_count": null,
   "metadata": {},
   "outputs": [],
   "source": []
  },
  {
   "cell_type": "code",
   "execution_count": null,
   "metadata": {},
   "outputs": [],
   "source": [
    "col = ['area', 'extension', 'facade_area', 'height', 'pragmatic_meaning', 'prominence','cultural_meaning', 'visibility']\n",
    "\n",
    "for i in col:\n",
    "       tmp[i+\"_scaled\"] = (tmp[i]-tmp[i].min())/(tmp[i].max()-tmp[i].min())"
   ]
  },
  {
   "cell_type": "code",
   "execution_count": null,
   "metadata": {},
   "outputs": [],
   "source": []
  },
  {
   "cell_type": "code",
   "execution_count": null,
   "metadata": {},
   "outputs": [],
   "source": []
  },
  {
   "cell_type": "code",
   "execution_count": null,
   "metadata": {},
   "outputs": [],
   "source": []
  },
  {
   "cell_type": "code",
   "execution_count": null,
   "metadata": {},
   "outputs": [],
   "source": []
  },
  {
   "cell_type": "code",
   "execution_count": null,
   "metadata": {},
   "outputs": [],
   "source": [
    "col = ['neighbours', 'distance_road']\n",
    "\n",
    "for i in col:\n",
    "       tmp[i+\"_scaled\"] = 1-(tmp[i]-tmp[i].min())/(tmp[i].max()-tmp[i].min())"
   ]
  },
  {
   "cell_type": "code",
   "execution_count": null,
   "metadata": {},
   "outputs": [],
   "source": [
    "tmp_scaled = tmp[['BUILD_ID','geometry','area_scaled','extension_scaled','facade_area_scaled',\n",
    "                 'height_scaled','prominence_scaled','cultural_meaning_scaled',\n",
    "                 'neighbours_scaled','distance_road_scaled','pragmatic_meaning_scaled', 'visibility_scaled']].copy()"
   ]
  },
  {
   "cell_type": "code",
   "execution_count": null,
   "metadata": {},
   "outputs": [],
   "source": [
    "tmp_scaled['visual']=(tmp_scaled['facade_area_scaled']*30+tmp_scaled['height_scaled']*20\n",
    "                      +tmp_scaled['visibility_scaled']*50)/100"
   ]
  },
  {
   "cell_type": "code",
   "execution_count": null,
   "metadata": {},
   "outputs": [],
   "source": [
    "tmp_scaled['structural']=(tmp_scaled['extension_scaled']*30+tmp_scaled['neighbours_scaled']*20+\n",
    "                   tmp_scaled['prominence_scaled']*30+tmp_scaled['distance_road_scaled']*20)/100"
   ]
  },
  {
   "cell_type": "code",
   "execution_count": null,
   "metadata": {},
   "outputs": [],
   "source": [
    "col = ['visual', 'structural']\n",
    "\n",
    "for i in col:\n",
    "       tmp_scaled[i+\"_scaled\"] = (tmp_scaled[i]-tmp_scaled[i].min())/(tmp_scaled[i].max()-tmp_scaled[i].min())"
   ]
  },
  {
   "cell_type": "code",
   "execution_count": null,
   "metadata": {},
   "outputs": [],
   "source": [
    "weights = tmp_scaled[['BUILD_ID','geometry','visual_scaled','structural_scaled',\n",
    "                      'cultural_meaning_scaled', 'pragmatic_meaning_scaled']].copy()"
   ]
  },
  {
   "cell_type": "code",
   "execution_count": null,
   "metadata": {},
   "outputs": [],
   "source": [
    "weights.crs"
   ]
  },
  {
   "cell_type": "code",
   "execution_count": null,
   "metadata": {},
   "outputs": [],
   "source": [
    "weights['score']=(weights['visual_scaled']*50+weights['structural_scaled']*30+weights['cultural_meaning_scaled']*10+\n",
    "                  weights['pragmatic_meaning_scaled']*10)/100"
   ]
  },
  {
   "cell_type": "code",
   "execution_count": null,
   "metadata": {},
   "outputs": [],
   "source": [
    "weights['score_scaled']=(weights['score']-weights['score'].min())/(weights['score'].max()-weights['score'].min())"
   ]
  },
  {
   "cell_type": "code",
   "execution_count": null,
   "metadata": {},
   "outputs": [],
   "source": [
    "weights.rename(columns={'visual_scaled': 'visual',\n",
    "                        'structural_scaled':'structural',\n",
    "                        'cultural_meaning_scaled': 'cultural',\n",
    "                        'pragmatic_meaning_scaled':'pragmatic'}, inplace=True)"
   ]
  },
  {
   "cell_type": "code",
   "execution_count": null,
   "metadata": {},
   "outputs": [],
   "source": [
    "weights.head(10)"
   ]
  },
  {
   "cell_type": "code",
   "execution_count": null,
   "metadata": {},
   "outputs": [],
   "source": [
    "weights.to_file(driver='ESRI Shapefile',filename=\"Outputs/Boston/boston_landmark_scores.shp\")"
   ]
  }
 ],
 "metadata": {
  "kernelspec": {
   "display_name": "Python 3",
   "language": "python",
   "name": "python3"
  },
  "language_info": {
   "codemirror_mode": {
    "name": "ipython",
    "version": 3
   },
   "file_extension": ".py",
   "mimetype": "text/x-python",
   "name": "python",
   "nbconvert_exporter": "python",
   "pygments_lexer": "ipython3",
   "version": "3.6.3"
  }
 },
 "nbformat": 4,
 "nbformat_minor": 2
}
