{
 "cells": [
  {
   "cell_type": "code",
   "execution_count": 2,
   "metadata": {
    "collapsed": true
   },
   "outputs": [],
   "source": [
    "import osmnx as ox, networkx as nx, matplotlib.cm as cm, pandas as pd, numpy as np\n",
    "import matplotlib.pyplot as plt\n",
    "%matplotlib inline\n",
    "import geopandas as gpd\n",
    "import functools\n",
    "import community\n",
    "\n",
    "from scipy import sparse\n",
    "from scipy.sparse import linalg\n",
    "import time\n",
    "from shapely.geometry import Point, LineString, Polygon, MultiPolygon, mapping\n",
    "from math import sqrt\n",
    "import pandas as pd\n",
    "from shapely.ops import cascaded_union\n",
    "pd.set_option('precision', 10)"
   ]
  },
  {
   "cell_type": "code",
   "execution_count": null,
   "metadata": {
    "collapsed": true
   },
   "outputs": [],
   "source": []
  },
  {
   "cell_type": "code",
   "execution_count": 7,
   "metadata": {
    "collapsed": true
   },
   "outputs": [],
   "source": [
    "POI = gpd.read_file('C:/Users/gabri/sciebo/GIS Data/Boston_OSM')"
   ]
  },
  {
   "cell_type": "code",
   "execution_count": 13,
   "metadata": {},
   "outputs": [
    {
     "data": {
      "text/html": [
       "<div>\n",
       "<style>\n",
       "    .dataframe thead tr:only-child th {\n",
       "        text-align: right;\n",
       "    }\n",
       "\n",
       "    .dataframe thead th {\n",
       "        text-align: left;\n",
       "    }\n",
       "\n",
       "    .dataframe tbody tr th {\n",
       "        vertical-align: top;\n",
       "    }\n",
       "</style>\n",
       "<table border=\"1\" class=\"dataframe\">\n",
       "  <thead>\n",
       "    <tr style=\"text-align: right;\">\n",
       "      <th></th>\n",
       "      <th>osm_id</th>\n",
       "      <th>name</th>\n",
       "      <th>type</th>\n",
       "      <th>geometry</th>\n",
       "    </tr>\n",
       "  </thead>\n",
       "  <tbody>\n",
       "    <tr>\n",
       "      <th>0</th>\n",
       "      <td>17660188</td>\n",
       "      <td>46</td>\n",
       "      <td>university</td>\n",
       "      <td>POLYGON ((-71.0918336 42.3626834, -71.0906942 ...</td>\n",
       "    </tr>\n",
       "    <tr>\n",
       "      <th>1</th>\n",
       "      <td>24493980</td>\n",
       "      <td>18 Camille Edouard Dreyfus Building</td>\n",
       "      <td>university</td>\n",
       "      <td>POLYGON ((-71.0901391 42.3603804, -71.0897956 ...</td>\n",
       "    </tr>\n",
       "    <tr>\n",
       "      <th>2</th>\n",
       "      <td>24493983</td>\n",
       "      <td>54 Green Building</td>\n",
       "      <td>university</td>\n",
       "      <td>POLYGON ((-71.08956329999999 42.3603152, -71.0...</td>\n",
       "    </tr>\n",
       "    <tr>\n",
       "      <th>3</th>\n",
       "      <td>24494019</td>\n",
       "      <td>Stratton Student Center</td>\n",
       "      <td>university</td>\n",
       "      <td>POLYGON ((-71.0953289 42.3590857, -71.0944374 ...</td>\n",
       "    </tr>\n",
       "    <tr>\n",
       "      <th>4</th>\n",
       "      <td>24494029</td>\n",
       "      <td>Kresge Auditorium</td>\n",
       "      <td>university</td>\n",
       "      <td>POLYGON ((-71.09502860000001 42.3583942, -71.0...</td>\n",
       "    </tr>\n",
       "  </tbody>\n",
       "</table>\n",
       "</div>"
      ],
      "text/plain": [
       "     osm_id                                 name        type  \\\n",
       "0  17660188                                   46  university   \n",
       "1  24493980  18 Camille Edouard Dreyfus Building  university   \n",
       "2  24493983                    54 Green Building  university   \n",
       "3  24494019              Stratton Student Center  university   \n",
       "4  24494029                    Kresge Auditorium  university   \n",
       "\n",
       "                                            geometry  \n",
       "0  POLYGON ((-71.0918336 42.3626834, -71.0906942 ...  \n",
       "1  POLYGON ((-71.0901391 42.3603804, -71.0897956 ...  \n",
       "2  POLYGON ((-71.08956329999999 42.3603152, -71.0...  \n",
       "3  POLYGON ((-71.0953289 42.3590857, -71.0944374 ...  \n",
       "4  POLYGON ((-71.09502860000001 42.3583942, -71.0...  "
      ]
     },
     "execution_count": 13,
     "metadata": {},
     "output_type": "execute_result"
    }
   ],
   "source": [
    "POI.head()"
   ]
  },
  {
   "cell_type": "code",
   "execution_count": 22,
   "metadata": {},
   "outputs": [
    {
     "data": {
      "text/plain": [
       "['university',\n",
       " 'service',\n",
       " 'subway_entrance',\n",
       " 'dormitory',\n",
       " 'stadium',\n",
       " 'museum',\n",
       " 'club_house',\n",
       " 'hotel',\n",
       " 'apartments',\n",
       " 'school',\n",
       " 'library',\n",
       " 'hospital',\n",
       " 'place_of_worship',\n",
       " 'civic',\n",
       " 'fire_station',\n",
       " 'castle',\n",
       " 'restaurant',\n",
       " 'doctors',\n",
       " 'bank',\n",
       " 'courthouse',\n",
       " 'commercial',\n",
       " 'station',\n",
       " 'garage',\n",
       " 'retail',\n",
       " 'roof',\n",
       " 'industrial',\n",
       " 'church',\n",
       " 'storage_tank',\n",
       " 'gallery',\n",
       " 'parking',\n",
       " 'fast_food',\n",
       " 'theatre',\n",
       " 'public_building',\n",
       " 'office',\n",
       " 'attraction',\n",
       " 'pharmacy',\n",
       " 'cafe',\n",
       " 'cathedral',\n",
       " 'post_office',\n",
       " 'silo',\n",
       " 'guest_house',\n",
       " 'public',\n",
       " 'fuel',\n",
       " 'shed',\n",
       " 'construction',\n",
       " 'dentist',\n",
       " 'bar',\n",
       " 'college',\n",
       " 'aquarium',\n",
       " 'toilets',\n",
       " 'foundation',\n",
       " 'research',\n",
       " 'pub',\n",
       " 'townhall',\n",
       " 'commercial;educa',\n",
       " 'convent',\n",
       " 'bus_station',\n",
       " 'Commercial',\n",
       " 'clinic',\n",
       " 'picnic_site',\n",
       " 'hut',\n",
       " 'police',\n",
       " 'factory',\n",
       " 'monument',\n",
       " 'shop',\n",
       " 'cinema',\n",
       " 'hostel',\n",
       " 'supermarket',\n",
       " 'veterinary',\n",
       " 'rectory',\n",
       " 'information',\n",
       " 'exhibition_centr',\n",
       " 'kindergarten',\n",
       " 'smokestack',\n",
       " 'train_station',\n",
       " 'greenhouse',\n",
       " 'general aviation',\n",
       " 'viewpoint',\n",
       " 'atm',\n",
       " 'building',\n",
       " 'books',\n",
       " 'gatehouse',\n",
       " 'canopy',\n",
       " 'embassy',\n",
       " 'terrace',\n",
       " 'tower',\n",
       " 'arts_centre']"
      ]
     },
     "execution_count": 22,
     "metadata": {},
     "output_type": "execute_result"
    }
   ],
   "source": [
    "list(POI['type'].unique())"
   ]
  },
  {
   "cell_type": "code",
   "execution_count": 9,
   "metadata": {
    "collapsed": true
   },
   "outputs": [],
   "source": [
    "rem = ['r','chimney','yes','bridge','shelter','Yes','','residential','house']"
   ]
  },
  {
   "cell_type": "code",
   "execution_count": 21,
   "metadata": {
    "collapsed": true
   },
   "outputs": [],
   "source": [
    "for i in rem: POI = POI[POI['type'] != i]"
   ]
  },
  {
   "cell_type": "code",
   "execution_count": 19,
   "metadata": {
    "collapsed": true
   },
   "outputs": [],
   "source": [
    "POI = POI.to_crs(epsg=2806) #Boston, MA"
   ]
  },
  {
   "cell_type": "code",
   "execution_count": 25,
   "metadata": {
    "collapsed": true
   },
   "outputs": [],
   "source": [
    "POI.to_file('Outputs/POI_boston.shp', driver='ESRI Shapefile')"
   ]
  },
  {
   "cell_type": "code",
   "execution_count": null,
   "metadata": {
    "collapsed": true
   },
   "outputs": [],
   "source": []
  },
  {
   "cell_type": "code",
   "execution_count": null,
   "metadata": {
    "collapsed": true
   },
   "outputs": [],
   "source": []
  },
  {
   "cell_type": "code",
   "execution_count": 73,
   "metadata": {
    "collapsed": true
   },
   "outputs": [],
   "source": [
    "points = pd.read_csv(\"C:/Users/gabri/Google Drive Academic/poi.csv\",sep='|', dtype={'PointX Classification Code': str})"
   ]
  },
  {
   "cell_type": "code",
   "execution_count": 74,
   "metadata": {
    "collapsed": true
   },
   "outputs": [],
   "source": [
    "slim = points[['Feature Easting','Feature Northing','Reference Number','PointX Classification Code']].copy()"
   ]
  },
  {
   "cell_type": "code",
   "execution_count": 75,
   "metadata": {
    "collapsed": true
   },
   "outputs": [],
   "source": [
    "slim['main_class']= slim['PointX Classification Code'].str[:2]\n",
    "slim['second_class']= slim['PointX Classification Code'].str[2:4]"
   ]
  },
  {
   "cell_type": "code",
   "execution_count": 76,
   "metadata": {
    "collapsed": true
   },
   "outputs": [],
   "source": [
    "main = {\"01\": \"Accommodation, eating and drinking\", \"02\": \"Commercial services\", \"03\": \"Attractions\", \n",
    "        \"07\": \"Manufacturing and production\", \"04\": \"Sport and entertainment\", \"05\": \"Education and health\", \n",
    "        \"06\": \"Public infrastructure\", \"09\": \"Retail\", \"10\" : \"Transport\"}"
   ]
  },
  {
   "cell_type": "code",
   "execution_count": 77,
   "metadata": {
    "collapsed": true
   },
   "outputs": [],
   "source": [
    "main_df = pd.DataFrame.from_dict(main, orient='index')"
   ]
  },
  {
   "cell_type": "code",
   "execution_count": 78,
   "metadata": {
    "collapsed": true
   },
   "outputs": [],
   "source": [
    "second = pd.read_csv(\"C:/Users/gabri/Google Drive Academic/POI_class.csv\", dtype={'code': str})"
   ]
  },
  {
   "cell_type": "code",
   "execution_count": 94,
   "metadata": {},
   "outputs": [
    {
     "data": {
      "text/html": [
       "<div>\n",
       "<style>\n",
       "    .dataframe thead tr:only-child th {\n",
       "        text-align: right;\n",
       "    }\n",
       "\n",
       "    .dataframe thead th {\n",
       "        text-align: left;\n",
       "    }\n",
       "\n",
       "    .dataframe tbody tr th {\n",
       "        vertical-align: top;\n",
       "    }\n",
       "</style>\n",
       "<table border=\"1\" class=\"dataframe\">\n",
       "  <thead>\n",
       "    <tr style=\"text-align: right;\">\n",
       "      <th></th>\n",
       "      <th>Feature Easting</th>\n",
       "      <th>Feature Northing</th>\n",
       "      <th>Reference Number</th>\n",
       "      <th>PointX Classification Code</th>\n",
       "      <th>main_class</th>\n",
       "      <th>second_class</th>\n",
       "    </tr>\n",
       "  </thead>\n",
       "  <tbody>\n",
       "    <tr>\n",
       "      <th>0</th>\n",
       "      <td>529,809.00</td>\n",
       "      <td>181,784.00</td>\n",
       "      <td>129889387</td>\n",
       "      <td>03200269</td>\n",
       "      <td>03</td>\n",
       "      <td>20</td>\n",
       "    </tr>\n",
       "    <tr>\n",
       "      <th>1</th>\n",
       "      <td>530,161.00</td>\n",
       "      <td>182,314.00</td>\n",
       "      <td>127055413</td>\n",
       "      <td>03200269</td>\n",
       "      <td>03</td>\n",
       "      <td>20</td>\n",
       "    </tr>\n",
       "    <tr>\n",
       "      <th>2</th>\n",
       "      <td>528,894.00</td>\n",
       "      <td>181,577.00</td>\n",
       "      <td>124111008</td>\n",
       "      <td>03200269</td>\n",
       "      <td>03</td>\n",
       "      <td>20</td>\n",
       "    </tr>\n",
       "    <tr>\n",
       "      <th>3</th>\n",
       "      <td>532,431.00</td>\n",
       "      <td>180,940.00</td>\n",
       "      <td>124112162</td>\n",
       "      <td>03200269</td>\n",
       "      <td>03</td>\n",
       "      <td>20</td>\n",
       "    </tr>\n",
       "    <tr>\n",
       "      <th>4</th>\n",
       "      <td>529,335.00</td>\n",
       "      <td>180,927.00</td>\n",
       "      <td>124112390</td>\n",
       "      <td>03200269</td>\n",
       "      <td>03</td>\n",
       "      <td>20</td>\n",
       "    </tr>\n",
       "  </tbody>\n",
       "</table>\n",
       "</div>"
      ],
      "text/plain": [
       "       Feature Easting     Feature Northing  Reference Number  \\\n",
       "0           529,809.00           181,784.00         129889387   \n",
       "1           530,161.00           182,314.00         127055413   \n",
       "2           528,894.00           181,577.00         124111008   \n",
       "3           532,431.00           180,940.00         124112162   \n",
       "4           529,335.00           180,927.00         124112390   \n",
       "\n",
       "  PointX Classification Code main_class second_class  \n",
       "0                   03200269         03           20  \n",
       "1                   03200269         03           20  \n",
       "2                   03200269         03           20  \n",
       "3                   03200269         03           20  \n",
       "4                   03200269         03           20  "
      ]
     },
     "execution_count": 94,
     "metadata": {},
     "output_type": "execute_result"
    }
   ],
   "source": [
    "slim.head()"
   ]
  },
  {
   "cell_type": "code",
   "execution_count": 80,
   "metadata": {
    "collapsed": true
   },
   "outputs": [],
   "source": [
    "POI_tmp = pd.merge(slim, main_df, left_on='main_class', right_index=True, how='left')"
   ]
  },
  {
   "cell_type": "code",
   "execution_count": 81,
   "metadata": {
    "collapsed": true
   },
   "outputs": [],
   "source": [
    "POI_df = pd.merge(POI_tmp, second, left_on='second_class', right_on='code', how='left')"
   ]
  },
  {
   "cell_type": "code",
   "execution_count": 82,
   "metadata": {
    "collapsed": true
   },
   "outputs": [],
   "source": [
    "POI_df.rename(columns={0: 'main', 'class': 'second'}, inplace=True)"
   ]
  },
  {
   "cell_type": "code",
   "execution_count": 83,
   "metadata": {
    "collapsed": true
   },
   "outputs": [],
   "source": [
    "POI_df.drop('code', axis=1,inplace=True)"
   ]
  },
  {
   "cell_type": "code",
   "execution_count": 96,
   "metadata": {},
   "outputs": [
    {
     "data": {
      "image/svg+xml": [
       "<svg xmlns=\"http://www.w3.org/2000/svg\" xmlns:xlink=\"http://www.w3.org/1999/xlink\" width=\"100.0\" height=\"100.0\" viewBox=\"529808.0 181783.0 2.0 2.0\" preserveAspectRatio=\"xMinYMin meet\"><g transform=\"matrix(1,0,0,-1,0,363568.0)\"><circle cx=\"529809.0\" cy=\"181784.0\" r=\"0.06\" stroke=\"#555555\" stroke-width=\"0.02\" fill=\"#66cc99\" opacity=\"0.6\" /></g></svg>"
      ],
      "text/plain": [
       "<shapely.geometry.point.Point at 0x156c6c4de10>"
      ]
     },
     "execution_count": 96,
     "metadata": {},
     "output_type": "execute_result"
    }
   ],
   "source": [
    "geometry[0]"
   ]
  },
  {
   "cell_type": "code",
   "execution_count": 85,
   "metadata": {
    "collapsed": true
   },
   "outputs": [],
   "source": [
    "crs = {'init': 'epsg:27700'}\n",
    "geometry = [Point(xy) for xy in zip(POI_df['Feature Easting'], POI_df['Feature Northing'])]"
   ]
  },
  {
   "cell_type": "code",
   "execution_count": 86,
   "metadata": {
    "collapsed": true
   },
   "outputs": [],
   "source": [
    "POI_geo = gpd.GeoDataFrame(POI_df, crs=crs, geometry=geometry)"
   ]
  },
  {
   "cell_type": "code",
   "execution_count": 97,
   "metadata": {
    "collapsed": true
   },
   "outputs": [],
   "source": [
    "POI_geo.to_file('Outputs/POI.shp', driver='ESRI Shapefile')"
   ]
  }
 ],
 "metadata": {
  "kernelspec": {
   "display_name": "Python 3",
   "language": "python",
   "name": "python3"
  },
  "language_info": {
   "codemirror_mode": {
    "name": "ipython",
    "version": 3
   },
   "file_extension": ".py",
   "mimetype": "text/x-python",
   "name": "python",
   "nbconvert_exporter": "python",
   "pygments_lexer": "ipython3",
   "version": "3.6.3"
  }
 },
 "nbformat": 4,
 "nbformat_minor": 2
}
