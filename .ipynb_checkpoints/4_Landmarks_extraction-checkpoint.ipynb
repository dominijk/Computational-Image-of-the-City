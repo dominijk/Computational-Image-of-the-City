{
 "cells": [
  {
   "cell_type": "code",
   "execution_count": 2,
   "metadata": {},
   "outputs": [],
   "source": [
    "import osmnx as ox, networkx as nx, matplotlib.cm as cm, pandas as pd, numpy as np\n",
    "import matplotlib.pyplot as plt\n",
    "%matplotlib inline\n",
    "import geopandas as gpd\n",
    "import pandas as pd\n",
    "import functools\n",
    "\n",
    "from scipy import sparse\n",
    "from scipy.sparse import linalg\n",
    "import time\n",
    "from shapely.geometry import Point, LineString, Polygon, MultiPolygon, mapping\n",
    "from math import sqrt\n",
    "\n",
    "from shapely.ops import cascaded_union\n",
    "pd.set_option('precision', 5)\n",
    "pd.options.display.float_format = '{:20.2f}'.format\n",
    "pd.set_option('display.float_format', lambda x: '%.3f' % x)"
   ]
  },
  {
   "cell_type": "code",
   "execution_count": 3,
   "metadata": {},
   "outputs": [],
   "source": [
    "import image_city_functions as ic"
   ]
  },
  {
   "cell_type": "code",
   "execution_count": 4,
   "metadata": {},
   "outputs": [],
   "source": [
    "# initialise path, names, etc.\n",
    "\n",
    "city_name = 'London'\n",
    "folder_ouptut ='Outputs/'+city_name+'/'\n",
    "epsg = 27700\n",
    "crs = {'init': 'epsg:27700', 'no_defs': True}"
   ]
  },
  {
   "cell_type": "code",
   "execution_count": 5,
   "metadata": {},
   "outputs": [],
   "source": [
    "## Boston\n",
    "\n",
    "# tmp = gpd.read_file('C:/Users/g_filo01/sciebo/Scripts/Tools/Outputs/bh_2002_26986.shp').to_crs(epsg=26986)\n",
    "# buffer = gpd.read_file('C:/Users/g_filo01/sciebo/GIS Data/Boston/buffer_4000.shp').to_crs(epsg=26986)\n",
    "# buildings_clip.to_file(driver='ESRI Shapefile',filename=\"Outputs/tmp/buildings_sight.shp\")\n",
    "# buildings = tmp[tmp.geometry.within(buffer.geometry.loc[0])]"
   ]
  },
  {
   "cell_type": "code",
   "execution_count": 6,
   "metadata": {},
   "outputs": [],
   "source": [
    "## London\n",
    "buildings = gpd.read_file(\"C:/Users/g_filo01/sciebo/GIS Data/London/Buildings/London_buildingsBase.shp\")\n",
    "obstructions = gpd.read_file(\"Outputs/tmp/\"+city_name+\"_obstructions.shp\")\n",
    "polygon = gpd.read_file('C:/Users/g_filo01/sciebo/GIS Data/London/Congestion_area_polygon/Polygon_proj.shp')"
   ]
  },
  {
   "cell_type": "code",
   "execution_count": null,
   "metadata": {},
   "outputs": [],
   "source": [
    "all_buildings = gpd.read_file()\n",
    "polygon_w = gpd.read_file('C:\\Users\\g_filo01\\sciebo\\GIS Data\\London\\Congestion_area_polygon\\Polygon_proj')\n",
    "\n",
    "buildings, obstructions = ic.select_buildings()\n",
    "# all buildings in 4 km buffer to use as obstacles in ArcScene and for some analyis in this notebook\n",
    "obstructions.to_file(driver='ESRI Shapefile', filename= \"Outputs/tmp/\"+city_name+\"_obstructions.shp\")"
   ]
  },
  {
   "cell_type": "code",
   "execution_count": null,
   "metadata": {},
   "outputs": [],
   "source": [
    "# to simplify \n",
    "# when a building is divided in several polygons import in QGIS --> dissolve, single to multipart, join attributes by location\n",
    "# buildings.to_file(driver='ESRI Shapefile',filename=\"Outputs/tmp/building_to_dissolve.shp\")\n",
    "# load shapefile again\n",
    "# buildings = gpd.read_file('C:/Users/g_filo01/sciebo/GIS Data/Boston/Buildings/bh_26986_simplified.shp').to_crs(epsg=26986)"
   ]
  },
  {
   "cell_type": "markdown",
   "metadata": {},
   "source": [
    "## Structural component"
   ]
  },
  {
   "cell_type": "code",
   "execution_count": 7,
   "metadata": {},
   "outputs": [
    {
     "name": "stdout",
     "output_type": "stream",
     "text": [
      "Wall time: 2min 41s\n"
     ]
    }
   ],
   "source": [
    "%%time\n",
    "\n",
    "streets = gpd.read_file(\"Outputs/\"+city_name+\"/\"+city_name+\"_paths.shp\")\n",
    "buildings = ic.structural_properties(buildings, obstructions, streets)"
   ]
  },
  {
   "cell_type": "markdown",
   "metadata": {},
   "source": [
    "## Visual component"
   ]
  },
  {
   "cell_type": "code",
   "execution_count": 8,
   "metadata": {},
   "outputs": [
    {
     "name": "stdout",
     "output_type": "stream",
     "text": [
      "Wall time: 3.27 s\n"
     ]
    }
   ],
   "source": [
    "%%time\n",
    "sight_lines = gpd.read_file(\"Outputs/\"+city_name+\"/\"+city_name+\"_sight_lines.shp\")\n",
    "buildings = ic.visibility(buildings, sight_lines)"
   ]
  },
  {
   "cell_type": "markdown",
   "metadata": {},
   "source": [
    "## Cultural component"
   ]
  },
  {
   "cell_type": "code",
   "execution_count": 9,
   "metadata": {},
   "outputs": [
    {
     "name": "stdout",
     "output_type": "stream",
     "text": [
      "Wall time: 6.47 s\n"
     ]
    }
   ],
   "source": [
    "%%time\n",
    "#load historical polygons\n",
    "directoryLondon = \"C:/Users/g_filo01/sciebo/GIS Data/London/Historic_England/Listed_building_selection.shp\"\n",
    "directoryBoston = \"C:/Users/g_filo01/sciebo/GIS Data/Boston/Buildings/Data_sources/other/historic_landmarks.shp\"\n",
    "cultural_elements = (gpd.read_file(directoryLondon)).to_crs(epsg=epsg)\n",
    "\n",
    "############ London only\n",
    "cultural_elements['Grade'] = cultural_elements['Grade'].map( lambda x: 3 if x == 'I' else 2 if x == 'II*' else 1 \n",
    "                                   if x == 'II' else 0)\n",
    "\n",
    "###########\n",
    "buildings = ic.cultural_meaning(buildings, cultural_elements, score = 'Grade')"
   ]
  },
  {
   "cell_type": "markdown",
   "metadata": {},
   "source": [
    "## Pragmatic component"
   ]
  },
  {
   "cell_type": "code",
   "execution_count": 10,
   "metadata": {},
   "outputs": [],
   "source": [
    "# land use only London ##############################################\n",
    "\n",
    "buildings = buildings.rename(columns={'BUILDGTHEM': 'Main_func', 'CLASSIFICA': 'Second_func',\n",
    "                                      'CLASSIFI_1': 'Station_Type', 'type': 'OSM_use'})\n",
    "\n",
    "POI = gpd.read_file('Outputs/'+city_name+'/'+city_name+'_POI.shp') #from Ordnance Survey\n",
    "POI['nr']=1\n",
    "\n",
    "index_geometry = buildings.columns.get_loc(\"geometry\")+1 \n",
    "sindex = POI.sindex\n",
    "\n",
    "for row in buildings.itertuples():\n",
    "    g = row[index_geometry] #geometry\n",
    "    possible_matches_index = list(sindex.intersection(g.bounds))\n",
    "    possible_matches = POI.iloc[possible_matches_index]\n",
    "    \n",
    "    if (len(possible_matches)==0): continue\n",
    "    else:\n",
    "        use = possible_matches.groupby(['main'],as_index=False)['nr'].sum().sort_values(by='nr',\n",
    "                                    ascending=False).reset_index()\n",
    "        main_use = use['main'].loc[0]\n",
    "        buildings.set_value(row[0], 'POI_main', main_use)\n",
    "        \n",
    "#filling empty spaces with NaN\n",
    "buildings = buildings.apply(lambda x: x.str.strip() if isinstance(x, str) else x).replace('', np.nan)\n",
    "buildings.POI_main.fillna(buildings.OSM_use, inplace=True)\n",
    "buildings.POI_main.fillna('residential', inplace=True)\n",
    "buildings.Main_func.fillna(buildings.POI_main, inplace=True)\n",
    "\n",
    "buildings.rename(columns={'Main_func': 'land_use'}, inplace=True)\n",
    "\n",
    "buildings['land_use'] = buildings['land_use'].map( lambda x: 'Residential' if x == 'residential'\n",
    "                                                          else 'Residential' if x == 'grass'\n",
    "                                                          else 'Commercial services' if x == 'retail'\n",
    "                                                          else 'Commercial services' if x == 'Retail' \n",
    "                                                          else 'Commercial services' if x == 'commercial' \n",
    "                                                          else 'Commercial services' if x == 'market'\n",
    "                                                          else 'Education' if x == 'Education and health'\n",
    "                                                          else 'Transport' if x == 'Road Transport'\n",
    "                                                          else 'Transport' if x =='railway'\n",
    "                                                          else 'Attraction' if x =='Attraction And Leisure'\n",
    "                                                          else 'Attraction' if x =='Attractions'\n",
    "                                                          else 'Sport and entertainment' if x == 'Sports Or Exercise Facility'\n",
    "                                                          else x)\n",
    "\n"
   ]
  },
  {
   "cell_type": "code",
   "execution_count": 11,
   "metadata": {},
   "outputs": [],
   "source": [
    "buildings['area'] = buildings.geometry.area\n",
    "buildings = buildings[['buildingID', 'height','land_use', 'base_h', 'geometry', \n",
    "                       'prom', 'neigh', 'road', 'ext', 'fac', 'area', 'cult', 'vis']]"
   ]
  },
  {
   "cell_type": "code",
   "execution_count": 13,
   "metadata": {},
   "outputs": [
    {
     "name": "stdout",
     "output_type": "stream",
     "text": [
      "Wall time: 2min 15s\n"
     ]
    }
   ],
   "source": [
    "%%time\n",
    "buildings = ic.pragmatic_meaning(buildings)"
   ]
  },
  {
   "cell_type": "markdown",
   "metadata": {},
   "source": [
    "# Final Scores"
   ]
  },
  {
   "cell_type": "code",
   "execution_count": 14,
   "metadata": {},
   "outputs": [
    {
     "data": {
      "text/html": [
       "<div>\n",
       "<style>\n",
       "    .dataframe thead tr:only-child th {\n",
       "        text-align: right;\n",
       "    }\n",
       "\n",
       "    .dataframe thead th {\n",
       "        text-align: left;\n",
       "    }\n",
       "\n",
       "    .dataframe tbody tr th {\n",
       "        vertical-align: top;\n",
       "    }\n",
       "</style>\n",
       "<table border=\"1\" class=\"dataframe\">\n",
       "  <thead>\n",
       "    <tr style=\"text-align: right;\">\n",
       "      <th></th>\n",
       "      <th>buildingID</th>\n",
       "      <th>height</th>\n",
       "      <th>land_use</th>\n",
       "      <th>base_h</th>\n",
       "      <th>geometry</th>\n",
       "      <th>prom</th>\n",
       "      <th>neigh</th>\n",
       "      <th>road</th>\n",
       "      <th>ext</th>\n",
       "      <th>fac</th>\n",
       "      <th>...</th>\n",
       "      <th>cult_sc</th>\n",
       "      <th>vis_sc</th>\n",
       "      <th>neigh_sc</th>\n",
       "      <th>road_sc</th>\n",
       "      <th>vScore</th>\n",
       "      <th>sScore</th>\n",
       "      <th>vScore_sc</th>\n",
       "      <th>sScore_sc</th>\n",
       "      <th>gScore</th>\n",
       "      <th>gScore_sc</th>\n",
       "    </tr>\n",
       "  </thead>\n",
       "  <tbody>\n",
       "    <tr>\n",
       "      <th>0</th>\n",
       "      <td>1</td>\n",
       "      <td>17.950</td>\n",
       "      <td>Residential</td>\n",
       "      <td>0</td>\n",
       "      <td>POLYGON ((532680.6500000004 182920.5399999991,...</td>\n",
       "      <td>18896.837</td>\n",
       "      <td>40.000</td>\n",
       "      <td>85.156</td>\n",
       "      <td>2274.285</td>\n",
       "      <td>337.281</td>\n",
       "      <td>...</td>\n",
       "      <td>0.000</td>\n",
       "      <td>0.000</td>\n",
       "      <td>0.648</td>\n",
       "      <td>0.549</td>\n",
       "      <td>0.016</td>\n",
       "      <td>0.266</td>\n",
       "      <td>0.016</td>\n",
       "      <td>0.187</td>\n",
       "      <td>0.132</td>\n",
       "      <td>0.120</td>\n",
       "    </tr>\n",
       "    <tr>\n",
       "      <th>1</th>\n",
       "      <td>2</td>\n",
       "      <td>28.114</td>\n",
       "      <td>Commercial services</td>\n",
       "      <td>0</td>\n",
       "      <td>POLYGON ((532361.5700000003 182971.6199999992,...</td>\n",
       "      <td>30335.792</td>\n",
       "      <td>44.000</td>\n",
       "      <td>2.078</td>\n",
       "      <td>13442.545</td>\n",
       "      <td>2062.461</td>\n",
       "      <td>...</td>\n",
       "      <td>0.019</td>\n",
       "      <td>0.092</td>\n",
       "      <td>0.611</td>\n",
       "      <td>0.989</td>\n",
       "      <td>0.086</td>\n",
       "      <td>0.365</td>\n",
       "      <td>0.093</td>\n",
       "      <td>0.350</td>\n",
       "      <td>0.212</td>\n",
       "      <td>0.245</td>\n",
       "    </tr>\n",
       "    <tr>\n",
       "      <th>2</th>\n",
       "      <td>3</td>\n",
       "      <td>18.816</td>\n",
       "      <td>Commercial services</td>\n",
       "      <td>0</td>\n",
       "      <td>POLYGON ((532438.1600000001 182978.3300000001,...</td>\n",
       "      <td>30125.459</td>\n",
       "      <td>52.000</td>\n",
       "      <td>8.063</td>\n",
       "      <td>19302.043</td>\n",
       "      <td>2081.826</td>\n",
       "      <td>...</td>\n",
       "      <td>0.000</td>\n",
       "      <td>0.021</td>\n",
       "      <td>0.537</td>\n",
       "      <td>0.957</td>\n",
       "      <td>0.044</td>\n",
       "      <td>0.345</td>\n",
       "      <td>0.047</td>\n",
       "      <td>0.317</td>\n",
       "      <td>0.168</td>\n",
       "      <td>0.177</td>\n",
       "    </tr>\n",
       "    <tr>\n",
       "      <th>3</th>\n",
       "      <td>4</td>\n",
       "      <td>27.560</td>\n",
       "      <td>Attraction</td>\n",
       "      <td>0</td>\n",
       "      <td>POLYGON ((532619.1699999999 182949.6099999994,...</td>\n",
       "      <td>20817.073</td>\n",
       "      <td>41.000</td>\n",
       "      <td>26.688</td>\n",
       "      <td>9590.180</td>\n",
       "      <td>1408.040</td>\n",
       "      <td>...</td>\n",
       "      <td>0.000</td>\n",
       "      <td>0.042</td>\n",
       "      <td>0.639</td>\n",
       "      <td>0.859</td>\n",
       "      <td>0.054</td>\n",
       "      <td>0.330</td>\n",
       "      <td>0.058</td>\n",
       "      <td>0.293</td>\n",
       "      <td>0.214</td>\n",
       "      <td>0.248</td>\n",
       "    </tr>\n",
       "    <tr>\n",
       "      <th>4</th>\n",
       "      <td>5</td>\n",
       "      <td>5.480</td>\n",
       "      <td>Residential</td>\n",
       "      <td>0</td>\n",
       "      <td>POLYGON ((532551.9100000001 182930.5999999996,...</td>\n",
       "      <td>17859.760</td>\n",
       "      <td>33.000</td>\n",
       "      <td>12.906</td>\n",
       "      <td>7160.713</td>\n",
       "      <td>256.683</td>\n",
       "      <td>...</td>\n",
       "      <td>0.000</td>\n",
       "      <td>0.025</td>\n",
       "      <td>0.713</td>\n",
       "      <td>0.932</td>\n",
       "      <td>0.018</td>\n",
       "      <td>0.355</td>\n",
       "      <td>0.019</td>\n",
       "      <td>0.334</td>\n",
       "      <td>0.181</td>\n",
       "      <td>0.197</td>\n",
       "    </tr>\n",
       "  </tbody>\n",
       "</table>\n",
       "<p>5 rows × 31 columns</p>\n",
       "</div>"
      ],
      "text/plain": [
       "   buildingID  height             land_use  base_h  \\\n",
       "0           1  17.950          Residential       0   \n",
       "1           2  28.114  Commercial services       0   \n",
       "2           3  18.816  Commercial services       0   \n",
       "3           4  27.560           Attraction       0   \n",
       "4           5   5.480          Residential       0   \n",
       "\n",
       "                                            geometry      prom  neigh   road  \\\n",
       "0  POLYGON ((532680.6500000004 182920.5399999991,... 18896.837 40.000 85.156   \n",
       "1  POLYGON ((532361.5700000003 182971.6199999992,... 30335.792 44.000  2.078   \n",
       "2  POLYGON ((532438.1600000001 182978.3300000001,... 30125.459 52.000  8.063   \n",
       "3  POLYGON ((532619.1699999999 182949.6099999994,... 20817.073 41.000 26.688   \n",
       "4  POLYGON ((532551.9100000001 182930.5999999996,... 17859.760 33.000 12.906   \n",
       "\n",
       "        ext      fac    ...      cult_sc  vis_sc  neigh_sc  road_sc  vScore  \\\n",
       "0  2274.285  337.281    ...        0.000   0.000     0.648    0.549   0.016   \n",
       "1 13442.545 2062.461    ...        0.019   0.092     0.611    0.989   0.086   \n",
       "2 19302.043 2081.826    ...        0.000   0.021     0.537    0.957   0.044   \n",
       "3  9590.180 1408.040    ...        0.000   0.042     0.639    0.859   0.054   \n",
       "4  7160.713  256.683    ...        0.000   0.025     0.713    0.932   0.018   \n",
       "\n",
       "   sScore  vScore_sc  sScore_sc  gScore  gScore_sc  \n",
       "0   0.266      0.016      0.187   0.132      0.120  \n",
       "1   0.365      0.093      0.350   0.212      0.245  \n",
       "2   0.345      0.047      0.317   0.168      0.177  \n",
       "3   0.330      0.058      0.293   0.214      0.248  \n",
       "4   0.355      0.019      0.334   0.181      0.197  \n",
       "\n",
       "[5 rows x 31 columns]"
      ]
     },
     "execution_count": 14,
     "metadata": {},
     "output_type": "execute_result"
    }
   ],
   "source": [
    "buildings = ic.compute_scores(buildings)\n",
    "buildings.head()"
   ]
  },
  {
   "cell_type": "code",
   "execution_count": null,
   "metadata": {},
   "outputs": [],
   "source": [
    "buildings.crs = crs\n",
    "buildings.to_file(driver='ESRI Shapefile',filename=\"Outputs/\"+city_name+\"/\"+city_name+\"_landmarks.shp\")"
   ]
  },
  {
   "cell_type": "code",
   "execution_count": null,
   "metadata": {},
   "outputs": [],
   "source": []
  },
  {
   "cell_type": "code",
   "execution_count": null,
   "metadata": {},
   "outputs": [],
   "source": [
    "# to be performed on the larger set of buildings\n",
    "buildings['land_use'] = 'NaN'"
   ]
  },
  {
   "cell_type": "markdown",
   "metadata": {},
   "source": [
    "## Parcels "
   ]
  },
  {
   "cell_type": "code",
   "execution_count": null,
   "metadata": {},
   "outputs": [],
   "source": [
    "# loading official data\n",
    "\n",
    "directory_lu = 'C:/Users/g_filo01/sciebo/GIS Data/Boston/Buildings/Data_sources/Parcels_2016/parcels.shp'\n",
    "lu = (gpd.read_file(directory_lu).to_crs(epsg=epsg))"
   ]
  },
  {
   "cell_type": "code",
   "execution_count": null,
   "metadata": {},
   "outputs": [],
   "source": [
    "parcels['nr'] = 1"
   ]
  },
  {
   "cell_type": "code",
   "execution_count": null,
   "metadata": {},
   "outputs": [],
   "source": [
    "%%time\n",
    "\n",
    "\n",
    "def land_use(buildings_gdf, lu, land_use_field, poly)\n",
    "\n",
    "    sindex = lu.sindex\n",
    "    index_geometry = buildings_gdf.columns.get_loc(\"geometry\")+1 \n",
    "    lu['nr'] = 1\n",
    "    for row in buildings_gdfs.itertuples():\n",
    "\n",
    "        g = row[index_geometry] #geometry\n",
    "        possible_matches_index = list(sindex.intersection(g.bounds))\n",
    "        possible_matches = lu.iloc[possible_matches_index]\n",
    "        precise_matches = possible_matches[possible_matches.intersects(g)]\n",
    "\n",
    "        if (len(precise_matches)==0): continue\n",
    "\n",
    "        else:\n",
    "\n",
    "            land_use = precise_matches.groupby([land_use_field],as_index=False)['nr'].sum().sort_values(by='nr',\n",
    "                                        ascending=False).reset_index()\n",
    "            main_use = land_use[land_use_field].loc[0]\n",
    "            buildings_gdf.set_value(row[0], 'land_use', main_use)\n",
    "                \n",
    "        buildings = osm.query_osm('relation', poly, recurse='down', tags='buildin', render = True)\n",
    "        POI = osm.query_osm('node', poly, recurse='down', tags='amenity', render = True)"
   ]
  },
  {
   "cell_type": "code",
   "execution_count": null,
   "metadata": {},
   "outputs": [],
   "source": [
    "import geopandas_osm.osm as osm"
   ]
  },
  {
   "cell_type": "code",
   "execution_count": null,
   "metadata": {},
   "outputs": [],
   "source": [
    "polygon.loc[0]"
   ]
  },
  {
   "cell_type": "code",
   "execution_count": null,
   "metadata": {},
   "outputs": [],
   "source": [
    "l = ox.buildings_from_place(place='Piedmont, California, USA')"
   ]
  },
  {
   "cell_type": "code",
   "execution_count": null,
   "metadata": {},
   "outputs": [],
   "source": [
    "l = ox.buildings_from_polygon(polygonWGS.loc[0].geometry, retain_invalid=True)"
   ]
  },
  {
   "cell_type": "code",
   "execution_count": null,
   "metadata": {},
   "outputs": [],
   "source": [
    "epsgWGS = 4326"
   ]
  },
  {
   "cell_type": "code",
   "execution_count": null,
   "metadata": {},
   "outputs": [],
   "source": [
    "polygonWGS = polygon.to_crs(epsg=epsgWGS)"
   ]
  },
  {
   "cell_type": "code",
   "execution_count": null,
   "metadata": {},
   "outputs": [],
   "source": [
    "polygonWGS.loc[0].geometry"
   ]
  },
  {
   "cell_type": "code",
   "execution_count": null,
   "metadata": {},
   "outputs": [],
   "source": [
    "buil = osm.query_osm('relation', polygonWGS.loc[0].geometry, recurse='down', tags= 'building', render = False)"
   ]
  },
  {
   "cell_type": "code",
   "execution_count": null,
   "metadata": {},
   "outputs": [],
   "source": [
    "POI = osm.query_osm('node', polygon.geometry.loc[0], recurse='down', tags='amenity', render = True)"
   ]
  },
  {
   "cell_type": "markdown",
   "metadata": {},
   "source": [
    "## OpenStreetMap POI"
   ]
  },
  {
   "cell_type": "code",
   "execution_count": null,
   "metadata": {},
   "outputs": [],
   "source": [
    "#land use from OSM POI\n",
    "\n",
    "POI = gpd.read_file('Outputs/Boston/POI_boston.shp').to_crs(epsg=26986)\n",
    "POI.head()"
   ]
  },
  {
   "cell_type": "code",
   "execution_count": null,
   "metadata": {},
   "outputs": [],
   "source": [
    "list(POI['type'].unique())"
   ]
  },
  {
   "cell_type": "code",
   "execution_count": null,
   "metadata": {},
   "outputs": [],
   "source": [
    "\n",
    "\n"
   ]
  },
  {
   "cell_type": "code",
   "execution_count": null,
   "metadata": {},
   "outputs": [],
   "source": [
    "university = ['university', 'college', 'research']\n",
    "commercial = ['bank', 'service',  'commercial',  'retail',  'pharmacy', 'commercial;educa', 'shop', 'Commercial',\n",
    "                       'supermarket', 'offices', 'foundation', 'office']\n",
    "residential = [ 'apartments']\n",
    "attractions = ['museum',  'castle', 'cathedral', 'attraction','aquarium', 'monument',  'gatehouse',  'terrace']\n",
    "manufacturing = []\n",
    "hospitality = [ 'hotel',  'hostel', 'guest_house']\n",
    "eating_drinking = [ 'restaurant', 'fast_food', 'cafe', 'bar',  'pub']\n",
    "public = ['post_office', 'townhall', 'public_building',  'library','civic', 'courthouse','public',  'embassy']\n",
    "library = ['library']\n",
    "sport = ['stadium']\n",
    "entertainment = [ 'exhibition_centr','theatre', 'cinema']\n",
    "education = ['school', 'kindergarten']\n",
    "religious = ['church', 'place_of_worship','convent', 'rectory']\n",
    "emergency_service = [ 'fire_station','police']\n",
    "transport = [ 'station', 'train_station']\n",
    "medical_care = ['hospital', 'doctors', 'dentist','clinic','veterinary']\n",
    "industrial = [ 'industrial', 'factory', 'construction']\n",
    "cultural = [ 'club_house','gallery', 'arts_centre']\n",
    "military = ['general aviation']\n",
    "\n",
    "drop = ['subway_entrance', 'dormitory', 'roof', 'garage', 'storage_tank', 'shed', 'silo',  'parking',  'toilets','bus_station',\n",
    "  'picnic_site','hut', 'information',  'viewpoint', 'atm', 'building', 'books',  'tower',  'terrace',  'canopy', 'smokestack',  \n",
    " 'greenhouse', 'fuel']"
   ]
  },
  {
   "cell_type": "code",
   "execution_count": null,
   "metadata": {},
   "outputs": [],
   "source": [
    "POI = POI[~POI['type'].isin(drop)]"
   ]
  },
  {
   "cell_type": "code",
   "execution_count": null,
   "metadata": {},
   "outputs": [],
   "source": [
    "POI['type'] = POI['type'].map( lambda x: 'university' if x in university\n",
    "                                                          else 'commercial' if x in commercial\n",
    "                                                          else 'residential' if x in residential\n",
    "                                                          else 'attractions' if x in attractions\n",
    "                                                          else 'library' if x in library\n",
    "                                                          else 'manufacturing' if x in manufacturing\n",
    "                                                          else 'hospitality' if x in hospitality\n",
    "                                                          else 'eating_drinking' if x in eating_drinking\n",
    "                                                          else 'public' if x in public\n",
    "                                                          else 'sport' if x in sport\n",
    "                                                          else 'entertainment' if x in entertainment\n",
    "                                                          else 'education' if x in education\n",
    "                                                          else 'religious' if x in religious\n",
    "                                                          else 'emergency_service' if x in emergency_service\n",
    "                                                          else 'industrial' if x in industrial\n",
    "                                                          else 'cultural' if x in cultural\n",
    "                                                          else 'transport' if x in transport\n",
    "                                                          else 'medical_care' if x in medical_care\n",
    "                                                          else 'military' if x in military\n",
    "                                                          else x)"
   ]
  },
  {
   "cell_type": "code",
   "execution_count": null,
   "metadata": {},
   "outputs": [],
   "source": [
    "POI['nr'] = 1"
   ]
  },
  {
   "cell_type": "code",
   "execution_count": null,
   "metadata": {},
   "outputs": [],
   "source": [
    "%%time\n",
    "\n",
    "sindex = POI.sindex\n",
    "\n",
    "for row in buildings.itertuples():\n",
    "    g = row[2] #geometry\n",
    "    \n",
    "    possible_matches_index = list(sindex.intersection(g.bounds))\n",
    "    possible_matches = POI.iloc[possible_matches_index]\n",
    "    precise_matches = possible_matches[possible_matches.intersects(g)]\n",
    "    \n",
    "    \n",
    "    if (len(precise_matches)==0): continue\n",
    "    else:\n",
    "        land_use = possible_matches.groupby(['type'],as_index=False)['nr'].sum().sort_values(by='nr',\n",
    "                                    ascending=False).reset_index()\n",
    "        main_use = land_use['type'].loc[0]\n",
    "        buildings.set_value(row[0], 'land_use', main_use)"
   ]
  },
  {
   "cell_type": "markdown",
   "metadata": {},
   "source": [
    "## Other data from Boston"
   ]
  },
  {
   "cell_type": "code",
   "execution_count": null,
   "metadata": {},
   "outputs": [],
   "source": [
    "# libraries and schools\n",
    "\n",
    "schools = (gpd.read_file('C:/Users/g_filo01/sciebo/GIS Data/Boston/Buildings/Data_sources/other/schools.shp'\n",
    "                        ).to_crs(epsg=26986))\n",
    "\n",
    "universities = (gpd.read_file('C:/Users/g_filo01/sciebo/GIS Data/Boston/Buildings/Data_sources/other/universities.shp'\n",
    "                        ).to_crs(epsg=26986))\n",
    "\n",
    "p_schools = (gpd.read_file('C:/Users/g_filo01/sciebo/GIS Data/Boston/Buildings/Data_sources/other/private_schools.shp'\n",
    "                        ).to_crs(epsg=26986))\n",
    "\n",
    "libraries = (gpd.read_file('C:/Users/g_filo01/sciebo/GIS Data/Boston/Buildings/Data_sources/other/libraries.shp'\n",
    "                        ).to_crs(epsg=26986))\n",
    "\n",
    "pools = (gpd.read_file('C:/Users/g_filo01/sciebo/GIS Data/Boston/Buildings/Data_sources/other/pools.shp'\n",
    "                        ).to_crs(epsg=26986))\n",
    "\n",
    "police = (gpd.read_file('C:/Users/g_filo01/sciebo/GIS Data/Boston/Buildings/Data_sources/other/police_stations.shp'\n",
    "                        ).to_crs(epsg=26986))"
   ]
  },
  {
   "cell_type": "code",
   "execution_count": null,
   "metadata": {},
   "outputs": [],
   "source": [
    "%%time\n",
    "\n",
    "df_list = [schools, p_schools, libraries, universities, pools, police]\n",
    "classification = ['education','education', 'library', 'university','sport', 'emergence_service']\n",
    "\n",
    "for i, t in enumerate(df_list):\n",
    "    sindex = t.sindex\n",
    "\n",
    "    for row in buildings.itertuples():\n",
    "        g = row[2] #geometry\n",
    "    \n",
    "        possible_matches_index = list(sindex.intersection(g.bounds))\n",
    "        possible_matches = t.iloc[possible_matches_index]\n",
    "        precise_matches = possible_matches[possible_matches.intersects(g)]\n",
    "        \n",
    "        if (len(precise_matches)==0): continue\n",
    "        else:\n",
    "\n",
    "            buildings.set_value(row[0], 'land_use', classification[i])"
   ]
  },
  {
   "cell_type": "code",
   "execution_count": null,
   "metadata": {},
   "outputs": [],
   "source": [
    "buildings.land_use.fillna('residential', inplace=True)"
   ]
  },
  {
   "cell_type": "code",
   "execution_count": null,
   "metadata": {},
   "outputs": [],
   "source": [
    "# buildings['land_use'].astype(object).fillna('residential', inplace=True)\n",
    "buildings['land_use'].replace(to_replace='NaN', value='residential', inplace=True)\n",
    "buildings.tail(10)"
   ]
  },
  {
   "cell_type": "code",
   "execution_count": null,
   "metadata": {},
   "outputs": [],
   "source": [
    "buildings['land_use'].isnull().values.any()"
   ]
  },
  {
   "cell_type": "code",
   "execution_count": null,
   "metadata": {},
   "outputs": [],
   "source": [
    "%%time\n",
    "\n",
    "buildings['nr']=1\n",
    "sindex = buildings.sindex\n",
    "buildings['pragmatic_meaning']= 0.0\n",
    "\n",
    "for row in buildings.itertuples():\n",
    "    g = row[2] #geometry\n",
    "    b = g.buffer(200)\n",
    "    use = row[5]\n",
    "    \n",
    "    possible_matches_index = list(sindex.intersection(b.bounds))\n",
    "    possible_matches = buildings.iloc[possible_matches_index]\n",
    "#     precise_matches = buildings[buildings.intersects(g)]\n",
    "        \n",
    "    neigh = possible_matches.groupby(['land_use'], as_index=True)['nr'].sum()\n",
    "    Nj = neigh.loc[use]\n",
    "    #Pj = Nj/N\n",
    "    \n",
    "    Pj = 1-(Nj/possible_matches['nr'].sum())\n",
    "    buildings.set_value(row[0], 'pragmatic_meaning', Pj)"
   ]
  },
  {
   "cell_type": "code",
   "execution_count": null,
   "metadata": {},
   "outputs": [],
   "source": [
    "buildings.tail()"
   ]
  },
  {
   "cell_type": "code",
   "execution_count": null,
   "metadata": {},
   "outputs": [],
   "source": [
    "buildings_clip = pd.merge(buildings_clip, buildings[['BUILD_ID','pragmatic_meaning']], on='BUILD_ID', how='left')"
   ]
  },
  {
   "cell_type": "code",
   "execution_count": null,
   "metadata": {},
   "outputs": [],
   "source": [
    "buildings_clip.head()"
   ]
  },
  {
   "cell_type": "markdown",
   "metadata": {},
   "source": [
    "# Cultural importance"
   ]
  }
 ],
 "metadata": {
  "kernelspec": {
   "display_name": "Python 3",
   "language": "python",
   "name": "python3"
  },
  "language_info": {
   "codemirror_mode": {
    "name": "ipython",
    "version": 3
   },
   "file_extension": ".py",
   "mimetype": "text/x-python",
   "name": "python",
   "nbconvert_exporter": "python",
   "pygments_lexer": "ipython3",
   "version": "3.6.3"
  }
 },
 "nbformat": 4,
 "nbformat_minor": 2
}
