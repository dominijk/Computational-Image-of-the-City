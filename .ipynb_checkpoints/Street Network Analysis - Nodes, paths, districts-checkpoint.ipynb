{
 "cells": [
  {
   "cell_type": "code",
   "execution_count": 1,
   "metadata": {
    "collapsed": true
   },
   "outputs": [],
   "source": [
    "import osmnx as ox, networkx as nx, matplotlib.cm as cm, pandas as pd, numpy as np\n",
    "import matplotlib.pyplot as plt\n",
    "%matplotlib inline\n",
    "import geopandas as gpd\n",
    "import functools\n",
    "import community\n",
    "\n",
    "from scipy import sparse\n",
    "from scipy.sparse import linalg\n",
    "import time\n",
    "from shapely.geometry import Point, LineString, Polygon, MultiPolygon, mapping\n",
    "from math import sqrt\n",
    "import pandas as pd\n",
    "from shapely.ops import cascaded_union\n",
    "pd.set_option('precision', 10)"
   ]
  },
  {
   "cell_type": "markdown",
   "metadata": {},
   "source": [
    "# Functions"
   ]
  },
  {
   "cell_type": "code",
   "execution_count": 2,
   "metadata": {
    "collapsed": true
   },
   "outputs": [],
   "source": [
    "import math\n",
    "def dot(vA, vB):\n",
    "    return vA[0]*vB[0]+vA[1]*vB[1]\n",
    "\n",
    "def ang(lineA, lineB):\n",
    "    # Get nicer vector form\n",
    "    vA = [(lineA[0][0]-lineA[1][0]), (lineA[0][1]-lineA[1][1])]\n",
    "    vB = [(lineB[0][0]-lineB[1][0]), (lineB[0][1]-lineB[1][1])]\n",
    "    # Get dot prod\n",
    "    dot_prod = dot(vA, vB)\n",
    "    # Get magnitudes\n",
    "    magA = dot(vA, vA)**0.5\n",
    "    magB = dot(vB, vB)**0.5\n",
    "    # Get cosine value\n",
    "    cos_ = dot_prod/magA/magB\n",
    "    # Get angle in radians and then convert to degrees\n",
    "    angle = math.acos(dot_prod/magB/magA)\n",
    "    # Basically doing angle <- angle mod 360\n",
    "    ang_deg = math.degrees(angle)%360\n",
    "    return ang_deg\n",
    "     #if ang_deg-180<=0:\n",
    "     #    return 180 - ang_deg\n",
    "    # else:\n",
    "     #    return ang_deg\n",
    "        \n",
    "def ang_rad(lineA, lineB):\n",
    "    # Get nicer vector form\n",
    "    vA = [(lineA[0][0]-lineA[1][0]), (lineA[0][1]-lineA[1][1])]\n",
    "    vB = [(lineB[0][0]-lineB[1][0]), (lineB[0][1]-lineB[1][1])]\n",
    "    # Get dot prod\n",
    "    dot_prod = dot(vA, vB)\n",
    "    # Get magnitudes\n",
    "    magA = dot(vA, vA)**0.5\n",
    "    magB = dot(vB, vB)**0.5\n",
    "    # Get cosine value\n",
    "    cos_ = dot_prod/magA/magB\n",
    "    # Get angle in radians and then convert to degrees\n",
    "    angle = math.acos(dot_prod/magB/magA)\n",
    "\n",
    "    return angle"
   ]
  },
  {
   "cell_type": "markdown",
   "metadata": {},
   "source": [
    "# Geo Dataframe"
   ]
  },
  {
   "cell_type": "code",
   "execution_count": 3,
   "metadata": {
    "collapsed": true
   },
   "outputs": [],
   "source": [
    "#initialise path, names, etc.\n",
    "\n",
    "city_name = 'London'\n",
    "folder_ouptut ='Outputs/'+city_name+'/'\n",
    "epsg = 27700\n",
    "crs = {'init': 'epsg:27700', 'no_defs': True}\n",
    "\n",
    "path_small = 'C:/Users/g_filo01/sciebo/GIS Data/London/OS_Roads_Working/OS_roads_final.shp'\n",
    "# path_large = 'C:/Users/g_filo01/sciebo/GIS Data/Boston/Street_Network/boston_sn_26986_clipped_8000_noHW.shp'"
   ]
  },
  {
   "cell_type": "code",
   "execution_count": 4,
   "metadata": {
    "collapsed": true
   },
   "outputs": [],
   "source": [
    "#try reading street network\n",
    "\n",
    "streets_small = gpd.read_file(path_small)\n",
    "# streets_large = gpd.read_file(path_large)"
   ]
  },
  {
   "cell_type": "code",
   "execution_count": null,
   "metadata": {
    "collapsed": true
   },
   "outputs": [],
   "source": [
    "streets_small.head()"
   ]
  },
  {
   "cell_type": "code",
   "execution_count": 5,
   "metadata": {
    "collapsed": true
   },
   "outputs": [],
   "source": [
    "def preparing(streets_gdf):\n",
    "    \n",
    "    streets_gdf = streets_gdf.to_crs(epsg=epsg)\n",
    "    streets_gdf['from'] = \"NaN\"\n",
    "    streets_gdf['to'] = \"NaN\"\n",
    "    streets_gdf = streets_gdf[['geometry', 'from', 'to']]\n",
    "    \n",
    "    return(streets_gdf)\n",
    "    \n",
    "streets_small = preparing(streets_small)\n",
    "# streets_large = preparing(streets_large)"
   ]
  },
  {
   "cell_type": "code",
   "execution_count": 6,
   "metadata": {
    "collapsed": true
   },
   "outputs": [],
   "source": [
    "#removing Z coordinates and storing from/to coordinates and assigning \n",
    "\n",
    "def extracting_coord(streets_gdf):\n",
    "    \n",
    "    for index, row in streets_gdf.iterrows():\n",
    "        line = []\n",
    "        line2 = []\n",
    "        \n",
    "        coord = list(row['geometry'].coords)\n",
    "        from_node = coord[0][0:2]\n",
    "        to_node = coord[-1][0:2]\n",
    "    \n",
    "        for i in range(0,len(coord)):\n",
    "            point = coord[i][0:2]\n",
    "            line.append(point)\n",
    "\n",
    "        t = LineString([coor for coor in line])\n",
    "        \n",
    "        streets_gdf.set_value(index,'geometry', t)\n",
    "        streets_gdf.set_value(index, 'from', from_node)\n",
    "        streets_gdf.set_value(index, 'to', to_node)\n",
    "        \n",
    "    return(streets_gdf)\n",
    "\n",
    "streets_small = extracting_coord(streets_small)\n",
    "# streets_large = extracting_coord(streets_large)"
   ]
  },
  {
   "cell_type": "code",
   "execution_count": 7,
   "metadata": {
    "collapsed": true
   },
   "outputs": [],
   "source": [
    "#removing edges represented only by nodes\n",
    "\n",
    "def cleaning(streets_gdf):\n",
    "    \n",
    "    streets_gdf = streets_gdf.loc[streets_gdf['from'] != streets_gdf['to']]\n",
    "    streets_gdf.reset_index(inplace=True, drop=True)\n",
    "    streets_gdf['streetID'] = streets_gdf.index.values.astype(int) \n",
    "    \n",
    "    return(streets_gdf)\n",
    "\n",
    "streets_small = cleaning(streets_small)\n",
    "# streets_large = cleaning(streets_large)"
   ]
  },
  {
   "cell_type": "code",
   "execution_count": 12,
   "metadata": {
    "collapsed": true
   },
   "outputs": [],
   "source": [
    "#extracting nodes and greating a geodataframe\n",
    "\n",
    "def getting_nodes(streets_gdf):\n",
    "\n",
    "    unique_nodes_tmp = list(streets_gdf['to'].unique()) + list(streets_gdf['from'].unique())\n",
    "    unique_nodes = list(set(unique_nodes_tmp))\n",
    "    \n",
    "    nodes_data = pd.DataFrame.from_records(unique_nodes, columns=['x', 'y']).astype('float')\n",
    "    geometry = [Point(xy) for xy in zip(nodes_data.x, nodes_data.y)]\n",
    "    nodes = gpd.GeoDataFrame(nodes_data, crs=crs, geometry=geometry)\n",
    "\n",
    "    nodes.gdf_name = 'Nodes_list' #for OSMNx\n",
    "    \n",
    "    return(nodes)\n",
    "\n",
    "nodes_small = getting_nodes(streets_small)\n",
    "# nodes_large = getting_nodes(streets_large)"
   ]
  },
  {
   "cell_type": "code",
   "execution_count": 13,
   "metadata": {
    "collapsed": true
   },
   "outputs": [],
   "source": [
    "def getting_edges(streets_gdf, nodes_gdf):\n",
    "    \n",
    "    nodes_tmp = nodes_gdf.reset_index()\n",
    "    nodes_tmp['coordinates'] = list(zip(nodes_tmp.x, nodes_tmp.y))\n",
    "    \n",
    "    edges_tmp = pd.merge(streets_gdf, nodes_tmp[['index', 'coordinates']], how='left', left_on=\"from\", right_on=\"coordinates\")\n",
    "    edges_tmp = edges_tmp.drop(edges_tmp[['coordinates']],axis=1)\n",
    "    edges_tmp = edges_tmp.rename(columns = {'index':'u'})\n",
    "    \n",
    "    edges = pd.merge(edges_tmp, nodes_tmp[['index', 'coordinates']], how='left', left_on=\"to\", right_on=\"coordinates\")\n",
    "    edges = edges.drop(edges[['coordinates', 'from', 'to']],axis=1)\n",
    "    edges = edges.rename(columns = {'index':'v'})\n",
    "    edges['key']=0 #for OSMNx\n",
    "    edges['distance'] = gpd.GeoSeries(edges['geometry'].length)\n",
    "    \n",
    "    return(edges)\n",
    "    \n",
    "edges_small = getting_edges(streets_small, nodes_small)\n",
    "# edges_large = getting_edges(streets_large, nodes_large)"
   ]
  },
  {
   "cell_type": "markdown",
   "metadata": {},
   "source": [
    "# Indexes computation - Nodes"
   ]
  },
  {
   "cell_type": "code",
   "execution_count": 15,
   "metadata": {
    "collapsed": true
   },
   "outputs": [],
   "source": [
    "G = ox.gdfs_to_graph(nodes_small, edges_small)\n",
    "t = G.nodes()\n",
    "pos = {}\n",
    "\n",
    "for l, item in enumerate(t): pos[l] = (t[l]['x'],t[l]['y'])\n",
    "\n",
    "Ng = nx.Graph() #Empty graph\n",
    "Ng = Ng.to_undirected()\n",
    "Ng.add_nodes_from(pos.keys()) #Add nodes preserving coordinates\n",
    "\n",
    "for i, item in enumerate(Ng.nodes()):\n",
    "    Ng.node[i]['x']=pos[i][0]\n",
    "    Ng.node[i]['y']=pos[i][1]\n",
    "\n",
    "for i, item in enumerate(G.edges()):\n",
    "    Ng.add_edge(item[0], item[1])\n",
    "    Ng[item[0]][item[1]]['distance']=G[item[0]][item[1]][0]['distance']\n",
    "    Ng[item[0]][item[1]]['streetID']=G[item[0]][item[1]][0]['streetID']"
   ]
  },
  {
   "cell_type": "markdown",
   "metadata": {},
   "source": [
    "## Centrality measures"
   ]
  },
  {
   "cell_type": "code",
   "execution_count": 16,
   "metadata": {
    "collapsed": true
   },
   "outputs": [],
   "source": [
    "Cb = nx.betweenness_centrality(Ng, k=None, weight = 'distance', normalized=False)"
   ]
  },
  {
   "cell_type": "code",
   "execution_count": 17,
   "metadata": {
    "collapsed": true
   },
   "outputs": [],
   "source": [
    "def straightness_centrality(G, distance, normalized=True):\n",
    "\n",
    "    path_length = functools.partial(nx.single_source_dijkstra_path_length, weight=distance)\n",
    "\n",
    "    nodes = G.nodes()\n",
    "    straightness_centrality = {}\n",
    "\n",
    "    # Initialize dictionary containing all the node id and coordinates\n",
    "    # coord_nodes = get_nodes_coords(Node, Session)\n",
    "    coord_nodes = nodes_dict(G)\n",
    "\n",
    "    for n in nodes:\n",
    "        straightness = 0\n",
    "        sp = path_length(G,n)\n",
    "\n",
    "        if len(sp) > 0 and len(G) > 1:\n",
    "            # start computing the sum of euclidean distances\n",
    "\n",
    "            for target in sp:\n",
    "                if n != target and target in coord_nodes:\n",
    "                    network_dist = sp[target]\n",
    "                    euclidean_dist = euclidean_distance(*coord_nodes[n]+coord_nodes[target])\n",
    "                    straightness = straightness + (euclidean_dist/network_dist)\n",
    "\n",
    "            straightness_centrality[n]= straightness\n",
    "               \n",
    "            if normalized:\n",
    "                straightness_centrality[n] = straightness * (1.0/(len(G)-1.0) )\n",
    "\n",
    "        else:\n",
    "            straightness_centrality[n]=0.0\n",
    "\n",
    "    return straightness_centrality\n",
    "\n",
    "\n",
    "def euclidean_distance(xs, ys, xt, yt):\n",
    "    \"\"\" xs stands for x source and xt for x target \"\"\"\n",
    "    return sqrt((xs - xt)**2 + (ys - yt)**2)\n",
    "\n",
    "def nodes_dict(G):\n",
    "    nodes_list = G.nodes()\n",
    "    look = {}\n",
    "\n",
    "    for i in range(0, len(nodes_list)):\n",
    "        cod = i\n",
    "        x = nodes_list[i]['x']\n",
    "        y = nodes_list[i]['y']\n",
    "        look[cod] = (x,y)\n",
    "    \n",
    "    return look"
   ]
  },
  {
   "cell_type": "code",
   "execution_count": 18,
   "metadata": {
    "collapsed": true
   },
   "outputs": [],
   "source": [
    "Cs = straightness_centrality(Ng, 'distance', normalized=False) #dijkstra_path_length reads nested weights"
   ]
  },
  {
   "cell_type": "code",
   "execution_count": 19,
   "metadata": {
    "collapsed": true
   },
   "outputs": [],
   "source": [
    "def to_df(list_dict, list_col):\n",
    "    \n",
    "    df = pd.DataFrame(list_dict).T\n",
    "    df.columns = ['d{}'.format(i) for i, col in enumerate(df, 1)]\n",
    "    df.columns = list_col\n",
    "    \n",
    "    return(df)"
   ]
  },
  {
   "cell_type": "code",
   "execution_count": 21,
   "metadata": {
    "collapsed": true
   },
   "outputs": [],
   "source": [
    "nodes_df = to_df([Cb, Cs], [\"Cb\", \"Cs\"])"
   ]
  },
  {
   "cell_type": "code",
   "execution_count": 22,
   "metadata": {},
   "outputs": [
    {
     "data": {
      "text/html": [
       "<div>\n",
       "<style>\n",
       "    .dataframe thead tr:only-child th {\n",
       "        text-align: right;\n",
       "    }\n",
       "\n",
       "    .dataframe thead th {\n",
       "        text-align: left;\n",
       "    }\n",
       "\n",
       "    .dataframe tbody tr th {\n",
       "        vertical-align: top;\n",
       "    }\n",
       "</style>\n",
       "<table border=\"1\" class=\"dataframe\">\n",
       "  <thead>\n",
       "    <tr style=\"text-align: right;\">\n",
       "      <th></th>\n",
       "      <th>Cb</th>\n",
       "      <th>Cs</th>\n",
       "      <th>Ci</th>\n",
       "    </tr>\n",
       "  </thead>\n",
       "  <tbody>\n",
       "    <tr>\n",
       "      <th>0</th>\n",
       "      <td>24425.0</td>\n",
       "      <td>3120.9748873607</td>\n",
       "      <td>0.0044862705</td>\n",
       "    </tr>\n",
       "    <tr>\n",
       "      <th>1</th>\n",
       "      <td>4000.0</td>\n",
       "      <td>3181.4789456433</td>\n",
       "      <td>0.0035892507</td>\n",
       "    </tr>\n",
       "    <tr>\n",
       "      <th>2</th>\n",
       "      <td>52854.0</td>\n",
       "      <td>3039.7841641378</td>\n",
       "      <td>0.0043940078</td>\n",
       "    </tr>\n",
       "    <tr>\n",
       "      <th>3</th>\n",
       "      <td>425069.0</td>\n",
       "      <td>3172.7245591324</td>\n",
       "      <td>0.0048351233</td>\n",
       "    </tr>\n",
       "    <tr>\n",
       "      <th>4</th>\n",
       "      <td>0.0</td>\n",
       "      <td>3176.4033371200</td>\n",
       "      <td>0.0027342076</td>\n",
       "    </tr>\n",
       "  </tbody>\n",
       "</table>\n",
       "</div>"
      ],
      "text/plain": [
       "         Cb               Cs            Ci\n",
       "0   24425.0  3120.9748873607  0.0044862705\n",
       "1    4000.0  3181.4789456433  0.0035892507\n",
       "2   52854.0  3039.7841641378  0.0043940078\n",
       "3  425069.0  3172.7245591324  0.0048351233\n",
       "4       0.0  3176.4033371200  0.0027342076"
      ]
     },
     "execution_count": 22,
     "metadata": {},
     "output_type": "execute_result"
    }
   ],
   "source": [
    "nodes_df.head()"
   ]
  },
  {
   "cell_type": "code",
   "execution_count": 23,
   "metadata": {
    "collapsed": true
   },
   "outputs": [],
   "source": [
    "nodes_tmp = pd.merge(nodes_small, nodes_df, left_index = True, right_index = True, how='left')"
   ]
  },
  {
   "cell_type": "code",
   "execution_count": 30,
   "metadata": {
    "collapsed": true
   },
   "outputs": [],
   "source": [
    "# POI = gpd.read_file('Outputs/POI.shp')\n",
    "POI = gpd.read_file(folder_ouptut+'/POI_'+city_name+'.shp')"
   ]
  },
  {
   "cell_type": "code",
   "execution_count": 31,
   "metadata": {
    "collapsed": true
   },
   "outputs": [],
   "source": [
    "POI = POI.to_crs(epsg=epsg)"
   ]
  },
  {
   "cell_type": "markdown",
   "metadata": {},
   "source": [
    "## Reach centrality and local Cb"
   ]
  },
  {
   "cell_type": "code",
   "execution_count": 32,
   "metadata": {
    "collapsed": true
   },
   "outputs": [],
   "source": [
    "for row in nodes_tmp.itertuples():\n",
    "\n",
    "    g = row[3] #geometry\n",
    "    fil = g.buffer(50)\n",
    "    \n",
    "    sindex = POI.sindex\n",
    "    possible_matches_index = list(sindex.intersection(fil.bounds))\n",
    "    possible_matches = POI.iloc[possible_matches_index]\n",
    "    \n",
    "    \n",
    "    weight = len(possible_matches)\n",
    "    nodes_tmp.set_value(row[0], 'weight', weight)"
   ]
  },
  {
   "cell_type": "code",
   "execution_count": 33,
   "metadata": {
    "collapsed": true
   },
   "outputs": [],
   "source": [
    "nodes_tmp.gdf_name = \"weighted\""
   ]
  },
  {
   "cell_type": "code",
   "execution_count": 34,
   "metadata": {
    "collapsed": true
   },
   "outputs": [],
   "source": [
    "for n in Ng.nodes():\n",
    "    Ng.node[n]['weight'] = nodes_tmp['weight'].loc[n]"
   ]
  },
  {
   "cell_type": "code",
   "execution_count": 35,
   "metadata": {
    "collapsed": true
   },
   "outputs": [],
   "source": [
    "def reach(G, distance, radius, normalized=True):\n",
    "  \n",
    "    path_length = functools.partial(nx.single_source_dijkstra_path_length, weight=distance)\n",
    "\n",
    "    nodes = G.nodes()\n",
    "    reach_centrality = {}\n",
    "    coord_nodes = nodes_dict(G)\n",
    "\n",
    "    for n in nodes:\n",
    "        reach = 0\n",
    "        sp = path_length(G,n)\n",
    "        sp_radium = dict((k, v) for k, v in sp.items() if v <= radius)\n",
    "        \n",
    "        if len(sp_radium) > 0 and len(G) > 1:\n",
    "            \n",
    "            for target in sp_radium:\n",
    "                if n != target and target in coord_nodes:\n",
    "                    weight_target = G.node[target]['weight']\n",
    "                    reach = reach + weight_target\n",
    "                        \n",
    "\n",
    "            reach_centrality[n] = reach\n",
    "\n",
    "        else:               \n",
    "            reach_centrality[n]=0.0\n",
    "\n",
    "    return reach_centrality"
   ]
  },
  {
   "cell_type": "code",
   "execution_count": 36,
   "metadata": {
    "collapsed": true
   },
   "outputs": [],
   "source": [
    "# different radius\n",
    "# R_400 = reach(Ng, 'distance', radius=400, normalized=False) #dijkstra_path_length reads nested weights\n",
    "Rc600 = reach(Ng, 'distance', radius=600, normalized=False) #dijkstra_path_length reads nested weights"
   ]
  },
  {
   "cell_type": "code",
   "execution_count": 37,
   "metadata": {
    "collapsed": true
   },
   "outputs": [],
   "source": [
    "def local_CB(G, w, radius, distance=True):\n",
    "\n",
    "    if distance is True:\n",
    "        distance=w\n",
    "        \n",
    "    path_length = functools.partial(nx.single_source_dijkstra_path_length, weight=distance)\n",
    "\n",
    "    nodes = G.nodes()\n",
    "    cb = {}\n",
    "    coord_nodes = nodes_dict(G)\n",
    "\n",
    "    for obj in nodes:\n",
    "        sp = path_length(G,obj)\n",
    "        sp_radium = dict((k, v) for k, v in sp.items() if v <= radius)\n",
    "\n",
    "        to_keep = list(sp_radium.keys())\n",
    "\n",
    "        G_small = nx.Graph(G.subgraph(to_keep))\n",
    "        \n",
    "        be = nx.betweenness_centrality(G_small, k=None, weight = 'distance', normalized=False)\n",
    "        cb[obj] = be[obj]\n",
    "     \n",
    "    return cb"
   ]
  },
  {
   "cell_type": "code",
   "execution_count": 38,
   "metadata": {
    "collapsed": true
   },
   "outputs": [],
   "source": [
    "Cb_600 = local_CB(Ng, 'distance', radius=600, distance = True) #dijkstra_path_length reads nested weights\n",
    "# Cb_800 = local_CB(Ng,'distance', radius=800, distance = True) #dijkstra_path_length reads nested weights"
   ]
  },
  {
   "cell_type": "code",
   "execution_count": 44,
   "metadata": {
    "collapsed": true
   },
   "outputs": [],
   "source": [
    "indexes_df = to_df([Rc600, Bc600], [\"Rc600\",\"Bc600\"])"
   ]
  },
  {
   "cell_type": "code",
   "execution_count": 45,
   "metadata": {
    "collapsed": true
   },
   "outputs": [],
   "source": [
    "nodes = pd.merge(nodes_tmp, indexes_df, left_index = True, right_index=True, how='left')"
   ]
  },
  {
   "cell_type": "code",
   "execution_count": null,
   "metadata": {},
   "outputs": [],
   "source": [
    "def scaling(df, i):\n",
    "    df[i+'_scaled'] = (df[i]-df[i].min())/(df[i].max()-df[i].min())"
   ]
  },
  {
   "cell_type": "code",
   "execution_count": 47,
   "metadata": {
    "collapsed": true
   },
   "outputs": [],
   "source": [
    "col = ['Bc', 'Sc', 'Rc600', 'Bc600']\n",
    "\n",
    "for i in col:\n",
    "    scaling(nodes, i)\n",
    "\n",
    "nodes['nodeID'] = nodes.index.values.astype(int)"
   ]
  },
  {
   "cell_type": "code",
   "execution_count": 48,
   "metadata": {},
   "outputs": [
    {
     "data": {
      "text/html": [
       "<div>\n",
       "<style>\n",
       "    .dataframe thead tr:only-child th {\n",
       "        text-align: right;\n",
       "    }\n",
       "\n",
       "    .dataframe thead th {\n",
       "        text-align: left;\n",
       "    }\n",
       "\n",
       "    .dataframe tbody tr th {\n",
       "        vertical-align: top;\n",
       "    }\n",
       "</style>\n",
       "<table border=\"1\" class=\"dataframe\">\n",
       "  <thead>\n",
       "    <tr style=\"text-align: right;\">\n",
       "      <th></th>\n",
       "      <th>x</th>\n",
       "      <th>y</th>\n",
       "      <th>geometry</th>\n",
       "      <th>nodeID</th>\n",
       "      <th>Cb</th>\n",
       "      <th>Cs</th>\n",
       "      <th>Ci</th>\n",
       "      <th>weight</th>\n",
       "      <th>Cr_400</th>\n",
       "      <th>Cr_600</th>\n",
       "      <th>...</th>\n",
       "      <th>Cb_800</th>\n",
       "      <th>Cb_scaled</th>\n",
       "      <th>Cb_std</th>\n",
       "      <th>Cs_scaled</th>\n",
       "      <th>Cs_std</th>\n",
       "      <th>Cr_400_scaled</th>\n",
       "      <th>Cr_400_std</th>\n",
       "      <th>Cb_600_scaled</th>\n",
       "      <th>Cb_600_std</th>\n",
       "      <th>MCA</th>\n",
       "    </tr>\n",
       "  </thead>\n",
       "  <tbody>\n",
       "    <tr>\n",
       "      <th>0</th>\n",
       "      <td>529767.0000001178</td>\n",
       "      <td>181173.9999995434</td>\n",
       "      <td>POINT (529767.0000001178 181173.9999995434)</td>\n",
       "      <td>0</td>\n",
       "      <td>24425.0</td>\n",
       "      <td>3120.9748873607</td>\n",
       "      <td>0.0044862705</td>\n",
       "      <td>70.0</td>\n",
       "      <td>2664.0</td>\n",
       "      <td>7278.0</td>\n",
       "      <td>...</td>\n",
       "      <td>1352.0</td>\n",
       "      <td>0.0194867155</td>\n",
       "      <td>-0.4295539204</td>\n",
       "      <td>0.7429054505</td>\n",
       "      <td>0.2339684293</td>\n",
       "      <td>0.4463059139</td>\n",
       "      <td>1.2344785301</td>\n",
       "      <td>0.1336083214</td>\n",
       "      <td>-0.0819151786</td>\n",
       "      <td>0.3020660508</td>\n",
       "    </tr>\n",
       "    <tr>\n",
       "      <th>1</th>\n",
       "      <td>532289.0800001298</td>\n",
       "      <td>182423.6899994875</td>\n",
       "      <td>POINT (532289.0800001298 182423.6899994875)</td>\n",
       "      <td>1</td>\n",
       "      <td>4000.0</td>\n",
       "      <td>3181.4789456433</td>\n",
       "      <td>0.0035892507</td>\n",
       "      <td>6.0</td>\n",
       "      <td>871.0</td>\n",
       "      <td>1833.0</td>\n",
       "      <td>...</td>\n",
       "      <td>935.0</td>\n",
       "      <td>0.0031912738</td>\n",
       "      <td>-0.5980834761</td>\n",
       "      <td>0.8214265455</td>\n",
       "      <td>0.9024245041</td>\n",
       "      <td>0.1459205897</td>\n",
       "      <td>-0.3786503257</td>\n",
       "      <td>0.1020444763</td>\n",
       "      <td>-0.2987480062</td>\n",
       "      <td>0.1303962947</td>\n",
       "    </tr>\n",
       "    <tr>\n",
       "      <th>2</th>\n",
       "      <td>531336.0000001253</td>\n",
       "      <td>180096.9999995109</td>\n",
       "      <td>POINT (531336.0000001253 180096.9999995109)</td>\n",
       "      <td>2</td>\n",
       "      <td>52854.0</td>\n",
       "      <td>3039.7841641378</td>\n",
       "      <td>0.0043940078</td>\n",
       "      <td>6.0</td>\n",
       "      <td>643.0</td>\n",
       "      <td>1327.0</td>\n",
       "      <td>...</td>\n",
       "      <td>812.0</td>\n",
       "      <td>0.0421678961</td>\n",
       "      <td>-0.1949822318</td>\n",
       "      <td>0.6375375682</td>\n",
       "      <td>-0.6630363948</td>\n",
       "      <td>0.1077232367</td>\n",
       "      <td>-0.5837776984</td>\n",
       "      <td>0.0835724534</td>\n",
       "      <td>-0.4256444904</td>\n",
       "      <td>0.1011190760</td>\n",
       "    </tr>\n",
       "    <tr>\n",
       "      <th>3</th>\n",
       "      <td>530201.0000001198</td>\n",
       "      <td>181209.9999995350</td>\n",
       "      <td>POINT (530201.0000001198 181209.999999535)</td>\n",
       "      <td>3</td>\n",
       "      <td>425069.0</td>\n",
       "      <td>3172.7245591324</td>\n",
       "      <td>0.0048351233</td>\n",
       "      <td>37.0</td>\n",
       "      <td>3184.0</td>\n",
       "      <td>7005.0</td>\n",
       "      <td>...</td>\n",
       "      <td>2258.0</td>\n",
       "      <td>0.3391278887</td>\n",
       "      <td>2.8762162306</td>\n",
       "      <td>0.8100652577</td>\n",
       "      <td>0.8057049946</td>\n",
       "      <td>0.5334226839</td>\n",
       "      <td>1.7023128887</td>\n",
       "      <td>0.2152080344</td>\n",
       "      <td>0.4786469607</td>\n",
       "      <td>0.3936211191</td>\n",
       "    </tr>\n",
       "    <tr>\n",
       "      <th>4</th>\n",
       "      <td>533437.1500001356</td>\n",
       "      <td>181216.5099994599</td>\n",
       "      <td>POINT (533437.1500001356 181216.5099994599)</td>\n",
       "      <td>4</td>\n",
       "      <td>0.0</td>\n",
       "      <td>3176.4033371200</td>\n",
       "      <td>0.0027342076</td>\n",
       "      <td>22.0</td>\n",
       "      <td>934.0</td>\n",
       "      <td>2947.0</td>\n",
       "      <td>...</td>\n",
       "      <td>0.0</td>\n",
       "      <td>0.0000000000</td>\n",
       "      <td>-0.6310880403</td>\n",
       "      <td>0.8148395106</td>\n",
       "      <td>0.8463485739</td>\n",
       "      <td>0.1564751215</td>\n",
       "      <td>-0.3219703938</td>\n",
       "      <td>0.0000000000</td>\n",
       "      <td>-0.9997586815</td>\n",
       "      <td>0.0830254684</td>\n",
       "    </tr>\n",
       "  </tbody>\n",
       "</table>\n",
       "<p>5 rows × 21 columns</p>\n",
       "</div>"
      ],
      "text/plain": [
       "                   x                  y  \\\n",
       "0  529767.0000001178  181173.9999995434   \n",
       "1  532289.0800001298  182423.6899994875   \n",
       "2  531336.0000001253  180096.9999995109   \n",
       "3  530201.0000001198  181209.9999995350   \n",
       "4  533437.1500001356  181216.5099994599   \n",
       "\n",
       "                                      geometry  nodeID        Cb  \\\n",
       "0  POINT (529767.0000001178 181173.9999995434)       0   24425.0   \n",
       "1  POINT (532289.0800001298 182423.6899994875)       1    4000.0   \n",
       "2  POINT (531336.0000001253 180096.9999995109)       2   52854.0   \n",
       "3   POINT (530201.0000001198 181209.999999535)       3  425069.0   \n",
       "4  POINT (533437.1500001356 181216.5099994599)       4       0.0   \n",
       "\n",
       "                Cs            Ci  weight  Cr_400  Cr_600      ...       \\\n",
       "0  3120.9748873607  0.0044862705    70.0  2664.0  7278.0      ...        \n",
       "1  3181.4789456433  0.0035892507     6.0   871.0  1833.0      ...        \n",
       "2  3039.7841641378  0.0043940078     6.0   643.0  1327.0      ...        \n",
       "3  3172.7245591324  0.0048351233    37.0  3184.0  7005.0      ...        \n",
       "4  3176.4033371200  0.0027342076    22.0   934.0  2947.0      ...        \n",
       "\n",
       "   Cb_800     Cb_scaled        Cb_std     Cs_scaled        Cs_std  \\\n",
       "0  1352.0  0.0194867155 -0.4295539204  0.7429054505  0.2339684293   \n",
       "1   935.0  0.0031912738 -0.5980834761  0.8214265455  0.9024245041   \n",
       "2   812.0  0.0421678961 -0.1949822318  0.6375375682 -0.6630363948   \n",
       "3  2258.0  0.3391278887  2.8762162306  0.8100652577  0.8057049946   \n",
       "4     0.0  0.0000000000 -0.6310880403  0.8148395106  0.8463485739   \n",
       "\n",
       "   Cr_400_scaled    Cr_400_std  Cb_600_scaled    Cb_600_std           MCA  \n",
       "0   0.4463059139  1.2344785301   0.1336083214 -0.0819151786  0.3020660508  \n",
       "1   0.1459205897 -0.3786503257   0.1020444763 -0.2987480062  0.1303962947  \n",
       "2   0.1077232367 -0.5837776984   0.0835724534 -0.4256444904  0.1011190760  \n",
       "3   0.5334226839  1.7023128887   0.2152080344  0.4786469607  0.3936211191  \n",
       "4   0.1564751215 -0.3219703938   0.0000000000 -0.9997586815  0.0830254684  \n",
       "\n",
       "[5 rows x 21 columns]"
      ]
     },
     "execution_count": 48,
     "metadata": {},
     "output_type": "execute_result"
    }
   ],
   "source": [
    "nodes.head()"
   ]
  },
  {
   "cell_type": "code",
   "execution_count": 49,
   "metadata": {
    "collapsed": true
   },
   "outputs": [],
   "source": [
    "nodes.crs = crs\n",
    "nodes['height'] = 2"
   ]
  },
  {
   "cell_type": "code",
   "execution_count": 51,
   "metadata": {
    "collapsed": true
   },
   "outputs": [],
   "source": [
    "nodes.to_file(folder_ouptut+city_name+'_nodes.shp', driver='ESRI Shapefile')"
   ]
  },
  {
   "cell_type": "markdown",
   "metadata": {},
   "source": [
    "# Paths"
   ]
  },
  {
   "cell_type": "code",
   "execution_count": 52,
   "metadata": {
    "collapsed": true
   },
   "outputs": [],
   "source": [
    "Eb = nx.edge_betweenness_centrality(Ng, weight='distance', normalized=False)"
   ]
  },
  {
   "cell_type": "code",
   "execution_count": 53,
   "metadata": {
    "collapsed": true
   },
   "outputs": [],
   "source": [
    "edge_id={}\n",
    "for i, g in Ng.edges(): edge_id[(i,g)]=Ng[i][g]['streetID']\n",
    "\n",
    "edges_df = to_df([Eb, edge_id], [\"Eb\", \"streetID\"])\n",
    "edges_df.streetID = edges_df.streetID.astype(int)"
   ]
  },
  {
   "cell_type": "code",
   "execution_count": 54,
   "metadata": {
    "collapsed": true
   },
   "outputs": [],
   "source": [
    "paths_tmp = pd.merge(edges_small, edges_df, left_on = 'streetID', right_on = 'streetID', how='left')"
   ]
  },
  {
   "cell_type": "markdown",
   "metadata": {},
   "source": [
    "# Dual Analysis"
   ]
  },
  {
   "cell_type": "code",
   "execution_count": 55,
   "metadata": {
    "collapsed": true
   },
   "outputs": [],
   "source": [
    "# centroids for dual analysis\n",
    "\n",
    "def getting_cn(streets_gdf):\n",
    "    \n",
    "    centroids_gdf = streets_gdf.copy()\n",
    "    centroids_gdf['centroid'] = gpd.GeoSeries(centroids_gdf['geometry'].centroid)\n",
    "    centroids_gdf['intersecting'] = \"NaN\"\n",
    "    centroids_gdf['intersecting'] = centroids_gdf['intersecting'].astype(object)\n",
    "    \n",
    "    return(centroids_gdf)\n",
    "\n",
    "centroids_small = getting_cn(edges_small)\n",
    "# centroids_large = getting_cn(edges_large)"
   ]
  },
  {
   "cell_type": "code",
   "execution_count": 58,
   "metadata": {},
   "outputs": [
    {
     "data": {
      "text/html": [
       "<div>\n",
       "<style>\n",
       "    .dataframe thead tr:only-child th {\n",
       "        text-align: right;\n",
       "    }\n",
       "\n",
       "    .dataframe thead th {\n",
       "        text-align: left;\n",
       "    }\n",
       "\n",
       "    .dataframe tbody tr th {\n",
       "        vertical-align: top;\n",
       "    }\n",
       "</style>\n",
       "<table border=\"1\" class=\"dataframe\">\n",
       "  <thead>\n",
       "    <tr style=\"text-align: right;\">\n",
       "      <th></th>\n",
       "      <th>geometry</th>\n",
       "      <th>streetID</th>\n",
       "      <th>u</th>\n",
       "      <th>v</th>\n",
       "      <th>key</th>\n",
       "      <th>distance</th>\n",
       "      <th>centroid</th>\n",
       "      <th>intersecting</th>\n",
       "    </tr>\n",
       "  </thead>\n",
       "  <tbody>\n",
       "    <tr>\n",
       "      <th>0</th>\n",
       "      <td>LINESTRING (528421.0000001118 180948.999999571...</td>\n",
       "      <td>0</td>\n",
       "      <td>886</td>\n",
       "      <td>199</td>\n",
       "      <td>0</td>\n",
       "      <td>90.7584444386</td>\n",
       "      <td>POINT (528448.9147123025 180970.8538257579)</td>\n",
       "      <td>NaN</td>\n",
       "    </tr>\n",
       "    <tr>\n",
       "      <th>1</th>\n",
       "      <td>LINESTRING (533740.0500001372 181263.939999453...</td>\n",
       "      <td>1</td>\n",
       "      <td>2718</td>\n",
       "      <td>1085</td>\n",
       "      <td>0</td>\n",
       "      <td>307.5254896358</td>\n",
       "      <td>POINT (533787.1696836202 181119.9464193996)</td>\n",
       "      <td>NaN</td>\n",
       "    </tr>\n",
       "    <tr>\n",
       "      <th>2</th>\n",
       "      <td>LINESTRING (533835.3200001377 180907.189999451...</td>\n",
       "      <td>2</td>\n",
       "      <td>1861</td>\n",
       "      <td>1534</td>\n",
       "      <td>0</td>\n",
       "      <td>131.1818512142</td>\n",
       "      <td>POINT (533836.4036256567 180842.4056228355)</td>\n",
       "      <td>NaN</td>\n",
       "    </tr>\n",
       "    <tr>\n",
       "      <th>3</th>\n",
       "      <td>LINESTRING (528136.0000001106 180780.999999577...</td>\n",
       "      <td>3</td>\n",
       "      <td>3213</td>\n",
       "      <td>3486</td>\n",
       "      <td>0</td>\n",
       "      <td>148.7149451569</td>\n",
       "      <td>POINT (528206.3074209788 180805.1229684248)</td>\n",
       "      <td>NaN</td>\n",
       "    </tr>\n",
       "    <tr>\n",
       "      <th>4</th>\n",
       "      <td>LINESTRING (532764.1500001322 180312.289999477...</td>\n",
       "      <td>4</td>\n",
       "      <td>3698</td>\n",
       "      <td>875</td>\n",
       "      <td>0</td>\n",
       "      <td>261.7112357594</td>\n",
       "      <td>POINT (532889.7397718716 180278.3508118218)</td>\n",
       "      <td>NaN</td>\n",
       "    </tr>\n",
       "  </tbody>\n",
       "</table>\n",
       "</div>"
      ],
      "text/plain": [
       "                                            geometry  streetID     u     v  \\\n",
       "0  LINESTRING (528421.0000001118 180948.999999571...         0   886   199   \n",
       "1  LINESTRING (533740.0500001372 181263.939999453...         1  2718  1085   \n",
       "2  LINESTRING (533835.3200001377 180907.189999451...         2  1861  1534   \n",
       "3  LINESTRING (528136.0000001106 180780.999999577...         3  3213  3486   \n",
       "4  LINESTRING (532764.1500001322 180312.289999477...         4  3698   875   \n",
       "\n",
       "   key        distance                                     centroid  \\\n",
       "0    0   90.7584444386  POINT (528448.9147123025 180970.8538257579)   \n",
       "1    0  307.5254896358  POINT (533787.1696836202 181119.9464193996)   \n",
       "2    0  131.1818512142  POINT (533836.4036256567 180842.4056228355)   \n",
       "3    0  148.7149451569  POINT (528206.3074209788 180805.1229684248)   \n",
       "4    0  261.7112357594  POINT (532889.7397718716 180278.3508118218)   \n",
       "\n",
       "  intersecting  \n",
       "0          NaN  \n",
       "1          NaN  \n",
       "2          NaN  \n",
       "3          NaN  \n",
       "4          NaN  "
      ]
     },
     "execution_count": 58,
     "metadata": {},
     "output_type": "execute_result"
    }
   ],
   "source": [
    "centroids_small.head()"
   ]
  },
  {
   "cell_type": "code",
   "execution_count": 59,
   "metadata": {
    "collapsed": true
   },
   "outputs": [],
   "source": [
    "#find_intersecting\n",
    "\n",
    "def find_intersecting(centroids_gdf):\n",
    "    \n",
    "    processed = []    \n",
    "    for e in centroids_gdf.itertuples():\n",
    "        intersections = []\n",
    "        \n",
    "        from_node = e[3] #check before running the right column of \"u\" and \"v\"\n",
    "        to_node = e[4]\n",
    "    \n",
    "        tmp = centroids_gdf.loc[(centroids_gdf['u'] == from_node) |\n",
    "                        (centroids_gdf['u'] == to_node) |\n",
    "                        (centroids_gdf['v'] == to_node) |\n",
    "                        (centroids_gdf['v'] == from_node)]\n",
    "\n",
    "        for l in tmp.itertuples():\n",
    "            if ((e[0]==l[0]) | ((e[0], l[0]) in processed) | ((l[0], e[0]) in processed)): continue\n",
    "        \n",
    "            else:\n",
    "                intersections.append(l[2])  #appending streetID\n",
    "                processed.append((l[0],e[0]))\n",
    "    \n",
    "        centroids_gdf.set_value(e[0],'intersecting', intersections)\n",
    "    \n",
    "    return(centroids_gdf)\n",
    "\n",
    "centroids_small = find_intersecting(centroids_small)\n",
    "# centroids_large = find_intersecting(centroids_large)"
   ]
  },
  {
   "cell_type": "code",
   "execution_count": 60,
   "metadata": {
    "collapsed": true
   },
   "outputs": [],
   "source": [
    "#creating nodes representing street segments\n",
    "\n",
    "def dual_nodes(centroids_gdf):\n",
    "\n",
    "    centroids_data = centroids_gdf[['streetID', 'intersecting', 'distance']]\n",
    "    geometry = centroids_gdf['centroid']\n",
    "    \n",
    "    nodes_dual = gpd.GeoDataFrame(centroids_data, crs=crs, geometry=geometry)\n",
    "    nodes_dual['x'] = [x.coords.xy[0][0] for x in centroids_gdf['centroid']]\n",
    "    nodes_dual['y'] = [y.coords.xy[1][0] for y in centroids_gdf['centroid']]\n",
    "    \n",
    "    return(nodes_dual)\n",
    "\n",
    "nodesDual_small = dual_nodes(centroids_small)\n",
    "# nodesDual_large = dual_nodes(centroids_large)"
   ]
  },
  {
   "cell_type": "code",
   "execution_count": 61,
   "metadata": {
    "collapsed": true
   },
   "outputs": [],
   "source": [
    "def dual_edges(nodes_dual, centroids_gdf):\n",
    "\n",
    "    edges_dual = pd.DataFrame(columns=['u','v', 'key', 'geometry', 'distance'])\n",
    "\n",
    "    for row in nodes_dual.itertuples():\n",
    "        \n",
    "        obj_id = row[1] #streetID of the relative segment\n",
    "        length = row[3]\n",
    "\n",
    "        for i in list(row[2]): #intersecting segments\n",
    "            # i is the streetID\n",
    "            index = centroids_gdf.index[centroids_gdf.streetID==i].tolist()[0]\n",
    "            length_v =  centroids_gdf['distance'][centroids_gdf.streetID==i][index]\n",
    "            distance = (length+length_v)/2\n",
    "        \n",
    "            # adding a row with u-v, key fixed as 0, Linestring geometry \n",
    "            # from the first centroid to centroid intersecting segment \n",
    "        \n",
    "            edges_dual.loc[-1] = [obj_id, i, 0,  \n",
    "                                LineString([row[4], nodes_dual.loc[index]['geometry']]),\n",
    "                                distance] \n",
    "          \n",
    "            edges_dual.index = edges_dual.index + 1\n",
    "            \n",
    "    edges_dual = edges_dual.sort_index(axis=0)\n",
    "    geometry = edges_dual['geometry']\n",
    "    edges_dual = gpd.GeoDataFrame(edges_dual[['u','v', 'key', 'distance']], crs=crs, geometry=geometry)\n",
    "    \n",
    "    return(edges_dual)\n",
    "\n",
    "edgesDual_small = dual_edges(nodesDual_small, centroids_small)\n",
    "# edgesDual_large = dual_edges(nodesDual_large, centroids_large)"
   ]
  },
  {
   "cell_type": "code",
   "execution_count": 62,
   "metadata": {
    "collapsed": true
   },
   "outputs": [],
   "source": [
    "#computing angles\n",
    "\n",
    "def finding_angles(edges_dual, edges, nodes):\n",
    "    \n",
    "    for row in edges_dual.itertuples():\n",
    "\n",
    "        #retrieveing original lines from/to\n",
    "    \n",
    "        from_node = nodes.loc[edges['u'].loc[edges.streetID==row[1]]].index.tolist()[0]\n",
    "        to_node = nodes.loc[edges['v'].loc[edges.streetID==row[1]]].index.tolist()[0]\n",
    "                                            \n",
    "        from_node2 = nodes.loc[edges['u'].loc[edges.streetID==row[2]]].index.tolist()[0]           \n",
    "        to_node2 = nodes.loc[edges['v'].loc[edges.streetID==row[2]]].index.tolist()[0]\n",
    "    \n",
    "        if ((from_node == from_node2) & (to_node == to_node2) |\n",
    "            (from_node == to_node2) & (to_node == from_node2)):\n",
    "            \n",
    "            deflection = 0\n",
    "            deflection_rad=0\n",
    "    \n",
    "        else:\n",
    "         \n",
    "            try:  \n",
    "        \n",
    "                x_f = float(\"{0:.10f}\".format(nodes.loc[from_node]['x']))\n",
    "                y_f = float(\"{0:.10f}\".format(nodes.loc[from_node]['y']))\n",
    "                x_t = float(\"{0:.10f}\".format(nodes.loc[to_node]['x']))\n",
    "                y_t = float(\"{0:.10f}\".format(nodes.loc[to_node]['y']))\n",
    "            \n",
    "                x_f2 = float(\"{0:.10f}\".format(nodes.loc[from_node2]['x']))\n",
    "                y_f2 = float(\"{0:.10f}\".format(nodes.loc[from_node2]['y']))    \n",
    "                x_t2 = float(\"{0:.10f}\".format(nodes.loc[to_node2]['x']))\n",
    "                y_t2 = float(\"{0:.10f}\".format(nodes.loc[to_node2]['y']))          \n",
    "                             \n",
    "                if (to_node == to_node2):\n",
    "                    lineA = ((x_f, y_f),(x_t,y_t))\n",
    "                    lineB = ((x_t2, y_t2),(x_f2, y_f2))\n",
    "    \n",
    "                elif (to_node == from_node2):\n",
    "                    lineA = ((x_f, y_f),(x_t,y_t))\n",
    "                    lineB = ((x_f2, y_f2),(x_t2, y_t2))\n",
    "\n",
    "                elif (from_node == from_node2):\n",
    "                    lineA = ((x_t, y_t),(x_f,y_f))\n",
    "                    lineB = ((x_f2, y_f2),(x_t2, y_t2))\n",
    "\n",
    "                else: #(from_node == to_node2)\n",
    "                    lineA = ((x_t, y_t),(x_f,y_f))\n",
    "                    lineB = ((x_t2, y_t2),(x_f2, y_f2))\n",
    "        \n",
    "                deflection = ang(lineA, lineB)\n",
    "                deflection_rad = ang_rad(lineA, lineB)\n",
    "            \n",
    "            except:\n",
    "                deflection = 0\n",
    "                deflection_rad = 0\n",
    "    \n",
    "        edges_dual.set_value(row[0],'angle', deflection)\n",
    "        edges_dual.set_value(row[0],'angle_rad', deflection_rad)\n",
    "        \n",
    "    return(edges_dual)\n",
    "    \n",
    "edgesDual_small = finding_angles(edgesDual_small, edges_small, nodes_small)\n",
    "# edgesDual_large = finding_angles(edgesDual_large, edges_large, nodes_large)"
   ]
  },
  {
   "cell_type": "code",
   "execution_count": 63,
   "metadata": {
    "collapsed": true
   },
   "outputs": [],
   "source": [
    "nodesDual_small = nodesDual_small.drop('intersecting',axis=1)\n",
    "# nodesDual_large = nodesDual_large.drop('intersecting',axis=1)\n",
    "nodesDual_small.crs = crs"
   ]
  },
  {
   "cell_type": "code",
   "execution_count": 64,
   "metadata": {
    "collapsed": true
   },
   "outputs": [],
   "source": [
    "nodesDual_small.to_file(folder_ouptut+city_name+'_nodesDual.shp', driver='ESRI Shapefile')"
   ]
  },
  {
   "cell_type": "code",
   "execution_count": 28,
   "metadata": {},
   "outputs": [
    {
     "data": {
      "text/html": [
       "<div>\n",
       "<style>\n",
       "    .dataframe thead tr:only-child th {\n",
       "        text-align: right;\n",
       "    }\n",
       "\n",
       "    .dataframe thead th {\n",
       "        text-align: left;\n",
       "    }\n",
       "\n",
       "    .dataframe tbody tr th {\n",
       "        vertical-align: top;\n",
       "    }\n",
       "</style>\n",
       "<table border=\"1\" class=\"dataframe\">\n",
       "  <thead>\n",
       "    <tr style=\"text-align: right;\">\n",
       "      <th></th>\n",
       "      <th>u</th>\n",
       "      <th>v</th>\n",
       "      <th>key</th>\n",
       "      <th>distance</th>\n",
       "      <th>geometry</th>\n",
       "      <th>angle</th>\n",
       "      <th>angle_rad</th>\n",
       "    </tr>\n",
       "  </thead>\n",
       "  <tbody>\n",
       "    <tr>\n",
       "      <th>0</th>\n",
       "      <td>5294</td>\n",
       "      <td>5295</td>\n",
       "      <td>0</td>\n",
       "      <td>139.4106967029</td>\n",
       "      <td>LINESTRING (529735.650839685 181366.5920655594...</td>\n",
       "      <td>5.7478371653</td>\n",
       "      <td>0.1003186834</td>\n",
       "    </tr>\n",
       "    <tr>\n",
       "      <th>1</th>\n",
       "      <td>5292</td>\n",
       "      <td>5295</td>\n",
       "      <td>0</td>\n",
       "      <td>127.7733243342</td>\n",
       "      <td>LINESTRING (529836.6932074836 181303.585660034...</td>\n",
       "      <td>88.4444959184</td>\n",
       "      <td>1.5436476590</td>\n",
       "    </tr>\n",
       "    <tr>\n",
       "      <th>2</th>\n",
       "      <td>5292</td>\n",
       "      <td>5294</td>\n",
       "      <td>0</td>\n",
       "      <td>163.2108605636</td>\n",
       "      <td>LINESTRING (529836.6932074836 181303.585660034...</td>\n",
       "      <td>85.8076669164</td>\n",
       "      <td>1.4976263111</td>\n",
       "    </tr>\n",
       "    <tr>\n",
       "      <th>3</th>\n",
       "      <td>5292</td>\n",
       "      <td>5293</td>\n",
       "      <td>0</td>\n",
       "      <td>139.9536025653</td>\n",
       "      <td>LINESTRING (529836.6932074836 181303.585660034...</td>\n",
       "      <td>107.3141685837</td>\n",
       "      <td>1.8729855758</td>\n",
       "    </tr>\n",
       "    <tr>\n",
       "      <th>4</th>\n",
       "      <td>5280</td>\n",
       "      <td>5281</td>\n",
       "      <td>0</td>\n",
       "      <td>25.5930913455</td>\n",
       "      <td>LINESTRING (533692.5000001369 181673.999999454...</td>\n",
       "      <td>91.1556658874</td>\n",
       "      <td>1.5909665016</td>\n",
       "    </tr>\n",
       "  </tbody>\n",
       "</table>\n",
       "</div>"
      ],
      "text/plain": [
       "      u     v key        distance  \\\n",
       "0  5294  5295   0  139.4106967029   \n",
       "1  5292  5295   0  127.7733243342   \n",
       "2  5292  5294   0  163.2108605636   \n",
       "3  5292  5293   0  139.9536025653   \n",
       "4  5280  5281   0   25.5930913455   \n",
       "\n",
       "                                            geometry           angle  \\\n",
       "0  LINESTRING (529735.650839685 181366.5920655594...    5.7478371653   \n",
       "1  LINESTRING (529836.6932074836 181303.585660034...   88.4444959184   \n",
       "2  LINESTRING (529836.6932074836 181303.585660034...   85.8076669164   \n",
       "3  LINESTRING (529836.6932074836 181303.585660034...  107.3141685837   \n",
       "4  LINESTRING (533692.5000001369 181673.999999454...   91.1556658874   \n",
       "\n",
       "      angle_rad  \n",
       "0  0.1003186834  \n",
       "1  1.5436476590  \n",
       "2  1.4976263111  \n",
       "3  1.8729855758  \n",
       "4  1.5909665016  "
      ]
     },
     "execution_count": 28,
     "metadata": {},
     "output_type": "execute_result"
    }
   ],
   "source": [
    "edgesDual_small.head()"
   ]
  },
  {
   "cell_type": "code",
   "execution_count": 65,
   "metadata": {
    "collapsed": true
   },
   "outputs": [],
   "source": [
    "edgesDual_small.crs = crs\n",
    "\n",
    "scaling(edgesDual_small, angle_rad)\n",
    "edgesDual_small.to_file(folder_ouptut+city_name+'_edgesDual.shp', driver='ESRI Shapefile')"
   ]
  },
  {
   "cell_type": "markdown",
   "metadata": {},
   "source": [
    "## Creating the dual graph"
   ]
  },
  {
   "cell_type": "code",
   "execution_count": 66,
   "metadata": {
    "collapsed": true
   },
   "outputs": [],
   "source": [
    "def getting_graph(nodes_dual, edges_dual):\n",
    "    nodes_dual.gdf_name = 'Dual_list'\n",
    "    Gr = ox.gdfs_to_graph(nodes_dual, edges_dual)\n",
    "    \n",
    "    n = Gr.nodes()\n",
    "    pos = {}\n",
    "\n",
    "    for l, item in enumerate(n): pos[l] = (n[l]['x'],n[l]['y'],n[l]['streetID'])\n",
    "        \n",
    "    DG = nx.Graph() #Empty graph\n",
    "    DG = DG.to_undirected()\n",
    "    DG.add_nodes_from(pos.keys()) #Add nodes preserving coordinates\n",
    "    \n",
    "    for i, item in enumerate(DG.nodes()):\n",
    "        DG.node[i]['x']=pos[i][0]\n",
    "        DG.node[i]['y']=pos[i][1]\n",
    "        DG.node[i]['streetID']=pos[i][2]\n",
    "        \n",
    "    for i, item in enumerate(Gr.edges()):\n",
    "        DG.add_edge(item[0], item[1])\n",
    "        DG[item[0]][item[1]]['distance'] = Gr[item[0]][item[1]][0]['distance']\n",
    "        DG[item[0]][item[1]]['angle'] = Gr[item[0]][item[1]][0]['angle']\n",
    "        DG[item[0]][item[1]]['angle_rad'] = Gr[item[0]][item[1]][0]['angle_rad']\n",
    "        \n",
    "    return(DG)\n",
    "\n",
    "DG_small = getting_graph(nodesDual_small, edgesDual_small)\n",
    "# DG_large = getting_graph(nodesDual_large, edgesDual_large)"
   ]
  },
  {
   "cell_type": "code",
   "execution_count": null,
   "metadata": {
    "collapsed": true
   },
   "outputs": [],
   "source": [
    "#checking some edges\n",
    "DG_small.node[1]"
   ]
  },
  {
   "cell_type": "markdown",
   "metadata": {},
   "source": [
    "## Angular Betweenness - Paths"
   ]
  },
  {
   "cell_type": "code",
   "execution_count": 67,
   "metadata": {
    "collapsed": true
   },
   "outputs": [],
   "source": [
    "Ab = nx.betweenness_centrality(DG_small, weight='angle', normalized=False)"
   ]
  },
  {
   "cell_type": "code",
   "execution_count": 68,
   "metadata": {
    "collapsed": true
   },
   "outputs": [],
   "source": [
    "def id_dict(ed, graph):\n",
    "    \n",
    "    view = ed.items()\n",
    "    ed_list = list(view)\n",
    "    ed_dict = {}\n",
    "\n",
    "    for p in ed_list:\n",
    "        ed_dict[graph.node[p[0]]['streetID']]=p[1] #streetID and Edge betweenness\n",
    "        \n",
    "    return(ed_dict)"
   ]
  },
  {
   "cell_type": "code",
   "execution_count": 69,
   "metadata": {
    "collapsed": true
   },
   "outputs": [],
   "source": [
    "Ab_dict = id_dict(Ab, DG_small)\n",
    "Ab_df = to_df([Ab_dict], ['Ab'])"
   ]
  },
  {
   "cell_type": "code",
   "execution_count": 70,
   "metadata": {},
   "outputs": [
    {
     "data": {
      "text/html": [
       "<div>\n",
       "<style>\n",
       "    .dataframe thead tr:only-child th {\n",
       "        text-align: right;\n",
       "    }\n",
       "\n",
       "    .dataframe thead th {\n",
       "        text-align: left;\n",
       "    }\n",
       "\n",
       "    .dataframe tbody tr th {\n",
       "        vertical-align: top;\n",
       "    }\n",
       "</style>\n",
       "<table border=\"1\" class=\"dataframe\">\n",
       "  <thead>\n",
       "    <tr style=\"text-align: right;\">\n",
       "      <th></th>\n",
       "      <th>geometry</th>\n",
       "      <th>streetID</th>\n",
       "      <th>u</th>\n",
       "      <th>v</th>\n",
       "      <th>key</th>\n",
       "      <th>distance</th>\n",
       "      <th>Eb</th>\n",
       "      <th>Eb_A</th>\n",
       "      <th>Eb_A_scaled</th>\n",
       "      <th>Eb_scaled</th>\n",
       "    </tr>\n",
       "  </thead>\n",
       "  <tbody>\n",
       "    <tr>\n",
       "      <th>0</th>\n",
       "      <td>LINESTRING (528421.0000001118 180948.999999571...</td>\n",
       "      <td>0</td>\n",
       "      <td>886</td>\n",
       "      <td>199</td>\n",
       "      <td>0</td>\n",
       "      <td>90.7584444386</td>\n",
       "      <td>3335.0</td>\n",
       "      <td>4665.250</td>\n",
       "      <td>0.0017360336</td>\n",
       "      <td>0.0028367166</td>\n",
       "    </tr>\n",
       "    <tr>\n",
       "      <th>1</th>\n",
       "      <td>LINESTRING (533740.0500001372 181263.939999453...</td>\n",
       "      <td>1</td>\n",
       "      <td>2718</td>\n",
       "      <td>1085</td>\n",
       "      <td>0</td>\n",
       "      <td>307.5254896358</td>\n",
       "      <td>11725.0</td>\n",
       "      <td>69207.500</td>\n",
       "      <td>0.0257535061</td>\n",
       "      <td>0.0099731639</td>\n",
       "    </tr>\n",
       "    <tr>\n",
       "      <th>2</th>\n",
       "      <td>LINESTRING (533835.3200001377 180907.189999451...</td>\n",
       "      <td>2</td>\n",
       "      <td>1861</td>\n",
       "      <td>1534</td>\n",
       "      <td>0</td>\n",
       "      <td>131.1818512142</td>\n",
       "      <td>12308.0</td>\n",
       "      <td>73542.875</td>\n",
       "      <td>0.0273667866</td>\n",
       "      <td>0.0104690577</td>\n",
       "    </tr>\n",
       "    <tr>\n",
       "      <th>3</th>\n",
       "      <td>LINESTRING (528136.0000001106 180780.999999577...</td>\n",
       "      <td>3</td>\n",
       "      <td>3213</td>\n",
       "      <td>3486</td>\n",
       "      <td>0</td>\n",
       "      <td>148.7149451569</td>\n",
       "      <td>27731.0</td>\n",
       "      <td>20572.000</td>\n",
       "      <td>0.0076552560</td>\n",
       "      <td>0.0235877022</td>\n",
       "    </tr>\n",
       "    <tr>\n",
       "      <th>4</th>\n",
       "      <td>LINESTRING (532764.1500001322 180312.289999477...</td>\n",
       "      <td>4</td>\n",
       "      <td>3698</td>\n",
       "      <td>875</td>\n",
       "      <td>0</td>\n",
       "      <td>261.7112357594</td>\n",
       "      <td>148165.0</td>\n",
       "      <td>331380.000</td>\n",
       "      <td>0.1233131793</td>\n",
       "      <td>0.1260276186</td>\n",
       "    </tr>\n",
       "  </tbody>\n",
       "</table>\n",
       "</div>"
      ],
      "text/plain": [
       "                                            geometry  streetID     u     v  \\\n",
       "0  LINESTRING (528421.0000001118 180948.999999571...         0   886   199   \n",
       "1  LINESTRING (533740.0500001372 181263.939999453...         1  2718  1085   \n",
       "2  LINESTRING (533835.3200001377 180907.189999451...         2  1861  1534   \n",
       "3  LINESTRING (528136.0000001106 180780.999999577...         3  3213  3486   \n",
       "4  LINESTRING (532764.1500001322 180312.289999477...         4  3698   875   \n",
       "\n",
       "   key        distance        Eb        Eb_A   Eb_A_scaled     Eb_scaled  \n",
       "0    0   90.7584444386    3335.0    4665.250  0.0017360336  0.0028367166  \n",
       "1    0  307.5254896358   11725.0   69207.500  0.0257535061  0.0099731639  \n",
       "2    0  131.1818512142   12308.0   73542.875  0.0273667866  0.0104690577  \n",
       "3    0  148.7149451569   27731.0   20572.000  0.0076552560  0.0235877022  \n",
       "4    0  261.7112357594  148165.0  331380.000  0.1233131793  0.1260276186  "
      ]
     },
     "execution_count": 70,
     "metadata": {},
     "output_type": "execute_result"
    }
   ],
   "source": [
    "paths = pd.merge(paths_tmp, AB_df, left_on=\"streetID\", right_index=True, how='left')\n",
    "\n",
    "col = ['Eb', 'Ab']\n",
    "\n",
    "for i in col:\n",
    "    scaling(paths, i)\n",
    "\n",
    "paths.head()"
   ]
  },
  {
   "cell_type": "code",
   "execution_count": 71,
   "metadata": {
    "collapsed": true
   },
   "outputs": [],
   "source": [
    "paths.crs = crs"
   ]
  },
  {
   "cell_type": "code",
   "execution_count": 72,
   "metadata": {
    "collapsed": true
   },
   "outputs": [],
   "source": [
    "paths.to_file(folder_ouptut+city_name+'_paths.shp', driver='ESRI Shapefile')"
   ]
  },
  {
   "cell_type": "markdown",
   "metadata": {},
   "source": [
    "## Partitions - Districts"
   ]
  },
  {
   "cell_type": "code",
   "execution_count": null,
   "metadata": {
    "collapsed": true
   },
   "outputs": [],
   "source": [
    "weights = ['distance','angle','angle_rad', 'False']\n",
    "subdvisions = []\n",
    "\n",
    "for i in weights:\n",
    "    partition = community.best_partition(DG_large, weight=i)\n",
    "    dct = id_dict(partition, DG_large)\n",
    "    subdvisions.append(dct)"
   ]
  },
  {
   "cell_type": "code",
   "execution_count": null,
   "metadata": {
    "collapsed": true
   },
   "outputs": [],
   "source": [
    "partitions_df = to_df(subdvisions, [\"p_len\", \"p_ang\", \"p_ang_rad\", 'p_no'])"
   ]
  },
  {
   "cell_type": "code",
   "execution_count": null,
   "metadata": {
    "collapsed": true
   },
   "outputs": [],
   "source": [
    "districts = pd.merge(edges_large, partitions_df, left_on=\"streetID\", right_index=True, how='left')"
   ]
  },
  {
   "cell_type": "code",
   "execution_count": null,
   "metadata": {
    "collapsed": true
   },
   "outputs": [],
   "source": [
    "districts.head()"
   ]
  },
  {
   "cell_type": "code",
   "execution_count": null,
   "metadata": {
    "collapsed": true
   },
   "outputs": [],
   "source": [
    "districts.to_file(folder_ouptut+city_name+'_districts.shp', driver='ESRI Shapefile')"
   ]
  }
 ],
 "metadata": {
  "kernelspec": {
   "display_name": "Python 3",
   "language": "python",
   "name": "python3"
  },
  "language_info": {
   "codemirror_mode": {
    "name": "ipython",
    "version": 3
   },
   "file_extension": ".py",
   "mimetype": "text/x-python",
   "name": "python",
   "nbconvert_exporter": "python",
   "pygments_lexer": "ipython3",
   "version": "3.6.3"
  }
 },
 "nbformat": 4,
 "nbformat_minor": 2
}
