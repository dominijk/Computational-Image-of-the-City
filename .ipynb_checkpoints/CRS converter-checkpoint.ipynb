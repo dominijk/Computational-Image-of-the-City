{
 "cells": [
  {
   "cell_type": "code",
   "execution_count": 1,
   "metadata": {
    "collapsed": true
   },
   "outputs": [],
   "source": [
    "import osmnx as ox, networkx as nx, matplotlib.cm as cm, pandas as pd, numpy as np\n",
    "import matplotlib.pyplot as plt\n",
    "%matplotlib inline\n",
    "import geopandas as gpd\n",
    "import functools\n",
    "import community\n",
    "\n",
    "from scipy import sparse\n",
    "from scipy.sparse import linalg\n",
    "import time\n",
    "from shapely.geometry import Point, LineString, Polygon, MultiPolygon, mapping\n",
    "from math import sqrt\n",
    "import pandas as pd\n",
    "from shapely.ops import cascaded_union\n",
    "pd.set_option('precision', 5)\n",
    "pd.options.display.float_format = '{:20.2f}'.format"
   ]
  },
  {
   "cell_type": "code",
   "execution_count": null,
   "metadata": {
    "collapsed": true
   },
   "outputs": [],
   "source": [
    "town_hall = gpd.read_file('C:/Users/g_filo01/sciebo/GIS Data/Boston/boston_city_coordinates.shp')\n",
    "town_hall = city_center.to_crs(epsg=2806)\n",
    "town_hall.to_file('Outputs/town_hall_2806.shp', driver='ESRI Shapefile')"
   ]
  },
  {
   "cell_type": "code",
   "execution_count": null,
   "metadata": {
    "collapsed": true
   },
   "outputs": [],
   "source": [
    "boston_sn = gpd.read_file('C:/Users/g_filo01/sciebo/GIS Data/Boston/Street_Network/boston_sn.shp')\n",
    "boston_sn  = city_center.to_crs(epsg=2806)\n",
    "boston_sn .to_file('Outputs/boston_sn_2806.shp', driver='ESRI Shapefile')"
   ]
  },
  {
   "cell_type": "code",
   "execution_count": 9,
   "metadata": {
    "collapsed": true
   },
   "outputs": [],
   "source": [
    "city_center = gpd.read_file('C:/Users/g_filo01/sciebo/GIS Data/Boston/city_center.shp')\n",
    "city_center = city_center.to_crs(epsg=2806)\n",
    "city_center.to_file('Outputs/city_center_2806.shp', driver='ESRI Shapefile')"
   ]
  },
  {
   "cell_type": "code",
   "execution_count": 10,
   "metadata": {
    "collapsed": true
   },
   "outputs": [],
   "source": [
    "buildings = gpd.read_file('C:/Users/g_filo01/sciebo/GIS Data/Boston/Buildings/lidar2002/bh_2002.shp')\n",
    "buildings = buildings.to_crs(epsg=2806)\n",
    "buildings.to_file('Outputs/bh_2002_2806.shp', driver='ESRI Shapefile')"
   ]
  }
 ],
 "metadata": {
  "kernelspec": {
   "display_name": "Python 3",
   "language": "python",
   "name": "python3"
  },
  "language_info": {
   "codemirror_mode": {
    "name": "ipython",
    "version": 3
   },
   "file_extension": ".py",
   "mimetype": "text/x-python",
   "name": "python",
   "nbconvert_exporter": "python",
   "pygments_lexer": "ipython3",
   "version": "3.6.3"
  }
 },
 "nbformat": 4,
 "nbformat_minor": 2
}
