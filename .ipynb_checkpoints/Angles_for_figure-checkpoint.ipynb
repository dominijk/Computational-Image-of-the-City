{
 "cells": [
  {
   "cell_type": "code",
   "execution_count": 3,
   "metadata": {},
   "outputs": [],
   "source": [
    "import osmnx as ox, networkx as nx, matplotlib.cm as cm, pandas as pd, numpy as np\n",
    "import matplotlib.pyplot as plt\n",
    "%matplotlib inline\n",
    "import geopandas as gpd\n",
    "import functools\n",
    "import community\n",
    "\n",
    "from scipy import sparse\n",
    "from scipy.sparse import linalg\n",
    "import time\n",
    "from shapely.geometry import Point, LineString, Polygon, MultiPolygon, mapping\n",
    "from math import sqrt\n",
    "import pandas as pd\n",
    "from shapely.ops import cascaded_union\n",
    "pd.set_option('precision', 10)"
   ]
  },
  {
   "cell_type": "markdown",
   "metadata": {},
   "source": [
    "# Functions"
   ]
  },
  {
   "cell_type": "code",
   "execution_count": 2,
   "metadata": {},
   "outputs": [],
   "source": [
    "import math\n",
    "def dot(vA, vB):\n",
    "    return vA[0]*vB[0]+vA[1]*vB[1]\n",
    "\n",
    "def ang(lineA, lineB):\n",
    "    # Get nicer vector form\n",
    "    vA = [(lineA[0][0]-lineA[1][0]), (lineA[0][1]-lineA[1][1])]\n",
    "    vB = [(lineB[0][0]-lineB[1][0]), (lineB[0][1]-lineB[1][1])]\n",
    "    # Get dot prod\n",
    "    dot_prod = dot(vA, vB)\n",
    "    # Get magnitudes\n",
    "    magA = dot(vA, vA)**0.5\n",
    "    magB = dot(vB, vB)**0.5\n",
    "    # Get cosine value\n",
    "    cos_ = dot_prod/magA/magB\n",
    "    # Get angle in radians and then convert to degrees\n",
    "    angle = math.acos(dot_prod/magB/magA)\n",
    "    # Basically doing angle <- angle mod 360\n",
    "    ang_deg = math.degrees(angle)%360\n",
    "    return ang_deg\n",
    "     #if ang_deg-180<=0:\n",
    "     #    return 180 - ang_deg\n",
    "    # else:\n",
    "     #    return ang_deg\n",
    "        \n",
    "def ang_rad(lineA, lineB):\n",
    "    # Get nicer vector form\n",
    "    vA = [(lineA[0][0]-lineA[1][0]), (lineA[0][1]-lineA[1][1])]\n",
    "    vB = [(lineB[0][0]-lineB[1][0]), (lineB[0][1]-lineB[1][1])]\n",
    "    # Get dot prod\n",
    "    dot_prod = dot(vA, vB)\n",
    "    # Get magnitudes\n",
    "    magA = dot(vA, vA)**0.5\n",
    "    magB = dot(vB, vB)**0.5\n",
    "    # Get cosine value\n",
    "    cos_ = dot_prod/magA/magB\n",
    "    # Get angle in radians and then convert to degrees\n",
    "    angle = math.acos(dot_prod/magB/magA)\n",
    "\n",
    "    return angle"
   ]
  },
  {
   "cell_type": "markdown",
   "metadata": {},
   "source": [
    "# Geo Dataframe"
   ]
  },
  {
   "cell_type": "code",
   "execution_count": 76,
   "metadata": {},
   "outputs": [],
   "source": [
    "#try reading street network\n",
    "\n",
    "#streets = gpd.read_file('C:/Users/gabri/Google Drive Academic/GIS/OS_Roads_Working/OS_roads_final.shp')\n",
    "streets_4 = gpd.read_file('C:/Users/g_filo01/sciebo/Projects/Image of the city - validation/Angles/primal.shp')"
   ]
  },
  {
   "cell_type": "code",
   "execution_count": 77,
   "metadata": {},
   "outputs": [],
   "source": [
    "def preparing(streets_gdf):\n",
    "    \n",
    "    streets_gdf = streets_gdf.to_crs(epsg=26986)\n",
    "    streets_gdf['from'] = \"NaN\"\n",
    "    streets_gdf['to'] = \"NaN\"\n",
    "    streets_gdf = streets_gdf[['geometry', 'from', 'to']]\n",
    "    \n",
    "    return(streets_gdf)\n",
    "    \n",
    "streets_4 = preparing(streets_4)"
   ]
  },
  {
   "cell_type": "code",
   "execution_count": 20,
   "metadata": {},
   "outputs": [
    {
     "data": {
      "text/html": [
       "<div>\n",
       "<style>\n",
       "    .dataframe thead tr:only-child th {\n",
       "        text-align: right;\n",
       "    }\n",
       "\n",
       "    .dataframe thead th {\n",
       "        text-align: left;\n",
       "    }\n",
       "\n",
       "    .dataframe tbody tr th {\n",
       "        vertical-align: top;\n",
       "    }\n",
       "</style>\n",
       "<table border=\"1\" class=\"dataframe\">\n",
       "  <thead>\n",
       "    <tr style=\"text-align: right;\">\n",
       "      <th></th>\n",
       "      <th>geometry</th>\n",
       "      <th>from</th>\n",
       "      <th>to</th>\n",
       "    </tr>\n",
       "  </thead>\n",
       "  <tbody>\n",
       "    <tr>\n",
       "      <th>0</th>\n",
       "      <td>LINESTRING (236334.962499999 901537.689199941,...</td>\n",
       "      <td>NaN</td>\n",
       "      <td>NaN</td>\n",
       "    </tr>\n",
       "    <tr>\n",
       "      <th>1</th>\n",
       "      <td>LINESTRING (236255.5733999985 901483.562799945...</td>\n",
       "      <td>NaN</td>\n",
       "      <td>NaN</td>\n",
       "    </tr>\n",
       "    <tr>\n",
       "      <th>2</th>\n",
       "      <td>LINESTRING (236283.4341999961 901499.167499943...</td>\n",
       "      <td>NaN</td>\n",
       "      <td>NaN</td>\n",
       "    </tr>\n",
       "    <tr>\n",
       "      <th>3</th>\n",
       "      <td>LINESTRING (236283.4341999961 901499.167499943...</td>\n",
       "      <td>NaN</td>\n",
       "      <td>NaN</td>\n",
       "    </tr>\n",
       "    <tr>\n",
       "      <th>4</th>\n",
       "      <td>LINESTRING (236101.7248999997 901422.636899949...</td>\n",
       "      <td>NaN</td>\n",
       "      <td>NaN</td>\n",
       "    </tr>\n",
       "    <tr>\n",
       "      <th>5</th>\n",
       "      <td>LINESTRING (236142.7149461617 901520.478449553...</td>\n",
       "      <td>NaN</td>\n",
       "      <td>NaN</td>\n",
       "    </tr>\n",
       "  </tbody>\n",
       "</table>\n",
       "</div>"
      ],
      "text/plain": [
       "                                            geometry from   to\n",
       "0  LINESTRING (236334.962499999 901537.689199941,...  NaN  NaN\n",
       "1  LINESTRING (236255.5733999985 901483.562799945...  NaN  NaN\n",
       "2  LINESTRING (236283.4341999961 901499.167499943...  NaN  NaN\n",
       "3  LINESTRING (236283.4341999961 901499.167499943...  NaN  NaN\n",
       "4  LINESTRING (236101.7248999997 901422.636899949...  NaN  NaN\n",
       "5  LINESTRING (236142.7149461617 901520.478449553...  NaN  NaN"
      ]
     },
     "execution_count": 20,
     "metadata": {},
     "output_type": "execute_result"
    }
   ],
   "source": [
    "streets_4"
   ]
  },
  {
   "cell_type": "code",
   "execution_count": 78,
   "metadata": {},
   "outputs": [],
   "source": [
    "#removing Z coordinates and storing from/to coordinates and assigning \n",
    "\n",
    "def extracting_coord(streets_gdf):\n",
    "    \n",
    "    for index, row in streets_gdf.iterrows():\n",
    "        line = []\n",
    "        line2 = []\n",
    "        \n",
    "        coord = list(row['geometry'].coords)\n",
    "        from_node = coord[0][0:2]\n",
    "        to_node = coord[-1][0:2]\n",
    "    \n",
    "        for i in range(0,len(coord)):\n",
    "            point = coord[i][0:2]\n",
    "            line.append(point)\n",
    "\n",
    "        t = LineString([coor for coor in line])\n",
    "        \n",
    "        streets_gdf.set_value(index,'geometry', t)\n",
    "        streets_gdf.set_value(index, 'from', from_node)\n",
    "        streets_gdf.set_value(index, 'to', to_node)\n",
    "        \n",
    "    return(streets_gdf)\n",
    "\n",
    "streets_4 = extracting_coord(streets_4)"
   ]
  },
  {
   "cell_type": "code",
   "execution_count": 79,
   "metadata": {},
   "outputs": [],
   "source": [
    "#removing edges represented only by nodes\n",
    "\n",
    "def cleaning(streets_gdf):\n",
    "    \n",
    "    streets_gdf = streets_gdf.loc[streets_gdf['from'] != streets_gdf['to']]\n",
    "    streets_gdf.reset_index(inplace=True, drop=True)\n",
    "    streets_gdf['OBJECTID'] = streets_gdf.index.values.astype(int) \n",
    "    \n",
    "    return(streets_gdf)\n",
    "\n",
    "streets_4 = cleaning(streets_4)"
   ]
  },
  {
   "cell_type": "code",
   "execution_count": 80,
   "metadata": {},
   "outputs": [],
   "source": [
    "#extracting nodes and greating a geodataframe\n",
    "\n",
    "crs = {'init': '26986'}\n",
    "\n",
    "def getting_nodes(streets_gdf):\n",
    "\n",
    "    unique_nodes_tmp = list(streets_gdf['to'].unique()) + list(streets_gdf['from'].unique())\n",
    "    unique_nodes = list(set(unique_nodes_tmp))\n",
    "    \n",
    "    nodes_data = pd.DataFrame.from_records(unique_nodes, columns=['x', 'y']).astype('float')\n",
    "    geometry = [Point(xy) for xy in zip(nodes_data.x, nodes_data.y)]\n",
    "    nodes = gpd.GeoDataFrame(nodes_data, crs=crs, geometry=geometry)\n",
    "    nodes.gdf_name = 'Nodes_list' #for OSMNx\n",
    "    \n",
    "    return(nodes)\n",
    "\n",
    "nodes_4 = getting_nodes(streets_4)"
   ]
  },
  {
   "cell_type": "code",
   "execution_count": 81,
   "metadata": {},
   "outputs": [],
   "source": [
    "def getting_edges(streets_gdf, nodes_gdf):\n",
    "    \n",
    "    nodes_tmp = nodes_gdf.reset_index()\n",
    "    nodes_tmp['coordinates'] = list(zip(nodes_tmp.x, nodes_tmp.y))\n",
    "    \n",
    "    edges_tmp = pd.merge(streets_gdf, nodes_tmp[['index', 'coordinates']], how='left', left_on=\"from\", right_on=\"coordinates\")\n",
    "    edges_tmp = edges_tmp.drop(edges_tmp[['coordinates']],axis=1)\n",
    "    edges_tmp = edges_tmp.rename(columns = {'index':'u'})\n",
    "    \n",
    "    edges = pd.merge(edges_tmp, nodes_tmp[['index', 'coordinates']], how='left', left_on=\"to\", right_on=\"coordinates\")\n",
    "    edges = edges.drop(edges[['coordinates', 'from', 'to']],axis=1)\n",
    "    edges = edges.rename(columns = {'index':'v'})\n",
    "    edges['key']=0 #for OSMNx\n",
    "    edges['distance'] = gpd.GeoSeries(edges['geometry'].length)\n",
    "    \n",
    "    return(edges)\n",
    "    \n",
    "edges_4 = getting_edges(streets_4, nodes_4)"
   ]
  },
  {
   "cell_type": "markdown",
   "metadata": {},
   "source": [
    "# Dual Analysis"
   ]
  },
  {
   "cell_type": "code",
   "execution_count": 82,
   "metadata": {},
   "outputs": [],
   "source": [
    "# centroids for dual analysis\n",
    "\n",
    "def getting_cn(streets_gdf):\n",
    "    \n",
    "    centroids_gdf = streets_gdf.copy()\n",
    "    centroids_gdf['centroid'] = gpd.GeoSeries(centroids_gdf['geometry'].centroid)\n",
    "    centroids_gdf['intersecting'] = \"NaN\"\n",
    "    centroids_gdf['intersecting'] = centroids_gdf['intersecting'].astype(object)\n",
    "    \n",
    "    return(centroids_gdf)\n",
    "\n",
    "centroids_4 = getting_cn(edges_4)"
   ]
  },
  {
   "cell_type": "code",
   "execution_count": 75,
   "metadata": {},
   "outputs": [
    {
     "data": {
      "text/html": [
       "<div>\n",
       "<style>\n",
       "    .dataframe thead tr:only-child th {\n",
       "        text-align: right;\n",
       "    }\n",
       "\n",
       "    .dataframe thead th {\n",
       "        text-align: left;\n",
       "    }\n",
       "\n",
       "    .dataframe tbody tr th {\n",
       "        vertical-align: top;\n",
       "    }\n",
       "</style>\n",
       "<table border=\"1\" class=\"dataframe\">\n",
       "  <thead>\n",
       "    <tr style=\"text-align: right;\">\n",
       "      <th></th>\n",
       "      <th>geometry</th>\n",
       "      <th>OBJECTID</th>\n",
       "      <th>u</th>\n",
       "      <th>v</th>\n",
       "      <th>key</th>\n",
       "      <th>distance</th>\n",
       "      <th>centroid</th>\n",
       "      <th>intersecting</th>\n",
       "    </tr>\n",
       "  </thead>\n",
       "  <tbody>\n",
       "    <tr>\n",
       "      <th>0</th>\n",
       "      <td>LINESTRING (236334.962499999 901537.689199941,...</td>\n",
       "      <td>0</td>\n",
       "      <td>4</td>\n",
       "      <td>1</td>\n",
       "      <td>0</td>\n",
       "      <td>64.4163103613</td>\n",
       "      <td>POINT (236309.6757950482 901517.7604393074)</td>\n",
       "      <td>NaN</td>\n",
       "    </tr>\n",
       "    <tr>\n",
       "      <th>1</th>\n",
       "      <td>LINESTRING (236255.5733999985 901483.562799945...</td>\n",
       "      <td>1</td>\n",
       "      <td>0</td>\n",
       "      <td>6</td>\n",
       "      <td>0</td>\n",
       "      <td>130.5032725962</td>\n",
       "      <td>POINT (236315.5277344065 901458.6867008298)</td>\n",
       "      <td>NaN</td>\n",
       "    </tr>\n",
       "    <tr>\n",
       "      <th>2</th>\n",
       "      <td>LINESTRING (236283.4341999961 901499.167499943...</td>\n",
       "      <td>2</td>\n",
       "      <td>1</td>\n",
       "      <td>0</td>\n",
       "      <td>0</td>\n",
       "      <td>31.9969468006</td>\n",
       "      <td>POINT (236269.291428654 901491.7440134379)</td>\n",
       "      <td>NaN</td>\n",
       "    </tr>\n",
       "    <tr>\n",
       "      <th>3</th>\n",
       "      <td>LINESTRING (236283.4341999961 901499.167499943...</td>\n",
       "      <td>3</td>\n",
       "      <td>1</td>\n",
       "      <td>5</td>\n",
       "      <td>0</td>\n",
       "      <td>119.4766141709</td>\n",
       "      <td>POINT (236244.4632999973 901544.4436999466)</td>\n",
       "      <td>NaN</td>\n",
       "    </tr>\n",
       "    <tr>\n",
       "      <th>4</th>\n",
       "      <td>LINESTRING (236101.7248999997 901422.636899949...</td>\n",
       "      <td>4</td>\n",
       "      <td>3</td>\n",
       "      <td>0</td>\n",
       "      <td>0</td>\n",
       "      <td>165.6093574988</td>\n",
       "      <td>POINT (236178.2393087045 901454.0062121237)</td>\n",
       "      <td>NaN</td>\n",
       "    </tr>\n",
       "    <tr>\n",
       "      <th>5</th>\n",
       "      <td>LINESTRING (236142.7149461617 901520.478449553...</td>\n",
       "      <td>5</td>\n",
       "      <td>2</td>\n",
       "      <td>0</td>\n",
       "      <td>0</td>\n",
       "      <td>118.7430624787</td>\n",
       "      <td>POINT (236199.1262927958 901501.9654529981)</td>\n",
       "      <td>NaN</td>\n",
       "    </tr>\n",
       "  </tbody>\n",
       "</table>\n",
       "</div>"
      ],
      "text/plain": [
       "                                            geometry  OBJECTID  u  v  key  \\\n",
       "0  LINESTRING (236334.962499999 901537.689199941,...         0  4  1    0   \n",
       "1  LINESTRING (236255.5733999985 901483.562799945...         1  0  6    0   \n",
       "2  LINESTRING (236283.4341999961 901499.167499943...         2  1  0    0   \n",
       "3  LINESTRING (236283.4341999961 901499.167499943...         3  1  5    0   \n",
       "4  LINESTRING (236101.7248999997 901422.636899949...         4  3  0    0   \n",
       "5  LINESTRING (236142.7149461617 901520.478449553...         5  2  0    0   \n",
       "\n",
       "         distance                                     centroid intersecting  \n",
       "0   64.4163103613  POINT (236309.6757950482 901517.7604393074)          NaN  \n",
       "1  130.5032725962  POINT (236315.5277344065 901458.6867008298)          NaN  \n",
       "2   31.9969468006   POINT (236269.291428654 901491.7440134379)          NaN  \n",
       "3  119.4766141709  POINT (236244.4632999973 901544.4436999466)          NaN  \n",
       "4  165.6093574988  POINT (236178.2393087045 901454.0062121237)          NaN  \n",
       "5  118.7430624787  POINT (236199.1262927958 901501.9654529981)          NaN  "
      ]
     },
     "execution_count": 75,
     "metadata": {},
     "output_type": "execute_result"
    }
   ],
   "source": [
    "centroids_4"
   ]
  },
  {
   "cell_type": "code",
   "execution_count": 83,
   "metadata": {},
   "outputs": [],
   "source": [
    "#find_intersecting\n",
    "\n",
    "def find_intersecting(centroids_gdf):\n",
    "    \n",
    "    processed = []    \n",
    "    for e in centroids_gdf.itertuples():\n",
    "        intersections = []\n",
    "        \n",
    "        from_node = e[3] #check before running the right column of \"u\" and \"v\"\n",
    "        to_node = e[4]\n",
    "    \n",
    "        tmp = centroids_gdf.loc[(centroids_gdf['u'] == from_node) |\n",
    "                        (centroids_gdf['u'] == to_node) |\n",
    "                        (centroids_gdf['v'] == to_node) |\n",
    "                        (centroids_gdf['v'] == from_node)]\n",
    "\n",
    "        for l in tmp.itertuples():\n",
    "            if ((e[0]==l[0]) | ((e[0], l[0]) in processed) | ((l[0], e[0]) in processed)): continue\n",
    "        \n",
    "            else:\n",
    "                intersections.append(l[2])  #appending OBJECTID\n",
    "                processed.append((l[0],e[0]))\n",
    "    \n",
    "        centroids_gdf.set_value(e[0],'intersecting', intersections)\n",
    "    \n",
    "    return(centroids_gdf)\n",
    "\n",
    "centroids_4 = find_intersecting(centroids_4)"
   ]
  },
  {
   "cell_type": "code",
   "execution_count": 84,
   "metadata": {},
   "outputs": [],
   "source": [
    "#creating nodes representing street segments\n",
    "\n",
    "def dual_nodes(centroids_gdf):\n",
    "\n",
    "    centroids_data = centroids_gdf[['OBJECTID', 'intersecting', 'distance']]\n",
    "    geometry = centroids_gdf['centroid']\n",
    "    \n",
    "    nodes_dual = gpd.GeoDataFrame(centroids_data, crs=crs, geometry=geometry)\n",
    "    nodes_dual['x'] = [x.coords.xy[0][0] for x in centroids_gdf['centroid']]\n",
    "    nodes_dual['y'] = [y.coords.xy[1][0] for y in centroids_gdf['centroid']]\n",
    "    \n",
    "    return(nodes_dual)\n",
    "\n",
    "nodes_dual_4 = dual_nodes(centroids_4)"
   ]
  },
  {
   "cell_type": "code",
   "execution_count": 85,
   "metadata": {},
   "outputs": [
    {
     "data": {
      "text/plain": [
       "<matplotlib.axes._subplots.AxesSubplot at 0x19420d83828>"
      ]
     },
     "execution_count": 85,
     "metadata": {},
     "output_type": "execute_result"
    },
    {
     "data": {
      "image/png": "[encoded data removed]",
      "text/plain": [
       "<matplotlib.figure.Figure at 0x19420d2a3c8>"
      ]
     },
     "metadata": {},
     "output_type": "display_data"
    }
   ],
   "source": [
    "edges_4.plot()"
   ]
  },
  {
   "cell_type": "code",
   "execution_count": 86,
   "metadata": {},
   "outputs": [
    {
     "data": {
      "text/plain": [
       "<matplotlib.axes._subplots.AxesSubplot at 0x19420e8f518>"
      ]
     },
     "execution_count": 86,
     "metadata": {},
     "output_type": "execute_result"
    },
    {
     "data": {
      "image/png": "[encoded data removed]",
      "text/plain": [
       "<matplotlib.figure.Figure at 0x19420d6c438>"
      ]
     },
     "metadata": {},
     "output_type": "display_data"
    },
    {
     "data": {
      "image/png": "[encoded data removed]",
      "text/plain": [
       "<matplotlib.figure.Figure at 0x19420e70f28>"
      ]
     },
     "metadata": {},
     "output_type": "display_data"
    }
   ],
   "source": [
    "edges_4.plot()\n",
    "nodes_dual_4.plot()"
   ]
  },
  {
   "cell_type": "code",
   "execution_count": 87,
   "metadata": {},
   "outputs": [],
   "source": [
    "def dual_edges(nodes_dual, centroids_gdf):\n",
    "\n",
    "    edges_dual = pd.DataFrame(columns=['u','v', 'key', 'geometry', 'distance'])\n",
    "\n",
    "    for row in nodes_dual.itertuples():\n",
    "        \n",
    "        obj_id = row[1] #object_id of the relative segment\n",
    "        length = row[3]\n",
    "        \n",
    "        for i in list(row[2]): #intersecting segments\n",
    "            # i is the ObjectID\n",
    "\n",
    "            index = centroids_gdf.index[centroids_gdf.OBJECTID==i].tolist()[0]\n",
    "            length_v =  centroids_gdf['distance'][centroids_gdf.OBJECTID==i][index]\n",
    "            distance = (length+length_v)/2\n",
    "        \n",
    "            # adding a row with u-v, key fixed as 0, Linestring geometry \n",
    "            # from the first centroid to centroid intersecting segment \n",
    "        \n",
    "            edges_dual.loc[-1] = [obj_id, i, 0,  \n",
    "                                LineString([row[4], nodes_dual.loc[index]['geometry']]),\n",
    "                                distance] \n",
    "          \n",
    "            edges_dual.index = edges_dual.index + 1\n",
    "            \n",
    "    edges_dual = edges_dual.sort_index(axis=0)\n",
    "    geometry = edges_dual['geometry']\n",
    "    edges_dual = gpd.GeoDataFrame(edges_dual[['u','v', 'key', 'distance']], crs=crs, geometry=geometry)\n",
    "    \n",
    "    return(edges_dual)\n",
    "\n",
    "edges_dual_4 = dual_edges(nodes_dual_4, centroids_4)"
   ]
  },
  {
   "cell_type": "code",
   "execution_count": 88,
   "metadata": {},
   "outputs": [],
   "source": [
    "#computing angles\n",
    "\n",
    "def finding_angles(edges_dual, edges, nodes):\n",
    "    \n",
    "    for row in edges_dual.itertuples():\n",
    "\n",
    "        #retrieveing original lines from/to\n",
    "    \n",
    "        from_node = nodes.loc[edges['u'].loc[edges.OBJECTID==row[1]]].index.tolist()[0]\n",
    "        to_node = nodes.loc[edges['v'].loc[edges.OBJECTID==row[1]]].index.tolist()[0]\n",
    "                                            \n",
    "        from_node2 = nodes.loc[edges['u'].loc[edges.OBJECTID==row[2]]].index.tolist()[0]           \n",
    "        to_node2 = nodes.loc[edges['v'].loc[edges.OBJECTID==row[2]]].index.tolist()[0]\n",
    "    \n",
    "        if ((from_node == from_node2) & (to_node == to_node2) |\n",
    "            (from_node == to_node2) & (to_node == from_node2)):\n",
    "            \n",
    "            deflection = 0\n",
    "            deflection_rad=0\n",
    "    \n",
    "        else:\n",
    "         \n",
    "            try:  \n",
    "        \n",
    "                x_f = float(\"{0:.10f}\".format(nodes.loc[from_node]['x']))\n",
    "                y_f = float(\"{0:.10f}\".format(nodes.loc[from_node]['y']))\n",
    "                x_t = float(\"{0:.10f}\".format(nodes.loc[to_node]['x']))\n",
    "                y_t = float(\"{0:.10f}\".format(nodes.loc[to_node]['y']))\n",
    "            \n",
    "                x_f2 = float(\"{0:.10f}\".format(nodes.loc[from_node2]['x']))\n",
    "                y_f2 = float(\"{0:.10f}\".format(nodes.loc[from_node2]['y']))    \n",
    "                x_t2 = float(\"{0:.10f}\".format(nodes.loc[to_node2]['x']))\n",
    "                y_t2 = float(\"{0:.10f}\".format(nodes.loc[to_node2]['y']))          \n",
    "                             \n",
    "                if (to_node == to_node2):\n",
    "                    lineA = ((x_f, y_f),(x_t,y_t))\n",
    "                    lineB = ((x_t2, y_t2),(x_f2, y_f2))\n",
    "    \n",
    "                elif (to_node == from_node2):\n",
    "                    lineA = ((x_f, y_f),(x_t,y_t))\n",
    "                    lineB = ((x_f2, y_f2),(x_t2, y_t2))\n",
    "\n",
    "                elif (from_node == from_node2):\n",
    "                    lineA = ((x_t, y_t),(x_f,y_f))\n",
    "                    lineB = ((x_f2, y_f2),(x_t2, y_t2))\n",
    "\n",
    "                else: #(from_node == to_node2)\n",
    "                    lineA = ((x_t, y_t),(x_f,y_f))\n",
    "                    lineB = ((x_t2, y_t2),(x_f2, y_f2))\n",
    "        \n",
    "                deflection = ang(lineA, lineB)\n",
    "                deflection_rad = ang_rad(lineA, lineB)\n",
    "            \n",
    "            except:\n",
    "                deflection = 0\n",
    "                deflection_rad = 0\n",
    "    \n",
    "        edges_dual.set_value(row[0],'angle', deflection)\n",
    "        edges_dual.set_value(row[0],'angle_rad', deflection_rad)\n",
    "        \n",
    "    return(edges_dual)\n",
    "    \n",
    "edges_dual_4 = finding_angles(edges_dual_4, edges_4, nodes_4)"
   ]
  },
  {
   "cell_type": "code",
   "execution_count": 91,
   "metadata": {},
   "outputs": [
    {
     "data": {
      "text/plain": [
       "<matplotlib.axes._subplots.AxesSubplot at 0x19420f62080>"
      ]
     },
     "execution_count": 91,
     "metadata": {},
     "output_type": "execute_result"
    },
    {
     "data": {
      "image/png": "[encoded data removed]",
      "text/plain": [
       "<matplotlib.figure.Figure at 0x19420975470>"
      ]
     },
     "metadata": {},
     "output_type": "display_data"
    },
    {
     "data": {
      "image/png": "[encoded data removed]",
      "text/plain": [
       "<matplotlib.figure.Figure at 0x19420975240>"
      ]
     },
     "metadata": {},
     "output_type": "display_data"
    }
   ],
   "source": [
    "edges_dual_4.plot()\n",
    "edges_4.plot()"
   ]
  },
  {
   "cell_type": "code",
   "execution_count": 107,
   "metadata": {},
   "outputs": [
    {
     "data": {
      "text/html": [
       "<div>\n",
       "<style>\n",
       "    .dataframe thead tr:only-child th {\n",
       "        text-align: right;\n",
       "    }\n",
       "\n",
       "    .dataframe thead th {\n",
       "        text-align: left;\n",
       "    }\n",
       "\n",
       "    .dataframe tbody tr th {\n",
       "        vertical-align: top;\n",
       "    }\n",
       "</style>\n",
       "<table border=\"1\" class=\"dataframe\">\n",
       "  <thead>\n",
       "    <tr style=\"text-align: right;\">\n",
       "      <th></th>\n",
       "      <th>OBJECTID</th>\n",
       "      <th>intersecting</th>\n",
       "      <th>distance</th>\n",
       "      <th>geometry</th>\n",
       "      <th>x</th>\n",
       "      <th>y</th>\n",
       "    </tr>\n",
       "  </thead>\n",
       "  <tbody>\n",
       "    <tr>\n",
       "      <th>0</th>\n",
       "      <td>0</td>\n",
       "      <td>[2, 3]</td>\n",
       "      <td>64.4163103613</td>\n",
       "      <td>POINT (236309.6757950482 901517.7604393074)</td>\n",
       "      <td>236309.6757950482</td>\n",
       "      <td>901517.7604393074</td>\n",
       "    </tr>\n",
       "    <tr>\n",
       "      <th>1</th>\n",
       "      <td>1</td>\n",
       "      <td>[2, 4]</td>\n",
       "      <td>130.5032725962</td>\n",
       "      <td>POINT (236315.5277344065 901458.6867008298)</td>\n",
       "      <td>236315.5277344065</td>\n",
       "      <td>901458.6867008298</td>\n",
       "    </tr>\n",
       "    <tr>\n",
       "      <th>2</th>\n",
       "      <td>2</td>\n",
       "      <td>[3, 4]</td>\n",
       "      <td>31.9969468006</td>\n",
       "      <td>POINT (236269.291428654 901491.7440134379)</td>\n",
       "      <td>236269.2914286540</td>\n",
       "      <td>901491.7440134379</td>\n",
       "    </tr>\n",
       "    <tr>\n",
       "      <th>3</th>\n",
       "      <td>3</td>\n",
       "      <td>[]</td>\n",
       "      <td>119.4766141709</td>\n",
       "      <td>POINT (236244.4632999973 901544.4436999466)</td>\n",
       "      <td>236244.4632999973</td>\n",
       "      <td>901544.4436999466</td>\n",
       "    </tr>\n",
       "    <tr>\n",
       "      <th>4</th>\n",
       "      <td>4</td>\n",
       "      <td>[]</td>\n",
       "      <td>118.7430624787</td>\n",
       "      <td>POINT (236199.1262927958 901501.9654529981)</td>\n",
       "      <td>236199.1262927958</td>\n",
       "      <td>901501.9654529981</td>\n",
       "    </tr>\n",
       "  </tbody>\n",
       "</table>\n",
       "</div>"
      ],
      "text/plain": [
       "   OBJECTID intersecting        distance  \\\n",
       "0         0       [2, 3]   64.4163103613   \n",
       "1         1       [2, 4]  130.5032725962   \n",
       "2         2       [3, 4]   31.9969468006   \n",
       "3         3           []  119.4766141709   \n",
       "4         4           []  118.7430624787   \n",
       "\n",
       "                                      geometry                  x  \\\n",
       "0  POINT (236309.6757950482 901517.7604393074)  236309.6757950482   \n",
       "1  POINT (236315.5277344065 901458.6867008298)  236315.5277344065   \n",
       "2   POINT (236269.291428654 901491.7440134379)  236269.2914286540   \n",
       "3  POINT (236244.4632999973 901544.4436999466)  236244.4632999973   \n",
       "4  POINT (236199.1262927958 901501.9654529981)  236199.1262927958   \n",
       "\n",
       "                   y  \n",
       "0  901517.7604393074  \n",
       "1  901458.6867008298  \n",
       "2  901491.7440134379  \n",
       "3  901544.4436999466  \n",
       "4  901501.9654529981  "
      ]
     },
     "execution_count": 107,
     "metadata": {},
     "output_type": "execute_result"
    }
   ],
   "source": [
    "nodes_dual_4"
   ]
  },
  {
   "cell_type": "code",
   "execution_count": 105,
   "metadata": {},
   "outputs": [],
   "source": [
    "edges_dual_4.crs = {}\n",
    "nodes_dual_4.crs = {}"
   ]
  },
  {
   "cell_type": "code",
   "execution_count": 102,
   "metadata": {},
   "outputs": [],
   "source": [
    "edges_dual_4.to_file('C:/Users/g_filo01/sciebo/Projects/Image of the city - validation/Angles/edges_angle_dual.shp', \n",
    "                     driver='ESRI Shapefile')"
   ]
  },
  {
   "cell_type": "code",
   "execution_count": 108,
   "metadata": {},
   "outputs": [],
   "source": [
    "nodes_dual_4[['OBJECTID','geometry']].to_file('C:/Users/g_filo01/sciebo/Projects/Image of the city - validation/Angles/nodes_angle_dual.shp', \n",
    "                     driver='ESRI Shapefile')"
   ]
  }
 ],
 "metadata": {
  "kernelspec": {
   "display_name": "Python 3",
   "language": "python",
   "name": "python3"
  },
  "language_info": {
   "codemirror_mode": {
    "name": "ipython",
    "version": 3
   },
   "file_extension": ".py",
   "mimetype": "text/x-python",
   "name": "python",
   "nbconvert_exporter": "python",
   "pygments_lexer": "ipython3",
   "version": "3.6.3"
  }
 },
 "nbformat": 4,
 "nbformat_minor": 2
}
