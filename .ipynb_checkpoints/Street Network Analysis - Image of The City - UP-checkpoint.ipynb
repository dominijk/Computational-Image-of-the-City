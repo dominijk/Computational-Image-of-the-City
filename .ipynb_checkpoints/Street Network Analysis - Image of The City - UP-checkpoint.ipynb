{
 "cells": [
  {
   "cell_type": "code",
   "execution_count": 1,
   "metadata": {},
   "outputs": [],
   "source": [
    "import osmnx as ox, networkx as nx, matplotlib.cm as cm, pandas as pd, numpy as np\n",
    "import matplotlib.pyplot as plt\n",
    "%matplotlib inline\n",
    "import geopandas as gpd\n",
    "import functools\n",
    "import community\n",
    "\n",
    "from scipy import sparse\n",
    "from scipy.sparse import linalg\n",
    "import time\n",
    "from shapely.geometry import Point, LineString, Polygon, MultiPolygon, mapping\n",
    "from math import sqrt\n",
    "import pandas as pd\n",
    "from shapely.ops import cascaded_union\n",
    "pd.set_option('precision', 10)"
   ]
  },
  {
   "cell_type": "markdown",
   "metadata": {},
   "source": [
    "# Functions"
   ]
  },
  {
   "cell_type": "code",
   "execution_count": 2,
   "metadata": {},
   "outputs": [],
   "source": [
    "import math\n",
    "def dot(vA, vB):\n",
    "    return vA[0]*vB[0]+vA[1]*vB[1]\n",
    "\n",
    "def ang(lineA, lineB):\n",
    "    # Get nicer vector form\n",
    "    vA = [(lineA[0][0]-lineA[1][0]), (lineA[0][1]-lineA[1][1])]\n",
    "    vB = [(lineB[0][0]-lineB[1][0]), (lineB[0][1]-lineB[1][1])]\n",
    "    # Get dot prod\n",
    "    dot_prod = dot(vA, vB)\n",
    "    # Get magnitudes\n",
    "    magA = dot(vA, vA)**0.5\n",
    "    magB = dot(vB, vB)**0.5\n",
    "    # Get cosine value\n",
    "    cos_ = dot_prod/magA/magB\n",
    "    # Get angle in radians and then convert to degrees\n",
    "    angle = math.acos(dot_prod/magB/magA)\n",
    "    # Basically doing angle <- angle mod 360\n",
    "    ang_deg = math.degrees(angle)%360\n",
    "    return ang_deg\n",
    "     #if ang_deg-180<=0:\n",
    "     #    return 180 - ang_deg\n",
    "    # else:\n",
    "     #    return ang_deg\n",
    "        \n",
    "def ang_rad(lineA, lineB):\n",
    "    # Get nicer vector form\n",
    "    vA = [(lineA[0][0]-lineA[1][0]), (lineA[0][1]-lineA[1][1])]\n",
    "    vB = [(lineB[0][0]-lineB[1][0]), (lineB[0][1]-lineB[1][1])]\n",
    "    # Get dot prod\n",
    "    dot_prod = dot(vA, vB)\n",
    "    # Get magnitudes\n",
    "    magA = dot(vA, vA)**0.5\n",
    "    magB = dot(vB, vB)**0.5\n",
    "    # Get cosine value\n",
    "    cos_ = dot_prod/magA/magB\n",
    "    # Get angle in radians and then convert to degrees\n",
    "    angle = math.acos(dot_prod/magB/magA)\n",
    "\n",
    "    return angle"
   ]
  },
  {
   "cell_type": "markdown",
   "metadata": {},
   "source": [
    "# Geo Dataframe"
   ]
  },
  {
   "cell_type": "code",
   "execution_count": 3,
   "metadata": {
    "collapsed": true
   },
   "outputs": [],
   "source": [
    "#try reading street network\n",
    "\n",
    "#streets = gpd.read_file('C:/Users/gabri/Google Drive Academic/GIS/OS_Roads_Working/OS_roads_final.shp')\n",
    "streets_4 = gpd.read_file('C:/Users/g_filo01/sciebo/GIS Data/Boston/Street_Network/boston_sn_26986_clipped_4000.shp')\n",
    "streets_8 = gpd.read_file('C:/Users/g_filo01/sciebo/GIS Data/Boston/Street_Network/boston_sn_26986_clipped_8000.shp')"
   ]
  },
  {
   "cell_type": "code",
   "execution_count": 4,
   "metadata": {
    "collapsed": true
   },
   "outputs": [],
   "source": [
    "def preparing(streets_gdf):\n",
    "    \n",
    "    streets_gdf = streets_gdf.to_crs(epsg=26986)\n",
    "    streets_gdf['from'] = \"NaN\"\n",
    "    streets_gdf['to'] = \"NaN\"\n",
    "    streets_gdf = streets_gdf[['CLASS','STREET_NAM','geometry', 'from', 'to']]\n",
    "    \n",
    "    return(streets_gdf)\n",
    "    \n",
    "streets_4 = preparing(streets_4)\n",
    "streets_8 = preparing(streets_8)"
   ]
  },
  {
   "cell_type": "code",
   "execution_count": 5,
   "metadata": {
    "collapsed": true
   },
   "outputs": [],
   "source": [
    "#removing Z coordinates and storing from/to coordinates and assigning \n",
    "\n",
    "def extracting_coord(streets_gdf):\n",
    "    \n",
    "    for index, row in streets_gdf.iterrows():\n",
    "        line = []\n",
    "        line2 = []\n",
    "        \n",
    "        coord = list(row['geometry'].coords)\n",
    "        from_node = coord[0][0:2]\n",
    "        to_node = coord[-1][0:2]\n",
    "    \n",
    "        for i in range(0,len(coord)):\n",
    "            point = coord[i][0:2]\n",
    "            line.append(point)\n",
    "\n",
    "        t = LineString([coor for coor in line])\n",
    "        \n",
    "        streets_gdf.set_value(index,'geometry', t)\n",
    "        streets_gdf.set_value(index, 'from', from_node)\n",
    "        streets_gdf.set_value(index, 'to', to_node)\n",
    "        \n",
    "    return(streets_gdf)\n",
    "\n",
    "streets_4 = extracting_coord(streets_4)\n",
    "streets_8 = extracting_coord(streets_8)"
   ]
  },
  {
   "cell_type": "code",
   "execution_count": 6,
   "metadata": {},
   "outputs": [
    {
     "name": "stderr",
     "output_type": "stream",
     "text": [
      "C:\\Users\\g_filo01\\AppData\\Local\\Continuum\\anaconda3\\lib\\site-packages\\ipykernel_launcher.py:7: SettingWithCopyWarning: \n",
      "A value is trying to be set on a copy of a slice from a DataFrame.\n",
      "Try using .loc[row_indexer,col_indexer] = value instead\n",
      "\n",
      "See the caveats in the documentation: http://pandas.pydata.org/pandas-docs/stable/indexing.html#indexing-view-versus-copy\n",
      "  import sys\n"
     ]
    }
   ],
   "source": [
    "#removing edges represented only by nodes\n",
    "\n",
    "def cleaning(streets_gdf):\n",
    "    \n",
    "    streets_gdf = streets_gdf.loc[streets_gdf['from'] != streets_gdf['to']]\n",
    "    streets_gdf.reset_index(inplace=True, drop=True)\n",
    "    streets_gdf['OBJECTID'] = streets_gdf.index.values.astype(int) \n",
    "    \n",
    "    return(streets_gdf)\n",
    "\n",
    "streets_4 = cleaning(streets_4)\n",
    "streets_8 = cleaning(streets_8)"
   ]
  },
  {
   "cell_type": "code",
   "execution_count": 7,
   "metadata": {
    "collapsed": true
   },
   "outputs": [],
   "source": [
    "#extracting nodes and greating a geodataframe\n",
    "\n",
    "crs = {'init': '26986'}\n",
    "\n",
    "def getting_nodes(streets_gdf):\n",
    "\n",
    "    unique_nodes_tmp = list(streets_gdf['to'].unique()) + list(streets_gdf['from'].unique())\n",
    "    unique_nodes = list(set(unique_nodes_tmp))\n",
    "    \n",
    "    nodes_data = pd.DataFrame.from_records(unique_nodes, columns=['x', 'y']).astype('float')\n",
    "    geometry = [Point(xy) for xy in zip(nodes_data.x, nodes_data.y)]\n",
    "    nodes = gpd.GeoDataFrame(nodes_data, crs=crs, geometry=geometry)\n",
    "    nodes.gdf_name = 'Nodes_list' #for OSMNx\n",
    "    \n",
    "    return(nodes)\n",
    "\n",
    "nodes_4 = getting_nodes(streets_4)\n",
    "nodes_8 = getting_nodes(streets_8)"
   ]
  },
  {
   "cell_type": "code",
   "execution_count": 8,
   "metadata": {
    "collapsed": true
   },
   "outputs": [],
   "source": [
    "def getting_edges(streets_gdf, nodes_gdf):\n",
    "    \n",
    "    nodes_tmp = nodes_gdf.reset_index()\n",
    "    nodes_tmp['coordinates'] = list(zip(nodes_tmp.x, nodes_tmp.y))\n",
    "    \n",
    "    edges_tmp = pd.merge(streets_gdf, nodes_tmp[['index', 'coordinates']], how='left', left_on=\"from\", right_on=\"coordinates\")\n",
    "    edges_tmp = edges_tmp.drop(edges_tmp[['coordinates']],axis=1)\n",
    "    edges_tmp = edges_tmp.rename(columns = {'index':'u'})\n",
    "    \n",
    "    edges = pd.merge(edges_tmp, nodes_tmp[['index', 'coordinates']], how='left', left_on=\"to\", right_on=\"coordinates\")\n",
    "    edges = edges.drop(edges[['coordinates', 'from', 'to']],axis=1)\n",
    "    edges = edges.rename(columns = {'index':'v'})\n",
    "    edges['key']=0 #for OSMNx\n",
    "    edges['distance'] = gpd.GeoSeries(edges['geometry'].length)\n",
    "    \n",
    "    return(edges)\n",
    "    \n",
    "edges_4 = getting_edges(streets_4, nodes_4)\n",
    "edges_8 = getting_edges(streets_8, nodes_8)"
   ]
  },
  {
   "cell_type": "markdown",
   "metadata": {},
   "source": [
    "# Indexes computation - Nodes"
   ]
  },
  {
   "cell_type": "code",
   "execution_count": 9,
   "metadata": {
    "collapsed": true
   },
   "outputs": [],
   "source": [
    "G = ox.gdfs_to_graph(nodes_4, edges_4)\n",
    "t = G.nodes()\n",
    "pos = {}\n",
    "\n",
    "for l, item in enumerate(t): pos[l] = (t[l]['x'],t[l]['y'])\n",
    "\n",
    "Ng = nx.Graph() #Empty graph\n",
    "Ng = Ng.to_undirected()\n",
    "Ng.add_nodes_from(pos.keys()) #Add nodes preserving coordinates\n",
    "\n",
    "for i, item in enumerate(Ng.nodes()):\n",
    "    Ng.node[i]['x']=pos[i][0]\n",
    "    Ng.node[i]['y']=pos[i][1]\n",
    "\n",
    "for i, item in enumerate(G.edges()):\n",
    "    Ng.add_edge(item[0], item[1])\n",
    "    Ng[item[0]][item[1]]['distance']=G[item[0]][item[1]][0]['distance']\n",
    "    Ng[item[0]][item[1]]['OBJECTID']=G[item[0]][item[1]][0]['OBJECTID']"
   ]
  },
  {
   "cell_type": "markdown",
   "metadata": {},
   "source": [
    "## Centrality measures"
   ]
  },
  {
   "cell_type": "code",
   "execution_count": 10,
   "metadata": {
    "collapsed": true
   },
   "outputs": [],
   "source": [
    "Ci = nx.current_flow_closeness_centrality(Ng, weight = 'distance')"
   ]
  },
  {
   "cell_type": "code",
   "execution_count": 11,
   "metadata": {
    "collapsed": true
   },
   "outputs": [],
   "source": [
    "Cb = nx.betweenness_centrality(Ng, k=None, weight = 'distance', normalized=False)"
   ]
  },
  {
   "cell_type": "code",
   "execution_count": 12,
   "metadata": {
    "collapsed": true
   },
   "outputs": [],
   "source": [
    "def straightness_centrality(G, distance, normalized=True):\n",
    "\n",
    "    path_length = functools.partial(nx.single_source_dijkstra_path_length, weight=distance)\n",
    "\n",
    "    nodes = G.nodes()\n",
    "    straightness_centrality = {}\n",
    "\n",
    "    # Initialize dictionary containing all the node id and coordinates\n",
    "    # coord_nodes = get_nodes_coords(Node, Session)\n",
    "    coord_nodes = nodes_dict(G)\n",
    "\n",
    "    for n in nodes:\n",
    "        straightness = 0\n",
    "        sp = path_length(G,n)\n",
    "\n",
    "        if len(sp) > 0 and len(G) > 1:\n",
    "            # start computing the sum of euclidean distances\n",
    "\n",
    "            for target in sp:\n",
    "                if n != target and target in coord_nodes:\n",
    "                    network_dist = sp[target]\n",
    "                    euclidean_dist = euclidean_distance(*coord_nodes[n]+coord_nodes[target])\n",
    "                    straightness = straightness + (euclidean_dist/network_dist)\n",
    "\n",
    "            straightness_centrality[n]= straightness\n",
    "               \n",
    "            if normalized:\n",
    "                straightness_centrality[n] = straightness * (1.0/(len(G)-1.0) )\n",
    "\n",
    "        else:\n",
    "            straightness_centrality[n]=0.0\n",
    "\n",
    "    return straightness_centrality\n",
    "\n",
    "\n",
    "def euclidean_distance(xs, ys, xt, yt):\n",
    "    \"\"\" xs stands for x source and xt for x target \"\"\"\n",
    "    return sqrt((xs - xt)**2 + (ys - yt)**2)\n",
    "\n",
    "def nodes_dict(G):\n",
    "    nodes_list = G.nodes()\n",
    "    look = {}\n",
    "\n",
    "    for i in range(0, len(nodes_list)):\n",
    "        cod = i\n",
    "        x = nodes_list[i]['x']\n",
    "        y = nodes_list[i]['y']\n",
    "        look[cod] = (x,y)\n",
    "    \n",
    "    return look"
   ]
  },
  {
   "cell_type": "code",
   "execution_count": 13,
   "metadata": {
    "collapsed": true
   },
   "outputs": [],
   "source": [
    "Cs = straightness_centrality(Ng, 'distance', normalized=False) #dijkstra_path_length reads nested weights"
   ]
  },
  {
   "cell_type": "code",
   "execution_count": 14,
   "metadata": {
    "collapsed": true
   },
   "outputs": [],
   "source": [
    "def to_df(list_dict, list_col):\n",
    "    \n",
    "    df = pd.DataFrame(list_dict).T\n",
    "    df.columns = ['d{}'.format(i) for i, col in enumerate(df, 1)]\n",
    "    df.columns = list_col\n",
    "    \n",
    "    return(df)"
   ]
  },
  {
   "cell_type": "code",
   "execution_count": 15,
   "metadata": {
    "collapsed": true
   },
   "outputs": [],
   "source": [
    "nodes_df = to_df([Cb, Cs, Ci], [\"Cb\", \"Cs\", 'Ci'])"
   ]
  },
  {
   "cell_type": "code",
   "execution_count": 16,
   "metadata": {},
   "outputs": [
    {
     "data": {
      "text/html": [
       "<div>\n",
       "<style>\n",
       "    .dataframe thead tr:only-child th {\n",
       "        text-align: right;\n",
       "    }\n",
       "\n",
       "    .dataframe thead th {\n",
       "        text-align: left;\n",
       "    }\n",
       "\n",
       "    .dataframe tbody tr th {\n",
       "        vertical-align: top;\n",
       "    }\n",
       "</style>\n",
       "<table border=\"1\" class=\"dataframe\">\n",
       "  <thead>\n",
       "    <tr style=\"text-align: right;\">\n",
       "      <th></th>\n",
       "      <th>Cb</th>\n",
       "      <th>Cs</th>\n",
       "      <th>Ci</th>\n",
       "    </tr>\n",
       "  </thead>\n",
       "  <tbody>\n",
       "    <tr>\n",
       "      <th>0</th>\n",
       "      <td>57482.0</td>\n",
       "      <td>3516.8500622951</td>\n",
       "      <td>0.0030278903</td>\n",
       "    </tr>\n",
       "    <tr>\n",
       "      <th>1</th>\n",
       "      <td>32322.0</td>\n",
       "      <td>3574.0430010411</td>\n",
       "      <td>0.0041993702</td>\n",
       "    </tr>\n",
       "    <tr>\n",
       "      <th>2</th>\n",
       "      <td>0.0</td>\n",
       "      <td>3614.4939089618</td>\n",
       "      <td>0.0037086942</td>\n",
       "    </tr>\n",
       "    <tr>\n",
       "      <th>3</th>\n",
       "      <td>42148.0</td>\n",
       "      <td>3807.7884861980</td>\n",
       "      <td>0.0028782580</td>\n",
       "    </tr>\n",
       "    <tr>\n",
       "      <th>4</th>\n",
       "      <td>117761.0</td>\n",
       "      <td>3318.3211384974</td>\n",
       "      <td>0.0034543222</td>\n",
       "    </tr>\n",
       "  </tbody>\n",
       "</table>\n",
       "</div>"
      ],
      "text/plain": [
       "         Cb               Cs            Ci\n",
       "0   57482.0  3516.8500622951  0.0030278903\n",
       "1   32322.0  3574.0430010411  0.0041993702\n",
       "2       0.0  3614.4939089618  0.0037086942\n",
       "3   42148.0  3807.7884861980  0.0028782580\n",
       "4  117761.0  3318.3211384974  0.0034543222"
      ]
     },
     "execution_count": 16,
     "metadata": {},
     "output_type": "execute_result"
    }
   ],
   "source": [
    "nodes_df.head()"
   ]
  },
  {
   "cell_type": "code",
   "execution_count": 17,
   "metadata": {
    "collapsed": true
   },
   "outputs": [],
   "source": [
    "nodes_tmp = pd.merge(nodes_4, nodes_df, left_index = True, right_index = True, how='left')"
   ]
  },
  {
   "cell_type": "code",
   "execution_count": 18,
   "metadata": {
    "collapsed": true
   },
   "outputs": [],
   "source": [
    "# POI = gpd.read_file('Outputs/POI.shp')\n",
    "POI = gpd.read_file('Outputs/Boston/POI_boston.shp')"
   ]
  },
  {
   "cell_type": "code",
   "execution_count": 19,
   "metadata": {
    "collapsed": true
   },
   "outputs": [],
   "source": [
    "POI = POI.to_crs(epsg=26986)"
   ]
  },
  {
   "cell_type": "markdown",
   "metadata": {},
   "source": [
    "## Reach centrality and local Cb"
   ]
  },
  {
   "cell_type": "code",
   "execution_count": 20,
   "metadata": {
    "collapsed": true
   },
   "outputs": [],
   "source": [
    "nodes_tmp.gdf_name = \"weighted\""
   ]
  },
  {
   "cell_type": "code",
   "execution_count": 21,
   "metadata": {
    "collapsed": true
   },
   "outputs": [],
   "source": [
    "for row in nodes_tmp.itertuples():\n",
    "\n",
    "    g = row[3] #geometry\n",
    "    fil = g.buffer(50)\n",
    "    \n",
    "    sindex = POI.sindex\n",
    "    possible_matches_index = list(sindex.intersection(fil.bounds))\n",
    "    possible_matches = POI.iloc[possible_matches_index]\n",
    "    precise_matches = possible_matches[possible_matches.intersects(fil)]\n",
    "    \n",
    "    weight = len(possible_matches)\n",
    "    nodes_tmp.set_value(row[0], 'weight', weight)"
   ]
  },
  {
   "cell_type": "code",
   "execution_count": 22,
   "metadata": {
    "collapsed": true
   },
   "outputs": [],
   "source": [
    "for n in Ng.nodes():\n",
    "    Ng.node[n]['weight'] = nodes_tmp['weight'].loc[n]"
   ]
  },
  {
   "cell_type": "code",
   "execution_count": 23,
   "metadata": {
    "collapsed": true
   },
   "outputs": [],
   "source": [
    "def reach(G, distance, radius, normalized=True):\n",
    "  \n",
    "    path_length = functools.partial(nx.single_source_dijkstra_path_length, weight=distance)\n",
    "\n",
    "    nodes = G.nodes()\n",
    "    reach_centrality = {}\n",
    "    coord_nodes = nodes_dict(G)\n",
    "\n",
    "    for n in nodes:\n",
    "        reach = 0\n",
    "        sp = path_length(G,n)\n",
    "        sp_radium = dict((k, v) for k, v in sp.items() if v <= radius)\n",
    "        \n",
    "        if len(sp_radium) > 0 and len(G) > 1:\n",
    "            \n",
    "            for target in sp_radium:\n",
    "                if n != target and target in coord_nodes:\n",
    "                    weight_target = G.node[target]['weight']\n",
    "                    reach = reach + weight_target\n",
    "                        \n",
    "\n",
    "            reach_centrality[n] = reach\n",
    "\n",
    "        else:               \n",
    "            reach_centrality[n]=0.0\n",
    "\n",
    "    return reach_centrality"
   ]
  },
  {
   "cell_type": "code",
   "execution_count": 24,
   "metadata": {
    "collapsed": true
   },
   "outputs": [],
   "source": [
    "# different radius\n",
    "R_400 = reach(Ng, 'distance', radius=400, normalized=False) #dijkstra_path_length reads nested weights\n",
    "R_600 = reach(Ng, 'distance', radius=600, normalized=False) #dijkstra_path_length reads nested weights"
   ]
  },
  {
   "cell_type": "code",
   "execution_count": 25,
   "metadata": {
    "collapsed": true
   },
   "outputs": [],
   "source": [
    "def local_CB(G, w, radius, distance=True):\n",
    "\n",
    "    if distance is True:\n",
    "        distance=w\n",
    "        \n",
    "    path_length = functools.partial(nx.single_source_dijkstra_path_length, weight=distance)\n",
    "\n",
    "    nodes = G.nodes()\n",
    "    cb = {}\n",
    "    coord_nodes = nodes_dict(G)\n",
    "\n",
    "    for obj in nodes:\n",
    "        sp = path_length(G,obj)\n",
    "        sp_radium = dict((k, v) for k, v in sp.items() if v <= radius)\n",
    "\n",
    "        to_keep = list(sp_radium.keys())\n",
    "\n",
    "        G_small = nx.Graph(G.subgraph(to_keep))\n",
    "        \n",
    "        be = nx.betweenness_centrality(G_small, k=None, weight = 'distance', normalized=False)\n",
    "        cb[obj] = be[obj]\n",
    "     \n",
    "    return cb"
   ]
  },
  {
   "cell_type": "code",
   "execution_count": 26,
   "metadata": {
    "collapsed": true
   },
   "outputs": [],
   "source": [
    "Cb_600 = local_CB(Ng, 'distance', radius=600, distance = True) #dijkstra_path_length reads nested weights\n",
    "Cb_800 = local_CB(Ng,'distance', radius=800, distance = True) #dijkstra_path_length reads nested weights"
   ]
  },
  {
   "cell_type": "code",
   "execution_count": 27,
   "metadata": {
    "collapsed": true
   },
   "outputs": [],
   "source": [
    "indexes_df = to_df([R_400, R_600, Cb_600,Cb_800], [\"Cr_400\", \"Cr_600\",\"Cb_600\",\"Cb_800\"])"
   ]
  },
  {
   "cell_type": "code",
   "execution_count": 28,
   "metadata": {
    "collapsed": true
   },
   "outputs": [],
   "source": [
    "nodes = pd.merge(nodes_tmp, indexes_df, left_index = True, right_index=True, how='left')"
   ]
  },
  {
   "cell_type": "code",
   "execution_count": 29,
   "metadata": {},
   "outputs": [
    {
     "data": {
      "text/html": [
       "<div>\n",
       "<style>\n",
       "    .dataframe thead tr:only-child th {\n",
       "        text-align: right;\n",
       "    }\n",
       "\n",
       "    .dataframe thead th {\n",
       "        text-align: left;\n",
       "    }\n",
       "\n",
       "    .dataframe tbody tr th {\n",
       "        vertical-align: top;\n",
       "    }\n",
       "</style>\n",
       "<table border=\"1\" class=\"dataframe\">\n",
       "  <thead>\n",
       "    <tr style=\"text-align: right;\">\n",
       "      <th></th>\n",
       "      <th>x</th>\n",
       "      <th>y</th>\n",
       "      <th>geometry</th>\n",
       "      <th>Cb</th>\n",
       "      <th>Cs</th>\n",
       "      <th>Ci</th>\n",
       "      <th>weight</th>\n",
       "      <th>Cr_600</th>\n",
       "      <th>Cr_800</th>\n",
       "      <th>Cb_600</th>\n",
       "      <th>Cb_800</th>\n",
       "    </tr>\n",
       "  </thead>\n",
       "  <tbody>\n",
       "    <tr>\n",
       "      <th>0</th>\n",
       "      <td>236576.7753999979</td>\n",
       "      <td>901761.5173999738</td>\n",
       "      <td>POINT (236576.7753999979 901761.5173999738)</td>\n",
       "      <td>57482.0</td>\n",
       "      <td>3516.8500622951</td>\n",
       "      <td>0.0030278903</td>\n",
       "      <td>0.0</td>\n",
       "      <td>148.0</td>\n",
       "      <td>193.0</td>\n",
       "      <td>3376.0</td>\n",
       "      <td>4165.0</td>\n",
       "    </tr>\n",
       "    <tr>\n",
       "      <th>1</th>\n",
       "      <td>235536.4861000034</td>\n",
       "      <td>901067.6068999537</td>\n",
       "      <td>POINT (235536.4861000034 901067.6068999537)</td>\n",
       "      <td>32322.0</td>\n",
       "      <td>3574.0430010411</td>\n",
       "      <td>0.0041993702</td>\n",
       "      <td>0.0</td>\n",
       "      <td>63.0</td>\n",
       "      <td>128.0</td>\n",
       "      <td>625.0</td>\n",
       "      <td>917.0</td>\n",
       "    </tr>\n",
       "    <tr>\n",
       "      <th>2</th>\n",
       "      <td>239371.9051999969</td>\n",
       "      <td>899396.2575999667</td>\n",
       "      <td>POINT (239371.9051999969 899396.2575999667)</td>\n",
       "      <td>0.0</td>\n",
       "      <td>3614.4939089618</td>\n",
       "      <td>0.0037086942</td>\n",
       "      <td>0.0</td>\n",
       "      <td>6.0</td>\n",
       "      <td>9.0</td>\n",
       "      <td>0.0</td>\n",
       "      <td>0.0</td>\n",
       "    </tr>\n",
       "    <tr>\n",
       "      <th>3</th>\n",
       "      <td>232899.6441000030</td>\n",
       "      <td>901824.6986999705</td>\n",
       "      <td>POINT (232899.644100003 901824.6986999705)</td>\n",
       "      <td>42148.0</td>\n",
       "      <td>3807.7884861980</td>\n",
       "      <td>0.0028782580</td>\n",
       "      <td>0.0</td>\n",
       "      <td>112.0</td>\n",
       "      <td>217.0</td>\n",
       "      <td>743.0</td>\n",
       "      <td>1828.0</td>\n",
       "    </tr>\n",
       "    <tr>\n",
       "      <th>4</th>\n",
       "      <td>235751.4681999988</td>\n",
       "      <td>903430.5001999664</td>\n",
       "      <td>POINT (235751.4681999988 903430.5001999664)</td>\n",
       "      <td>117761.0</td>\n",
       "      <td>3318.3211384974</td>\n",
       "      <td>0.0034543222</td>\n",
       "      <td>0.0</td>\n",
       "      <td>2.0</td>\n",
       "      <td>17.0</td>\n",
       "      <td>3561.0</td>\n",
       "      <td>5607.0</td>\n",
       "    </tr>\n",
       "  </tbody>\n",
       "</table>\n",
       "</div>"
      ],
      "text/plain": [
       "                   x                  y  \\\n",
       "0  236576.7753999979  901761.5173999738   \n",
       "1  235536.4861000034  901067.6068999537   \n",
       "2  239371.9051999969  899396.2575999667   \n",
       "3  232899.6441000030  901824.6986999705   \n",
       "4  235751.4681999988  903430.5001999664   \n",
       "\n",
       "                                      geometry        Cb               Cs  \\\n",
       "0  POINT (236576.7753999979 901761.5173999738)   57482.0  3516.8500622951   \n",
       "1  POINT (235536.4861000034 901067.6068999537)   32322.0  3574.0430010411   \n",
       "2  POINT (239371.9051999969 899396.2575999667)       0.0  3614.4939089618   \n",
       "3   POINT (232899.644100003 901824.6986999705)   42148.0  3807.7884861980   \n",
       "4  POINT (235751.4681999988 903430.5001999664)  117761.0  3318.3211384974   \n",
       "\n",
       "             Ci  weight  Cr_600  Cr_800  Cb_600  Cb_800  \n",
       "0  0.0030278903     0.0   148.0   193.0  3376.0  4165.0  \n",
       "1  0.0041993702     0.0    63.0   128.0   625.0   917.0  \n",
       "2  0.0037086942     0.0     6.0     9.0     0.0     0.0  \n",
       "3  0.0028782580     0.0   112.0   217.0   743.0  1828.0  \n",
       "4  0.0034543222     0.0     2.0    17.0  3561.0  5607.0  "
      ]
     },
     "execution_count": 29,
     "metadata": {},
     "output_type": "execute_result"
    }
   ],
   "source": [
    "nodes.head()"
   ]
  },
  {
   "cell_type": "code",
   "execution_count": 30,
   "metadata": {
    "collapsed": true
   },
   "outputs": [],
   "source": [
    "col = ['Cb', 'Cs', 'Cr_400', 'Cb_600']\n",
    "\n",
    "for i in col:\n",
    "    nodes[i+'_scaled'] = (nodes[i]-nodes[i].min())/(nodes[i].max()-nodes[i].min())\n",
    "    nodes[i+'_std'] = (nodes[i]-nodes[i].mean())/nodes[i].std()\n",
    "\n",
    "nodes['MCA'] = (nodes['Cb_scaled']*0.50)+(nodes['Cr_400_scaled']*20)+(nodes['Cb_600_scaled']*20)+(nodes['Cs_scaled']*10)/100\n",
    "nodes['MCA'] = (nodes['MCA']-nodes['MCA'].min())/(nodes['MCA'].max()-nodes['MCA'].min())"
   ]
  },
  {
   "cell_type": "code",
   "execution_count": 31,
   "metadata": {},
   "outputs": [
    {
     "data": {
      "text/html": [
       "<div>\n",
       "<style>\n",
       "    .dataframe thead tr:only-child th {\n",
       "        text-align: right;\n",
       "    }\n",
       "\n",
       "    .dataframe thead th {\n",
       "        text-align: left;\n",
       "    }\n",
       "\n",
       "    .dataframe tbody tr th {\n",
       "        vertical-align: top;\n",
       "    }\n",
       "</style>\n",
       "<table border=\"1\" class=\"dataframe\">\n",
       "  <thead>\n",
       "    <tr style=\"text-align: right;\">\n",
       "      <th></th>\n",
       "      <th>x</th>\n",
       "      <th>y</th>\n",
       "      <th>geometry</th>\n",
       "      <th>Cb</th>\n",
       "      <th>Cs</th>\n",
       "      <th>Ci</th>\n",
       "      <th>weight</th>\n",
       "      <th>Cr_600</th>\n",
       "      <th>Cr_800</th>\n",
       "      <th>Cb_600</th>\n",
       "      <th>Cb_800</th>\n",
       "      <th>Cb_std</th>\n",
       "      <th>Cs_std</th>\n",
       "      <th>Cr_800_std</th>\n",
       "      <th>Cb_600_std</th>\n",
       "      <th>MCA</th>\n",
       "    </tr>\n",
       "  </thead>\n",
       "  <tbody>\n",
       "    <tr>\n",
       "      <th>0</th>\n",
       "      <td>236576.7753999979</td>\n",
       "      <td>901761.5173999738</td>\n",
       "      <td>POINT (236576.7753999979 901761.5173999738)</td>\n",
       "      <td>57482.0</td>\n",
       "      <td>3516.8500622951</td>\n",
       "      <td>0.0030278903</td>\n",
       "      <td>0.0</td>\n",
       "      <td>148.0</td>\n",
       "      <td>193.0</td>\n",
       "      <td>3376.0</td>\n",
       "      <td>4165.0</td>\n",
       "      <td>-0.1850933026</td>\n",
       "      <td>-0.2887972156</td>\n",
       "      <td>0.2544031662</td>\n",
       "      <td>4.0412570949</td>\n",
       "      <td>0.4828371182</td>\n",
       "    </tr>\n",
       "    <tr>\n",
       "      <th>1</th>\n",
       "      <td>235536.4861000034</td>\n",
       "      <td>901067.6068999537</td>\n",
       "      <td>POINT (235536.4861000034 901067.6068999537)</td>\n",
       "      <td>32322.0</td>\n",
       "      <td>3574.0430010411</td>\n",
       "      <td>0.0041993702</td>\n",
       "      <td>0.0</td>\n",
       "      <td>63.0</td>\n",
       "      <td>128.0</td>\n",
       "      <td>625.0</td>\n",
       "      <td>917.0</td>\n",
       "      <td>-0.3242758688</td>\n",
       "      <td>-0.0521305922</td>\n",
       "      <td>-0.0563005354</td>\n",
       "      <td>0.0541713098</td>\n",
       "      <td>0.3171328966</td>\n",
       "    </tr>\n",
       "    <tr>\n",
       "      <th>2</th>\n",
       "      <td>239371.9051999969</td>\n",
       "      <td>899396.2575999667</td>\n",
       "      <td>POINT (239371.9051999969 899396.2575999667)</td>\n",
       "      <td>0.0</td>\n",
       "      <td>3614.4939089618</td>\n",
       "      <td>0.0037086942</td>\n",
       "      <td>0.0</td>\n",
       "      <td>6.0</td>\n",
       "      <td>9.0</td>\n",
       "      <td>0.0</td>\n",
       "      <td>0.0</td>\n",
       "      <td>-0.5030778921</td>\n",
       "      <td>0.1152568512</td>\n",
       "      <td>-0.6251273121</td>\n",
       "      <td>-0.8516551590</td>\n",
       "      <td>0.2496547527</td>\n",
       "    </tr>\n",
       "    <tr>\n",
       "      <th>3</th>\n",
       "      <td>232899.6441000030</td>\n",
       "      <td>901824.6986999705</td>\n",
       "      <td>POINT (232899.644100003 901824.6986999705)</td>\n",
       "      <td>42148.0</td>\n",
       "      <td>3807.7884861980</td>\n",
       "      <td>0.0028782580</td>\n",
       "      <td>0.0</td>\n",
       "      <td>112.0</td>\n",
       "      <td>217.0</td>\n",
       "      <td>743.0</td>\n",
       "      <td>1828.0</td>\n",
       "      <td>-0.2699194342</td>\n",
       "      <td>0.9151173921</td>\n",
       "      <td>0.3691245329</td>\n",
       "      <td>0.2251913471</td>\n",
       "      <td>0.3877464041</td>\n",
       "    </tr>\n",
       "    <tr>\n",
       "      <th>4</th>\n",
       "      <td>235751.4681999988</td>\n",
       "      <td>903430.5001999664</td>\n",
       "      <td>POINT (235751.4681999988 903430.5001999664)</td>\n",
       "      <td>117761.0</td>\n",
       "      <td>3318.3211384974</td>\n",
       "      <td>0.0034543222</td>\n",
       "      <td>0.0</td>\n",
       "      <td>2.0</td>\n",
       "      <td>17.0</td>\n",
       "      <td>3561.0</td>\n",
       "      <td>5607.0</td>\n",
       "      <td>0.1483640071</td>\n",
       "      <td>-1.1103176879</td>\n",
       "      <td>-0.5868868565</td>\n",
       "      <td>4.3093817297</td>\n",
       "      <td>0.4195271523</td>\n",
       "    </tr>\n",
       "  </tbody>\n",
       "</table>\n",
       "</div>"
      ],
      "text/plain": [
       "                   x                  y  \\\n",
       "0  236576.7753999979  901761.5173999738   \n",
       "1  235536.4861000034  901067.6068999537   \n",
       "2  239371.9051999969  899396.2575999667   \n",
       "3  232899.6441000030  901824.6986999705   \n",
       "4  235751.4681999988  903430.5001999664   \n",
       "\n",
       "                                      geometry        Cb               Cs  \\\n",
       "0  POINT (236576.7753999979 901761.5173999738)   57482.0  3516.8500622951   \n",
       "1  POINT (235536.4861000034 901067.6068999537)   32322.0  3574.0430010411   \n",
       "2  POINT (239371.9051999969 899396.2575999667)       0.0  3614.4939089618   \n",
       "3   POINT (232899.644100003 901824.6986999705)   42148.0  3807.7884861980   \n",
       "4  POINT (235751.4681999988 903430.5001999664)  117761.0  3318.3211384974   \n",
       "\n",
       "             Ci  weight  Cr_600  Cr_800  Cb_600  Cb_800        Cb_std  \\\n",
       "0  0.0030278903     0.0   148.0   193.0  3376.0  4165.0 -0.1850933026   \n",
       "1  0.0041993702     0.0    63.0   128.0   625.0   917.0 -0.3242758688   \n",
       "2  0.0037086942     0.0     6.0     9.0     0.0     0.0 -0.5030778921   \n",
       "3  0.0028782580     0.0   112.0   217.0   743.0  1828.0 -0.2699194342   \n",
       "4  0.0034543222     0.0     2.0    17.0  3561.0  5607.0  0.1483640071   \n",
       "\n",
       "         Cs_std    Cr_800_std    Cb_600_std           MCA  \n",
       "0 -0.2887972156  0.2544031662  4.0412570949  0.4828371182  \n",
       "1 -0.0521305922 -0.0563005354  0.0541713098  0.3171328966  \n",
       "2  0.1152568512 -0.6251273121 -0.8516551590  0.2496547527  \n",
       "3  0.9151173921  0.3691245329  0.2251913471  0.3877464041  \n",
       "4 -1.1103176879 -0.5868868565  4.3093817297  0.4195271523  "
      ]
     },
     "execution_count": 31,
     "metadata": {},
     "output_type": "execute_result"
    }
   ],
   "source": [
    "nodes.head()"
   ]
  },
  {
   "cell_type": "code",
   "execution_count": 32,
   "metadata": {
    "collapsed": true
   },
   "outputs": [],
   "source": [
    "nodes.crs = {'init': 'epsg:26986', 'no_defs': True}"
   ]
  },
  {
   "cell_type": "code",
   "execution_count": 33,
   "metadata": {
    "collapsed": true
   },
   "outputs": [],
   "source": [
    "nodes.to_file('Outputs/Boston/Boston_nodes.shp', driver='ESRI Shapefile')"
   ]
  },
  {
   "cell_type": "markdown",
   "metadata": {},
   "source": [
    "# Paths"
   ]
  },
  {
   "cell_type": "code",
   "execution_count": 34,
   "metadata": {
    "collapsed": true
   },
   "outputs": [],
   "source": [
    "Eb = nx.edge_betweenness_centrality(Ng, weight='distance', normalized=False)"
   ]
  },
  {
   "cell_type": "code",
   "execution_count": 35,
   "metadata": {
    "collapsed": true
   },
   "outputs": [],
   "source": [
    "# Cs = straightness_centrality(G, 'distance', normalized=False, distance=True) #already normalised\n",
    "# nodes_df = pd.DataFrame([Cs]).T\n",
    "# nodes_df.columns = ['d{}'.format(i) for i, col in enumerate(nodes_df, 1)]\n",
    "# nodes_df.columns = [\"Cs\"]\n",
    "# Es = edge_straightness(G, \"Cs\")"
   ]
  },
  {
   "cell_type": "code",
   "execution_count": 36,
   "metadata": {
    "collapsed": true
   },
   "outputs": [],
   "source": [
    "edge_id={}\n",
    "for i, g in Ng.edges(): edge_id[(i,g)]=Ng[i][g]['OBJECTID']\n",
    "\n",
    "edges_df = to_df([Eb, edge_id], [\"Eb\", \"OBJECTID\"])\n",
    "edges_df.OBJECTID = edges_df.OBJECTID.astype(int)"
   ]
  },
  {
   "cell_type": "code",
   "execution_count": 37,
   "metadata": {
    "collapsed": true
   },
   "outputs": [],
   "source": [
    "paths_tmp = pd.merge(edges_4, edges_df, left_on = 'OBJECTID', right_on = 'OBJECTID', how='left')"
   ]
  },
  {
   "cell_type": "markdown",
   "metadata": {},
   "source": [
    "# Dual Analysis"
   ]
  },
  {
   "cell_type": "code",
   "execution_count": 38,
   "metadata": {
    "collapsed": true
   },
   "outputs": [],
   "source": [
    "# centroids for dual analysis\n",
    "\n",
    "def getting_cn(streets_gdf):\n",
    "    \n",
    "    centroids_gdf = streets_gdf.copy()\n",
    "    centroids_gdf['centroid'] = gpd.GeoSeries(centroids_gdf['geometry'].centroid)\n",
    "    centroids_gdf['intersecting'] = \"NaN\"\n",
    "    centroids_gdf['intersecting'] = centroids_gdf['intersecting'].astype(object)\n",
    "    \n",
    "    return(centroids_gdf)\n",
    "\n",
    "centroids_4 = getting_cn(edges_4)\n",
    "centroids_8 = getting_cn(edges_8)"
   ]
  },
  {
   "cell_type": "code",
   "execution_count": 39,
   "metadata": {
    "collapsed": true
   },
   "outputs": [],
   "source": [
    "#find_intersecting\n",
    "\n",
    "def find_intersecting(centroids_gdf):\n",
    "    \n",
    "    processed = []    \n",
    "    for e in centroids_gdf.itertuples():\n",
    "        intersections = []\n",
    "        \n",
    "        from_node = e[5] #check before running the right column of \"u\" and \"v\"\n",
    "        to_node = e[6]\n",
    "    \n",
    "        tmp = centroids_gdf.loc[(centroids_gdf['u'] == from_node) |\n",
    "                        (centroids_gdf['u'] == to_node) |\n",
    "                        (centroids_gdf['v'] == to_node) |\n",
    "                        (centroids_gdf['v'] == from_node)]\n",
    "\n",
    "        for l in tmp.itertuples():\n",
    "            if ((e[0]==l[0]) | ((e[0], l[0]) in processed) | ((l[0], e[0]) in processed)): continue\n",
    "        \n",
    "            else:\n",
    "                intersections.append(l[4])  #appending OBJECTID\n",
    "                processed.append((l[0],e[0]))\n",
    "    \n",
    "        centroids_gdf.set_value(e[0],'intersecting', intersections)\n",
    "    \n",
    "    return(centroids_gdf)\n",
    "\n",
    "centroids_4 = find_intersecting(centroids_4)\n",
    "centroids_8 = find_intersecting(centroids_8)"
   ]
  },
  {
   "cell_type": "code",
   "execution_count": 40,
   "metadata": {
    "collapsed": true
   },
   "outputs": [],
   "source": [
    "#creating nodes representing street segments\n",
    "\n",
    "def dual_nodes(centroids_gdf):\n",
    "\n",
    "    centroids_data = centroids_gdf[['OBJECTID', 'intersecting', 'distance']]\n",
    "    geometry = centroids_gdf['centroid']\n",
    "    \n",
    "    nodes_dual = gpd.GeoDataFrame(centroids_data, crs=crs, geometry=geometry)\n",
    "    nodes_dual['x'] = [x.coords.xy[0][0] for x in centroids_gdf['centroid']]\n",
    "    nodes_dual['y'] = [y.coords.xy[1][0] for y in centroids_gdf['centroid']]\n",
    "    \n",
    "    return(nodes_dual)\n",
    "\n",
    "nodes_dual_4 = dual_nodes(centroids_4)\n",
    "nodes_dual_8 = dual_nodes(centroids_8)"
   ]
  },
  {
   "cell_type": "code",
   "execution_count": 41,
   "metadata": {
    "collapsed": true
   },
   "outputs": [],
   "source": [
    "\n",
    "def dual_edges(nodes_dual, centroids_gdf):\n",
    "\n",
    "    edges_dual = pd.DataFrame(columns=['u','v', 'key', 'geometry', 'distance'])\n",
    "\n",
    "    for row in nodes_dual.itertuples():\n",
    "        \n",
    "        obj_id = row[1] #object_id of the relative segment\n",
    "        length = row[3]\n",
    "        \n",
    "        for i in list(row[2]): #intersecting segments\n",
    "            # i is the ObjectID\n",
    "\n",
    "            index = centroids_gdf.index[centroids_gdf.OBJECTID==i].tolist()[0]\n",
    "            length_v =  centroids_gdf['distance'][centroids_gdf.OBJECTID==i][index]\n",
    "            distance = (length+length_v)/2\n",
    "        \n",
    "            # adding a row with u-v, key fixed as 0, Linestring geometry \n",
    "            # from the first centroid to centroid intersecting segment \n",
    "        \n",
    "            edges_dual.loc[-1] = [obj_id, i, 0,  \n",
    "                                LineString([row[4], nodes_dual.loc[index]['geometry']]),\n",
    "                                distance] \n",
    "          \n",
    "            edges_dual.index = edges_dual.index + 1\n",
    "            \n",
    "    edges_dual = edges_dual.sort_index(axis=0)\n",
    "    geometry = edges_dual['geometry']\n",
    "    edges_dual = gpd.GeoDataFrame(edges_dual[['u','v', 'key', 'distance']], crs=crs, geometry=geometry)\n",
    "    \n",
    "    return(edges_dual)\n",
    "\n",
    "edges_dual_4 = dual_edges(nodes_dual_4, centroids_4)\n",
    "edges_dual_8 = dual_edges(nodes_dual_8, centroids_8)"
   ]
  },
  {
   "cell_type": "code",
   "execution_count": 42,
   "metadata": {
    "collapsed": true
   },
   "outputs": [],
   "source": [
    "#computing angles\n",
    "\n",
    "def finding_angles(edges_dual, edges, nodes):\n",
    "    \n",
    "    for row in edges_dual.itertuples():\n",
    "\n",
    "        #retrieveing original lines from/to\n",
    "    \n",
    "        from_node = nodes.loc[edges['u'].loc[edges.OBJECTID==row[1]]].index.tolist()[0]\n",
    "        to_node = nodes.loc[edges['v'].loc[edges.OBJECTID==row[1]]].index.tolist()[0]\n",
    "                                            \n",
    "        from_node2 = nodes.loc[edges['u'].loc[edges.OBJECTID==row[2]]].index.tolist()[0]           \n",
    "        to_node2 = nodes.loc[edges['v'].loc[edges.OBJECTID==row[2]]].index.tolist()[0]\n",
    "    \n",
    "        if ((from_node == from_node2) & (to_node == to_node2) |\n",
    "            (from_node == to_node2) & (to_node == from_node2)):\n",
    "            \n",
    "            deflection = 0\n",
    "            deflection_rad=0\n",
    "    \n",
    "        else:\n",
    "         \n",
    "            try:  \n",
    "        \n",
    "                x_f = float(\"{0:.10f}\".format(nodes.loc[from_node]['x']))\n",
    "                y_f = float(\"{0:.10f}\".format(nodes.loc[from_node]['y']))\n",
    "                x_t = float(\"{0:.10f}\".format(nodes.loc[to_node]['x']))\n",
    "                y_t = float(\"{0:.10f}\".format(nodes.loc[to_node]['y']))\n",
    "            \n",
    "                x_f2 = float(\"{0:.10f}\".format(nodes.loc[from_node2]['x']))\n",
    "                y_f2 = float(\"{0:.10f}\".format(nodes.loc[from_node2]['y']))    \n",
    "                x_t2 = float(\"{0:.10f}\".format(nodes.loc[to_node2]['x']))\n",
    "                y_t2 = float(\"{0:.10f}\".format(nodes.loc[to_node2]['y']))          \n",
    "                             \n",
    "                if (to_node == to_node2):\n",
    "                    lineA = ((x_f, y_f),(x_t,y_t))\n",
    "                    lineB = ((x_t2, y_t2),(x_f2, y_f2))\n",
    "    \n",
    "                elif (to_node == from_node2):\n",
    "                    lineA = ((x_f, y_f),(x_t,y_t))\n",
    "                    lineB = ((x_f2, y_f2),(x_t2, y_t2))\n",
    "\n",
    "                elif (from_node == from_node2):\n",
    "                    lineA = ((x_t, y_t),(x_f,y_f))\n",
    "                    lineB = ((x_f2, y_f2),(x_t2, y_t2))\n",
    "\n",
    "                else: #(from_node == to_node2)\n",
    "                    lineA = ((x_t, y_t),(x_f,y_f))\n",
    "                    lineB = ((x_t2, y_t2),(x_f2, y_f2))\n",
    "        \n",
    "                deflection = ang(lineA, lineB)\n",
    "                deflection_rad = ang_rad(lineA, lineB)\n",
    "            \n",
    "            except:\n",
    "                deflection = 0\n",
    "                deflection_rad = 0\n",
    "    \n",
    "        edges_dual.set_value(row[0],'angle', deflection)\n",
    "        edges_dual.set_value(row[0],'angle_rad', deflection_rad)\n",
    "        \n",
    "    return(edges_dual)\n",
    "    \n",
    "edges_dual_4 = finding_angles(edges_dual_4, edges_4, nodes_4)\n",
    "edges_dual_8 = finding_angles(edges_dual_8, edges_8, nodes_8)"
   ]
  },
  {
   "cell_type": "code",
   "execution_count": 43,
   "metadata": {},
   "outputs": [
    {
     "data": {
      "text/html": [
       "<div>\n",
       "<style>\n",
       "    .dataframe thead tr:only-child th {\n",
       "        text-align: right;\n",
       "    }\n",
       "\n",
       "    .dataframe thead th {\n",
       "        text-align: left;\n",
       "    }\n",
       "\n",
       "    .dataframe tbody tr th {\n",
       "        vertical-align: top;\n",
       "    }\n",
       "</style>\n",
       "<table border=\"1\" class=\"dataframe\">\n",
       "  <thead>\n",
       "    <tr style=\"text-align: right;\">\n",
       "      <th></th>\n",
       "      <th>OBJECTID</th>\n",
       "      <th>intersecting</th>\n",
       "      <th>distance</th>\n",
       "      <th>geometry</th>\n",
       "      <th>x</th>\n",
       "      <th>y</th>\n",
       "    </tr>\n",
       "  </thead>\n",
       "  <tbody>\n",
       "    <tr>\n",
       "      <th>0</th>\n",
       "      <td>0</td>\n",
       "      <td>[1699, 6025, 6098, 6100]</td>\n",
       "      <td>200.6171222152</td>\n",
       "      <td>POINT (236823.2797744635 903080.8252575381)</td>\n",
       "      <td>236823.2797744635</td>\n",
       "      <td>903080.8252575381</td>\n",
       "    </tr>\n",
       "    <tr>\n",
       "      <th>1</th>\n",
       "      <td>1</td>\n",
       "      <td>[570, 3723, 3990, 4377]</td>\n",
       "      <td>121.0863515374</td>\n",
       "      <td>POINT (237268.1543501575 899818.9340884958)</td>\n",
       "      <td>237268.1543501575</td>\n",
       "      <td>899818.9340884958</td>\n",
       "    </tr>\n",
       "    <tr>\n",
       "      <th>2</th>\n",
       "      <td>2</td>\n",
       "      <td>[71, 104, 1274, 4000, 4460]</td>\n",
       "      <td>50.1793071123</td>\n",
       "      <td>POINT (235846.2657175752 902512.183450851)</td>\n",
       "      <td>235846.2657175752</td>\n",
       "      <td>902512.1834508510</td>\n",
       "    </tr>\n",
       "    <tr>\n",
       "      <th>3</th>\n",
       "      <td>3</td>\n",
       "      <td>[15, 396, 4121, 4454, 4524]</td>\n",
       "      <td>52.5214836790</td>\n",
       "      <td>POINT (236786.8882782536 901228.9132351349)</td>\n",
       "      <td>236786.8882782536</td>\n",
       "      <td>901228.9132351349</td>\n",
       "    </tr>\n",
       "    <tr>\n",
       "      <th>4</th>\n",
       "      <td>4</td>\n",
       "      <td>[89, 4109, 4113, 4116, 4311]</td>\n",
       "      <td>151.8751457366</td>\n",
       "      <td>POINT (236650.391363719 901386.6972541241)</td>\n",
       "      <td>236650.3913637190</td>\n",
       "      <td>901386.6972541241</td>\n",
       "    </tr>\n",
       "  </tbody>\n",
       "</table>\n",
       "</div>"
      ],
      "text/plain": [
       "   OBJECTID                  intersecting        distance  \\\n",
       "0         0      [1699, 6025, 6098, 6100]  200.6171222152   \n",
       "1         1       [570, 3723, 3990, 4377]  121.0863515374   \n",
       "2         2   [71, 104, 1274, 4000, 4460]   50.1793071123   \n",
       "3         3   [15, 396, 4121, 4454, 4524]   52.5214836790   \n",
       "4         4  [89, 4109, 4113, 4116, 4311]  151.8751457366   \n",
       "\n",
       "                                      geometry                  x  \\\n",
       "0  POINT (236823.2797744635 903080.8252575381)  236823.2797744635   \n",
       "1  POINT (237268.1543501575 899818.9340884958)  237268.1543501575   \n",
       "2   POINT (235846.2657175752 902512.183450851)  235846.2657175752   \n",
       "3  POINT (236786.8882782536 901228.9132351349)  236786.8882782536   \n",
       "4   POINT (236650.391363719 901386.6972541241)  236650.3913637190   \n",
       "\n",
       "                   y  \n",
       "0  903080.8252575381  \n",
       "1  899818.9340884958  \n",
       "2  902512.1834508510  \n",
       "3  901228.9132351349  \n",
       "4  901386.6972541241  "
      ]
     },
     "execution_count": 43,
     "metadata": {},
     "output_type": "execute_result"
    }
   ],
   "source": [
    "nodes_dual_4.head()"
   ]
  },
  {
   "cell_type": "code",
   "execution_count": 44,
   "metadata": {
    "collapsed": true
   },
   "outputs": [],
   "source": [
    "nodes_dual_4 = nodes_dual_4.drop('intersecting',axis=1)\n",
    "nodes_dual_8 = nodes_dual_8.drop('intersecting',axis=1)\n",
    "nodes_dual_4.crs = {'init': 'epsg:26986', 'no_defs': True}"
   ]
  },
  {
   "cell_type": "code",
   "execution_count": 45,
   "metadata": {
    "collapsed": true
   },
   "outputs": [],
   "source": [
    "nodes_dual_4.to_file('Outputs/Boston/Boston_nodes_dual_4.shp', driver='ESRI Shapefile')"
   ]
  },
  {
   "cell_type": "code",
   "execution_count": 46,
   "metadata": {
    "collapsed": true
   },
   "outputs": [],
   "source": [
    "edges_dual_4.crs = {'init': 'epsg=26986', 'no_defs': True}\n",
    "edges_dual_4.to_file('Outputs/Boston/Boston_edges_dual_4.shp', driver='ESRI Shapefile')"
   ]
  },
  {
   "cell_type": "markdown",
   "metadata": {},
   "source": [
    "## Creating the dual graph"
   ]
  },
  {
   "cell_type": "code",
   "execution_count": 64,
   "metadata": {
    "collapsed": true
   },
   "outputs": [],
   "source": [
    "def getting_graph(nodes_dual, edges_dual):\n",
    "    nodes_dual.gdf_name = 'Dual_list'\n",
    "    Gr = ox.gdfs_to_graph(nodes_dual, edges_dual)\n",
    "    \n",
    "    n = Gr.nodes()\n",
    "    pos = {}\n",
    "\n",
    "    for l, item in enumerate(n): pos[l] = (n[l]['x'],n[l]['y'],n[l]['OBJECTID'])\n",
    "        \n",
    "    DG = nx.Graph() #Empty graph\n",
    "    DG = DG.to_undirected()\n",
    "    DG.add_nodes_from(pos.keys()) #Add nodes preserving coordinates\n",
    "    \n",
    "    for i, item in enumerate(DG.nodes()):\n",
    "        DG.node[i]['x']=pos[i][0]\n",
    "        DG.node[i]['y']=pos[i][1]\n",
    "        DG.node[i]['OBJECTID']=pos[i][2]\n",
    "        \n",
    "    for i, item in enumerate(Gr.edges()):\n",
    "        DG.add_edge(item[0], item[1])\n",
    "        DG[item[0]][item[1]]['distance'] = Gr[item[0]][item[1]][0]['distance']\n",
    "        DG[item[0]][item[1]]['angle'] = Gr[item[0]][item[1]][0]['angle']\n",
    "        DG[item[0]][item[1]]['angle_rad'] = Gr[item[0]][item[1]][0]['angle_rad']\n",
    "        \n",
    "    return(DG)\n",
    "\n",
    "DG_4 = getting_graph(nodes_dual_4, edges_dual_4)\n",
    "DG_8 = getting_graph(nodes_dual_8, edges_dual_8)"
   ]
  },
  {
   "cell_type": "code",
   "execution_count": 48,
   "metadata": {},
   "outputs": [
    {
     "data": {
      "text/plain": [
       "{'OBJECTID': 1, 'x': 237268.15435015748, 'y': 899818.93408849579}"
      ]
     },
     "execution_count": 48,
     "metadata": {},
     "output_type": "execute_result"
    }
   ],
   "source": [
    "#checking some edges\n",
    "DG_4.node[1]"
   ]
  },
  {
   "cell_type": "markdown",
   "metadata": {},
   "source": [
    "## Angular Betweenness - Paths"
   ]
  },
  {
   "cell_type": "code",
   "execution_count": 65,
   "metadata": {},
   "outputs": [
    {
     "ename": "KeyboardInterrupt",
     "evalue": "",
     "output_type": "error",
     "traceback": [
      "\u001b[1;31m---------------------------------------------------------------------------\u001b[0m",
      "\u001b[1;31mKeyboardInterrupt\u001b[0m                         Traceback (most recent call last)",
      "\u001b[1;32m<ipython-input-65-aef68e2d40e9>\u001b[0m in \u001b[0;36m<module>\u001b[1;34m()\u001b[0m\n\u001b[1;32m----> 1\u001b[1;33m \u001b[0mEb_A\u001b[0m \u001b[1;33m=\u001b[0m \u001b[0mnx\u001b[0m\u001b[1;33m.\u001b[0m\u001b[0mbetweenness_centrality\u001b[0m\u001b[1;33m(\u001b[0m\u001b[0mDG_4\u001b[0m\u001b[1;33m,\u001b[0m \u001b[0mweight\u001b[0m\u001b[1;33m=\u001b[0m\u001b[1;34m'angle'\u001b[0m\u001b[1;33m,\u001b[0m \u001b[0mnormalized\u001b[0m\u001b[1;33m=\u001b[0m\u001b[1;32mFalse\u001b[0m\u001b[1;33m)\u001b[0m\u001b[1;33m\u001b[0m\u001b[0m\n\u001b[0m",
      "\u001b[1;32m~\\AppData\\Local\\Continuum\\anaconda3\\lib\\site-packages\\networkx\\algorithms\\centrality\\betweenness.py\u001b[0m in \u001b[0;36mbetweenness_centrality\u001b[1;34m(G, k, normalized, weight, endpoints, seed)\u001b[0m\n\u001b[0;32m    113\u001b[0m             \u001b[0mS\u001b[0m\u001b[1;33m,\u001b[0m \u001b[0mP\u001b[0m\u001b[1;33m,\u001b[0m \u001b[0msigma\u001b[0m \u001b[1;33m=\u001b[0m \u001b[0m_single_source_shortest_path_basic\u001b[0m\u001b[1;33m(\u001b[0m\u001b[0mG\u001b[0m\u001b[1;33m,\u001b[0m \u001b[0ms\u001b[0m\u001b[1;33m)\u001b[0m\u001b[1;33m\u001b[0m\u001b[0m\n\u001b[0;32m    114\u001b[0m         \u001b[1;32melse\u001b[0m\u001b[1;33m:\u001b[0m  \u001b[1;31m# use Dijkstra's algorithm\u001b[0m\u001b[1;33m\u001b[0m\u001b[0m\n\u001b[1;32m--> 115\u001b[1;33m             \u001b[0mS\u001b[0m\u001b[1;33m,\u001b[0m \u001b[0mP\u001b[0m\u001b[1;33m,\u001b[0m \u001b[0msigma\u001b[0m \u001b[1;33m=\u001b[0m \u001b[0m_single_source_dijkstra_path_basic\u001b[0m\u001b[1;33m(\u001b[0m\u001b[0mG\u001b[0m\u001b[1;33m,\u001b[0m \u001b[0ms\u001b[0m\u001b[1;33m,\u001b[0m \u001b[0mweight\u001b[0m\u001b[1;33m)\u001b[0m\u001b[1;33m\u001b[0m\u001b[0m\n\u001b[0m\u001b[0;32m    116\u001b[0m         \u001b[1;31m# accumulation\u001b[0m\u001b[1;33m\u001b[0m\u001b[1;33m\u001b[0m\u001b[0m\n\u001b[0;32m    117\u001b[0m         \u001b[1;32mif\u001b[0m \u001b[0mendpoints\u001b[0m\u001b[1;33m:\u001b[0m\u001b[1;33m\u001b[0m\u001b[0m\n",
      "\u001b[1;32m~\\AppData\\Local\\Continuum\\anaconda3\\lib\\site-packages\\networkx\\algorithms\\centrality\\betweenness.py\u001b[0m in \u001b[0;36m_single_source_dijkstra_path_basic\u001b[1;34m(G, s, weight)\u001b[0m\n\u001b[0;32m    268\u001b[0m         \u001b[1;32mfor\u001b[0m \u001b[0mw\u001b[0m\u001b[1;33m,\u001b[0m \u001b[0medgedata\u001b[0m \u001b[1;32min\u001b[0m \u001b[0mG\u001b[0m\u001b[1;33m[\u001b[0m\u001b[0mv\u001b[0m\u001b[1;33m]\u001b[0m\u001b[1;33m.\u001b[0m\u001b[0mitems\u001b[0m\u001b[1;33m(\u001b[0m\u001b[1;33m)\u001b[0m\u001b[1;33m:\u001b[0m\u001b[1;33m\u001b[0m\u001b[0m\n\u001b[0;32m    269\u001b[0m             \u001b[0mvw_dist\u001b[0m \u001b[1;33m=\u001b[0m \u001b[0mdist\u001b[0m \u001b[1;33m+\u001b[0m \u001b[0medgedata\u001b[0m\u001b[1;33m.\u001b[0m\u001b[0mget\u001b[0m\u001b[1;33m(\u001b[0m\u001b[0mweight\u001b[0m\u001b[1;33m,\u001b[0m \u001b[1;36m1\u001b[0m\u001b[1;33m)\u001b[0m\u001b[1;33m\u001b[0m\u001b[0m\n\u001b[1;32m--> 270\u001b[1;33m             \u001b[1;32mif\u001b[0m \u001b[0mw\u001b[0m \u001b[1;32mnot\u001b[0m \u001b[1;32min\u001b[0m \u001b[0mD\u001b[0m \u001b[1;32mand\u001b[0m \u001b[1;33m(\u001b[0m\u001b[0mw\u001b[0m \u001b[1;32mnot\u001b[0m \u001b[1;32min\u001b[0m \u001b[0mseen\u001b[0m \u001b[1;32mor\u001b[0m \u001b[0mvw_dist\u001b[0m \u001b[1;33m<\u001b[0m \u001b[0mseen\u001b[0m\u001b[1;33m[\u001b[0m\u001b[0mw\u001b[0m\u001b[1;33m]\u001b[0m\u001b[1;33m)\u001b[0m\u001b[1;33m:\u001b[0m\u001b[1;33m\u001b[0m\u001b[0m\n\u001b[0m\u001b[0;32m    271\u001b[0m                 \u001b[0mseen\u001b[0m\u001b[1;33m[\u001b[0m\u001b[0mw\u001b[0m\u001b[1;33m]\u001b[0m \u001b[1;33m=\u001b[0m \u001b[0mvw_dist\u001b[0m\u001b[1;33m\u001b[0m\u001b[0m\n\u001b[0;32m    272\u001b[0m                 \u001b[0mpush\u001b[0m\u001b[1;33m(\u001b[0m\u001b[0mQ\u001b[0m\u001b[1;33m,\u001b[0m \u001b[1;33m(\u001b[0m\u001b[0mvw_dist\u001b[0m\u001b[1;33m,\u001b[0m \u001b[0mnext\u001b[0m\u001b[1;33m(\u001b[0m\u001b[0mc\u001b[0m\u001b[1;33m)\u001b[0m\u001b[1;33m,\u001b[0m \u001b[0mv\u001b[0m\u001b[1;33m,\u001b[0m \u001b[0mw\u001b[0m\u001b[1;33m)\u001b[0m\u001b[1;33m)\u001b[0m\u001b[1;33m\u001b[0m\u001b[0m\n",
      "\u001b[1;31mKeyboardInterrupt\u001b[0m: "
     ]
    }
   ],
   "source": [
    "Eb_A = nx.betweenness_centrality(DG_4, weight='angle', normalized=False)"
   ]
  },
  {
   "cell_type": "code",
   "execution_count": null,
   "metadata": {
    "collapsed": true
   },
   "outputs": [],
   "source": [
    "def id_dict(ed, graph):\n",
    "    \n",
    "    view = ed.items()\n",
    "    ed_list = list(view)\n",
    "    ed_dict = {}\n",
    "\n",
    "    for p in ed_list:\n",
    "        ed_dict[graph.node[p[0]]['OBJECTID']]=p[1] #ObjectID and Edge betweenness\n",
    "        \n",
    "    return(ed_dict)\n"
   ]
  },
  {
   "cell_type": "code",
   "execution_count": null,
   "metadata": {
    "collapsed": true
   },
   "outputs": [],
   "source": [
    "Eb_A_dict = id_dict(Eb_A, DG_4)\n",
    "Eb_A_df = to_df([Eb_A_dict], [\"Eb_A\"])"
   ]
  },
  {
   "cell_type": "code",
   "execution_count": null,
   "metadata": {
    "collapsed": true
   },
   "outputs": [],
   "source": [
    "paths = pd.merge(paths_tmp, Eb_A_df, left_on=\"OBJECTID\", right_index=True, how='left')\n",
    "paths.head()"
   ]
  },
  {
   "cell_type": "code",
   "execution_count": null,
   "metadata": {
    "collapsed": true
   },
   "outputs": [],
   "source": [
    "paths.to_file('Outputs/Boston/Boston_paths.shp', driver='ESRI Shapefile')"
   ]
  },
  {
   "cell_type": "markdown",
   "metadata": {},
   "source": [
    "## Partitions - Districts"
   ]
  },
  {
   "cell_type": "code",
   "execution_count": null,
   "metadata": {
    "collapsed": true
   },
   "outputs": [],
   "source": [
    "weights = ['distance','angle','angle_rad', 'False']\n",
    "subdvisions = []\n",
    "\n",
    "for i in weights:\n",
    "    partition = community.best_partition(DG_8, weight=i)\n",
    "    dct = id_dict(partition, DG_8)\n",
    "    subdvisions.append(dct)"
   ]
  },
  {
   "cell_type": "code",
   "execution_count": null,
   "metadata": {
    "collapsed": true
   },
   "outputs": [],
   "source": [
    "partitions_df = to_df(subdvisions, [\"p_len\", \"p_ang\", \"p_ang_rad\", 'p_no'])"
   ]
  },
  {
   "cell_type": "code",
   "execution_count": null,
   "metadata": {
    "collapsed": true
   },
   "outputs": [],
   "source": [
    "partitions_df.head()"
   ]
  },
  {
   "cell_type": "code",
   "execution_count": null,
   "metadata": {
    "collapsed": true
   },
   "outputs": [],
   "source": [
    "districts = pd.merge(edges_8, partitions_df, left_on=\"OBJECTID\", right_index=True, how='left')"
   ]
  },
  {
   "cell_type": "code",
   "execution_count": null,
   "metadata": {
    "collapsed": true
   },
   "outputs": [],
   "source": [
    "districts.head()"
   ]
  },
  {
   "cell_type": "code",
   "execution_count": null,
   "metadata": {
    "collapsed": true
   },
   "outputs": [],
   "source": [
    "districts.to_file('Outputs/Boston/Boston_districts.shp', driver='ESRI Shapefile')"
   ]
  }
 ],
 "metadata": {
  "kernelspec": {
   "display_name": "Python 3",
   "language": "python",
   "name": "python3"
  },
  "language_info": {
   "codemirror_mode": {
    "name": "ipython",
    "version": 3
   },
   "file_extension": ".py",
   "mimetype": "text/x-python",
   "name": "python",
   "nbconvert_exporter": "python",
   "pygments_lexer": "ipython3",
   "version": "3.6.3"
  }
 },
 "nbformat": 4,
 "nbformat_minor": 2
}
