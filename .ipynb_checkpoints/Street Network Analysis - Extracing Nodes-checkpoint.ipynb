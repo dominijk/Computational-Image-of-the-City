{
 "cells": [
  {
   "cell_type": "code",
   "execution_count": 1,
   "metadata": {
    "collapsed": true
   },
   "outputs": [],
   "source": [
    "import osmnx as ox, networkx as nx, matplotlib.cm as cm, pandas as pd, numpy as np\n",
    "import matplotlib.pyplot as plt\n",
    "%matplotlib inline\n",
    "import geopandas as gpd\n",
    "import functools\n",
    "import community\n",
    "\n",
    "from scipy import sparse\n",
    "from scipy.sparse import linalg\n",
    "import time\n",
    "from shapely.geometry import Point, LineString, Polygon, MultiPolygon, mapping\n",
    "from math import sqrt\n",
    "import pandas as pd\n",
    "from shapely.ops import cascaded_union\n",
    "pd.set_option('precision', 10)"
   ]
  },
  {
   "cell_type": "markdown",
   "metadata": {},
   "source": [
    "# Geo Dataframe"
   ]
  },
  {
   "cell_type": "code",
   "execution_count": 2,
   "metadata": {
    "collapsed": true
   },
   "outputs": [],
   "source": [
    "#try reading street network\n",
    "\n",
    "#streets = gpd.read_file('C:/Users/gabri/Google Drive Academic/GIS/OS_Roads_Working/OS_roads_final.shp')\n",
    "streets = gpd.read_file('C:/Users/g_filo01/sciebo/GIS Data/Boston/Street_Network/boston_sn_26986_clipped_4000_slim.shp')"
   ]
  },
  {
   "cell_type": "code",
   "execution_count": 4,
   "metadata": {},
   "outputs": [],
   "source": [
    "def preparing(streets_gdf):\n",
    "    \n",
    "    streets_gdf = streets_gdf.to_crs(epsg=26986)\n",
    "    streets_gdf['from'] = \"NaN\"\n",
    "    streets_gdf['to'] = \"NaN\"\n",
    "    streets_gdf = streets_gdf[['geometry', 'from', 'to']]\n",
    "    \n",
    "    return(streets_gdf)\n",
    "    \n",
    "streets = preparing(streets)"
   ]
  },
  {
   "cell_type": "code",
   "execution_count": 5,
   "metadata": {
    "collapsed": true
   },
   "outputs": [],
   "source": [
    "#removing Z coordinates and storing from/to coordinates and assigning \n",
    "\n",
    "def extracting_coord(streets_gdf):\n",
    "    \n",
    "    for index, row in streets_gdf.iterrows():\n",
    "        line = []\n",
    "        line2 = []\n",
    "        \n",
    "        coord = list(row['geometry'].coords)\n",
    "        from_node = coord[0][0:2]\n",
    "        to_node = coord[-1][0:2]\n",
    "    \n",
    "        for i in range(0,len(coord)):\n",
    "            point = coord[i][0:2]\n",
    "            line.append(point)\n",
    "\n",
    "        t = LineString([coor for coor in line])\n",
    "        \n",
    "        streets_gdf.set_value(index,'geometry', t)\n",
    "        streets_gdf.set_value(index, 'from', from_node)\n",
    "        streets_gdf.set_value(index, 'to', to_node)\n",
    "        \n",
    "    return(streets_gdf)\n",
    "\n",
    "streets = extracting_coord(streets)"
   ]
  },
  {
   "cell_type": "code",
   "execution_count": 6,
   "metadata": {},
   "outputs": [],
   "source": [
    "#removing edges represented only by nodes\n",
    "\n",
    "def cleaning(streets_gdf):\n",
    "    \n",
    "    streets_gdf = streets_gdf.loc[streets_gdf['from'] != streets_gdf['to']]\n",
    "    streets_gdf.reset_index(inplace=True, drop=True)\n",
    "    streets_gdf['OBJECTID'] = streets_gdf.index.values.astype(int) \n",
    "    \n",
    "    return(streets_gdf)\n",
    "\n",
    "streets = cleaning(streets)"
   ]
  },
  {
   "cell_type": "code",
   "execution_count": 7,
   "metadata": {
    "collapsed": true
   },
   "outputs": [],
   "source": [
    "#extracting nodes and greating a geodataframe\n",
    "\n",
    "crs = {'init': '26986'}\n",
    "\n",
    "def getting_nodes(streets_gdf):\n",
    "\n",
    "    unique_nodes_tmp = list(streets_gdf['to'].unique()) + list(streets_gdf['from'].unique())\n",
    "    unique_nodes = list(set(unique_nodes_tmp))\n",
    "    \n",
    "    nodes_data = pd.DataFrame.from_records(unique_nodes, columns=['x', 'y']).astype('float')\n",
    "    geometry = [Point(xy) for xy in zip(nodes_data.x, nodes_data.y)]\n",
    "    nodes = gpd.GeoDataFrame(nodes_data, crs=crs, geometry=geometry)\n",
    "    nodes.gdf_name = 'Nodes_list' #for OSMNx\n",
    "    \n",
    "    return(nodes)\n",
    "\n",
    "nodes = getting_nodes(streets)"
   ]
  },
  {
   "cell_type": "code",
   "execution_count": 8,
   "metadata": {
    "collapsed": true
   },
   "outputs": [],
   "source": [
    "def getting_edges(streets_gdf, nodes_gdf):\n",
    "    \n",
    "    nodes_tmp = nodes_gdf.reset_index()\n",
    "    nodes_tmp['coordinates'] = list(zip(nodes_tmp.x, nodes_tmp.y))\n",
    "    \n",
    "    edges_tmp = pd.merge(streets_gdf, nodes_tmp[['index', 'coordinates']], how='left', left_on=\"from\", right_on=\"coordinates\")\n",
    "    edges_tmp = edges_tmp.drop(edges_tmp[['coordinates']],axis=1)\n",
    "    edges_tmp = edges_tmp.rename(columns = {'index':'u'})\n",
    "    \n",
    "    edges = pd.merge(edges_tmp, nodes_tmp[['index', 'coordinates']], how='left', left_on=\"to\", right_on=\"coordinates\")\n",
    "    edges = edges.drop(edges[['coordinates', 'from', 'to']],axis=1)\n",
    "    edges = edges.rename(columns = {'index':'v'})\n",
    "    edges['key']=0 #for OSMNx\n",
    "    edges['distance'] = gpd.GeoSeries(edges['geometry'].length)\n",
    "    \n",
    "    return(edges)\n",
    "    \n",
    "edges = getting_edges(streets, nodes)"
   ]
  },
  {
   "cell_type": "code",
   "execution_count": 9,
   "metadata": {
    "collapsed": true
   },
   "outputs": [],
   "source": [
    "nodes.crs = {'init': 'epsg:26986', 'no_defs': True}"
   ]
  },
  {
   "cell_type": "code",
   "execution_count": 10,
   "metadata": {
    "collapsed": true
   },
   "outputs": [],
   "source": [
    "nodes.to_file('Outputs/Boston_nodes_slim.shp', driver='ESRI Shapefile')"
   ]
  }
 ],
 "metadata": {
  "kernelspec": {
   "display_name": "Python 3",
   "language": "python",
   "name": "python3"
  },
  "language_info": {
   "codemirror_mode": {
    "name": "ipython",
    "version": 3
   },
   "file_extension": ".py",
   "mimetype": "text/x-python",
   "name": "python",
   "nbconvert_exporter": "python",
   "pygments_lexer": "ipython3",
   "version": "3.6.3"
  }
 },
 "nbformat": 4,
 "nbformat_minor": 2
}
