{
 "cells": [
  {
   "cell_type": "code",
   "execution_count": 4,
   "metadata": {},
   "outputs": [],
   "source": [
    "import osmnx as ox, networkx as nx, matplotlib.cm as cm, pandas as pd, numpy as np\n",
    "import matplotlib.pyplot as plt\n",
    "%matplotlib inline\n",
    "import geopandas as gpd\n",
    "import functools\n",
    "import community\n",
    "\n",
    "from scipy import sparse\n",
    "from scipy.sparse import linalg\n",
    "import time\n",
    "from shapely.geometry import Point, LineString, Polygon, MultiPolygon, mapping\n",
    "from math import sqrt\n",
    "import pandas as pd\n",
    "from shapely.ops import cascaded_union\n",
    "pd.set_option('precision', 10)\n",
    "\n",
    "from shapely.geometry import Point, LineString, Polygon, MultiPolygon, mapping, MultiLineString\n",
    "from shapely.ops import cascaded_union, linemerge, nearest_points\n",
    "pd.options.mode.chained_assignment = None\n",
    "import re"
   ]
  },
  {
   "cell_type": "code",
   "execution_count": 5,
   "metadata": {},
   "outputs": [],
   "source": [
    "pd.set_option('display.float_format', lambda x: '%.10f' % x)"
   ]
  },
  {
   "cell_type": "code",
   "execution_count": 5,
   "metadata": {},
   "outputs": [],
   "source": [
    "import street_network_functions as snf"
   ]
  },
  {
   "cell_type": "code",
   "execution_count": 55,
   "metadata": {},
   "outputs": [
    {
     "data": {
      "text/plain": [
       "<module 'street_network_functions' from 'C:\\\\Users\\\\g_filo01\\\\sciebo\\\\scripts\\\\Image of the City\\\\street_network_functions.py'>"
      ]
     },
     "execution_count": 55,
     "metadata": {},
     "output_type": "execute_result"
    }
   ],
   "source": [
    "from importlib import reload\n",
    "reload(snf)"
   ]
  },
  {
   "cell_type": "code",
   "execution_count": 96,
   "metadata": {},
   "outputs": [],
   "source": [
    "gdf = gpd.read_file('C:/Users/g_filo01/sciebo/GIS Data/London/Public_Transport/tfl_lines.shp').to_crs(epsg = 27700)"
   ]
  },
  {
   "cell_type": "code",
   "execution_count": 99,
   "metadata": {},
   "outputs": [],
   "source": [
    "index_lines = gdf.columns.get_loc(\"lines\")+1\n",
    "for row in gdf.itertuples():\n",
    "    if row[index_lines] == None: continue\n",
    "    d = eval(re.search(r\"\\{(.*?)\\}\", row[index_lines]).group(0))\n",
    "    for key, value in d.items():\n",
    "        if (key in list(gdf)) == False: gdf[key] = 'nv'\n",
    "        gdf.set_value(row[0], key, value)"
   ]
  },
  {
   "cell_type": "code",
   "execution_count": 78,
   "metadata": {},
   "outputs": [],
   "source": [
    "gdf = gdf[(gdf.closed == 'nv') | (gdf.closed == 9999)]\n",
    "gdf.opened.loc[gdf.opened == 'nv'] = 9999\n",
    "gdf.opened.unique()\n",
    "gdf.opened = gdf.opened.astype(int)\n",
    "gdf = gdf[(gdf.opened <= 2018) | (gdf.opened == 9999)]\n",
    "gdf.drop(['lines', 'closed', 'opened'], axis = 1, inplace = True)"
   ]
  },
  {
   "cell_type": "code",
   "execution_count": 86,
   "metadata": {},
   "outputs": [
    {
     "data": {
      "text/html": [
       "<div>\n",
       "<style>\n",
       "    .dataframe thead tr:only-child th {\n",
       "        text-align: right;\n",
       "    }\n",
       "\n",
       "    .dataframe thead th {\n",
       "        text-align: left;\n",
       "    }\n",
       "\n",
       "    .dataframe tbody tr th {\n",
       "        vertical-align: top;\n",
       "    }\n",
       "</style>\n",
       "<table border=\"1\" class=\"dataframe\">\n",
       "  <thead>\n",
       "    <tr style=\"text-align: right;\">\n",
       "      <th></th>\n",
       "      <th>id</th>\n",
       "      <th>geometry</th>\n",
       "      <th>name</th>\n",
       "      <th>start_sid</th>\n",
       "      <th>end_sid</th>\n",
       "      <th>otend_sid</th>\n",
       "      <th>nightopened</th>\n",
       "      <th>ot2end_sid</th>\n",
       "    </tr>\n",
       "  </thead>\n",
       "  <tbody>\n",
       "    <tr>\n",
       "      <th>0</th>\n",
       "      <td>LeaValleyLine1</td>\n",
       "      <td>LINESTRING (534726.0237600202 182339.909276591...</td>\n",
       "      <td>London Overground</td>\n",
       "      <td>910GCAMHTH</td>\n",
       "      <td>910GBTHNLGR</td>\n",
       "      <td>nv</td>\n",
       "      <td>nv</td>\n",
       "      <td>nv</td>\n",
       "    </tr>\n",
       "    <tr>\n",
       "      <th>1</th>\n",
       "      <td>LeaValleyLine2</td>\n",
       "      <td>LINESTRING (534826.4982792484 183293.129724895...</td>\n",
       "      <td>London Overground</td>\n",
       "      <td>910GCAMHTH</td>\n",
       "      <td>910GLONFLDS</td>\n",
       "      <td>nv</td>\n",
       "      <td>nv</td>\n",
       "      <td>nv</td>\n",
       "    </tr>\n",
       "    <tr>\n",
       "      <th>2</th>\n",
       "      <td>LeaValleyLine3</td>\n",
       "      <td>LINESTRING (534783.1948994747 184262.623730212...</td>\n",
       "      <td>London Overground</td>\n",
       "      <td>910GLONFLDS</td>\n",
       "      <td>910GHAKNYNM</td>\n",
       "      <td>nv</td>\n",
       "      <td>nv</td>\n",
       "      <td>nv</td>\n",
       "    </tr>\n",
       "    <tr>\n",
       "      <th>3</th>\n",
       "      <td>LeaValleyLine4</td>\n",
       "      <td>LINESTRING (534530.3486185018 185136.489462117...</td>\n",
       "      <td>London Overground</td>\n",
       "      <td>910GHAKNYNM</td>\n",
       "      <td>910GRCTRYRD</td>\n",
       "      <td>910GCLAPTON</td>\n",
       "      <td>nv</td>\n",
       "      <td>nv</td>\n",
       "    </tr>\n",
       "    <tr>\n",
       "      <th>4</th>\n",
       "      <td>LeaValleyLine5</td>\n",
       "      <td>LINESTRING (533996.5904744542 186186.929817280...</td>\n",
       "      <td>London Overground</td>\n",
       "      <td>910GRCTRYRD</td>\n",
       "      <td>910GSTKNWNG</td>\n",
       "      <td>nv</td>\n",
       "      <td>nv</td>\n",
       "      <td>nv</td>\n",
       "    </tr>\n",
       "  </tbody>\n",
       "</table>\n",
       "</div>"
      ],
      "text/plain": [
       "               id                                           geometry  \\\n",
       "0  LeaValleyLine1  LINESTRING (534726.0237600202 182339.909276591...   \n",
       "1  LeaValleyLine2  LINESTRING (534826.4982792484 183293.129724895...   \n",
       "2  LeaValleyLine3  LINESTRING (534783.1948994747 184262.623730212...   \n",
       "3  LeaValleyLine4  LINESTRING (534530.3486185018 185136.489462117...   \n",
       "4  LeaValleyLine5  LINESTRING (533996.5904744542 186186.929817280...   \n",
       "\n",
       "                name    start_sid      end_sid    otend_sid nightopened  \\\n",
       "0  London Overground   910GCAMHTH  910GBTHNLGR           nv          nv   \n",
       "1  London Overground   910GCAMHTH  910GLONFLDS           nv          nv   \n",
       "2  London Overground  910GLONFLDS  910GHAKNYNM           nv          nv   \n",
       "3  London Overground  910GHAKNYNM  910GRCTRYRD  910GCLAPTON          nv   \n",
       "4  London Overground  910GRCTRYRD  910GSTKNWNG           nv          nv   \n",
       "\n",
       "  ot2end_sid  \n",
       "0         nv  \n",
       "1         nv  \n",
       "2         nv  \n",
       "3         nv  \n",
       "4         nv  "
      ]
     },
     "execution_count": 86,
     "metadata": {},
     "output_type": "execute_result"
    }
   ],
   "source": [
    "gdf.head()"
   ]
  },
  {
   "cell_type": "code",
   "execution_count": 91,
   "metadata": {},
   "outputs": [],
   "source": [
    "index_geo = gdf.columns.get_loc(\"geometry\")+1\n",
    "index_end = gdf.columns.get_loc(\"end_sid\")+1\n",
    "\n",
    "for row in gdf.itertuples():\n",
    "        end = row[index_end]\n",
    "        if end == 'nv': continue\n",
    "        tmp = gdf[gdf.start_sid == end]\n",
    "        if len(tmp) == 0: continue\n",
    "        coords_A = list(row[index_geo].coords)\n",
    "        coords_B = list(tmp.iloc[0]['geometry'].coords)\n",
    "        coords_A.append(coords_B[0])\n",
    "        geo_line = LineString([coor for coor in coords_A])\n",
    "        gdf.set_value(row[0], 'geometry', geo_line)"
   ]
  },
  {
   "cell_type": "code",
   "execution_count": 100,
   "metadata": {},
   "outputs": [],
   "source": [
    "gdf.to_file('C:/Users/g_filo01/sciebo/GIS Data/London/Public_Transport/tfl_lines_edit.shp', driver = 'ESRI Shapefile')"
   ]
  }
 ],
 "metadata": {
  "kernelspec": {
   "display_name": "Python 3",
   "language": "python",
   "name": "python3"
  },
  "language_info": {
   "codemirror_mode": {
    "name": "ipython",
    "version": 3
   },
   "file_extension": ".py",
   "mimetype": "text/x-python",
   "name": "python",
   "nbconvert_exporter": "python",
   "pygments_lexer": "ipython3",
   "version": "3.6.3"
  }
 },
 "nbformat": 4,
 "nbformat_minor": 2
}
