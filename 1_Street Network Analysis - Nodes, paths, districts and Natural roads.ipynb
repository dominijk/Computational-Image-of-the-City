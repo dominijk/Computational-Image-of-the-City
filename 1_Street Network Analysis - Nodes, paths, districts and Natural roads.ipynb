{
 "cells": [
  {
   "cell_type": "code",
   "execution_count": 1,
   "metadata": {},
   "outputs": [],
   "source": [
    "import osmnx as ox, networkx as nx, matplotlib.cm as cm, pandas as pd, numpy as np\n",
    "import matplotlib.pyplot as plt\n",
    "import geopandas as gpd\n",
    "import functools\n",
    "import community\n",
    "import math\n",
    "\n",
    "\n",
    "from scipy import sparse\n",
    "from scipy.sparse import linalg\n",
    "import time\n",
    "from shapely.geometry import Point, LineString, Polygon, MultiPolygon, mapping\n",
    "from math import sqrt\n",
    "import pandas as pd\n",
    "from shapely.ops import cascaded_union\n",
    "pd.set_option('precision', 10)\n",
    "%matplotlib inline"
   ]
  },
  {
   "cell_type": "code",
   "execution_count": 123,
   "metadata": {},
   "outputs": [],
   "source": [
    "import image_city_functions as ic"
   ]
  },
  {
   "cell_type": "code",
   "execution_count": 2,
   "metadata": {},
   "outputs": [],
   "source": [
    "#initialise path, names, etc.\n",
    "\n",
    "city_name = 'London'\n",
    "folder_ouptut ='Outputs/'+city_name+'/'\n",
    "epsg = 27700\n",
    "crs = {'init': 'epsg:27700', 'no_defs': True}\n",
    "download = False"
   ]
  },
  {
   "cell_type": "markdown",
   "metadata": {},
   "source": [
    "# Downloading the data by place or Loading shapefile"
   ]
  },
  {
   "cell_type": "code",
   "execution_count": 57,
   "metadata": {},
   "outputs": [],
   "source": [
    "# if a clean network shall be used, move below\n",
    "\n",
    "placeAnalysis = 'London Congestion Charge'\n",
    "placeLarger = 'Greater London (175342)'\n",
    "\n",
    "if download == True:\n",
    "    nodes_small, edges_small = ic.get_from_OSM(placeAnalysis)\n",
    "    nodes_large, edges_large = ic.get_from_OSM(placeLarger)"
   ]
  },
  {
   "cell_type": "code",
   "execution_count": 111,
   "metadata": {},
   "outputs": [],
   "source": [
    "directory_small = 'C:/Users/g_filo01/sciebo/GIS Data/London/OS_Roads_Working/OS_roads_final.shp'\n",
    "directory_large = 'C:/Users/g_filo01/sciebo/GIS Data/Boston/Street_Network/boston_sn_26986_clipped_8000_noHW.shp'\n",
    "\n",
    "nodes_small, edges_small = ic.get_fromSHP(directory_small, epsg)\n",
    "nodes_large, edges_large = ic.get_fromSHP(directory_large, epsg)"
   ]
  },
  {
   "cell_type": "markdown",
   "metadata": {},
   "source": [
    "# Loading a Street Network - gdf"
   ]
  },
  {
   "cell_type": "markdown",
   "metadata": {},
   "source": [
    "# Indexes computation - Nodes\n",
    "## only area of analysis"
   ]
  },
  {
   "cell_type": "code",
   "execution_count": null,
   "metadata": {},
   "outputs": [],
   "source": [
    "NGs = ic.graph_fromGDF(nodes_small, edges_small)\n",
    "NGl = ic.graph_fromGDF(nodes_large, edges_larg)"
   ]
  },
  {
   "cell_type": "markdown",
   "metadata": {},
   "source": [
    "## Centrality measures"
   ]
  },
  {
   "cell_type": "code",
   "execution_count": 30,
   "metadata": {},
   "outputs": [],
   "source": [
    "Bc = nx.betweenness_centrality(NGs, k=None, weight = 'length', normalized=False)\n",
    "Sc = ic.straightness_centrality(NGs, weight = 'length', normalized=False)"
   ]
  },
  {
   "cell_type": "code",
   "execution_count": 32,
   "metadata": {
    "collapsed": true
   },
   "outputs": [],
   "source": [
    "# POI = gpd.read_file('Outputs/POI.shp')\n",
    "POI = (gpd.read_file(folder_ouptut+'/POI_'+city_name+'.shp')).to_crs(epsg=epsg)\n",
    "\n",
    "for row in nodes.itertuples():\n",
    "    \n",
    "    index_geometry = nodes.columns.get_loc(\"geometry\")\n",
    "    g = row[index_geometry] #geometry\n",
    "    fil = g.buffer(50)\n",
    "    \n",
    "    sindex = POI.sindex\n",
    "    possible_matches_index = list(sindex.intersection(fil.bounds))\n",
    "    possible_matches = POI.iloc[possible_matches_index]\n",
    "        \n",
    "    weight = len(possible_matches)\n",
    "    nodes.set_value(row[0], 'weight', weight)\n",
    "    \n",
    "for n in NGs.nodes():\n",
    "    NGs.node[n]['weight'] = nodes['weight'].loc[n]"
   ]
  },
  {
   "cell_type": "code",
   "execution_count": 36,
   "metadata": {
    "collapsed": true
   },
   "outputs": [],
   "source": [
    "# Reach Centrality\n",
    "Rc400 = ic.reach_centrality(NGs, weight = 'length', radius = 400) \n",
    "Rc600 = ic.reach_centrality(NGs, weight = 'length', radius = 600) "
   ]
  },
  {
   "cell_type": "code",
   "execution_count": 37,
   "metadata": {
    "collapsed": true
   },
   "outputs": [],
   "source": [
    "# Local Betweenness Centrality\n",
    "Bc600 = ic.local_betweenness_centrality(NGs, weight = 'length', radius = 600) \n",
    "Bc400 = ic.local_betweenness_centrality(NGs, weight = 'length', radius = 800) "
   ]
  },
  {
   "cell_type": "code",
   "execution_count": null,
   "metadata": {},
   "outputs": [],
   "source": [
    "nodes_df = ic.dict_to_df([Bc, Bs, Rc400, Rc600, Bc400, Bc600], ['Bc', 'Bs', 'Rc400', 'Rc600', 'Bc400', 'Bc600'])\n",
    "nodes = pd.merge(nodes_small, nodes_df, left_on= \"nodeID\", right_index = True, how='left')"
   ]
  },
  {
   "cell_type": "code",
   "execution_count": 47,
   "metadata": {
    "collapsed": true
   },
   "outputs": [],
   "source": [
    "col = ['Bc', 'Bs', 'Rc400', 'Rc600', 'Bc400', 'Bc600']\n",
    "for i in col: ic.scaling_columnDF(nodes, i)\n",
    "nodes['height'] = 2 # for 3d visibility analysis\n",
    "nodes.head()"
   ]
  },
  {
   "cell_type": "code",
   "execution_count": 49,
   "metadata": {
    "collapsed": true
   },
   "outputs": [],
   "source": [
    "nodes.crs = crs\n",
    "nodes.to_file(folder_ouptut+city_name+'_nodes.shp', driver='ESRI Shapefile')"
   ]
  },
  {
   "cell_type": "markdown",
   "metadata": {},
   "source": [
    "# Paths"
   ]
  },
  {
   "cell_type": "code",
   "execution_count": 52,
   "metadata": {
    "collapsed": true
   },
   "outputs": [],
   "source": [
    "Eb = nx.edge_betweenness_centrality(NGs, weight= 'rad', normalized=False)"
   ]
  },
  {
   "cell_type": "code",
   "execution_count": 53,
   "metadata": {
    "collapsed": true
   },
   "outputs": [],
   "source": [
    "edge_id={}\n",
    "\n",
    "for i, g in Ng.edges(): edge_id[(i,g)] = Ng[i][g]['streetID']\n",
    "\n",
    "edges_df = ic.dict_to_df([Eb, edge_id], [\"Eb\", \"streetID\"])\n",
    "edges_df.streetID = edges_df.streetID.astype(int)"
   ]
  },
  {
   "cell_type": "code",
   "execution_count": 54,
   "metadata": {
    "collapsed": true
   },
   "outputs": [],
   "source": [
    "paths_tmp = pd.merge(edges_small, edges_df, left_on = 'streetID', right_on = 'streetID', how='left')"
   ]
  },
  {
   "cell_type": "markdown",
   "metadata": {},
   "source": [
    "# Dual Analysis"
   ]
  },
  {
   "cell_type": "code",
   "execution_count": 58,
   "metadata": {},
   "outputs": [
    {
     "data": {
      "text/html": [
       "<div>\n",
       "<style>\n",
       "    .dataframe thead tr:only-child th {\n",
       "        text-align: right;\n",
       "    }\n",
       "\n",
       "    .dataframe thead th {\n",
       "        text-align: left;\n",
       "    }\n",
       "\n",
       "    .dataframe tbody tr th {\n",
       "        vertical-align: top;\n",
       "    }\n",
       "</style>\n",
       "<table border=\"1\" class=\"dataframe\">\n",
       "  <thead>\n",
       "    <tr style=\"text-align: right;\">\n",
       "      <th></th>\n",
       "      <th>geometry</th>\n",
       "      <th>streetID</th>\n",
       "      <th>u</th>\n",
       "      <th>v</th>\n",
       "      <th>key</th>\n",
       "      <th>distance</th>\n",
       "      <th>centroid</th>\n",
       "      <th>intersecting</th>\n",
       "    </tr>\n",
       "  </thead>\n",
       "  <tbody>\n",
       "    <tr>\n",
       "      <th>0</th>\n",
       "      <td>LINESTRING (528421.0000001118 180948.999999571...</td>\n",
       "      <td>0</td>\n",
       "      <td>886</td>\n",
       "      <td>199</td>\n",
       "      <td>0</td>\n",
       "      <td>90.7584444386</td>\n",
       "      <td>POINT (528448.9147123025 180970.8538257579)</td>\n",
       "      <td>NaN</td>\n",
       "    </tr>\n",
       "    <tr>\n",
       "      <th>1</th>\n",
       "      <td>LINESTRING (533740.0500001372 181263.939999453...</td>\n",
       "      <td>1</td>\n",
       "      <td>2718</td>\n",
       "      <td>1085</td>\n",
       "      <td>0</td>\n",
       "      <td>307.5254896358</td>\n",
       "      <td>POINT (533787.1696836202 181119.9464193996)</td>\n",
       "      <td>NaN</td>\n",
       "    </tr>\n",
       "    <tr>\n",
       "      <th>2</th>\n",
       "      <td>LINESTRING (533835.3200001377 180907.189999451...</td>\n",
       "      <td>2</td>\n",
       "      <td>1861</td>\n",
       "      <td>1534</td>\n",
       "      <td>0</td>\n",
       "      <td>131.1818512142</td>\n",
       "      <td>POINT (533836.4036256567 180842.4056228355)</td>\n",
       "      <td>NaN</td>\n",
       "    </tr>\n",
       "    <tr>\n",
       "      <th>3</th>\n",
       "      <td>LINESTRING (528136.0000001106 180780.999999577...</td>\n",
       "      <td>3</td>\n",
       "      <td>3213</td>\n",
       "      <td>3486</td>\n",
       "      <td>0</td>\n",
       "      <td>148.7149451569</td>\n",
       "      <td>POINT (528206.3074209788 180805.1229684248)</td>\n",
       "      <td>NaN</td>\n",
       "    </tr>\n",
       "    <tr>\n",
       "      <th>4</th>\n",
       "      <td>LINESTRING (532764.1500001322 180312.289999477...</td>\n",
       "      <td>4</td>\n",
       "      <td>3698</td>\n",
       "      <td>875</td>\n",
       "      <td>0</td>\n",
       "      <td>261.7112357594</td>\n",
       "      <td>POINT (532889.7397718716 180278.3508118218)</td>\n",
       "      <td>NaN</td>\n",
       "    </tr>\n",
       "  </tbody>\n",
       "</table>\n",
       "</div>"
      ],
      "text/plain": [
       "                                            geometry  streetID     u     v  \\\n",
       "0  LINESTRING (528421.0000001118 180948.999999571...         0   886   199   \n",
       "1  LINESTRING (533740.0500001372 181263.939999453...         1  2718  1085   \n",
       "2  LINESTRING (533835.3200001377 180907.189999451...         2  1861  1534   \n",
       "3  LINESTRING (528136.0000001106 180780.999999577...         3  3213  3486   \n",
       "4  LINESTRING (532764.1500001322 180312.289999477...         4  3698   875   \n",
       "\n",
       "   key        distance                                     centroid  \\\n",
       "0    0   90.7584444386  POINT (528448.9147123025 180970.8538257579)   \n",
       "1    0  307.5254896358  POINT (533787.1696836202 181119.9464193996)   \n",
       "2    0  131.1818512142  POINT (533836.4036256567 180842.4056228355)   \n",
       "3    0  148.7149451569  POINT (528206.3074209788 180805.1229684248)   \n",
       "4    0  261.7112357594  POINT (532889.7397718716 180278.3508118218)   \n",
       "\n",
       "  intersecting  \n",
       "0          NaN  \n",
       "1          NaN  \n",
       "2          NaN  \n",
       "3          NaN  \n",
       "4          NaN  "
      ]
     },
     "execution_count": 58,
     "metadata": {},
     "output_type": "execute_result"
    }
   ],
   "source": [
    "nodesDual_small, edgesDual_small = ic.dual_gdf(nodes_small, edges_small, crs)\n",
    "nodesDual_large, edgesDual_large = ic.dual_gdf(nodes_large, edges_large, crs)"
   ]
  },
  {
   "cell_type": "code",
   "execution_count": 63,
   "metadata": {
    "collapsed": true
   },
   "outputs": [],
   "source": [
    "nodesDual_small = nodesDual_small.drop('intersecting',axis=1)\n",
    "nodesDual_small.to_file(folder_ouptut+city_name+'_nodesDual.shp', driver='ESRI Shapefile')\n",
    "nodesDual_small.crs = crs"
   ]
  },
  {
   "cell_type": "code",
   "execution_count": 65,
   "metadata": {
    "collapsed": true
   },
   "outputs": [],
   "source": [
    "edgesDual_small.crs = crs\n",
    "ic.scaling_columnDF(edgesDual_small, rad)\n",
    "edgesDual_small.to_file(folder_ouptut+city_name+'_edgesDual.shp', driver='ESRI Shapefile')"
   ]
  },
  {
   "cell_type": "markdown",
   "metadata": {},
   "source": [
    "## Creating the dual graph"
   ]
  },
  {
   "cell_type": "code",
   "execution_count": null,
   "metadata": {},
   "outputs": [],
   "source": [
    "DG_small = get_dual_graph(nodesDual_small, edgesDual_small)\n",
    "DG_large = get_dual_graph(nodesDual_large, edgesDual_large)"
   ]
  },
  {
   "cell_type": "markdown",
   "metadata": {},
   "source": [
    "## Angular Betweenness - Paths"
   ]
  },
  {
   "cell_type": "code",
   "execution_count": 67,
   "metadata": {
    "collapsed": true
   },
   "outputs": [],
   "source": [
    "Ab = nx.betweenness_centrality(DG_small, weight ='angle', normalized=False)\n",
    "Ab_dict = ic.dual_id_dict(Ab, DG_small, 'streetID')\n",
    "Ab_df = ic.dict_to_df([Ab_dict], ['Ab'])"
   ]
  },
  {
   "cell_type": "code",
   "execution_count": 70,
   "metadata": {},
   "outputs": [
    {
     "data": {
      "text/html": [
       "<div>\n",
       "<style>\n",
       "    .dataframe thead tr:only-child th {\n",
       "        text-align: right;\n",
       "    }\n",
       "\n",
       "    .dataframe thead th {\n",
       "        text-align: left;\n",
       "    }\n",
       "\n",
       "    .dataframe tbody tr th {\n",
       "        vertical-align: top;\n",
       "    }\n",
       "</style>\n",
       "<table border=\"1\" class=\"dataframe\">\n",
       "  <thead>\n",
       "    <tr style=\"text-align: right;\">\n",
       "      <th></th>\n",
       "      <th>geometry</th>\n",
       "      <th>streetID</th>\n",
       "      <th>u</th>\n",
       "      <th>v</th>\n",
       "      <th>key</th>\n",
       "      <th>distance</th>\n",
       "      <th>Eb</th>\n",
       "      <th>Eb_A</th>\n",
       "      <th>Eb_A_scaled</th>\n",
       "      <th>Eb_scaled</th>\n",
       "    </tr>\n",
       "  </thead>\n",
       "  <tbody>\n",
       "    <tr>\n",
       "      <th>0</th>\n",
       "      <td>LINESTRING (528421.0000001118 180948.999999571...</td>\n",
       "      <td>0</td>\n",
       "      <td>886</td>\n",
       "      <td>199</td>\n",
       "      <td>0</td>\n",
       "      <td>90.7584444386</td>\n",
       "      <td>3335.0</td>\n",
       "      <td>4665.250</td>\n",
       "      <td>0.0017360336</td>\n",
       "      <td>0.0028367166</td>\n",
       "    </tr>\n",
       "    <tr>\n",
       "      <th>1</th>\n",
       "      <td>LINESTRING (533740.0500001372 181263.939999453...</td>\n",
       "      <td>1</td>\n",
       "      <td>2718</td>\n",
       "      <td>1085</td>\n",
       "      <td>0</td>\n",
       "      <td>307.5254896358</td>\n",
       "      <td>11725.0</td>\n",
       "      <td>69207.500</td>\n",
       "      <td>0.0257535061</td>\n",
       "      <td>0.0099731639</td>\n",
       "    </tr>\n",
       "    <tr>\n",
       "      <th>2</th>\n",
       "      <td>LINESTRING (533835.3200001377 180907.189999451...</td>\n",
       "      <td>2</td>\n",
       "      <td>1861</td>\n",
       "      <td>1534</td>\n",
       "      <td>0</td>\n",
       "      <td>131.1818512142</td>\n",
       "      <td>12308.0</td>\n",
       "      <td>73542.875</td>\n",
       "      <td>0.0273667866</td>\n",
       "      <td>0.0104690577</td>\n",
       "    </tr>\n",
       "    <tr>\n",
       "      <th>3</th>\n",
       "      <td>LINESTRING (528136.0000001106 180780.999999577...</td>\n",
       "      <td>3</td>\n",
       "      <td>3213</td>\n",
       "      <td>3486</td>\n",
       "      <td>0</td>\n",
       "      <td>148.7149451569</td>\n",
       "      <td>27731.0</td>\n",
       "      <td>20572.000</td>\n",
       "      <td>0.0076552560</td>\n",
       "      <td>0.0235877022</td>\n",
       "    </tr>\n",
       "    <tr>\n",
       "      <th>4</th>\n",
       "      <td>LINESTRING (532764.1500001322 180312.289999477...</td>\n",
       "      <td>4</td>\n",
       "      <td>3698</td>\n",
       "      <td>875</td>\n",
       "      <td>0</td>\n",
       "      <td>261.7112357594</td>\n",
       "      <td>148165.0</td>\n",
       "      <td>331380.000</td>\n",
       "      <td>0.1233131793</td>\n",
       "      <td>0.1260276186</td>\n",
       "    </tr>\n",
       "  </tbody>\n",
       "</table>\n",
       "</div>"
      ],
      "text/plain": [
       "                                            geometry  streetID     u     v  \\\n",
       "0  LINESTRING (528421.0000001118 180948.999999571...         0   886   199   \n",
       "1  LINESTRING (533740.0500001372 181263.939999453...         1  2718  1085   \n",
       "2  LINESTRING (533835.3200001377 180907.189999451...         2  1861  1534   \n",
       "3  LINESTRING (528136.0000001106 180780.999999577...         3  3213  3486   \n",
       "4  LINESTRING (532764.1500001322 180312.289999477...         4  3698   875   \n",
       "\n",
       "   key        distance        Eb        Eb_A   Eb_A_scaled     Eb_scaled  \n",
       "0    0   90.7584444386    3335.0    4665.250  0.0017360336  0.0028367166  \n",
       "1    0  307.5254896358   11725.0   69207.500  0.0257535061  0.0099731639  \n",
       "2    0  131.1818512142   12308.0   73542.875  0.0273667866  0.0104690577  \n",
       "3    0  148.7149451569   27731.0   20572.000  0.0076552560  0.0235877022  \n",
       "4    0  261.7112357594  148165.0  331380.000  0.1233131793  0.1260276186  "
      ]
     },
     "execution_count": 70,
     "metadata": {},
     "output_type": "execute_result"
    }
   ],
   "source": [
    "paths = pd.merge(paths_tmp, AB_df, left_on = \"streetID\", right_index=True, how='left')\n",
    "\n",
    "col = ['Eb', 'Ab']\n",
    "for i in col: ic.scaling_columnDF(paths, i)\n",
    "\n",
    "paths.head()"
   ]
  },
  {
   "cell_type": "code",
   "execution_count": 72,
   "metadata": {
    "collapsed": true
   },
   "outputs": [],
   "source": [
    "paths.crs = crs\n",
    "paths.to_file(folder_ouptut+city_name+'_paths.shp', driver='ESRI Shapefile')"
   ]
  },
  {
   "cell_type": "markdown",
   "metadata": {},
   "source": [
    "## Partitions - Districts"
   ]
  },
  {
   "cell_type": "code",
   "execution_count": null,
   "metadata": {
    "collapsed": true
   },
   "outputs": [],
   "source": [
    "weights = ['length', 'rad', 'False']\n",
    "subdvisions = []\n",
    "\n",
    "for i in weights:\n",
    "    partition = community.best_partition(DG_large, weight=i)\n",
    "    dct = ic.dual_id_dict(partition, DG_large)\n",
    "    subdvisions.append(dct)"
   ]
  },
  {
   "cell_type": "code",
   "execution_count": null,
   "metadata": {
    "collapsed": true
   },
   "outputs": [],
   "source": [
    "partitions_df = to_df(subdvisions, [\"p_len\", \"p_rad\", 'p_no'])"
   ]
  },
  {
   "cell_type": "code",
   "execution_count": null,
   "metadata": {
    "collapsed": true
   },
   "outputs": [],
   "source": [
    "districts = pd.merge(edges_large, partitions_df, left_on= \"streetID\", right_index = True, how= 'left')\n",
    "districts.head()"
   ]
  },
  {
   "cell_type": "code",
   "execution_count": null,
   "metadata": {
    "collapsed": true
   },
   "outputs": [],
   "source": [
    "districts.to_file(folder_ouptut+city_name+'_districts.shp', driver='ESRI Shapefile')"
   ]
  },
  {
   "cell_type": "markdown",
   "metadata": {},
   "source": [
    "# Natural Roads"
   ]
  },
  {
   "cell_type": "code",
   "execution_count": null,
   "metadata": {},
   "outputs": [],
   "source": [
    "roads = paths[['streetID', 'u','v', 'geometry']]\n",
    "intersections = nodes[['nodeID','x','y', 'geometry']]"
   ]
  },
  {
   "cell_type": "code",
   "execution_count": null,
   "metadata": {},
   "outputs": [],
   "source": [
    "roads['natural_id'] = \"NA\"\n",
    "natural_id = 0 \n",
    "\n",
    "for row in roads.itertuples():\n",
    "\n",
    "    if (row[-1] != 'NA'): continue # if already assigned to a natural road\n",
    "   \n",
    "    ic.natural_roads(row[0], natural_id, \"fr\", roads, nodes) # assuming streetID = index\n",
    "    ic.natural_roads(row[0], natural_id, \"to\", roads, nodes) \n",
    "    natural_id = natural_id+1"
   ]
  },
  {
   "cell_type": "code",
   "execution_count": null,
   "metadata": {},
   "outputs": [],
   "source": [
    "roads.to_file(folder_ouptut+city_name+'_natural.shp', driver='ESRI Shapefile')"
   ]
  }
 ],
 "metadata": {
  "kernelspec": {
   "display_name": "Python 3",
   "language": "python",
   "name": "python3"
  },
  "language_info": {
   "codemirror_mode": {
    "name": "ipython",
    "version": 3
   },
   "file_extension": ".py",
   "mimetype": "text/x-python",
   "name": "python",
   "nbconvert_exporter": "python",
   "pygments_lexer": "ipython3",
   "version": "3.6.3"
  }
 },
 "nbformat": 4,
 "nbformat_minor": 2
}
